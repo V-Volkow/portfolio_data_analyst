{
 "cells": [
  {
   "cell_type": "markdown",
   "id": "a69d5d78",
   "metadata": {},
   "source": [
    "# Уровень потребительской лояльности\n"
   ]
  },
  {
   "cell_type": "markdown",
   "id": "065120bf",
   "metadata": {},
   "source": [
    "ОПИСАНИЕ: Заказчик этого исследования — крупная телекоммуникационная компания, которая оказывает услуги на территории всего СНГ. Перед компанией стоит ***задача*** определить текущий уровень потребительской лояльности, или NPS (от англ. Net Promoter Score), среди клиентов из России.  \n",
    "  \n",
    "Чтобы определить уровень лояльности, клиентам задавали классический вопрос: «Оцените по шкале от 1 до 10 вероятность того, что вы порекомендуете компанию друзьям и знакомым»."
   ]
  },
  {
   "cell_type": "markdown",
   "id": "5afc9b3e",
   "metadata": {},
   "source": [
    "ИССЛЕДУЕМЫЕ ВОПРОСЫ: \n",
    "- Как распределены участники опроса по возрасту и полу? Каких пользователей больше: новых или старых? Пользователи из каких городов активнее участвовали в опросе?\n",
    "- Какие группы пользователей наиболее лояльны к сервису? Какие менее?\n",
    "- Какой общий NPS среди всех опрошенных?\n",
    "- Как можно описать клиентов, которые относятся к группе cторонников (англ. promoters)?"
   ]
  },
  {
   "cell_type": "markdown",
   "id": "6546d36f",
   "metadata": {},
   "source": [
    "Ответственный за проект: Волков Владимир Александрович  \n",
    "Контактные данные: Vladimir.Volkov@gmail.com  \n",
    "Рабочий телефон: 8 977 888-77-71  "
   ]
  },
  {
   "cell_type": "markdown",
   "id": "b7d4ca8f",
   "metadata": {},
   "source": [
    "Первым этапом проекта будет выгрузка данных из БД"
   ]
  },
  {
   "cell_type": "code",
   "execution_count": 6,
   "id": "fc7efa54",
   "metadata": {},
   "outputs": [],
   "source": [
    "# загрузка необходимых библиотек\n",
    "import os\n",
    "import pandas as pd\n",
    "import numpy as np\n",
    "\n",
    "from sqlalchemy import create_engine"
   ]
  },
  {
   "cell_type": "code",
   "execution_count": 2,
   "id": "0017f8e7",
   "metadata": {},
   "outputs": [],
   "source": [
    "path_to_db_local = 'telecomm_csi.db'\n",
    "path_to_db_platform = '/datasets/telecomm_csi.db'\n",
    "path_to_db = None\n",
    "\n",
    "if os.path.exists(path_to_db_local):\n",
    "    path_to_db = path_to_db_local\n",
    "elif os.path.exists(path_to_db_platform):\n",
    "    path_to_db = path_to_db_platform\n",
    "else:\n",
    "    raise Exception('Файл с базой данных SQLite не найден!')\n",
    "\n",
    "if path_to_db:\n",
    "    engine = create_engine(f'sqlite:///{path_to_db}', echo=False)"
   ]
  },
  {
   "cell_type": "code",
   "execution_count": 3,
   "id": "84ebad43",
   "metadata": {},
   "outputs": [],
   "source": [
    "# Запрос на выгрузку данных из sqlite\n",
    "query = \"\"\"\n",
    "SELECT \n",
    "    u.user_id as user_id \n",
    "    ,u.lt_day as lt_day\n",
    "    ,CASE \n",
    "        WHEN u.lt_day <= 365 THEN True\n",
    "        ELSE False\n",
    "    END as is_new\n",
    "    ,u.age as age\n",
    "    ,CASE \n",
    "          WHEN u.gender_segment = 1 THEN 'Женский'\n",
    "          ELSE 'Мужской'\n",
    "    END as gender_segment\n",
    "    ,u.os_name as os_name\n",
    "    ,u.cpe_type_name as cpe_type_name\n",
    "    ,l.country as country\n",
    "    ,l.city as city\n",
    "    ,a.title as age_segment\n",
    "    ,ts.title as traffic_segment\n",
    "    ,ls.title as lifetime_segment\n",
    "    ,u.nps_score as nps_score\n",
    "    ,CASE \n",
    "        WHEN u.nps_score >= 9 THEN 'сторонники'\n",
    "        WHEN u.nps_score >= 7 THEN 'нейтралы'\n",
    "        WHEN u.nps_score >= 0 THEN 'критики'\n",
    "    END as nps_group\n",
    "FROM user u\n",
    "jOIN location l ON l.location_id = u.location_id\n",
    "JOIN age_segment a ON a.age_gr_id = u.age_gr_id\n",
    "JOIN traffic_segment ts ON ts.tr_gr_id = u.tr_gr_id\n",
    "JOIN lifetime_segment ls ON ls.lt_gr_id = u.lt_gr_id\n",
    "\"\"\""
   ]
  },
  {
   "cell_type": "code",
   "execution_count": 4,
   "id": "3965faf2",
   "metadata": {},
   "outputs": [
    {
     "data": {
      "text/html": [
       "<div>\n",
       "<style scoped>\n",
       "    .dataframe tbody tr th:only-of-type {\n",
       "        vertical-align: middle;\n",
       "    }\n",
       "\n",
       "    .dataframe tbody tr th {\n",
       "        vertical-align: top;\n",
       "    }\n",
       "\n",
       "    .dataframe thead th {\n",
       "        text-align: right;\n",
       "    }\n",
       "</style>\n",
       "<table border=\"1\" class=\"dataframe\">\n",
       "  <thead>\n",
       "    <tr style=\"text-align: right;\">\n",
       "      <th></th>\n",
       "      <th>user_id</th>\n",
       "      <th>lt_day</th>\n",
       "      <th>is_new</th>\n",
       "      <th>age</th>\n",
       "      <th>gender_segment</th>\n",
       "      <th>os_name</th>\n",
       "      <th>cpe_type_name</th>\n",
       "      <th>country</th>\n",
       "      <th>city</th>\n",
       "      <th>age_segment</th>\n",
       "      <th>traffic_segment</th>\n",
       "      <th>lifetime_segment</th>\n",
       "      <th>nps_score</th>\n",
       "      <th>nps_group</th>\n",
       "    </tr>\n",
       "  </thead>\n",
       "  <tbody>\n",
       "    <tr>\n",
       "      <th>0</th>\n",
       "      <td>A001A2</td>\n",
       "      <td>2320</td>\n",
       "      <td>0</td>\n",
       "      <td>45.0</td>\n",
       "      <td>Женский</td>\n",
       "      <td>ANDROID</td>\n",
       "      <td>SMARTPHONE</td>\n",
       "      <td>Россия</td>\n",
       "      <td>Уфа</td>\n",
       "      <td>05 45-54</td>\n",
       "      <td>04 1-5</td>\n",
       "      <td>08 36+</td>\n",
       "      <td>10</td>\n",
       "      <td>сторонники</td>\n",
       "    </tr>\n",
       "    <tr>\n",
       "      <th>1</th>\n",
       "      <td>A001WF</td>\n",
       "      <td>2344</td>\n",
       "      <td>0</td>\n",
       "      <td>53.0</td>\n",
       "      <td>Мужской</td>\n",
       "      <td>ANDROID</td>\n",
       "      <td>SMARTPHONE</td>\n",
       "      <td>Россия</td>\n",
       "      <td>Киров</td>\n",
       "      <td>05 45-54</td>\n",
       "      <td>04 1-5</td>\n",
       "      <td>08 36+</td>\n",
       "      <td>10</td>\n",
       "      <td>сторонники</td>\n",
       "    </tr>\n",
       "    <tr>\n",
       "      <th>2</th>\n",
       "      <td>A003Q7</td>\n",
       "      <td>467</td>\n",
       "      <td>0</td>\n",
       "      <td>57.0</td>\n",
       "      <td>Мужской</td>\n",
       "      <td>ANDROID</td>\n",
       "      <td>SMARTPHONE</td>\n",
       "      <td>Россия</td>\n",
       "      <td>Москва</td>\n",
       "      <td>06 55-64</td>\n",
       "      <td>08 20-25</td>\n",
       "      <td>06 13-24</td>\n",
       "      <td>10</td>\n",
       "      <td>сторонники</td>\n",
       "    </tr>\n",
       "    <tr>\n",
       "      <th>3</th>\n",
       "      <td>A004TB</td>\n",
       "      <td>4190</td>\n",
       "      <td>0</td>\n",
       "      <td>44.0</td>\n",
       "      <td>Женский</td>\n",
       "      <td>IOS</td>\n",
       "      <td>SMARTPHONE</td>\n",
       "      <td>Россия</td>\n",
       "      <td>РостовнаДону</td>\n",
       "      <td>04 35-44</td>\n",
       "      <td>03 0.1-1</td>\n",
       "      <td>08 36+</td>\n",
       "      <td>10</td>\n",
       "      <td>сторонники</td>\n",
       "    </tr>\n",
       "    <tr>\n",
       "      <th>4</th>\n",
       "      <td>A004XT</td>\n",
       "      <td>1163</td>\n",
       "      <td>0</td>\n",
       "      <td>24.0</td>\n",
       "      <td>Мужской</td>\n",
       "      <td>ANDROID</td>\n",
       "      <td>SMARTPHONE</td>\n",
       "      <td>Россия</td>\n",
       "      <td>Рязань</td>\n",
       "      <td>02 16-24</td>\n",
       "      <td>05 5-10</td>\n",
       "      <td>08 36+</td>\n",
       "      <td>10</td>\n",
       "      <td>сторонники</td>\n",
       "    </tr>\n",
       "    <tr>\n",
       "      <th>5</th>\n",
       "      <td>A005O0</td>\n",
       "      <td>5501</td>\n",
       "      <td>0</td>\n",
       "      <td>42.0</td>\n",
       "      <td>Женский</td>\n",
       "      <td>ANDROID</td>\n",
       "      <td>SMARTPHONE</td>\n",
       "      <td>Россия</td>\n",
       "      <td>Омск</td>\n",
       "      <td>04 35-44</td>\n",
       "      <td>05 5-10</td>\n",
       "      <td>08 36+</td>\n",
       "      <td>6</td>\n",
       "      <td>критики</td>\n",
       "    </tr>\n",
       "    <tr>\n",
       "      <th>6</th>\n",
       "      <td>A0061R</td>\n",
       "      <td>1236</td>\n",
       "      <td>0</td>\n",
       "      <td>45.0</td>\n",
       "      <td>Мужской</td>\n",
       "      <td>ANDROID</td>\n",
       "      <td>SMARTPHONE</td>\n",
       "      <td>Россия</td>\n",
       "      <td>Уфа</td>\n",
       "      <td>05 45-54</td>\n",
       "      <td>06 10-15</td>\n",
       "      <td>08 36+</td>\n",
       "      <td>10</td>\n",
       "      <td>сторонники</td>\n",
       "    </tr>\n",
       "    <tr>\n",
       "      <th>7</th>\n",
       "      <td>A009KS</td>\n",
       "      <td>313</td>\n",
       "      <td>1</td>\n",
       "      <td>35.0</td>\n",
       "      <td>Мужской</td>\n",
       "      <td>ANDROID</td>\n",
       "      <td>SMARTPHONE</td>\n",
       "      <td>Россия</td>\n",
       "      <td>Москва</td>\n",
       "      <td>04 35-44</td>\n",
       "      <td>13 45-50</td>\n",
       "      <td>05 7-12</td>\n",
       "      <td>10</td>\n",
       "      <td>сторонники</td>\n",
       "    </tr>\n",
       "    <tr>\n",
       "      <th>8</th>\n",
       "      <td>A00AES</td>\n",
       "      <td>3238</td>\n",
       "      <td>0</td>\n",
       "      <td>36.0</td>\n",
       "      <td>Женский</td>\n",
       "      <td>ANDROID</td>\n",
       "      <td>SMARTPHONE</td>\n",
       "      <td>Россия</td>\n",
       "      <td>СанктПетербург</td>\n",
       "      <td>04 35-44</td>\n",
       "      <td>04 1-5</td>\n",
       "      <td>08 36+</td>\n",
       "      <td>10</td>\n",
       "      <td>сторонники</td>\n",
       "    </tr>\n",
       "    <tr>\n",
       "      <th>9</th>\n",
       "      <td>A00F70</td>\n",
       "      <td>4479</td>\n",
       "      <td>0</td>\n",
       "      <td>54.0</td>\n",
       "      <td>Женский</td>\n",
       "      <td>ANDROID</td>\n",
       "      <td>SMARTPHONE</td>\n",
       "      <td>Россия</td>\n",
       "      <td>Волгоград</td>\n",
       "      <td>05 45-54</td>\n",
       "      <td>07 15-20</td>\n",
       "      <td>08 36+</td>\n",
       "      <td>9</td>\n",
       "      <td>сторонники</td>\n",
       "    </tr>\n",
       "  </tbody>\n",
       "</table>\n",
       "</div>"
      ],
      "text/plain": [
       "  user_id  lt_day  is_new   age gender_segment  os_name cpe_type_name country  \\\n",
       "0  A001A2    2320       0  45.0        Женский  ANDROID    SMARTPHONE  Россия   \n",
       "1  A001WF    2344       0  53.0        Мужской  ANDROID    SMARTPHONE  Россия   \n",
       "2  A003Q7     467       0  57.0        Мужской  ANDROID    SMARTPHONE  Россия   \n",
       "3  A004TB    4190       0  44.0        Женский      IOS    SMARTPHONE  Россия   \n",
       "4  A004XT    1163       0  24.0        Мужской  ANDROID    SMARTPHONE  Россия   \n",
       "5  A005O0    5501       0  42.0        Женский  ANDROID    SMARTPHONE  Россия   \n",
       "6  A0061R    1236       0  45.0        Мужской  ANDROID    SMARTPHONE  Россия   \n",
       "7  A009KS     313       1  35.0        Мужской  ANDROID    SMARTPHONE  Россия   \n",
       "8  A00AES    3238       0  36.0        Женский  ANDROID    SMARTPHONE  Россия   \n",
       "9  A00F70    4479       0  54.0        Женский  ANDROID    SMARTPHONE  Россия   \n",
       "\n",
       "             city age_segment traffic_segment lifetime_segment  nps_score  \\\n",
       "0             Уфа    05 45-54          04 1-5           08 36+         10   \n",
       "1           Киров    05 45-54          04 1-5           08 36+         10   \n",
       "2          Москва    06 55-64        08 20-25         06 13-24         10   \n",
       "3    РостовнаДону    04 35-44        03 0.1-1           08 36+         10   \n",
       "4          Рязань    02 16-24         05 5-10           08 36+         10   \n",
       "5            Омск    04 35-44         05 5-10           08 36+          6   \n",
       "6             Уфа    05 45-54        06 10-15           08 36+         10   \n",
       "7          Москва    04 35-44        13 45-50          05 7-12         10   \n",
       "8  СанктПетербург    04 35-44          04 1-5           08 36+         10   \n",
       "9       Волгоград    05 45-54        07 15-20           08 36+          9   \n",
       "\n",
       "    nps_group  \n",
       "0  сторонники  \n",
       "1  сторонники  \n",
       "2  сторонники  \n",
       "3  сторонники  \n",
       "4  сторонники  \n",
       "5     критики  \n",
       "6  сторонники  \n",
       "7  сторонники  \n",
       "8  сторонники  \n",
       "9  сторонники  "
      ]
     },
     "execution_count": 4,
     "metadata": {},
     "output_type": "execute_result"
    }
   ],
   "source": [
    "df = pd.read_sql(query, engine)\n",
    "df.head(10)"
   ]
  },
  {
   "cell_type": "markdown",
   "id": "88386e00",
   "metadata": {},
   "source": [
    "Данные выгрузились корректно. Группировки проставили верно"
   ]
  },
  {
   "cell_type": "code",
   "execution_count": 7,
   "id": "9db04858",
   "metadata": {},
   "outputs": [],
   "source": [
    "# Сохранение итоговой таблицы в файл\n",
    "df.to_csv('telecomm_csi_tableau.csv', index=False)"
   ]
  },
  {
   "cell_type": "markdown",
   "id": "a1e5d21b",
   "metadata": {},
   "source": [
    "Второй этап, создание дашборда\n",
    "https://public.tableau.com/views/Project_2_17301219157060/Story1?:language=en-US&publish=yes&:sid=&:redirect=auth&:display_count=n&:origin=viz_share_link"
   ]
  }
 ],
 "metadata": {
  "ExecuteTimeLog": [
   {
    "duration": 503,
    "start_time": "2024-10-28T08:33:42.904Z"
   },
   {
    "duration": 72,
    "start_time": "2024-10-28T08:33:43.409Z"
   },
   {
    "duration": 4,
    "start_time": "2024-10-28T08:33:43.960Z"
   },
   {
    "duration": 513,
    "start_time": "2024-10-28T08:33:44.435Z"
   },
   {
    "duration": 4,
    "start_time": "2024-10-28T08:34:10.263Z"
   },
   {
    "duration": 2,
    "start_time": "2024-10-28T08:34:11.665Z"
   },
   {
    "duration": 4456,
    "start_time": "2024-10-28T08:34:11.845Z"
   },
   {
    "duration": 3,
    "start_time": "2024-10-28T08:35:32.817Z"
   },
   {
    "duration": 3,
    "start_time": "2024-10-28T09:32:04.317Z"
   },
   {
    "duration": 679,
    "start_time": "2024-10-28T09:32:04.546Z"
   },
   {
    "duration": 3,
    "start_time": "2024-10-28T09:32:41.744Z"
   },
   {
    "duration": 3,
    "start_time": "2024-10-28T09:32:42.416Z"
   },
   {
    "duration": 5674,
    "start_time": "2024-10-28T09:32:42.607Z"
   },
   {
    "duration": 4,
    "start_time": "2024-10-28T09:44:34.001Z"
   },
   {
    "duration": 5448,
    "start_time": "2024-10-28T09:44:34.190Z"
   },
   {
    "duration": 5505,
    "start_time": "2024-10-28T09:45:05.723Z"
   },
   {
    "duration": 5448,
    "start_time": "2024-10-28T09:45:14.582Z"
   },
   {
    "duration": 5583,
    "start_time": "2024-10-28T09:45:35.562Z"
   },
   {
    "duration": 3,
    "start_time": "2024-10-28T09:55:42.100Z"
   },
   {
    "duration": 5255,
    "start_time": "2024-10-28T09:55:42.322Z"
   },
   {
    "duration": 4,
    "start_time": "2024-10-28T09:57:18.283Z"
   },
   {
    "duration": 5544,
    "start_time": "2024-10-28T09:57:18.504Z"
   },
   {
    "duration": 5804,
    "start_time": "2024-10-28T09:57:47.062Z"
   },
   {
    "duration": 563,
    "start_time": "2024-10-28T09:58:24.865Z"
   },
   {
    "duration": 56,
    "start_time": "2024-10-28T09:58:25.431Z"
   },
   {
    "duration": 4,
    "start_time": "2024-10-28T09:58:25.489Z"
   },
   {
    "duration": 5605,
    "start_time": "2024-10-28T09:58:25.495Z"
   },
   {
    "duration": 5195,
    "start_time": "2024-10-28T09:58:31.103Z"
   },
   {
    "duration": 3,
    "start_time": "2024-10-28T09:59:26.942Z"
   },
   {
    "duration": 5459,
    "start_time": "2024-10-28T09:59:27.132Z"
   },
   {
    "duration": 3,
    "start_time": "2024-10-28T10:01:01.783Z"
   },
   {
    "duration": 5642,
    "start_time": "2024-10-28T10:01:01.933Z"
   },
   {
    "duration": 592,
    "start_time": "2024-10-28T10:01:29.125Z"
   },
   {
    "duration": 57,
    "start_time": "2024-10-28T10:01:29.719Z"
   },
   {
    "duration": 4,
    "start_time": "2024-10-28T10:01:29.777Z"
   },
   {
    "duration": 5789,
    "start_time": "2024-10-28T10:01:29.783Z"
   },
   {
    "duration": 4911,
    "start_time": "2024-10-28T10:01:35.575Z"
   },
   {
    "duration": 532,
    "start_time": "2024-10-28T10:27:34.086Z"
   },
   {
    "duration": 57,
    "start_time": "2024-10-28T10:27:34.620Z"
   },
   {
    "duration": 3,
    "start_time": "2024-10-28T10:27:34.679Z"
   },
   {
    "duration": 5847,
    "start_time": "2024-10-28T10:27:34.684Z"
   },
   {
    "duration": 4749,
    "start_time": "2024-10-28T10:27:40.533Z"
   },
   {
    "duration": 3,
    "start_time": "2024-10-28T10:40:22.543Z"
   },
   {
    "duration": 5161,
    "start_time": "2024-10-28T10:42:31.865Z"
   }
  ],
  "kernelspec": {
   "display_name": "Python 3 (ipykernel)",
   "language": "python",
   "name": "python3"
  },
  "language_info": {
   "codemirror_mode": {
    "name": "ipython",
    "version": 3
   },
   "file_extension": ".py",
   "mimetype": "text/x-python",
   "name": "python",
   "nbconvert_exporter": "python",
   "pygments_lexer": "ipython3",
   "version": "3.12.4"
  },
  "toc": {
   "base_numbering": 1,
   "nav_menu": {},
   "number_sections": true,
   "sideBar": true,
   "skip_h1_title": true,
   "title_cell": "Table of Contents",
   "title_sidebar": "Contents",
   "toc_cell": false,
   "toc_position": {},
   "toc_section_display": true,
   "toc_window_display": false
  }
 },
 "nbformat": 4,
 "nbformat_minor": 5
}
