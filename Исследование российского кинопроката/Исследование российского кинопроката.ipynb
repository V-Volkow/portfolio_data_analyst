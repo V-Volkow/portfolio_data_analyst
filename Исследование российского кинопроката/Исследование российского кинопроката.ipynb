{
 "cells": [
  {
   "cell_type": "markdown",
   "metadata": {
    "id": "sIfNaMOxgFyK"
   },
   "source": [
    "## Исследование данных о российском кинопрокате\n",
    "\n"
   ]
  },
  {
   "cell_type": "markdown",
   "metadata": {
    "id": "3bSlkCsbgFyL"
   },
   "source": [
    "### Шаг 1. Чтение данных и объединение файлов. \n",
    "\n",
    "Объединение данных"
   ]
  },
  {
   "cell_type": "markdown",
   "metadata": {},
   "source": [
    "Цель: Изучить рынок российского кинопроката и выявить текущие тренды. Уделить внимание фильмам, которые получили государственную поддержку"
   ]
  },
  {
   "cell_type": "code",
   "execution_count": 1,
   "metadata": {
    "id": "dw87FlzMgFyM"
   },
   "outputs": [],
   "source": [
    "# Добавление необходимых библиотек\n",
    "import pandas as pd\n",
    "from matplotlib import pyplot as plt\n",
    "import seaborn as sns\n",
    "import numpy as np"
   ]
  },
  {
   "cell_type": "code",
   "execution_count": 2,
   "metadata": {},
   "outputs": [],
   "source": [
    "# Сохранение данных из файла\n",
    "try:\n",
    "    df_one = pd.read_csv('C:\\\\Users\\\\user\\\\library_jupyter\\\\sprint_4\\\\mkrf_movies.csv',sep=',')\n",
    "    df_two = pd.read_csv('C:\\\\Users\\\\user\\\\library_jupyter\\\\sprint_4\\\\mkrf_shows.csv',sep=',')\n",
    "except:\n",
    "    df_one = pd.read_csv('/datasets/mkrf_movies.csv',sep=',')\n",
    "    df_two = pd.read_csv('/datasets/mkrf_shows.csv',sep=',')\n"
   ]
  },
  {
   "cell_type": "code",
   "execution_count": 3,
   "metadata": {},
   "outputs": [],
   "source": [
    "# Отображение всех колонок в выводимых таблицах\n",
    "pd.set_option('display.max_columns', None)"
   ]
  },
  {
   "cell_type": "markdown",
   "metadata": {},
   "source": [
    "Первым делом - будут объеденены 2 датафрейма, по столбцу puNumber <br>\n",
    "Для слияния таблицы mkrf_movies и mkrf_shows, puNumber в обоих датафреймах приведена к одинаковому типу данных - int. Значения в столбце, отличные от int удалены."
   ]
  },
  {
   "cell_type": "code",
   "execution_count": 4,
   "metadata": {},
   "outputs": [],
   "source": [
    "df_one = df_one[df_one['puNumber'] != 'нет'].reset_index(drop=True)"
   ]
  },
  {
   "cell_type": "code",
   "execution_count": 5,
   "metadata": {
    "scrolled": true
   },
   "outputs": [
    {
     "name": "stdout",
     "output_type": "stream",
     "text": [
      "<class 'pandas.core.frame.DataFrame'>\n",
      "RangeIndex: 7485 entries, 0 to 7484\n",
      "Data columns (total 15 columns):\n",
      " #   Column                 Non-Null Count  Dtype  \n",
      "---  ------                 --------------  -----  \n",
      " 0   title                  7485 non-null   object \n",
      " 1   puNumber               7485 non-null   object \n",
      " 2   show_start_date        7485 non-null   object \n",
      " 3   type                   7485 non-null   object \n",
      " 4   film_studio            7467 non-null   object \n",
      " 5   production_country     7483 non-null   object \n",
      " 6   director               7476 non-null   object \n",
      " 7   producer               6917 non-null   object \n",
      " 8   age_restriction        7485 non-null   object \n",
      " 9   refundable_support     332 non-null    float64\n",
      " 10  nonrefundable_support  332 non-null    float64\n",
      " 11  budget                 332 non-null    float64\n",
      " 12  financing_source       332 non-null    object \n",
      " 13  ratings                6519 non-null   object \n",
      " 14  genres                 6510 non-null   object \n",
      "dtypes: float64(3), object(12)\n",
      "memory usage: 877.3+ KB\n"
     ]
    }
   ],
   "source": [
    "df_one.info()"
   ]
  },
  {
   "cell_type": "code",
   "execution_count": 6,
   "metadata": {},
   "outputs": [
    {
     "name": "stdout",
     "output_type": "stream",
     "text": [
      "<class 'pandas.core.frame.DataFrame'>\n",
      "RangeIndex: 3158 entries, 0 to 3157\n",
      "Data columns (total 2 columns):\n",
      " #   Column      Non-Null Count  Dtype  \n",
      "---  ------      --------------  -----  \n",
      " 0   puNumber    3158 non-null   int64  \n",
      " 1   box_office  3158 non-null   float64\n",
      "dtypes: float64(1), int64(1)\n",
      "memory usage: 49.5 KB\n"
     ]
    }
   ],
   "source": [
    "df_two.info()"
   ]
  },
  {
   "cell_type": "code",
   "execution_count": 7,
   "metadata": {},
   "outputs": [],
   "source": [
    "df_one['puNumber'] = df_one['puNumber'].astype('int')"
   ]
  },
  {
   "cell_type": "code",
   "execution_count": 8,
   "metadata": {},
   "outputs": [
    {
     "name": "stdout",
     "output_type": "stream",
     "text": [
      "<class 'pandas.core.frame.DataFrame'>\n",
      "Int64Index: 7485 entries, 0 to 7484\n",
      "Data columns (total 16 columns):\n",
      " #   Column                 Non-Null Count  Dtype  \n",
      "---  ------                 --------------  -----  \n",
      " 0   title                  7485 non-null   object \n",
      " 1   puNumber               7485 non-null   int64  \n",
      " 2   show_start_date        7485 non-null   object \n",
      " 3   type                   7485 non-null   object \n",
      " 4   film_studio            7467 non-null   object \n",
      " 5   production_country     7483 non-null   object \n",
      " 6   director               7476 non-null   object \n",
      " 7   producer               6917 non-null   object \n",
      " 8   age_restriction        7485 non-null   object \n",
      " 9   refundable_support     332 non-null    float64\n",
      " 10  nonrefundable_support  332 non-null    float64\n",
      " 11  budget                 332 non-null    float64\n",
      " 12  financing_source       332 non-null    object \n",
      " 13  ratings                6519 non-null   object \n",
      " 14  genres                 6510 non-null   object \n",
      " 15  box_office             3158 non-null   float64\n",
      "dtypes: float64(4), int64(1), object(11)\n",
      "memory usage: 994.1+ KB\n"
     ]
    }
   ],
   "source": [
    "# слияние таблиц \n",
    "df = df_one.merge(df_two,on='puNumber', how='left')\n",
    "df.info()"
   ]
  },
  {
   "cell_type": "markdown",
   "metadata": {},
   "source": [
    "Проверка названий столбцов"
   ]
  },
  {
   "cell_type": "code",
   "execution_count": 9,
   "metadata": {},
   "outputs": [
    {
     "data": {
      "text/plain": [
       "Index(['title', 'puNumber', 'show_start_date', 'type', 'film_studio',\n",
       "       'production_country', 'director', 'producer', 'age_restriction',\n",
       "       'refundable_support', 'nonrefundable_support', 'budget',\n",
       "       'financing_source', 'ratings', 'genres', 'box_office'],\n",
       "      dtype='object')"
      ]
     },
     "execution_count": 9,
     "metadata": {},
     "output_type": "execute_result"
    }
   ],
   "source": [
    "df.columns"
   ]
  },
  {
   "cell_type": "markdown",
   "metadata": {},
   "source": [
    "Для удобства требуется заменить название столбца puNumber на pu_number, для выдержки единого стиля"
   ]
  },
  {
   "cell_type": "code",
   "execution_count": 10,
   "metadata": {},
   "outputs": [],
   "source": [
    "df = df.rename(columns={'puNumber':'pu_number'})"
   ]
  },
  {
   "cell_type": "code",
   "execution_count": 11,
   "metadata": {},
   "outputs": [
    {
     "name": "stdout",
     "output_type": "stream",
     "text": [
      "<class 'pandas.core.frame.DataFrame'>\n",
      "Int64Index: 7485 entries, 0 to 7484\n",
      "Data columns (total 16 columns):\n",
      " #   Column                 Non-Null Count  Dtype  \n",
      "---  ------                 --------------  -----  \n",
      " 0   title                  7485 non-null   object \n",
      " 1   pu_number              7485 non-null   int64  \n",
      " 2   show_start_date        7485 non-null   object \n",
      " 3   type                   7485 non-null   object \n",
      " 4   film_studio            7467 non-null   object \n",
      " 5   production_country     7483 non-null   object \n",
      " 6   director               7476 non-null   object \n",
      " 7   producer               6917 non-null   object \n",
      " 8   age_restriction        7485 non-null   object \n",
      " 9   refundable_support     332 non-null    float64\n",
      " 10  nonrefundable_support  332 non-null    float64\n",
      " 11  budget                 332 non-null    float64\n",
      " 12  financing_source       332 non-null    object \n",
      " 13  ratings                6519 non-null   object \n",
      " 14  genres                 6510 non-null   object \n",
      " 15  box_office             3158 non-null   float64\n",
      "dtypes: float64(4), int64(1), object(11)\n",
      "memory usage: 994.1+ KB\n"
     ]
    }
   ],
   "source": [
    "df.info()"
   ]
  },
  {
   "cell_type": "code",
   "execution_count": 12,
   "metadata": {},
   "outputs": [
    {
     "data": {
      "text/html": [
       "<div>\n",
       "<style scoped>\n",
       "    .dataframe tbody tr th:only-of-type {\n",
       "        vertical-align: middle;\n",
       "    }\n",
       "\n",
       "    .dataframe tbody tr th {\n",
       "        vertical-align: top;\n",
       "    }\n",
       "\n",
       "    .dataframe thead th {\n",
       "        text-align: right;\n",
       "    }\n",
       "</style>\n",
       "<table border=\"1\" class=\"dataframe\">\n",
       "  <thead>\n",
       "    <tr style=\"text-align: right;\">\n",
       "      <th></th>\n",
       "      <th>title</th>\n",
       "      <th>pu_number</th>\n",
       "      <th>show_start_date</th>\n",
       "      <th>type</th>\n",
       "      <th>film_studio</th>\n",
       "      <th>production_country</th>\n",
       "      <th>director</th>\n",
       "      <th>producer</th>\n",
       "      <th>age_restriction</th>\n",
       "      <th>refundable_support</th>\n",
       "      <th>nonrefundable_support</th>\n",
       "      <th>budget</th>\n",
       "      <th>financing_source</th>\n",
       "      <th>ratings</th>\n",
       "      <th>genres</th>\n",
       "      <th>box_office</th>\n",
       "    </tr>\n",
       "  </thead>\n",
       "  <tbody>\n",
       "    <tr>\n",
       "      <th>152</th>\n",
       "      <td>Жестокость</td>\n",
       "      <td>111011614</td>\n",
       "      <td>2014-10-01T12:00:00.000Z</td>\n",
       "      <td>Художественный</td>\n",
       "      <td>Киностудия \"Мосфильм\"</td>\n",
       "      <td>СССР</td>\n",
       "      <td>В.Скуйбин</td>\n",
       "      <td>NaN</td>\n",
       "      <td>«12+» - для детей старше 12 лет</td>\n",
       "      <td>NaN</td>\n",
       "      <td>NaN</td>\n",
       "      <td>NaN</td>\n",
       "      <td>NaN</td>\n",
       "      <td>7.1</td>\n",
       "      <td>драма</td>\n",
       "      <td>2.000000e+02</td>\n",
       "    </tr>\n",
       "    <tr>\n",
       "      <th>5877</th>\n",
       "      <td>Красный воробей</td>\n",
       "      <td>121009818</td>\n",
       "      <td>2018-05-31T12:00:00.000Z</td>\n",
       "      <td>Художественный</td>\n",
       "      <td>Чернин Интертейнмент, Филм Ритес, Саундтрэк Нь...</td>\n",
       "      <td>США</td>\n",
       "      <td>Френсис Лоуренс</td>\n",
       "      <td>Дэвид Рэди, Дженно Топпинг, Питер Чернин</td>\n",
       "      <td>«18+» - запрещено для детей</td>\n",
       "      <td>NaN</td>\n",
       "      <td>NaN</td>\n",
       "      <td>NaN</td>\n",
       "      <td>NaN</td>\n",
       "      <td>5.5</td>\n",
       "      <td>боевик,триллер,драма</td>\n",
       "      <td>1.436409e+08</td>\n",
       "    </tr>\n",
       "  </tbody>\n",
       "</table>\n",
       "</div>"
      ],
      "text/plain": [
       "                title  pu_number           show_start_date             type  \\\n",
       "152        Жестокость  111011614  2014-10-01T12:00:00.000Z   Художественный   \n",
       "5877  Красный воробей  121009818  2018-05-31T12:00:00.000Z   Художественный   \n",
       "\n",
       "                                            film_studio production_country  \\\n",
       "152                               Киностудия \"Мосфильм\"               СССР   \n",
       "5877  Чернин Интертейнмент, Филм Ритес, Саундтрэк Нь...                США   \n",
       "\n",
       "             director                                  producer  \\\n",
       "152         В.Скуйбин                                       NaN   \n",
       "5877  Френсис Лоуренс  Дэвид Рэди, Дженно Топпинг, Питер Чернин   \n",
       "\n",
       "                      age_restriction  refundable_support  \\\n",
       "152   «12+» - для детей старше 12 лет                 NaN   \n",
       "5877      «18+» - запрещено для детей                 NaN   \n",
       "\n",
       "      nonrefundable_support  budget financing_source ratings  \\\n",
       "152                     NaN     NaN              NaN     7.1   \n",
       "5877                    NaN     NaN              NaN     5.5   \n",
       "\n",
       "                    genres    box_office  \n",
       "152                  драма  2.000000e+02  \n",
       "5877  боевик,триллер,драма  1.436409e+08  "
      ]
     },
     "execution_count": 12,
     "metadata": {},
     "output_type": "execute_result"
    }
   ],
   "source": [
    "df.sample(2)"
   ]
  },
  {
   "cell_type": "code",
   "execution_count": 13,
   "metadata": {
    "scrolled": true
   },
   "outputs": [
    {
     "data": {
      "image/png": "[encoded data removed]",
      "text/plain": [
       "<Figure size 1080x576 with 6 Axes>"
      ]
     },
     "metadata": {
      "needs_background": "light"
     },
     "output_type": "display_data"
    }
   ],
   "source": [
    "df.hist(figsize=(15,8));"
   ]
  },
  {
   "cell_type": "markdown",
   "metadata": {},
   "source": [
    "Итого, по первому взгляду на данные:\n",
    "- присутствуют столбцы, тип данных которых стоит заменить на целочисленный и дату\n",
    "- присутствуют анамальные и редкие значение в количественных столбцах\n",
    "- название колонок, после редактирование корректное\n",
    "- примерно в половине столбцов, присутствуют пропущенных значения, которые следует детально изучить\n",
    "- необходимо выполнить проверку в категориальных столбцах на явные и неявные дубликаты. Следует учесть, что у одного фильма может быть несколько прокатных удостоверений\n"
   ]
  },
  {
   "cell_type": "markdown",
   "metadata": {
    "id": "KLDGpPG0gFyM"
   },
   "source": [
    "### Шаг 2. Предобработка данных"
   ]
  },
  {
   "cell_type": "markdown",
   "metadata": {
    "id": "ssWwKXsxgFyO"
   },
   "source": [
    "#### Шаг 2.1. Проверка типов данных"
   ]
  },
  {
   "cell_type": "markdown",
   "metadata": {},
   "source": [
    "Если есть возможность, то предпочтительнее использовать int, взамен float. Это обеспечивает дополнительную производительность при вычислениях.\n",
    "Следующие столлбцы не имеют дробной части, необходимо перевести в int<br>\n",
    "-refundable_support — объём возвратных средств государственной поддержки;<br>\n",
    "-nonrefundable_support — объём невозвратных средств государственной поддержки;<br>\n",
    "-budget — общий бюджет фильма<br>\n",
    "\n",
    "Столбец box_office - для проведения операций с другими столбцами, нужно перевести в int. Точность до копеек в столбце не нужна<br>\n",
    "-box_office — сборы в рублях<br>\n",
    "\n",
    "Столбец рейтинг переведем в тип данных float.<br>\n",
    "-ratings — рейтинг фильма на КиноПоиске\n",
    "\n",
    "Формат даты более всего подходит для работы с датой. show_start_date нужно перевести в datetime64\n"
   ]
  },
  {
   "cell_type": "code",
   "execution_count": 14,
   "metadata": {
    "id": "kVGSplJOgFyO"
   },
   "outputs": [],
   "source": [
    "edit_value = ['refundable_support','nonrefundable_support','budget','box_office']\n",
    "for val in edit_value:\n",
    "    df[val] = np.floor(pd.to_numeric(df[val], errors='coerce')).astype('Int64')\n",
    "df['ratings'] = np.floor(pd.to_numeric(df['ratings'], errors='coerce'))"
   ]
  },
  {
   "cell_type": "code",
   "execution_count": 15,
   "metadata": {},
   "outputs": [],
   "source": [
    "df['show_start_date'] = pd.to_datetime(df['show_start_date'], format='%Y-%m-%dT%H:%M:%S.000Z')"
   ]
  },
  {
   "cell_type": "code",
   "execution_count": 16,
   "metadata": {},
   "outputs": [
    {
     "data": {
      "text/plain": [
       "title                            object\n",
       "pu_number                         int64\n",
       "show_start_date          datetime64[ns]\n",
       "type                             object\n",
       "film_studio                      object\n",
       "production_country               object\n",
       "director                         object\n",
       "producer                         object\n",
       "age_restriction                  object\n",
       "refundable_support                Int64\n",
       "nonrefundable_support             Int64\n",
       "budget                            Int64\n",
       "financing_source                 object\n",
       "ratings                         float64\n",
       "genres                           object\n",
       "box_office                        Int64\n",
       "dtype: object"
      ]
     },
     "execution_count": 16,
     "metadata": {},
     "output_type": "execute_result"
    }
   ],
   "source": [
    "df.dtypes"
   ]
  },
  {
   "cell_type": "markdown",
   "metadata": {
    "id": "i0MOLbF-gFyP"
   },
   "source": [
    "#### Шаг 2.2. Изучение пропусков"
   ]
  },
  {
   "cell_type": "markdown",
   "metadata": {},
   "source": [
    "Проверка пропусков по столбцам"
   ]
  },
  {
   "cell_type": "code",
   "execution_count": 17,
   "metadata": {
    "id": "8MJD_lkngFyP"
   },
   "outputs": [
    {
     "name": "stdout",
     "output_type": "stream",
     "text": [
      "<class 'pandas.core.frame.DataFrame'>\n",
      "Int64Index: 7485 entries, 0 to 7484\n",
      "Data columns (total 16 columns):\n",
      " #   Column                 Non-Null Count  Dtype         \n",
      "---  ------                 --------------  -----         \n",
      " 0   title                  7485 non-null   object        \n",
      " 1   pu_number              7485 non-null   int64         \n",
      " 2   show_start_date        7485 non-null   datetime64[ns]\n",
      " 3   type                   7485 non-null   object        \n",
      " 4   film_studio            7467 non-null   object        \n",
      " 5   production_country     7483 non-null   object        \n",
      " 6   director               7476 non-null   object        \n",
      " 7   producer               6917 non-null   object        \n",
      " 8   age_restriction        7485 non-null   object        \n",
      " 9   refundable_support     332 non-null    Int64         \n",
      " 10  nonrefundable_support  332 non-null    Int64         \n",
      " 11  budget                 332 non-null    Int64         \n",
      " 12  financing_source       332 non-null    object        \n",
      " 13  ratings                6490 non-null   float64       \n",
      " 14  genres                 6510 non-null   object        \n",
      " 15  box_office             3158 non-null   Int64         \n",
      "dtypes: Int64(4), datetime64[ns](1), float64(1), int64(1), object(9)\n",
      "memory usage: 1023.3+ KB\n"
     ]
    }
   ],
   "source": [
    "df.info()"
   ]
  },
  {
   "cell_type": "code",
   "execution_count": 18,
   "metadata": {},
   "outputs": [
    {
     "data": {
      "text/plain": [
       "title                       0\n",
       "pu_number                   0\n",
       "show_start_date             0\n",
       "type                        0\n",
       "film_studio                18\n",
       "production_country          2\n",
       "director                    9\n",
       "producer                  568\n",
       "age_restriction             0\n",
       "refundable_support       7153\n",
       "nonrefundable_support    7153\n",
       "budget                   7153\n",
       "financing_source         7153\n",
       "ratings                   995\n",
       "genres                    975\n",
       "box_office               4327\n",
       "dtype: int64"
      ]
     },
     "execution_count": 18,
     "metadata": {},
     "output_type": "execute_result"
    }
   ],
   "source": [
    "df.isna().sum()"
   ]
  },
  {
   "cell_type": "markdown",
   "metadata": {},
   "source": [
    "Процентное соотношение количества пропусков по столбцам"
   ]
  },
  {
   "cell_type": "code",
   "execution_count": 19,
   "metadata": {
    "scrolled": true
   },
   "outputs": [
    {
     "data": {
      "text/plain": [
       "refundable_support       95.564462\n",
       "nonrefundable_support    95.564462\n",
       "budget                   95.564462\n",
       "financing_source         95.564462\n",
       "box_office               57.808951\n",
       "ratings                  13.293253\n",
       "genres                   13.026052\n",
       "producer                  7.588510\n",
       "film_studio               0.240481\n",
       "director                  0.120240\n",
       "production_country        0.026720\n",
       "title                     0.000000\n",
       "pu_number                 0.000000\n",
       "show_start_date           0.000000\n",
       "type                      0.000000\n",
       "age_restriction           0.000000\n",
       "dtype: float64"
      ]
     },
     "execution_count": 19,
     "metadata": {},
     "output_type": "execute_result"
    }
   ],
   "source": [
    "df.isna().mean().sort_values(ascending=False)*100"
   ]
  },
  {
   "cell_type": "markdown",
   "metadata": {},
   "source": [
    "Столбцы film_studio, director, production_country имеют пропущенных данных - менее 0,5%.\n",
    "Можно удалить строки с пропущенными данными в этих столбцах. "
   ]
  },
  {
   "cell_type": "code",
   "execution_count": 20,
   "metadata": {},
   "outputs": [],
   "source": [
    "df = df.dropna(subset=['film_studio', 'director', 'production_country']).reset_index(drop=True) "
   ]
  },
  {
   "cell_type": "markdown",
   "metadata": {},
   "source": [
    "Неизвестна природа пропуска значения в столбце producer с именем продюсера. Замена значений в столбце не повлияет на анализ вопросов.\n",
    "Столбец заполним значением \"unknown\""
   ]
  },
  {
   "cell_type": "code",
   "execution_count": 21,
   "metadata": {},
   "outputs": [],
   "source": [
    "df['producer'] = df['producer'].fillna('unknown')"
   ]
  },
  {
   "cell_type": "code",
   "execution_count": 22,
   "metadata": {
    "scrolled": true
   },
   "outputs": [
    {
     "data": {
      "text/plain": [
       "950"
      ]
     },
     "execution_count": 22,
     "metadata": {},
     "output_type": "execute_result"
    }
   ],
   "source": [
    "# проверка строк, где одновременно отсутствуют значения и в жанре, и в рейтнинге\n",
    "(\n",
    "    df[\n",
    "    (df['ratings'].isna()) \n",
    "    & (df['genres'].isna())\n",
    "    ]['ratings'].isna().sum()\n",
    ")"
   ]
  },
  {
   "cell_type": "markdown",
   "metadata": {},
   "source": [
    "По какой-то причине, пропуски в столбце с жанром фильма и рейтингом - связаны. В 99% случаев, в строке, где есть пропуск в жанре фильма, будет пропуск и в его рейтинге.\n",
    "Столбцы заполним значением \"unknown\" и -1"
   ]
  },
  {
   "cell_type": "code",
   "execution_count": 23,
   "metadata": {},
   "outputs": [],
   "source": [
    "df['genres'] = df['genres'].fillna('unknown')\n",
    "df['ratings'] = df['ratings'].fillna(-1)"
   ]
  },
  {
   "cell_type": "code",
   "execution_count": 24,
   "metadata": {
    "scrolled": true
   },
   "outputs": [
    {
     "name": "stdout",
     "output_type": "stream",
     "text": [
      "<class 'pandas.core.frame.DataFrame'>\n",
      "RangeIndex: 7458 entries, 0 to 7457\n",
      "Data columns (total 16 columns):\n",
      " #   Column                 Non-Null Count  Dtype         \n",
      "---  ------                 --------------  -----         \n",
      " 0   title                  7458 non-null   object        \n",
      " 1   pu_number              7458 non-null   int64         \n",
      " 2   show_start_date        7458 non-null   datetime64[ns]\n",
      " 3   type                   7458 non-null   object        \n",
      " 4   film_studio            7458 non-null   object        \n",
      " 5   production_country     7458 non-null   object        \n",
      " 6   director               7458 non-null   object        \n",
      " 7   producer               7458 non-null   object        \n",
      " 8   age_restriction        7458 non-null   object        \n",
      " 9   refundable_support     332 non-null    Int64         \n",
      " 10  nonrefundable_support  332 non-null    Int64         \n",
      " 11  budget                 332 non-null    Int64         \n",
      " 12  financing_source       332 non-null    object        \n",
      " 13  ratings                7458 non-null   float64       \n",
      " 14  genres                 7458 non-null   object        \n",
      " 15  box_office             3155 non-null   Int64         \n",
      "dtypes: Int64(4), datetime64[ns](1), float64(1), int64(1), object(9)\n",
      "memory usage: 961.5+ KB\n"
     ]
    }
   ],
   "source": [
    "df.info()"
   ]
  },
  {
   "cell_type": "code",
   "execution_count": 25,
   "metadata": {
    "scrolled": true
   },
   "outputs": [
    {
     "data": {
      "text/html": [
       "<div>\n",
       "<style scoped>\n",
       "    .dataframe tbody tr th:only-of-type {\n",
       "        vertical-align: middle;\n",
       "    }\n",
       "\n",
       "    .dataframe tbody tr th {\n",
       "        vertical-align: top;\n",
       "    }\n",
       "\n",
       "    .dataframe thead th {\n",
       "        text-align: right;\n",
       "    }\n",
       "</style>\n",
       "<table border=\"1\" class=\"dataframe\">\n",
       "  <thead>\n",
       "    <tr style=\"text-align: right;\">\n",
       "      <th></th>\n",
       "      <th>title</th>\n",
       "      <th>pu_number</th>\n",
       "      <th>show_start_date</th>\n",
       "      <th>type</th>\n",
       "      <th>film_studio</th>\n",
       "      <th>production_country</th>\n",
       "      <th>director</th>\n",
       "      <th>producer</th>\n",
       "      <th>age_restriction</th>\n",
       "      <th>refundable_support</th>\n",
       "      <th>nonrefundable_support</th>\n",
       "      <th>budget</th>\n",
       "      <th>financing_source</th>\n",
       "      <th>ratings</th>\n",
       "      <th>genres</th>\n",
       "      <th>box_office</th>\n",
       "    </tr>\n",
       "  </thead>\n",
       "  <tbody>\n",
       "    <tr>\n",
       "      <th>43</th>\n",
       "      <td>Мемуары гейши (по роману Артура Голдена)</td>\n",
       "      <td>121000606</td>\n",
       "      <td>2012-12-14 12:00:00</td>\n",
       "      <td>Художественный</td>\n",
       "      <td>Коламбия Пикчерз Корпорейшн, ДримУоркс ЭсКейДж...</td>\n",
       "      <td>США</td>\n",
       "      <td>Роб Маршалл</td>\n",
       "      <td>Стивен Спилберг, Люси Фишер, Дуглас Уик, Джон ...</td>\n",
       "      <td>«12+» - для детей старше 12 лет</td>\n",
       "      <td>&lt;NA&gt;</td>\n",
       "      <td>&lt;NA&gt;</td>\n",
       "      <td>&lt;NA&gt;</td>\n",
       "      <td>NaN</td>\n",
       "      <td>-1.0</td>\n",
       "      <td>unknown</td>\n",
       "      <td>&lt;NA&gt;</td>\n",
       "    </tr>\n",
       "    <tr>\n",
       "      <th>150</th>\n",
       "      <td>Жди меня</td>\n",
       "      <td>111013615</td>\n",
       "      <td>2015-08-25 12:00:00</td>\n",
       "      <td>Художественный</td>\n",
       "      <td>Киностудия \"Мосфильм\"</td>\n",
       "      <td>СССР</td>\n",
       "      <td>А.Столпер, Б.Иванов</td>\n",
       "      <td>unknown</td>\n",
       "      <td>«6+» - для детей старше 6 лет</td>\n",
       "      <td>&lt;NA&gt;</td>\n",
       "      <td>&lt;NA&gt;</td>\n",
       "      <td>&lt;NA&gt;</td>\n",
       "      <td>NaN</td>\n",
       "      <td>-1.0</td>\n",
       "      <td>unknown</td>\n",
       "      <td>&lt;NA&gt;</td>\n",
       "    </tr>\n",
       "    <tr>\n",
       "      <th>154</th>\n",
       "      <td>Дом из песка и тумана (по книге Андре Дюбуи III)</td>\n",
       "      <td>221037813</td>\n",
       "      <td>2013-10-25 12:00:00</td>\n",
       "      <td>Художественный</td>\n",
       "      <td>Кобальт Пикчерз</td>\n",
       "      <td>США</td>\n",
       "      <td>Вадим Перельман</td>\n",
       "      <td>Майкл Лондон</td>\n",
       "      <td>«16+» - для детей старше 16 лет</td>\n",
       "      <td>&lt;NA&gt;</td>\n",
       "      <td>&lt;NA&gt;</td>\n",
       "      <td>&lt;NA&gt;</td>\n",
       "      <td>NaN</td>\n",
       "      <td>-1.0</td>\n",
       "      <td>unknown</td>\n",
       "      <td>&lt;NA&gt;</td>\n",
       "    </tr>\n",
       "    <tr>\n",
       "      <th>159</th>\n",
       "      <td>Жемчужная девушка</td>\n",
       "      <td>224011014</td>\n",
       "      <td>2014-08-28 12:00:00</td>\n",
       "      <td>Художественный</td>\n",
       "      <td>Чешское телевидение,Студия \"Три брата\" агентск...</td>\n",
       "      <td>Чехия</td>\n",
       "      <td>Владимир Дрга</td>\n",
       "      <td>unknown</td>\n",
       "      <td>«0+» - для любой зрительской аудитории</td>\n",
       "      <td>&lt;NA&gt;</td>\n",
       "      <td>&lt;NA&gt;</td>\n",
       "      <td>&lt;NA&gt;</td>\n",
       "      <td>NaN</td>\n",
       "      <td>-1.0</td>\n",
       "      <td>unknown</td>\n",
       "      <td>&lt;NA&gt;</td>\n",
       "    </tr>\n",
       "    <tr>\n",
       "      <th>227</th>\n",
       "      <td>Полустанок</td>\n",
       "      <td>111026714</td>\n",
       "      <td>2014-12-24 12:00:00</td>\n",
       "      <td>Художественный</td>\n",
       "      <td>Киностудия \"Мосфильм\"</td>\n",
       "      <td>СССР</td>\n",
       "      <td>Б.Барнет</td>\n",
       "      <td>unknown</td>\n",
       "      <td>«12+» - для детей старше 12 лет</td>\n",
       "      <td>&lt;NA&gt;</td>\n",
       "      <td>&lt;NA&gt;</td>\n",
       "      <td>&lt;NA&gt;</td>\n",
       "      <td>NaN</td>\n",
       "      <td>-1.0</td>\n",
       "      <td>unknown</td>\n",
       "      <td>&lt;NA&gt;</td>\n",
       "    </tr>\n",
       "    <tr>\n",
       "      <th>...</th>\n",
       "      <td>...</td>\n",
       "      <td>...</td>\n",
       "      <td>...</td>\n",
       "      <td>...</td>\n",
       "      <td>...</td>\n",
       "      <td>...</td>\n",
       "      <td>...</td>\n",
       "      <td>...</td>\n",
       "      <td>...</td>\n",
       "      <td>...</td>\n",
       "      <td>...</td>\n",
       "      <td>...</td>\n",
       "      <td>...</td>\n",
       "      <td>...</td>\n",
       "      <td>...</td>\n",
       "      <td>...</td>\n",
       "    </tr>\n",
       "    <tr>\n",
       "      <th>7451</th>\n",
       "      <td>Эколав</td>\n",
       "      <td>111023219</td>\n",
       "      <td>2019-12-26 12:00:00</td>\n",
       "      <td>Художественный</td>\n",
       "      <td>ВГИК</td>\n",
       "      <td>Россия</td>\n",
       "      <td>Д.Григорьев</td>\n",
       "      <td>ВГИК</td>\n",
       "      <td>«18+» - запрещено для детей</td>\n",
       "      <td>&lt;NA&gt;</td>\n",
       "      <td>&lt;NA&gt;</td>\n",
       "      <td>&lt;NA&gt;</td>\n",
       "      <td>NaN</td>\n",
       "      <td>-1.0</td>\n",
       "      <td>unknown</td>\n",
       "      <td>&lt;NA&gt;</td>\n",
       "    </tr>\n",
       "    <tr>\n",
       "      <th>7452</th>\n",
       "      <td>Акрам Хан: Родом из Карри Хауса</td>\n",
       "      <td>126007919</td>\n",
       "      <td>2019-12-23 12:00:00</td>\n",
       "      <td>Прочие</td>\n",
       "      <td>Свон Филмз</td>\n",
       "      <td>Великобритания</td>\n",
       "      <td>Ник Пойнц</td>\n",
       "      <td>Поппи Бегум, Ник Пойнц</td>\n",
       "      <td>«12+» - для детей старше 12 лет</td>\n",
       "      <td>&lt;NA&gt;</td>\n",
       "      <td>&lt;NA&gt;</td>\n",
       "      <td>&lt;NA&gt;</td>\n",
       "      <td>NaN</td>\n",
       "      <td>-1.0</td>\n",
       "      <td>unknown</td>\n",
       "      <td>219569</td>\n",
       "    </tr>\n",
       "    <tr>\n",
       "      <th>7453</th>\n",
       "      <td>Сад художника: Американский импрессионизм</td>\n",
       "      <td>126008019</td>\n",
       "      <td>2019-12-23 12:00:00</td>\n",
       "      <td>Прочие</td>\n",
       "      <td>Севен Артс Продакшнз</td>\n",
       "      <td>Великобритания</td>\n",
       "      <td>Фил Грабски</td>\n",
       "      <td>Фил Грабски</td>\n",
       "      <td>«12+» - для детей старше 12 лет</td>\n",
       "      <td>&lt;NA&gt;</td>\n",
       "      <td>&lt;NA&gt;</td>\n",
       "      <td>&lt;NA&gt;</td>\n",
       "      <td>NaN</td>\n",
       "      <td>-1.0</td>\n",
       "      <td>unknown</td>\n",
       "      <td>&lt;NA&gt;</td>\n",
       "    </tr>\n",
       "    <tr>\n",
       "      <th>7455</th>\n",
       "      <td>Щенячий патруль: Скорей спешим на помощь!</td>\n",
       "      <td>124010819</td>\n",
       "      <td>2019-12-28 12:00:00</td>\n",
       "      <td>Художественный</td>\n",
       "      <td>Никелодеон Анимейшн Студиос, Спин Мастер</td>\n",
       "      <td>США - Канада</td>\n",
       "      <td>Чарльз Е.Бастьен</td>\n",
       "      <td>Дженнифер Додж</td>\n",
       "      <td>«0+» - для любой зрительской аудитории</td>\n",
       "      <td>&lt;NA&gt;</td>\n",
       "      <td>&lt;NA&gt;</td>\n",
       "      <td>&lt;NA&gt;</td>\n",
       "      <td>NaN</td>\n",
       "      <td>-1.0</td>\n",
       "      <td>unknown</td>\n",
       "      <td>&lt;NA&gt;</td>\n",
       "    </tr>\n",
       "    <tr>\n",
       "      <th>7456</th>\n",
       "      <td>Машины песенки. Серия \"Испанские мотивы\"</td>\n",
       "      <td>124010619</td>\n",
       "      <td>2019-12-30 12:00:00</td>\n",
       "      <td>Анимационный</td>\n",
       "      <td>Анимаккорд Лтд., ООО Студия \"АНИМАККОРД\"</td>\n",
       "      <td>Республика Кипр, Россия</td>\n",
       "      <td>А.Беляев</td>\n",
       "      <td>Д.Ловейко</td>\n",
       "      <td>«0+» - для любой зрительской аудитории</td>\n",
       "      <td>&lt;NA&gt;</td>\n",
       "      <td>&lt;NA&gt;</td>\n",
       "      <td>&lt;NA&gt;</td>\n",
       "      <td>NaN</td>\n",
       "      <td>-1.0</td>\n",
       "      <td>unknown</td>\n",
       "      <td>&lt;NA&gt;</td>\n",
       "    </tr>\n",
       "  </tbody>\n",
       "</table>\n",
       "<p>956 rows × 16 columns</p>\n",
       "</div>"
      ],
      "text/plain": [
       "                                                 title  pu_number  \\\n",
       "43            Мемуары гейши (по роману Артура Голдена)  121000606   \n",
       "150                                           Жди меня  111013615   \n",
       "154   Дом из песка и тумана (по книге Андре Дюбуи III)  221037813   \n",
       "159                                  Жемчужная девушка  224011014   \n",
       "227                                         Полустанок  111026714   \n",
       "...                                                ...        ...   \n",
       "7451                                            Эколав  111023219   \n",
       "7452                   Акрам Хан: Родом из Карри Хауса  126007919   \n",
       "7453         Сад художника: Американский импрессионизм  126008019   \n",
       "7455         Щенячий патруль: Скорей спешим на помощь!  124010819   \n",
       "7456          Машины песенки. Серия \"Испанские мотивы\"  124010619   \n",
       "\n",
       "         show_start_date             type  \\\n",
       "43   2012-12-14 12:00:00   Художественный   \n",
       "150  2015-08-25 12:00:00   Художественный   \n",
       "154  2013-10-25 12:00:00   Художественный   \n",
       "159  2014-08-28 12:00:00   Художественный   \n",
       "227  2014-12-24 12:00:00   Художественный   \n",
       "...                  ...              ...   \n",
       "7451 2019-12-26 12:00:00   Художественный   \n",
       "7452 2019-12-23 12:00:00           Прочие   \n",
       "7453 2019-12-23 12:00:00           Прочие   \n",
       "7455 2019-12-28 12:00:00   Художественный   \n",
       "7456 2019-12-30 12:00:00     Анимационный   \n",
       "\n",
       "                                            film_studio  \\\n",
       "43    Коламбия Пикчерз Корпорейшн, ДримУоркс ЭсКейДж...   \n",
       "150                               Киностудия \"Мосфильм\"   \n",
       "154                                     Кобальт Пикчерз   \n",
       "159   Чешское телевидение,Студия \"Три брата\" агентск...   \n",
       "227                               Киностудия \"Мосфильм\"   \n",
       "...                                                 ...   \n",
       "7451                                               ВГИК   \n",
       "7452                                         Свон Филмз   \n",
       "7453                               Севен Артс Продакшнз   \n",
       "7455           Никелодеон Анимейшн Студиос, Спин Мастер   \n",
       "7456           Анимаккорд Лтд., ООО Студия \"АНИМАККОРД\"   \n",
       "\n",
       "           production_country             director  \\\n",
       "43                        США          Роб Маршалл   \n",
       "150                      СССР  А.Столпер, Б.Иванов   \n",
       "154                       США      Вадим Перельман   \n",
       "159                     Чехия        Владимир Дрга   \n",
       "227                      СССР             Б.Барнет   \n",
       "...                       ...                  ...   \n",
       "7451                   Россия          Д.Григорьев   \n",
       "7452           Великобритания            Ник Пойнц   \n",
       "7453           Великобритания          Фил Грабски   \n",
       "7455             США - Канада     Чарльз Е.Бастьен   \n",
       "7456  Республика Кипр, Россия             А.Беляев   \n",
       "\n",
       "                                               producer  \\\n",
       "43    Стивен Спилберг, Люси Фишер, Дуглас Уик, Джон ...   \n",
       "150                                             unknown   \n",
       "154                                        Майкл Лондон   \n",
       "159                                             unknown   \n",
       "227                                             unknown   \n",
       "...                                                 ...   \n",
       "7451                                               ВГИК   \n",
       "7452                             Поппи Бегум, Ник Пойнц   \n",
       "7453                                        Фил Грабски   \n",
       "7455                                     Дженнифер Додж   \n",
       "7456                                          Д.Ловейко   \n",
       "\n",
       "                             age_restriction  refundable_support  \\\n",
       "43           «12+» - для детей старше 12 лет                <NA>   \n",
       "150            «6+» - для детей старше 6 лет                <NA>   \n",
       "154          «16+» - для детей старше 16 лет                <NA>   \n",
       "159   «0+» - для любой зрительской аудитории                <NA>   \n",
       "227          «12+» - для детей старше 12 лет                <NA>   \n",
       "...                                      ...                 ...   \n",
       "7451             «18+» - запрещено для детей                <NA>   \n",
       "7452         «12+» - для детей старше 12 лет                <NA>   \n",
       "7453         «12+» - для детей старше 12 лет                <NA>   \n",
       "7455  «0+» - для любой зрительской аудитории                <NA>   \n",
       "7456  «0+» - для любой зрительской аудитории                <NA>   \n",
       "\n",
       "      nonrefundable_support  budget financing_source  ratings   genres  \\\n",
       "43                     <NA>    <NA>              NaN     -1.0  unknown   \n",
       "150                    <NA>    <NA>              NaN     -1.0  unknown   \n",
       "154                    <NA>    <NA>              NaN     -1.0  unknown   \n",
       "159                    <NA>    <NA>              NaN     -1.0  unknown   \n",
       "227                    <NA>    <NA>              NaN     -1.0  unknown   \n",
       "...                     ...     ...              ...      ...      ...   \n",
       "7451                   <NA>    <NA>              NaN     -1.0  unknown   \n",
       "7452                   <NA>    <NA>              NaN     -1.0  unknown   \n",
       "7453                   <NA>    <NA>              NaN     -1.0  unknown   \n",
       "7455                   <NA>    <NA>              NaN     -1.0  unknown   \n",
       "7456                   <NA>    <NA>              NaN     -1.0  unknown   \n",
       "\n",
       "      box_office  \n",
       "43          <NA>  \n",
       "150         <NA>  \n",
       "154         <NA>  \n",
       "159         <NA>  \n",
       "227         <NA>  \n",
       "...          ...  \n",
       "7451        <NA>  \n",
       "7452      219569  \n",
       "7453        <NA>  \n",
       "7455        <NA>  \n",
       "7456        <NA>  \n",
       "\n",
       "[956 rows x 16 columns]"
      ]
     },
     "execution_count": 25,
     "metadata": {},
     "output_type": "execute_result"
    }
   ],
   "source": [
    "df[df['genres'] == 'unknown']"
   ]
  },
  {
   "cell_type": "markdown",
   "metadata": {},
   "source": [
    "По данным видно, что пропуски в жанре и рейтинге, не зависят от других столбцов. Вероятнее всего данные пострадали при выгрузке. "
   ]
  },
  {
   "cell_type": "markdown",
   "metadata": {},
   "source": [
    "В столбце box_office, у более половины фильмов отсутствуют данные о сумме сборов. \n",
    "медианным и средним значением пропуски не заполнить, пострадает качество анализа. Вернее всего будет оставить как есть, и исследовать вопрос сборов далее, только для тех данных, которые имеют заполненные значения, очищенные от выбросов.\n"
   ]
  },
  {
   "cell_type": "markdown",
   "metadata": {},
   "source": [
    "refundable_support — объём возвратных средств государственной поддержки;  \n",
    "financing_source — источник государственного финансирования;  \n",
    "budget — общий бюджет фильма;  \n",
    "nonrefundable_support — объём невозвратных средств государственной поддержки  \n",
    "Для 95% данных, отсутствуют значения в этих столбцах. Пропуски в этих столбцах связаны между собой и следовательно, если в строке есть пропуск в бюджете, будет пропуск в других 3 столбцах.  \n",
    "Также известно, что данные в столбце budget указаны только для тех фильмов, которые получили государственную поддержку.  \n",
    "Можно сделать вывод, что отсутствующие значения говорят о том, что фильм не получил государственной поддержки.  \n",
    "В столбце со строковым типом - данные примут значение \"unknown\". В числовых столбцах данные остануться как есть."
   ]
  },
  {
   "cell_type": "code",
   "execution_count": 26,
   "metadata": {},
   "outputs": [
    {
     "data": {
      "text/plain": [
       "7126"
      ]
     },
     "execution_count": 26,
     "metadata": {},
     "output_type": "execute_result"
    }
   ],
   "source": [
    "# Проверка совпадения количества строк, где одновременно пропущены значения во всех 4 столбцах\n",
    "(\n",
    "    df[(df['refundable_support'].isna())\n",
    "    & (df['financing_source'].isna())\n",
    "    & (df['budget'].isna())\n",
    "    & (df['nonrefundable_support'].isna())\n",
    "    ]['pu_number'].count()\n",
    ")"
   ]
  },
  {
   "cell_type": "code",
   "execution_count": 27,
   "metadata": {},
   "outputs": [
    {
     "data": {
      "text/plain": [
       "refundable_support       7126\n",
       "financing_source         7126\n",
       "budget                   7126\n",
       "nonrefundable_support    7126\n",
       "dtype: int64"
      ]
     },
     "execution_count": 27,
     "metadata": {},
     "output_type": "execute_result"
    }
   ],
   "source": [
    "df[['refundable_support','financing_source','budget','nonrefundable_support']].isna().sum()"
   ]
  },
  {
   "cell_type": "markdown",
   "metadata": {},
   "source": [
    "7126 пропусков, именно это значение пропущенных значений имеет каждый столбец.  \n",
    "Количество совпадает"
   ]
  },
  {
   "cell_type": "code",
   "execution_count": 28,
   "metadata": {},
   "outputs": [],
   "source": [
    "# заполнение пропусков с источником финансирования\n",
    "df['financing_source'] = df['financing_source'].fillna('unknown')"
   ]
  },
  {
   "cell_type": "markdown",
   "metadata": {},
   "source": [
    "В столбце бюджет у 17 строк, значения бюджета принимает 0.  \n",
    "Принято решение считать эти данные выбросами, и избавиться от них в дальнейших расчетах"
   ]
  },
  {
   "cell_type": "code",
   "execution_count": 29,
   "metadata": {},
   "outputs": [
    {
     "data": {
      "text/plain": [
       "(7458, 16)"
      ]
     },
     "execution_count": 29,
     "metadata": {},
     "output_type": "execute_result"
    }
   ],
   "source": [
    "# количество строк до удаления\n",
    "df.shape"
   ]
  },
  {
   "cell_type": "code",
   "execution_count": 30,
   "metadata": {},
   "outputs": [
    {
     "name": "stdout",
     "output_type": "stream",
     "text": [
      "Количество нулевых значений до редактирования:17\n",
      "Количество нулевых значений после редактирования:0\n"
     ]
    }
   ],
   "source": [
    "print(f'Количество нулевых значений до редактирования:{df[df[\"budget\"] == 0][\"title\"].count()}')\n",
    "df = df[(df['budget'] != 0) | (df['budget'].isna())]\n",
    "print(f'Количество нулевых значений после редактирования:{df[df[\"budget\"] == 0][\"title\"].count()}')"
   ]
  },
  {
   "cell_type": "code",
   "execution_count": 31,
   "metadata": {},
   "outputs": [
    {
     "data": {
      "text/plain": [
       "(7441, 16)"
      ]
     },
     "execution_count": 31,
     "metadata": {},
     "output_type": "execute_result"
    }
   ],
   "source": [
    "# количество строк после удаления\n",
    "df.shape"
   ]
  },
  {
   "cell_type": "markdown",
   "metadata": {},
   "source": [
    "Проверим, было ли что-то пропущено"
   ]
  },
  {
   "cell_type": "code",
   "execution_count": 32,
   "metadata": {},
   "outputs": [
    {
     "data": {
      "text/plain": [
       "refundable_support       95.766698\n",
       "nonrefundable_support    95.766698\n",
       "budget                   95.766698\n",
       "box_office               57.828249\n",
       "title                     0.000000\n",
       "pu_number                 0.000000\n",
       "show_start_date           0.000000\n",
       "type                      0.000000\n",
       "film_studio               0.000000\n",
       "production_country        0.000000\n",
       "director                  0.000000\n",
       "producer                  0.000000\n",
       "age_restriction           0.000000\n",
       "financing_source          0.000000\n",
       "ratings                   0.000000\n",
       "genres                    0.000000\n",
       "dtype: float64"
      ]
     },
     "execution_count": 32,
     "metadata": {},
     "output_type": "execute_result"
    }
   ],
   "source": [
    "df.isna().mean().sort_values(ascending=False)*100"
   ]
  },
  {
   "cell_type": "markdown",
   "metadata": {},
   "source": [
    "Итого: обработаны пропуски там, где это возможно.  \n",
    "Пропуски остались в столбцах бюджета и поддержки от государства, а также в столбце с информацией о сборах фильма."
   ]
  },
  {
   "cell_type": "markdown",
   "metadata": {
    "id": "4c6k1t9ygFyQ"
   },
   "source": [
    "#### Шаг 2.3. Изучение дубликатов"
   ]
  },
  {
   "cell_type": "markdown",
   "metadata": {},
   "source": [
    "Проверка на общее количество дубликатов во всех столбцах, а также в столбце с названием фильма и прокатным удостоверением.  \n",
    "В процессе слияния данных из 2 таблиц, могли возникнуть дубликаты таких строк."
   ]
  },
  {
   "cell_type": "code",
   "execution_count": 33,
   "metadata": {
    "id": "aKck8RIdgFyQ"
   },
   "outputs": [
    {
     "data": {
      "text/plain": [
       "0"
      ]
     },
     "execution_count": 33,
     "metadata": {},
     "output_type": "execute_result"
    }
   ],
   "source": [
    "df.duplicated(subset=['title','pu_number']).sum()"
   ]
  },
  {
   "cell_type": "code",
   "execution_count": 34,
   "metadata": {},
   "outputs": [
    {
     "data": {
      "text/plain": [
       "0"
      ]
     },
     "execution_count": 34,
     "metadata": {},
     "output_type": "execute_result"
    }
   ],
   "source": [
    "df.duplicated().sum()"
   ]
  },
  {
   "cell_type": "markdown",
   "metadata": {},
   "source": [
    "Итого: явных дубликатов в строках нет.  \n",
    "Далее идет проверка и обработка неявных дубликатов."
   ]
  },
  {
   "cell_type": "markdown",
   "metadata": {
    "id": "52fOPrEBgFyQ"
   },
   "source": [
    "#### Шаг 2.4. Изучение категориальных значений"
   ]
  },
  {
   "cell_type": "markdown",
   "metadata": {},
   "source": [
    "В некоторых категориальных значениях присутствуют лишние пробелы. Эти значения необходимо заменить для полноты данных по категориям."
   ]
  },
  {
   "cell_type": "code",
   "execution_count": 35,
   "metadata": {
    "id": "PnXKIVdFgFyR"
   },
   "outputs": [],
   "source": [
    "# функция для возврата количества уникальных значений в столбце\n",
    "# принимает название столбца (список) и значение true или false, если false - выводит количество, если true - убирает лишние пробелы, и приводит к 1 виду\n",
    "def return_count(name_col,do=False):\n",
    "    for val in name_col:\n",
    "        if do == False:\n",
    "            print(f'количество уникальных значений в столбце {val}: {len(df[val].unique())}')   \n",
    "        elif do == True:\n",
    "            df[val] = df[val].str.strip()"
   ]
  },
  {
   "cell_type": "code",
   "execution_count": 36,
   "metadata": {},
   "outputs": [],
   "source": [
    "value_column = (\n",
    "    ['title','type','production_country','director',\n",
    "    'producer','age_restriction','genres','financing_source','film_studio']\n",
    ")"
   ]
  },
  {
   "cell_type": "code",
   "execution_count": 37,
   "metadata": {},
   "outputs": [
    {
     "name": "stdout",
     "output_type": "stream",
     "text": [
      "количество уникальных значений в столбце title: 6728\n",
      "количество уникальных значений в столбце type: 8\n",
      "количество уникальных значений в столбце production_country: 950\n",
      "количество уникальных значений в столбце director: 4786\n",
      "количество уникальных значений в столбце producer: 5321\n",
      "количество уникальных значений в столбце age_restriction: 5\n",
      "количество уникальных значений в столбце genres: 742\n",
      "количество уникальных значений в столбце financing_source: 4\n",
      "количество уникальных значений в столбце film_studio: 5476\n"
     ]
    }
   ],
   "source": [
    "return_count(value_column,False)"
   ]
  },
  {
   "cell_type": "code",
   "execution_count": 38,
   "metadata": {},
   "outputs": [],
   "source": [
    "return_count(value_column,True)"
   ]
  },
  {
   "cell_type": "code",
   "execution_count": 39,
   "metadata": {},
   "outputs": [
    {
     "name": "stdout",
     "output_type": "stream",
     "text": [
      "количество уникальных значений в столбце title: 6728\n",
      "количество уникальных значений в столбце type: 6\n",
      "количество уникальных значений в столбце production_country: 934\n",
      "количество уникальных значений в столбце director: 4776\n",
      "количество уникальных значений в столбце producer: 5308\n",
      "количество уникальных значений в столбце age_restriction: 5\n",
      "количество уникальных значений в столбце genres: 742\n",
      "количество уникальных значений в столбце financing_source: 4\n",
      "количество уникальных значений в столбце film_studio: 5449\n"
     ]
    }
   ],
   "source": [
    "return_count(value_column,False)"
   ]
  },
  {
   "cell_type": "markdown",
   "metadata": {},
   "source": [
    "Итого: Почти во всех категориальных столбцах присутствует общая проблема - большое количество уникальных данных. Это значение слишком велико, и сгруппировать данные по этим столбцам не выйдет. При необходимости, с этими данными следует проводить более тонкую работу.  \n",
    "  \n",
    "\n",
    "Обработаны неявные дубликаты, с лишним пробелом в названии, данные приобрели большую целостность и структурированность.  \n",
    "Сильной обработкой категориальных переменной заниматься нет необходимости.  \n",
    "Название фильма, тип, страна, режиссер и продюсер не играют основной роли в анализе, в случае необходимости, эти значения будут обработаны далее.  \n",
    "В возрастной категории дубликатов нет, из столбца жанров - далее будет использован только основной жанр, стоящим первым.  \n",
    "Источник финансирования будет обработан далее, в случае необходимости."
   ]
  },
  {
   "cell_type": "markdown",
   "metadata": {
    "id": "XFSN5lrEgFyR"
   },
   "source": [
    "#### Шаг 2.5. Проверка количественных значений\n"
   ]
  },
  {
   "cell_type": "markdown",
   "metadata": {
    "id": "YbzClBxagFyS"
   },
   "source": [
    "Основные столбцы, которые подлежат детальному изучению - refundable_support, nonrefundable_support, budget"
   ]
  },
  {
   "cell_type": "markdown",
   "metadata": {},
   "source": [
    "Прописаны необходимые функции, для изучения количественных столбцов.  \n",
    "Показывает количество анамальных значений, а также отрисовывает гистограмму и диаграмму размаха"
   ]
  },
  {
   "cell_type": "code",
   "execution_count": 40,
   "metadata": {},
   "outputs": [],
   "source": [
    "'''Функция для построения гистограммы и диаграммы размаха\n",
    "может принимать в себя:\n",
    "обязательное поля: \n",
    "название столбца - data_column\n",
    "размер минимального значения для построения диаграммы по оси x - min\n",
    "размир максимального значения для построения диаграммы по оси x - max\n",
    "необязательные поля:\n",
    "размер корзин - bins\n",
    "'''\n",
    "\n",
    "def plot_show(data_column,min,max,bins=25):\n",
    "    # размер диаграммы\n",
    "    plt.figure(figsize=(10,5)) \n",
    "    # Построение диаграммы\n",
    "    (df[data_column]\n",
    "        .plot(\n",
    "            kind='hist',\n",
    "            bins=bins,\n",
    "            histtype='step',\n",
    "            linewidth=3,\n",
    "            alpha=1,\n",
    "            label=data_column,\n",
    "        )\n",
    "    )\n",
    "    # заголовки для осей\n",
    "    plt.xlabel(data_column)\n",
    "    plt.ylabel('Количество записей')\n",
    "    #\n",
    "    #plt.ylim(минимум, максимум)\n",
    "    plt.xlim(min, max)\n",
    "    # название диаграммы\n",
    "    plt.title(f'Гистограмма для {data_column}')\n",
    "    # Линия среднего и медианного значений\n",
    "    #plt.axhline(y=df[data_column].median(),label='Медианное значение', color='r', linestyle='--')\n",
    "    #plt.axhline(y=df[data_column].mean(),label='Среднее значение', color='b')\n",
    "    # легенда графика\n",
    "    plt.legend()\n",
    "    # включение сетки, для обеих осей\n",
    "    plt.grid(True,axis='both',linestyle='--', linewidth=0.5)\n",
    "    # показ графика\n",
    "    plt.show()\n",
    "    print('============================================================================================')\n",
    "    print(df[data_column].describe())\n",
    "    print('============================================================================================')\n",
    "    # размер диаграммы\n",
    "    plt.figure(figsize=(10,5)) \n",
    "    # построение графика\n",
    "    df.boxplot(column=data_column)\n",
    "    # название диаграммы\n",
    "    plt.title(f'Диаграмма размаха для {data_column}')\n",
    "    plt.show()"
   ]
  },
  {
   "cell_type": "code",
   "execution_count": 41,
   "metadata": {},
   "outputs": [],
   "source": [
    "# функция для подсчета количества некорректных значений\n",
    "def invalid_count(inv,min,max):\n",
    "    print(f'Данных - {df[(df[inv] < min) | (df[inv] > max)][inv].count()} строк(и)')"
   ]
  },
  {
   "cell_type": "markdown",
   "metadata": {},
   "source": [
    "##### budget"
   ]
  },
  {
   "cell_type": "markdown",
   "metadata": {},
   "source": [
    "Перевод значений столбца бюджета в миллионы, для более красивого отображения на графике и масштабирования общей картины."
   ]
  },
  {
   "cell_type": "code",
   "execution_count": 42,
   "metadata": {},
   "outputs": [],
   "source": [
    "df['budget_mln'] = df['budget'] / 1000000"
   ]
  },
  {
   "cell_type": "markdown",
   "metadata": {},
   "source": [
    "По графику видно, как все основные значения расположены в диапазоне 0-150 млн. Далее значения идут на спад, и значений с более 500 млн бюджета, всего 11 штук.  \n",
    "медианное значение - 73 млн, а среднее значение - 134 млн, из за анамально больших и редких значений, оно почти в 2 раза больше медианного."
   ]
  },
  {
   "cell_type": "code",
   "execution_count": 43,
   "metadata": {
    "scrolled": true
   },
   "outputs": [
    {
     "data": {
      "image/png": "[encoded data removed]",
      "text/plain": [
       "<Figure size 720x360 with 1 Axes>"
      ]
     },
     "metadata": {
      "needs_background": "light"
     },
     "output_type": "display_data"
    },
    {
     "name": "stdout",
     "output_type": "stream",
     "text": [
      "============================================================================================\n",
      "count     315.000000\n",
      "mean      134.096082\n",
      "std       191.226040\n",
      "min        14.462464\n",
      "25%        46.153866\n",
      "50%        73.379554\n",
      "75%       150.004287\n",
      "max      2305.074303\n",
      "Name: budget_mln, dtype: float64\n",
      "============================================================================================\n"
     ]
    },
    {
     "data": {
      "image/png": "[encoded data removed]",
      "text/plain": [
       "<Figure size 720x360 with 1 Axes>"
      ]
     },
     "metadata": {
      "needs_background": "light"
     },
     "output_type": "display_data"
    }
   ],
   "source": [
    "plot_show(\n",
    "    'budget_mln',\n",
    "    (df['budget_mln'].min()-30),\n",
    "    df['budget_mln'].max()\n",
    ")"
   ]
  },
  {
   "cell_type": "code",
   "execution_count": 44,
   "metadata": {},
   "outputs": [
    {
     "name": "stdout",
     "output_type": "stream",
     "text": [
      "Данных - 11 строк(и)\n"
     ]
    }
   ],
   "source": [
    "invalid_count('budget_mln',2,500)"
   ]
  },
  {
   "cell_type": "markdown",
   "metadata": {},
   "source": [
    "Данные, бюджет которых составили более 500 млн - являются редкими анамальными значениями. Далее эти данные приняты в анализ не будут"
   ]
  },
  {
   "cell_type": "code",
   "execution_count": 45,
   "metadata": {},
   "outputs": [
    {
     "data": {
      "text/plain": [
       "(7441, 17)"
      ]
     },
     "execution_count": 45,
     "metadata": {},
     "output_type": "execute_result"
    }
   ],
   "source": [
    "# количество строк до удаления\n",
    "df.shape"
   ]
  },
  {
   "cell_type": "code",
   "execution_count": 46,
   "metadata": {},
   "outputs": [],
   "source": [
    "df = df[(df['budget_mln'] <= 500) | (df['budget_mln'].isna())]"
   ]
  },
  {
   "cell_type": "code",
   "execution_count": 47,
   "metadata": {},
   "outputs": [
    {
     "data": {
      "text/plain": [
       "(7430, 17)"
      ]
     },
     "execution_count": 47,
     "metadata": {},
     "output_type": "execute_result"
    }
   ],
   "source": [
    "# количество строк после удаления\n",
    "df.shape"
   ]
  },
  {
   "cell_type": "markdown",
   "metadata": {},
   "source": [
    "##### nonrefundable_support"
   ]
  },
  {
   "cell_type": "markdown",
   "metadata": {},
   "source": [
    "Перевод значений столбца невозвратной поддержки в миллионы, для более красивого отображения на графике и масштабирования общей картины."
   ]
  },
  {
   "cell_type": "code",
   "execution_count": 48,
   "metadata": {},
   "outputs": [],
   "source": [
    "df['nonrefundable_support_mln'] = df['nonrefundable_support'] / 1000000"
   ]
  },
  {
   "cell_type": "markdown",
   "metadata": {},
   "source": [
    "График похож на нормальное распределение, есть минимальные значения в диапазоне 0-15 млн, далее пик в диапазоне 15-45 млн, после чего значения идут на спад.  \n",
    "Среднее - 40 млн, медиана - 30 млн, разница между значениями не сильно велика.  \n",
    "Очищать данные от анамалий не требуется, т.к. для общего бюджета отсавили значение в 500 млн, и это число может составлять доля невозвратной поддержки от государства.  \n",
    "На текущий момент, эта доля не превышает 300 млн."
   ]
  },
  {
   "cell_type": "code",
   "execution_count": 49,
   "metadata": {
    "scrolled": true
   },
   "outputs": [
    {
     "data": {
      "image/png": "[encoded data removed]",
      "text/plain": [
       "<Figure size 720x360 with 1 Axes>"
      ]
     },
     "metadata": {
      "needs_background": "light"
     },
     "output_type": "display_data"
    },
    {
     "name": "stdout",
     "output_type": "stream",
     "text": [
      "============================================================================================\n",
      "count    304.000000\n",
      "mean      40.712547\n",
      "std       39.475106\n",
      "min        0.000000\n",
      "25%       25.000000\n",
      "50%       30.000000\n",
      "75%       40.000000\n",
      "max      300.000000\n",
      "Name: nonrefundable_support_mln, dtype: float64\n",
      "============================================================================================\n"
     ]
    },
    {
     "data": {
      "image/png": "[encoded data removed]",
      "text/plain": [
       "<Figure size 720x360 with 1 Axes>"
      ]
     },
     "metadata": {
      "needs_background": "light"
     },
     "output_type": "display_data"
    }
   ],
   "source": [
    "plot_show(\n",
    "    'nonrefundable_support_mln',\n",
    "    (df['nonrefundable_support_mln'].min()-30),\n",
    "    df['nonrefundable_support_mln'].max(),\n",
    "    bins=20\n",
    ")"
   ]
  },
  {
   "cell_type": "markdown",
   "metadata": {},
   "source": [
    "##### refundable_support"
   ]
  },
  {
   "cell_type": "markdown",
   "metadata": {},
   "source": [
    "Перевод значений столбца возвратной поддержки в миллионы, для более красивого отображения на графике и масштабирования общей картины."
   ]
  },
  {
   "cell_type": "code",
   "execution_count": 50,
   "metadata": {},
   "outputs": [],
   "source": [
    "df['refundable_support_mln'] = df['refundable_support'] / 1000000"
   ]
  },
  {
   "cell_type": "code",
   "execution_count": 51,
   "metadata": {
    "scrolled": true
   },
   "outputs": [
    {
     "data": {
      "image/png": "[encoded data removed]",
      "text/plain": [
       "<Figure size 720x360 with 1 Axes>"
      ]
     },
     "metadata": {
      "needs_background": "light"
     },
     "output_type": "display_data"
    },
    {
     "name": "stdout",
     "output_type": "stream",
     "text": [
      "============================================================================================\n",
      "count    304.000000\n",
      "mean       8.980263\n",
      "std       18.862301\n",
      "min        0.000000\n",
      "25%        0.000000\n",
      "50%        0.000000\n",
      "75%       10.000000\n",
      "max      115.000000\n",
      "Name: refundable_support_mln, dtype: float64\n",
      "============================================================================================\n"
     ]
    },
    {
     "data": {
      "image/png": "[encoded data removed]",
      "text/plain": [
       "<Figure size 720x360 with 1 Axes>"
      ]
     },
     "metadata": {
      "needs_background": "light"
     },
     "output_type": "display_data"
    }
   ],
   "source": [
    "plot_show(\n",
    "    'refundable_support_mln',\n",
    "    (df['refundable_support_mln'].min()-30),\n",
    "    df['refundable_support_mln'].max()\n",
    ")"
   ]
  },
  {
   "cell_type": "markdown",
   "metadata": {},
   "source": [
    "Много нулевых значений, но это корректно, т.к. имеет место быть, что государство чаще оказывает невозвратную поддержку на помощь в создании произведения.  \n",
    "Аналогично столбцу с невозвратной поддержкой, очищать анамалии не требуется."
   ]
  },
  {
   "cell_type": "markdown",
   "metadata": {},
   "source": [
    "##### box_office"
   ]
  },
  {
   "cell_type": "markdown",
   "metadata": {},
   "source": [
    "Перевод значений столбца сборов в миллионы, для более красивого отображения на графике и масштабирования общей картины."
   ]
  },
  {
   "cell_type": "code",
   "execution_count": 52,
   "metadata": {},
   "outputs": [],
   "source": [
    "df['box_office_mln'] = df['box_office'] / 1000000"
   ]
  },
  {
   "cell_type": "markdown",
   "metadata": {},
   "source": [
    "Ровно 50% данных имеет значение сборов - меньше 2,25 млн рублей. Однако в данных много экстремальных значений, которые достигают сумму сборов до 3 млрд рублей.  \n",
    "По графику видно, как пик заканчивается примерно на отметке в 50 млн, далее значения идут на спад.  \n",
    "Из за экстремальных значений, среднее составляет 73 млн, а медиана 2,2 млн, разница колоссальная и говорит о большом разбросе данных.  \n",
    "Хоть в данных и много выбросов, это важный столбец, из которого необходимо проанализировать все данные, включая экстремальные.  \n",
    "Принято решение эти данныые оставить и принимать решение об оставлении их наполненности далее, по ходу анализа."
   ]
  },
  {
   "cell_type": "code",
   "execution_count": 53,
   "metadata": {
    "scrolled": true
   },
   "outputs": [
    {
     "data": {
      "image/png": "[encoded data removed]",
      "text/plain": [
       "<Figure size 720x360 with 1 Axes>"
      ]
     },
     "metadata": {
      "needs_background": "light"
     },
     "output_type": "display_data"
    },
    {
     "name": "stdout",
     "output_type": "stream",
     "text": [
      "============================================================================================\n",
      "count    3128.000000\n",
      "mean       73.266007\n",
      "std       230.456059\n",
      "min         0.000000\n",
      "25%         0.083407\n",
      "50%         2.267458\n",
      "75%        22.926592\n",
      "max      3073.568690\n",
      "Name: box_office_mln, dtype: float64\n",
      "============================================================================================\n"
     ]
    },
    {
     "data": {
      "image/png": "[encoded data removed]",
      "text/plain": [
       "<Figure size 720x360 with 1 Axes>"
      ]
     },
     "metadata": {
      "needs_background": "light"
     },
     "output_type": "display_data"
    }
   ],
   "source": [
    "plot_show(\n",
    "    'box_office_mln',\n",
    "    (df['box_office_mln'].min()-50),\n",
    "    df['box_office_mln'].max(),\n",
    "    bins=70\n",
    ")"
   ]
  },
  {
   "cell_type": "markdown",
   "metadata": {},
   "source": [
    "Фильмы, собравшие более 200 млн рублей:"
   ]
  },
  {
   "cell_type": "code",
   "execution_count": 54,
   "metadata": {},
   "outputs": [
    {
     "name": "stdout",
     "output_type": "stream",
     "text": [
      "Данных - 287 строк(и)\n"
     ]
    }
   ],
   "source": [
    "invalid_count('box_office_mln',0,200)"
   ]
  },
  {
   "cell_type": "markdown",
   "metadata": {},
   "source": [
    "##### Итог"
   ]
  },
  {
   "cell_type": "markdown",
   "metadata": {},
   "source": [
    "По итогу были обработаны слишком выбивающиеся значения в столбце с бюджетом, не превышающие 500 млн.  \n",
    "Что касается данных, получивших поддержку от государства, отсеяно около 3%, в связи с анамальными значениями"
   ]
  },
  {
   "cell_type": "markdown",
   "metadata": {
    "id": "Eu6oWp2CgFyS"
   },
   "source": [
    "#### Шаг 2.6. Добавление новых столбцов"
   ]
  },
  {
   "cell_type": "markdown",
   "metadata": {
    "id": "7GgW-UpAgFyS"
   },
   "source": [
    "- Создайте столбец с информацией о годе проката. Выделите год из даты премьеры фильма."
   ]
  },
  {
   "cell_type": "code",
   "execution_count": 55,
   "metadata": {
    "id": "I-yd1DkWgFyT"
   },
   "outputs": [],
   "source": [
    "df['year'] = pd.DatetimeIndex(df['show_start_date']).year"
   ]
  },
  {
   "cell_type": "markdown",
   "metadata": {
    "id": "nFTDLDYOgFyT"
   },
   "source": [
    "- Создайте два столбца: с именем и фамилией главного режиссёра и основным жанром фильма. В столбцы войдут первые значения из списка режиссёров и жанров соответственно.\n"
   ]
  },
  {
   "cell_type": "code",
   "execution_count": 56,
   "metadata": {
    "id": "LSbRZKbMgFyU",
    "scrolled": true
   },
   "outputs": [],
   "source": [
    "import re\n",
    "'''\n",
    "Функция возвращает Имя и Фамилию главного режиссера, и главный жанр фильма\n",
    "Принимает таблицу с данными, и название столбца, для которого возвращается значение\n",
    "'''\n",
    "def director_genres(data,name):\n",
    "    \n",
    "    \n",
    "    if name == 'director':\n",
    "        data_var = data[name].split()\n",
    "        regex = \"^[а-яА-ЯёЁ]\\.[а-яА-ЯёЁ]+$\"\n",
    "        pattern = re.compile(regex)\n",
    "        if pattern.search(data_var[0]) is not None: # False \n",
    "            return data_var[0]\n",
    "        if len(data_var) != 1:\n",
    "            return data_var[0] + ' ' + data_var[1]\n",
    "        return data_var[0]\n",
    "        \n",
    "    data_var = data[name].split(',')\n",
    "    return data_var[0]"
   ]
  },
  {
   "cell_type": "code",
   "execution_count": 57,
   "metadata": {},
   "outputs": [],
   "source": [
    "df['main_director'] = df.apply(director_genres,axis=1, args=('director',))\n",
    "df['main_genre'] = df.apply(director_genres,axis=1, args=('genres',))"
   ]
  },
  {
   "cell_type": "markdown",
   "metadata": {},
   "source": [
    "Проверка добавления столбцов"
   ]
  },
  {
   "cell_type": "code",
   "execution_count": 58,
   "metadata": {},
   "outputs": [
    {
     "data": {
      "text/html": [
       "<div>\n",
       "<style scoped>\n",
       "    .dataframe tbody tr th:only-of-type {\n",
       "        vertical-align: middle;\n",
       "    }\n",
       "\n",
       "    .dataframe tbody tr th {\n",
       "        vertical-align: top;\n",
       "    }\n",
       "\n",
       "    .dataframe thead th {\n",
       "        text-align: right;\n",
       "    }\n",
       "</style>\n",
       "<table border=\"1\" class=\"dataframe\">\n",
       "  <thead>\n",
       "    <tr style=\"text-align: right;\">\n",
       "      <th></th>\n",
       "      <th>title</th>\n",
       "      <th>pu_number</th>\n",
       "      <th>show_start_date</th>\n",
       "      <th>type</th>\n",
       "      <th>film_studio</th>\n",
       "      <th>production_country</th>\n",
       "      <th>director</th>\n",
       "      <th>producer</th>\n",
       "      <th>age_restriction</th>\n",
       "      <th>refundable_support</th>\n",
       "      <th>nonrefundable_support</th>\n",
       "      <th>budget</th>\n",
       "      <th>financing_source</th>\n",
       "      <th>ratings</th>\n",
       "      <th>genres</th>\n",
       "      <th>box_office</th>\n",
       "      <th>budget_mln</th>\n",
       "      <th>nonrefundable_support_mln</th>\n",
       "      <th>refundable_support_mln</th>\n",
       "      <th>box_office_mln</th>\n",
       "      <th>year</th>\n",
       "      <th>main_director</th>\n",
       "      <th>main_genre</th>\n",
       "    </tr>\n",
       "  </thead>\n",
       "  <tbody>\n",
       "    <tr>\n",
       "      <th>3515</th>\n",
       "      <td>Закон ночи</td>\n",
       "      <td>121033716</td>\n",
       "      <td>2016-12-21 12:00:00</td>\n",
       "      <td>Художественный</td>\n",
       "      <td>Уорнер Бразерс, Эппиан Вей, Перл Стрит</td>\n",
       "      <td>США</td>\n",
       "      <td>Бен Аффлек</td>\n",
       "      <td>Бен Аффлек, Леонардо Ди Каприо, Дженнифер Дэви...</td>\n",
       "      <td>«18+» - запрещено для детей</td>\n",
       "      <td>&lt;NA&gt;</td>\n",
       "      <td>&lt;NA&gt;</td>\n",
       "      <td>&lt;NA&gt;</td>\n",
       "      <td>unknown</td>\n",
       "      <td>6.0</td>\n",
       "      <td>боевик,триллер,драма</td>\n",
       "      <td>74550032</td>\n",
       "      <td>&lt;NA&gt;</td>\n",
       "      <td>&lt;NA&gt;</td>\n",
       "      <td>&lt;NA&gt;</td>\n",
       "      <td>74.550032</td>\n",
       "      <td>2016</td>\n",
       "      <td>Бен Аффлек</td>\n",
       "      <td>боевик</td>\n",
       "    </tr>\n",
       "    <tr>\n",
       "      <th>4851</th>\n",
       "      <td>Вторжение: Битва за рай</td>\n",
       "      <td>121001111</td>\n",
       "      <td>2011-02-02 12:00:00</td>\n",
       "      <td>Художественный</td>\n",
       "      <td>Эмбиенс Интертейнмент, Омнилаб Медиа</td>\n",
       "      <td>Австралия-США</td>\n",
       "      <td>Стюарт Битти</td>\n",
       "      <td>Майкл Буген, Эндрю Мэйсон</td>\n",
       "      <td>«12+» - для детей старше 12 лет</td>\n",
       "      <td>&lt;NA&gt;</td>\n",
       "      <td>&lt;NA&gt;</td>\n",
       "      <td>&lt;NA&gt;</td>\n",
       "      <td>unknown</td>\n",
       "      <td>5.0</td>\n",
       "      <td>боевик,драма,приключения</td>\n",
       "      <td>&lt;NA&gt;</td>\n",
       "      <td>&lt;NA&gt;</td>\n",
       "      <td>&lt;NA&gt;</td>\n",
       "      <td>&lt;NA&gt;</td>\n",
       "      <td>&lt;NA&gt;</td>\n",
       "      <td>2011</td>\n",
       "      <td>Стюарт Битти</td>\n",
       "      <td>боевик</td>\n",
       "    </tr>\n",
       "  </tbody>\n",
       "</table>\n",
       "</div>"
      ],
      "text/plain": [
       "                        title  pu_number     show_start_date            type  \\\n",
       "3515               Закон ночи  121033716 2016-12-21 12:00:00  Художественный   \n",
       "4851  Вторжение: Битва за рай  121001111 2011-02-02 12:00:00  Художественный   \n",
       "\n",
       "                                 film_studio production_country      director  \\\n",
       "3515  Уорнер Бразерс, Эппиан Вей, Перл Стрит                США    Бен Аффлек   \n",
       "4851    Эмбиенс Интертейнмент, Омнилаб Медиа      Австралия-США  Стюарт Битти   \n",
       "\n",
       "                                               producer  \\\n",
       "3515  Бен Аффлек, Леонардо Ди Каприо, Дженнифер Дэви...   \n",
       "4851                          Майкл Буген, Эндрю Мэйсон   \n",
       "\n",
       "                      age_restriction  refundable_support  \\\n",
       "3515      «18+» - запрещено для детей                <NA>   \n",
       "4851  «12+» - для детей старше 12 лет                <NA>   \n",
       "\n",
       "      nonrefundable_support  budget financing_source  ratings  \\\n",
       "3515                   <NA>    <NA>          unknown      6.0   \n",
       "4851                   <NA>    <NA>          unknown      5.0   \n",
       "\n",
       "                        genres  box_office  budget_mln  \\\n",
       "3515      боевик,триллер,драма    74550032        <NA>   \n",
       "4851  боевик,драма,приключения        <NA>        <NA>   \n",
       "\n",
       "      nonrefundable_support_mln  refundable_support_mln  box_office_mln  year  \\\n",
       "3515                       <NA>                    <NA>       74.550032  2016   \n",
       "4851                       <NA>                    <NA>            <NA>  2011   \n",
       "\n",
       "     main_director main_genre  \n",
       "3515    Бен Аффлек     боевик  \n",
       "4851  Стюарт Битти     боевик  "
      ]
     },
     "execution_count": 58,
     "metadata": {},
     "output_type": "execute_result"
    }
   ],
   "source": [
    "df.sample(2)"
   ]
  },
  {
   "cell_type": "markdown",
   "metadata": {
    "id": "1FsCXHwdgFyU"
   },
   "source": [
    "- Посчитайте, какую долю от общего бюджета фильма составляет государственная поддержка."
   ]
  },
  {
   "cell_type": "code",
   "execution_count": 59,
   "metadata": {
    "id": "LV6qFuZLgFyV"
   },
   "outputs": [],
   "source": [
    "df['support_state'] = ((df['refundable_support'] + df['nonrefundable_support']) / df['budget'] * 100).astype(float).round(2)"
   ]
  },
  {
   "cell_type": "markdown",
   "metadata": {},
   "source": [
    "Добавлен столбец с процентом государственной поддержки.  \n",
    "Анамальных значений, к примеру, если процент поддержки переваливал бы за сотню или была бы нулевой, нет."
   ]
  },
  {
   "cell_type": "code",
   "execution_count": 60,
   "metadata": {
    "scrolled": true
   },
   "outputs": [
    {
     "data": {
      "text/plain": [
       "0"
      ]
     },
     "execution_count": 60,
     "metadata": {},
     "output_type": "execute_result"
    }
   ],
   "source": [
    "# Количество фильмов с поддержкой более 100%\n",
    "df[(df['support_state'] == 0) | (df['support_state'] > 100)]['title'].count()"
   ]
  },
  {
   "cell_type": "markdown",
   "metadata": {},
   "source": [
    "Итого: были добавлены столбцы с годом фильма, для разбиения данных по годам, главным жанром, главным режиссером и % государственной поддержки. \n",
    "Столбцы с главным жанром и режиссеров позволят понять, какие фильмы более популярные, и чьи работы имею куда больший успех. А также, как влияет на успех фильма, государственная поддержка."
   ]
  },
  {
   "cell_type": "markdown",
   "metadata": {},
   "source": [
    "#### Вывод: \n",
    "По результатам выполнения предобработки данных: \n",
    "- изменены типы данных у необходимых столбцов\n",
    "- Изучены пропуски, и как они могут повлиять на анализ\n",
    "- Проверены дубликаты строк\n",
    "- Изучены количественные и категориальные переменные\n",
    "- Добавлены новые столбцы, для более детального анализа"
   ]
  },
  {
   "cell_type": "markdown",
   "metadata": {
    "id": "6t4EukPLgFyV"
   },
   "source": [
    "### Шаг 3. Проведение исследовательского анализа данных"
   ]
  },
  {
   "cell_type": "markdown",
   "metadata": {
    "id": "vAH8WCzugFyV"
   },
   "source": [
    "#### кол-во фильмов в прокате\n",
    "- Посмотрите, сколько фильмов выходило в прокат каждый год. Обратите внимание, что данные о прокате в кинотеатрах известны не для всех фильмов. Посчитайте, какую долю составляют фильмы с указанной информацией о прокате в кинотеатрах. Проанализируйте, как эта доля менялась по годам. Сделайте вывод о том, какой период полнее всего представлен в данных."
   ]
  },
  {
   "cell_type": "markdown",
   "metadata": {
    "id": "ABeV47y7gFyW",
    "scrolled": true
   },
   "source": [
    "Создание сводных таблиц с информацией о общем количестве фильмов по годам, и количества, для скольки фильмов имеется информация о сборах."
   ]
  },
  {
   "cell_type": "code",
   "execution_count": 61,
   "metadata": {
    "scrolled": true
   },
   "outputs": [],
   "source": [
    "df_year_count_1 = df.groupby(['year'])['pu_number'].agg('count').reset_index() # Общее кол-во\n",
    "df_year_count_2 = df.groupby(['year'])['box_office'].agg('count').reset_index() # Кол-во со сборами"
   ]
  },
  {
   "cell_type": "markdown",
   "metadata": {},
   "source": [
    "Объединение данных, с последующим построением графика"
   ]
  },
  {
   "cell_type": "code",
   "execution_count": 62,
   "metadata": {
    "scrolled": true
   },
   "outputs": [],
   "source": [
    "df_year_count = df_year_count_1.merge(df_year_count_2,on='year',how='left') # объединение таблиц\n",
    "df_year_count['mean'] = (df_year_count['box_office'] / df_year_count['pu_number'] * 100).round(2) # подсчет среднего значения по годам"
   ]
  },
  {
   "cell_type": "code",
   "execution_count": 63,
   "metadata": {
    "scrolled": true
   },
   "outputs": [
    {
     "data": {
      "image/png": "[encoded data removed]",
      "text/plain": [
       "<Figure size 1440x720 with 1 Axes>"
      ]
     },
     "metadata": {
      "needs_background": "light"
     },
     "output_type": "display_data"
    }
   ],
   "source": [
    "# Вычисление медианы и среднего значения выручки\n",
    "avg = float(df_year_count['pu_number'].mean())\n",
    "avg_ = float(df_year_count['box_office'].mean())\n",
    "\n",
    "# Настройка размера фигуры\n",
    "plt.figure(figsize=(20, 10))\n",
    "# Построение столбчатой диаграммы с использованием данных из Dataframe \n",
    "ax = sns.barplot(data=df_year_count,x='year', y='pu_number',label='общее количество фильмов',color='blue')\n",
    "sns.barplot(data=df_year_count,x='year', y='box_office',ax=ax,label='количество фильмов, с деталями выхода в прокат',color='orange')\n",
    "# процентное соотношение \n",
    "for i, mean in enumerate(df_year_count['mean']):\n",
    "    ax.text(i, mean+0.5, round(mean, 1), horizontalalignment='center')\n",
    "# Установка заголовка графика\n",
    "plt.title('Столбчатая диаграмма отношения общего количества фильмов к фильмам с информацией о прокате')\n",
    "#Добавление подписи для оси у \n",
    "plt.ylabel('Количество фильмов')\n",
    "# Добавление порииси аля оси Х\n",
    "plt.xlabel('Год')\n",
    "# Включение сетки на графике, серого цвета с прозрачностью 0.5 для обеих осей\n",
    "plt.grid(color='grey', axis='both', alpha=0.5)\n",
    "# Добавление горизонтальной линии для медианного значения с красным цветом и пунктирной линией \n",
    "plt.axhline(y=avg, label='Среднее количество фильмов', color='r', linestyle='-')\n",
    "# Добавление горизонтальной линии для среднего значения с синим цветом\n",
    "plt.axhline (y=avg_, label='Среднее количество фильмов, с деталями выхода в прокат', color='b')\n",
    "# Отображение легенды для горизонтальных линий\n",
    "plt.legend()\n",
    "# Показ графика\n",
    "plt.show()"
   ]
  },
  {
   "cell_type": "markdown",
   "metadata": {},
   "source": [
    "Вывод: между общим количеством выходящих в прокат фильмов, не прослеживается тенденции к росту или увеличением количества, по мере времени.  \n",
    "В 2010 наибольшее количество фильмов вышло в прокат. 2017 год является наименьшим по выходу фильмов в прокат.  \n",
    "Процентное соотношение фильмов, по которым есть информация о сборах, с каждым годом увеличивается. Если в 2010 году было известно о сборах только для 10% фильмов, то начиная с 2015 года, это значение не опускается ниже среднего и имеет значение 53-70%. "
   ]
  },
  {
   "cell_type": "markdown",
   "metadata": {
    "id": "BEOdcIrIgFyW"
   },
   "source": [
    "#### экстремальные значения \n",
    "- Изучите, как менялась динамика проката по годам. В каком году сумма сборов была минимальной? А максимальной?"
   ]
  },
  {
   "cell_type": "markdown",
   "metadata": {},
   "source": [
    "Создание таблицы с суммой сборов по годам."
   ]
  },
  {
   "cell_type": "code",
   "execution_count": 64,
   "metadata": {
    "id": "tfEhofYvgFyX"
   },
   "outputs": [
    {
     "data": {
      "text/html": [
       "<div>\n",
       "<style scoped>\n",
       "    .dataframe tbody tr th:only-of-type {\n",
       "        vertical-align: middle;\n",
       "    }\n",
       "\n",
       "    .dataframe tbody tr th {\n",
       "        vertical-align: top;\n",
       "    }\n",
       "\n",
       "    .dataframe thead th {\n",
       "        text-align: right;\n",
       "    }\n",
       "</style>\n",
       "<table border=\"1\" class=\"dataframe\">\n",
       "  <thead>\n",
       "    <tr style=\"text-align: right;\">\n",
       "      <th></th>\n",
       "      <th>year</th>\n",
       "      <th>sum</th>\n",
       "      <th>mlrd</th>\n",
       "    </tr>\n",
       "  </thead>\n",
       "  <tbody>\n",
       "    <tr>\n",
       "      <th>0</th>\n",
       "      <td>2010</td>\n",
       "      <td>2428654</td>\n",
       "      <td>0.002429</td>\n",
       "    </tr>\n",
       "    <tr>\n",
       "      <th>1</th>\n",
       "      <td>2011</td>\n",
       "      <td>14102765</td>\n",
       "      <td>0.014103</td>\n",
       "    </tr>\n",
       "    <tr>\n",
       "      <th>2</th>\n",
       "      <td>2012</td>\n",
       "      <td>6911073</td>\n",
       "      <td>0.006911</td>\n",
       "    </tr>\n",
       "    <tr>\n",
       "      <th>3</th>\n",
       "      <td>2013</td>\n",
       "      <td>29799704</td>\n",
       "      <td>0.0298</td>\n",
       "    </tr>\n",
       "    <tr>\n",
       "      <th>4</th>\n",
       "      <td>2014</td>\n",
       "      <td>7434717823</td>\n",
       "      <td>7.434718</td>\n",
       "    </tr>\n",
       "    <tr>\n",
       "      <th>5</th>\n",
       "      <td>2015</td>\n",
       "      <td>38527827067</td>\n",
       "      <td>38.527827</td>\n",
       "    </tr>\n",
       "    <tr>\n",
       "      <th>6</th>\n",
       "      <td>2016</td>\n",
       "      <td>44975581068</td>\n",
       "      <td>44.975581</td>\n",
       "    </tr>\n",
       "    <tr>\n",
       "      <th>7</th>\n",
       "      <td>2017</td>\n",
       "      <td>44031948234</td>\n",
       "      <td>44.031948</td>\n",
       "    </tr>\n",
       "    <tr>\n",
       "      <th>8</th>\n",
       "      <td>2018</td>\n",
       "      <td>46980195992</td>\n",
       "      <td>46.980196</td>\n",
       "    </tr>\n",
       "    <tr>\n",
       "      <th>9</th>\n",
       "      <td>2019</td>\n",
       "      <td>47172558320</td>\n",
       "      <td>47.172558</td>\n",
       "    </tr>\n",
       "  </tbody>\n",
       "</table>\n",
       "</div>"
      ],
      "text/plain": [
       "   year          sum       mlrd\n",
       "0  2010      2428654   0.002429\n",
       "1  2011     14102765   0.014103\n",
       "2  2012      6911073   0.006911\n",
       "3  2013     29799704     0.0298\n",
       "4  2014   7434717823   7.434718\n",
       "5  2015  38527827067  38.527827\n",
       "6  2016  44975581068  44.975581\n",
       "7  2017  44031948234  44.031948\n",
       "8  2018  46980195992  46.980196\n",
       "9  2019  47172558320  47.172558"
      ]
     },
     "execution_count": 64,
     "metadata": {},
     "output_type": "execute_result"
    }
   ],
   "source": [
    "df_year_sum = df.groupby(['year'])['box_office'].agg(['sum']).reset_index()\n",
    "df_year_sum['mlrd'] = df_year_sum['sum'] / 1000000000\n",
    "df_year_sum"
   ]
  },
  {
   "cell_type": "markdown",
   "metadata": {},
   "source": [
    "Можно отследить положительную динамику роста сборов в прокате, по годам.  \n",
    "Минимальный по сборам год - 2010, максимальный - 2019.  \n",
    "Минимальная сумму за историю проката набрал фильм \"Жестокий романс\", прибыли этого фильма составляет 40 рублей, премьера фильма - 2013 год.  \n",
    "Самый успешный фильм за историю проката - \"Холоп\", этот фильм принес прибыли около 3 млрд рублей, премьера фильма - 2019 год."
   ]
  },
  {
   "cell_type": "code",
   "execution_count": 65,
   "metadata": {},
   "outputs": [
    {
     "data": {
      "text/plain": [
       "'Холоп'"
      ]
     },
     "execution_count": 65,
     "metadata": {},
     "output_type": "execute_result"
    }
   ],
   "source": [
    "formatted_data = df[df['box_office_mln'] > 3000]['title'].to_string(index=False)\n",
    "formatted_data"
   ]
  },
  {
   "cell_type": "code",
   "execution_count": 66,
   "metadata": {
    "scrolled": true
   },
   "outputs": [
    {
     "data": {
      "image/png": "[encoded data removed]",
      "text/plain": [
       "<Figure size 864x432 with 1 Axes>"
      ]
     },
     "metadata": {
      "needs_background": "light"
     },
     "output_type": "display_data"
    }
   ],
   "source": [
    "df_year_sum.plot(x='year', y='mlrd', style='o-',figsize=(12,6),color='tab:red',label='Погодовая сумма сборов')\n",
    "#plt.yticks(np.arange(0, max(df_year_sum['max'])+100, 100.0));\n",
    "plt.xticks(np.arange(min(df_year_sum['year']), max(df_year_sum['year'])+1, 1.0),);\n",
    "plt.grid(True,axis='both',linestyle='--', linewidth=0.5)\n",
    "\n",
    "plt.xlabel('Год')\n",
    "plt.ylabel('Общая сумма сборов(млрд)')\n",
    "# название диаграммы\n",
    "plt.title('Динамика проката, в зависимости от года')\n",
    "plt.legend()\n",
    "\n",
    "plt.show()"
   ]
  },
  {
   "cell_type": "markdown",
   "metadata": {},
   "source": [
    "Начиная с 2014 года можно наблюдать динамику увеличения общей суммы сборов.  \n",
    "Если еще в 2013 году общая сумма сборов составляла 29 млн, то к 2019 году эта цифра выросла до 47 млрд рублей.  \n",
    "В период 2013-2015 годов, резкий скачок по сборам. Далее, к 2019 году идет плавное замедление."
   ]
  },
  {
   "cell_type": "markdown",
   "metadata": {
    "id": "G-7qS-N-gFyY"
   },
   "source": [
    "#### средние показатели\n",
    "- С помощью сводной таблицы посчитайте среднюю и медианную сумму сборов для каждого года."
   ]
  },
  {
   "cell_type": "code",
   "execution_count": 67,
   "metadata": {},
   "outputs": [],
   "source": [
    "# функции для возврата среднего и медианного значений\n",
    "def my_mean(x): return (x.mean())\n",
    "def my_med(x): return (x.median())"
   ]
  },
  {
   "cell_type": "markdown",
   "metadata": {},
   "source": [
    "Создание таблицы по всем данным, которые имеют сборы более 0 и менее 500 млн (выборка без экстремальных значений)"
   ]
  },
  {
   "cell_type": "code",
   "execution_count": 68,
   "metadata": {
    "id": "jmp-rgg9gFyY"
   },
   "outputs": [
    {
     "data": {
      "text/html": [
       "<div>\n",
       "<style scoped>\n",
       "    .dataframe tbody tr th:only-of-type {\n",
       "        vertical-align: middle;\n",
       "    }\n",
       "\n",
       "    .dataframe tbody tr th {\n",
       "        vertical-align: top;\n",
       "    }\n",
       "\n",
       "    .dataframe thead th {\n",
       "        text-align: right;\n",
       "    }\n",
       "</style>\n",
       "<table border=\"1\" class=\"dataframe\">\n",
       "  <thead>\n",
       "    <tr style=\"text-align: right;\">\n",
       "      <th></th>\n",
       "      <th>year</th>\n",
       "      <th>count</th>\n",
       "      <th>my_mean</th>\n",
       "      <th>my_med</th>\n",
       "    </tr>\n",
       "  </thead>\n",
       "  <tbody>\n",
       "    <tr>\n",
       "      <th>0</th>\n",
       "      <td>2010</td>\n",
       "      <td>101</td>\n",
       "      <td>0.024046</td>\n",
       "      <td>0.00171</td>\n",
       "    </tr>\n",
       "    <tr>\n",
       "      <th>1</th>\n",
       "      <td>2011</td>\n",
       "      <td>109</td>\n",
       "      <td>0.129383</td>\n",
       "      <td>0.003</td>\n",
       "    </tr>\n",
       "    <tr>\n",
       "      <th>2</th>\n",
       "      <td>2012</td>\n",
       "      <td>122</td>\n",
       "      <td>0.056648</td>\n",
       "      <td>0.00611</td>\n",
       "    </tr>\n",
       "    <tr>\n",
       "      <th>3</th>\n",
       "      <td>2013</td>\n",
       "      <td>179</td>\n",
       "      <td>0.166479</td>\n",
       "      <td>0.00358</td>\n",
       "    </tr>\n",
       "    <tr>\n",
       "      <th>4</th>\n",
       "      <td>2014</td>\n",
       "      <td>268</td>\n",
       "      <td>14.617078</td>\n",
       "      <td>0.018885</td>\n",
       "    </tr>\n",
       "    <tr>\n",
       "      <th>5</th>\n",
       "      <td>2015</td>\n",
       "      <td>431</td>\n",
       "      <td>39.531616</td>\n",
       "      <td>4.280693</td>\n",
       "    </tr>\n",
       "    <tr>\n",
       "      <th>6</th>\n",
       "      <td>2016</td>\n",
       "      <td>491</td>\n",
       "      <td>37.384176</td>\n",
       "      <td>3.162713</td>\n",
       "    </tr>\n",
       "    <tr>\n",
       "      <th>7</th>\n",
       "      <td>2017</td>\n",
       "      <td>319</td>\n",
       "      <td>45.171555</td>\n",
       "      <td>7.304343</td>\n",
       "    </tr>\n",
       "    <tr>\n",
       "      <th>8</th>\n",
       "      <td>2018</td>\n",
       "      <td>441</td>\n",
       "      <td>45.693969</td>\n",
       "      <td>7.29261</td>\n",
       "    </tr>\n",
       "    <tr>\n",
       "      <th>9</th>\n",
       "      <td>2019</td>\n",
       "      <td>502</td>\n",
       "      <td>37.239484</td>\n",
       "      <td>4.170069</td>\n",
       "    </tr>\n",
       "  </tbody>\n",
       "</table>\n",
       "</div>"
      ],
      "text/plain": [
       "   year  count    my_mean    my_med\n",
       "0  2010    101   0.024046   0.00171\n",
       "1  2011    109   0.129383     0.003\n",
       "2  2012    122   0.056648   0.00611\n",
       "3  2013    179   0.166479   0.00358\n",
       "4  2014    268  14.617078  0.018885\n",
       "5  2015    431  39.531616  4.280693\n",
       "6  2016    491  37.384176  3.162713\n",
       "7  2017    319  45.171555  7.304343\n",
       "8  2018    441  45.693969   7.29261\n",
       "9  2019    502  37.239484  4.170069"
      ]
     },
     "execution_count": 68,
     "metadata": {},
     "output_type": "execute_result"
    }
   ],
   "source": [
    "df_year_mean = df[(df['box_office_mln'] > 0) & (df['box_office_mln'] < 500)].groupby(['year'])['box_office_mln'].agg(['count',my_mean,my_med]).reset_index()\n",
    "df_year_mean"
   ]
  },
  {
   "cell_type": "markdown",
   "metadata": {},
   "source": [
    "Создание таблицы с картинами, принесшими в российском прокате от 100 до 500 млн и дальнейшее построение графиков."
   ]
  },
  {
   "cell_type": "code",
   "execution_count": 69,
   "metadata": {},
   "outputs": [],
   "source": [
    "df_year_mean_line = df[(df['box_office_mln'] > 100) & (df['box_office_mln'] < 500)].groupby(['year'])['box_office_mln'].agg(['count',my_mean,my_med]).reset_index()"
   ]
  },
  {
   "cell_type": "code",
   "execution_count": 70,
   "metadata": {
    "scrolled": true
   },
   "outputs": [
    {
     "data": {
      "image/png": "[encoded data removed]",
      "text/plain": [
       "<Figure size 864x432 with 1 Axes>"
      ]
     },
     "metadata": {
      "needs_background": "light"
     },
     "output_type": "display_data"
    },
    {
     "data": {
      "image/png": "[encoded data removed]",
      "text/plain": [
       "<Figure size 432x216 with 1 Axes>"
      ]
     },
     "metadata": {
      "needs_background": "light"
     },
     "output_type": "display_data"
    }
   ],
   "source": [
    "ax = df_year_mean.plot(x='year', y='my_mean', style='o-',figsize=(12,6),color='tab:red',label='Среднее');\n",
    "df_year_mean.plot(x='year', y='my_med', style='o-',figsize=(12,6),label='Медиана',ax=ax);\n",
    "plt.xticks(np.arange(min(df_year_mean['year']), max(df_year_mean['year'])+1, 1.0),);\n",
    "plt.yticks(np.arange(0, max(df_year_mean['my_mean'])+10, 5.0));\n",
    "plt.grid(True,axis='both',linestyle='--', linewidth=0.5);\n",
    "\n",
    "plt.xlabel('Год');\n",
    "plt.ylabel('средняя сумма, которую принес фильм в прокате (млн)');\n",
    "# название диаграммы\n",
    "plt.title('Динамика проката по средним показателям, в зависимости от года');\n",
    "plt.show()\n",
    "\n",
    "df_year_mean_line.plot(x='year', y='count', style='o-',figsize=(6,3),color='tab:brown',label='восходящая');\n",
    "plt.yticks(np.arange(0, max(df_year_mean_line['count'])+10, 5.0));\n",
    "plt.grid(True,axis='both',linestyle='--', linewidth=0.5);\n",
    "plt.xlabel('Год');\n",
    "plt.ylabel('кол-во фильмов');\n",
    "# название диаграммы\n",
    "plt.title('Динамика увеличения картин, собравших от 100 до 500 млн');\n",
    "plt.show()"
   ]
  },
  {
   "cell_type": "markdown",
   "metadata": {},
   "source": [
    "По диаграмме \"динамика проката, в зависимости от года\" хорошо видно, как с 2014 года стали появляться картины, приносящие от 1 млрд рублей.  \n",
    "Для более точной картины по динамике средних показателей, в текущий выборке взяты фильмы, которые собрали до 500 млн.  \n",
    "Медиана практически повторяет динамику средней линии. Увеличение суммы сборов, начиная с 2014 года, затем небольшой спад в период 2018-2019 годов.\n",
    "Наглядно видно, как с 2014 года увеличивается количество картин, которые приносят от 100 млн в прокате."
   ]
  },
  {
   "cell_type": "markdown",
   "metadata": {
    "id": "Ok89WFwJgFyZ"
   },
   "source": [
    "#### возрастное ограничение\n",
    "- Определите, влияет ли возрастное ограничение аудитории («6+», «12+», «16+», «18+» и т. д.) на сборы фильма в прокате в период с 2015 по 2019 год? Фильмы с каким возрастным ограничением собрали больше всего денег в прокате? Меняется ли картина в зависимости от года? Если да, предположите, с чем это может быть связано."
   ]
  },
  {
   "cell_type": "markdown",
   "metadata": {},
   "source": [
    "Создание функции, которая возвращает чистую категорию фильмов, для удобного проведения анализа по категориям"
   ]
  },
  {
   "cell_type": "code",
   "execution_count": 71,
   "metadata": {},
   "outputs": [],
   "source": [
    "def rename_age(column):\n",
    "    x = column.split()\n",
    "    if len(x[0]) == 5:\n",
    "        return x[0][1:3]\n",
    "    return x[0][1:2]"
   ]
  },
  {
   "cell_type": "code",
   "execution_count": 72,
   "metadata": {
    "scrolled": true
   },
   "outputs": [],
   "source": [
    "df['age_restriction'] = df['age_restriction'].apply(rename_age)"
   ]
  },
  {
   "cell_type": "code",
   "execution_count": 73,
   "metadata": {},
   "outputs": [],
   "source": [
    "df['age_restriction'] = df['age_restriction'].astype('int')\n"
   ]
  },
  {
   "cell_type": "markdown",
   "metadata": {},
   "source": [
    "В столбцах, с рейтингом 0+, недостаточно данных для построения графика"
   ]
  },
  {
   "cell_type": "code",
   "execution_count": 74,
   "metadata": {
    "id": "jsSbEqfjgFya",
    "scrolled": true
   },
   "outputs": [
    {
     "data": {
      "text/html": [
       "<div>\n",
       "<style scoped>\n",
       "    .dataframe tbody tr th:only-of-type {\n",
       "        vertical-align: middle;\n",
       "    }\n",
       "\n",
       "    .dataframe tbody tr th {\n",
       "        vertical-align: top;\n",
       "    }\n",
       "\n",
       "    .dataframe thead th {\n",
       "        text-align: right;\n",
       "    }\n",
       "</style>\n",
       "<table border=\"1\" class=\"dataframe\">\n",
       "  <thead>\n",
       "    <tr style=\"text-align: right;\">\n",
       "      <th></th>\n",
       "      <th>age_restriction</th>\n",
       "      <th>year</th>\n",
       "      <th>count</th>\n",
       "      <th>median</th>\n",
       "      <th>mean</th>\n",
       "    </tr>\n",
       "  </thead>\n",
       "  <tbody>\n",
       "    <tr>\n",
       "      <th>0</th>\n",
       "      <td>0</td>\n",
       "      <td>2015</td>\n",
       "      <td>38</td>\n",
       "      <td>2.949808</td>\n",
       "      <td>9.97512</td>\n",
       "    </tr>\n",
       "    <tr>\n",
       "      <th>1</th>\n",
       "      <td>0</td>\n",
       "      <td>2016</td>\n",
       "      <td>40</td>\n",
       "      <td>2.687779</td>\n",
       "      <td>3.750858</td>\n",
       "    </tr>\n",
       "    <tr>\n",
       "      <th>2</th>\n",
       "      <td>6</td>\n",
       "      <td>2015</td>\n",
       "      <td>52</td>\n",
       "      <td>19.513253</td>\n",
       "      <td>163.794458</td>\n",
       "    </tr>\n",
       "    <tr>\n",
       "      <th>3</th>\n",
       "      <td>6</td>\n",
       "      <td>2016</td>\n",
       "      <td>69</td>\n",
       "      <td>2.66083</td>\n",
       "      <td>154.360733</td>\n",
       "    </tr>\n",
       "    <tr>\n",
       "      <th>4</th>\n",
       "      <td>6</td>\n",
       "      <td>2017</td>\n",
       "      <td>42</td>\n",
       "      <td>46.190828</td>\n",
       "      <td>207.309898</td>\n",
       "    </tr>\n",
       "    <tr>\n",
       "      <th>5</th>\n",
       "      <td>6</td>\n",
       "      <td>2018</td>\n",
       "      <td>65</td>\n",
       "      <td>14.458669</td>\n",
       "      <td>152.519373</td>\n",
       "    </tr>\n",
       "    <tr>\n",
       "      <th>6</th>\n",
       "      <td>6</td>\n",
       "      <td>2019</td>\n",
       "      <td>79</td>\n",
       "      <td>12.175713</td>\n",
       "      <td>156.5993</td>\n",
       "    </tr>\n",
       "    <tr>\n",
       "      <th>7</th>\n",
       "      <td>12</td>\n",
       "      <td>2015</td>\n",
       "      <td>71</td>\n",
       "      <td>15.351562</td>\n",
       "      <td>189.007177</td>\n",
       "    </tr>\n",
       "    <tr>\n",
       "      <th>8</th>\n",
       "      <td>12</td>\n",
       "      <td>2016</td>\n",
       "      <td>80</td>\n",
       "      <td>4.225478</td>\n",
       "      <td>139.384526</td>\n",
       "    </tr>\n",
       "    <tr>\n",
       "      <th>9</th>\n",
       "      <td>12</td>\n",
       "      <td>2017</td>\n",
       "      <td>40</td>\n",
       "      <td>8.83887</td>\n",
       "      <td>181.525565</td>\n",
       "    </tr>\n",
       "    <tr>\n",
       "      <th>10</th>\n",
       "      <td>12</td>\n",
       "      <td>2018</td>\n",
       "      <td>65</td>\n",
       "      <td>8.931965</td>\n",
       "      <td>184.546099</td>\n",
       "    </tr>\n",
       "    <tr>\n",
       "      <th>11</th>\n",
       "      <td>12</td>\n",
       "      <td>2019</td>\n",
       "      <td>84</td>\n",
       "      <td>3.403799</td>\n",
       "      <td>142.410661</td>\n",
       "    </tr>\n",
       "    <tr>\n",
       "      <th>12</th>\n",
       "      <td>16</td>\n",
       "      <td>2015</td>\n",
       "      <td>164</td>\n",
       "      <td>4.445025</td>\n",
       "      <td>65.741467</td>\n",
       "    </tr>\n",
       "    <tr>\n",
       "      <th>13</th>\n",
       "      <td>16</td>\n",
       "      <td>2016</td>\n",
       "      <td>179</td>\n",
       "      <td>5.085192</td>\n",
       "      <td>90.670192</td>\n",
       "    </tr>\n",
       "    <tr>\n",
       "      <th>14</th>\n",
       "      <td>16</td>\n",
       "      <td>2017</td>\n",
       "      <td>119</td>\n",
       "      <td>9.580738</td>\n",
       "      <td>152.796768</td>\n",
       "    </tr>\n",
       "    <tr>\n",
       "      <th>15</th>\n",
       "      <td>16</td>\n",
       "      <td>2018</td>\n",
       "      <td>155</td>\n",
       "      <td>8.751895</td>\n",
       "      <td>105.021973</td>\n",
       "    </tr>\n",
       "    <tr>\n",
       "      <th>16</th>\n",
       "      <td>16</td>\n",
       "      <td>2019</td>\n",
       "      <td>177</td>\n",
       "      <td>3.203581</td>\n",
       "      <td>71.746756</td>\n",
       "    </tr>\n",
       "    <tr>\n",
       "      <th>17</th>\n",
       "      <td>18</td>\n",
       "      <td>2015</td>\n",
       "      <td>131</td>\n",
       "      <td>4.654761</td>\n",
       "      <td>41.453058</td>\n",
       "    </tr>\n",
       "    <tr>\n",
       "      <th>18</th>\n",
       "      <td>18</td>\n",
       "      <td>2016</td>\n",
       "      <td>151</td>\n",
       "      <td>6.107001</td>\n",
       "      <td>44.992912</td>\n",
       "    </tr>\n",
       "    <tr>\n",
       "      <th>19</th>\n",
       "      <td>18</td>\n",
       "      <td>2017</td>\n",
       "      <td>147</td>\n",
       "      <td>8.212677</td>\n",
       "      <td>65.656433</td>\n",
       "    </tr>\n",
       "    <tr>\n",
       "      <th>20</th>\n",
       "      <td>18</td>\n",
       "      <td>2018</td>\n",
       "      <td>179</td>\n",
       "      <td>7.179466</td>\n",
       "      <td>48.939025</td>\n",
       "    </tr>\n",
       "    <tr>\n",
       "      <th>21</th>\n",
       "      <td>18</td>\n",
       "      <td>2019</td>\n",
       "      <td>183</td>\n",
       "      <td>5.603216</td>\n",
       "      <td>55.310362</td>\n",
       "    </tr>\n",
       "  </tbody>\n",
       "</table>\n",
       "</div>"
      ],
      "text/plain": [
       "    age_restriction  year  count     median        mean\n",
       "0                 0  2015     38   2.949808     9.97512\n",
       "1                 0  2016     40   2.687779    3.750858\n",
       "2                 6  2015     52  19.513253  163.794458\n",
       "3                 6  2016     69    2.66083  154.360733\n",
       "4                 6  2017     42  46.190828  207.309898\n",
       "5                 6  2018     65  14.458669  152.519373\n",
       "6                 6  2019     79  12.175713    156.5993\n",
       "7                12  2015     71  15.351562  189.007177\n",
       "8                12  2016     80   4.225478  139.384526\n",
       "9                12  2017     40    8.83887  181.525565\n",
       "10               12  2018     65   8.931965  184.546099\n",
       "11               12  2019     84   3.403799  142.410661\n",
       "12               16  2015    164   4.445025   65.741467\n",
       "13               16  2016    179   5.085192   90.670192\n",
       "14               16  2017    119   9.580738  152.796768\n",
       "15               16  2018    155   8.751895  105.021973\n",
       "16               16  2019    177   3.203581   71.746756\n",
       "17               18  2015    131   4.654761   41.453058\n",
       "18               18  2016    151   6.107001   44.992912\n",
       "19               18  2017    147   8.212677   65.656433\n",
       "20               18  2018    179   7.179466   48.939025\n",
       "21               18  2019    183   5.603216   55.310362"
      ]
     },
     "execution_count": 74,
     "metadata": {},
     "output_type": "execute_result"
    }
   ],
   "source": [
    "# создание сводной таблицы, с количеством и средними значениями сборов каждой категории по годам\n",
    "df_age_group = (df[(df['year'] >= 2015) & (df['box_office_mln'] > 0)]\n",
    "                .groupby(['age_restriction','year'])['box_office_mln']\n",
    "                .agg(['count','median','mean'])\n",
    "                .reset_index()\n",
    "                .sort_values(by=['age_restriction','year'])\n",
    "               )\n",
    "df_age_group = df_age_group[df_age_group['count'] > 30].reset_index(drop=True)\n",
    "df_age_group"
   ]
  },
  {
   "cell_type": "markdown",
   "metadata": {},
   "source": [
    "Построение графика для количества фильмов в каждой возрастной категории, и среднего количества средств, сколько они собрали в прокате."
   ]
  },
  {
   "cell_type": "code",
   "execution_count": 75,
   "metadata": {
    "jupyter": {
     "source_hidden": true
    }
   },
   "outputs": [],
   "source": [
    "def plot_create(column,name_title,min_=10,max_=6):\n",
    "    fig, ax = plt.subplots()\n",
    "    for age_group in df_age_group['age_restriction'].unique():\n",
    "        df_age_group[df_age_group['age_restriction'] == age_group].plot(\n",
    "            x='year', \n",
    "            y=column,\n",
    "            style='o-', \n",
    "            ax=ax, \n",
    "            figsize=(min_,max_),\n",
    "            label=age_group\n",
    "        )\n",
    "        \n",
    "        plt.legend\n",
    "        # Установка заголовка графика\n",
    "        plt.title(f'Линейный график для {name_title} в возрастной категории по годам')\n",
    "        #Добавление подписи для оси у \n",
    "        plt.ylabel(name_title)\n",
    "        # Добавление порииси аля оси Х\n",
    "        plt.xlabel('Год')\n",
    "        # Включение сетки на графике, серого цвета с прозрачностью 0.5 для обеих осей\n",
    "        plt.grid(color='grey', axis='both', alpha=0.5)\n",
    "        plt.xticks(np.arange(min(df_age_group['year']), max(df_age_group['year'])+1, 1.0),);\n",
    "        \n",
    "    plt.show()"
   ]
  },
  {
   "cell_type": "code",
   "execution_count": 76,
   "metadata": {
    "scrolled": true
   },
   "outputs": [
    {
     "data": {
      "image/png": "[encoded data removed]",
      "text/plain": [
       "<Figure size 720x432 with 1 Axes>"
      ]
     },
     "metadata": {
      "needs_background": "light"
     },
     "output_type": "display_data"
    }
   ],
   "source": [
    "plot_create('count','\"количество фильмов\"')"
   ]
  },
  {
   "cell_type": "code",
   "execution_count": 77,
   "metadata": {
    "scrolled": true
   },
   "outputs": [
    {
     "data": {
      "image/png": "[encoded data removed]",
      "text/plain": [
       "<Figure size 720x432 with 1 Axes>"
      ]
     },
     "metadata": {
      "needs_background": "light"
     },
     "output_type": "display_data"
    }
   ],
   "source": [
    "plot_create('median','\"медианная сумма фильмов в возрастной категории\"')"
   ]
  },
  {
   "cell_type": "code",
   "execution_count": 78,
   "metadata": {},
   "outputs": [
    {
     "data": {
      "text/plain": [
       "main_genre\n",
       "unknown            6\n",
       "боевик             1\n",
       "документальный     2\n",
       "драма              1\n",
       "комедия            3\n",
       "мультфильм        25\n",
       "приключения        2\n",
       "семейный           1\n",
       "фэнтези            1\n",
       "Name: main_genre, dtype: int64"
      ]
     },
     "execution_count": 78,
     "metadata": {},
     "output_type": "execute_result"
    }
   ],
   "source": [
    "# являются ли картины 6+, мультиками\n",
    "df[(df['year'] == 2017) & (df['box_office_mln'] > 0) & (df['age_restriction'] == 6)].groupby(['main_genre'])['main_genre'].agg('count')"
   ]
  },
  {
   "cell_type": "markdown",
   "metadata": {},
   "source": [
    "Итого: Наибольшее количество фильмов, вышедших в прокат, имеют категорию 16+ и 18+.  \n",
    "Фильмы с рейтингом 6+, хоть их было и мало. В сравнении с категориями 16+ и 18+, в каждом году их количество примерно в 3-4 раза меньше.  \n",
    "Однако, во все года, кроме 2016 (видимо, было затишье перед бурей), они лидируют в среднем показателе кассовых сборов.  \n",
    "В 2017 году выходит более всего картин, имеющих большой успех. Это ярко выражено для категории 6+, менее ярко выражено для картин 12+, 16+ и 18+.  \n",
    "Для фильмов 12+, 16+ и 18+ прослеживается плавный рост к 2017 год, и плавный спад к 2019 году. Эти категории находятся примерно на одном месте по сборам."
   ]
  },
  {
   "cell_type": "markdown",
   "metadata": {},
   "source": [
    "#### Вывод: \n",
    "С 2014 года можно наблюдать положительную динамику роста суммарных кассовых сборов фильмов, и в эти же года, полнота данных о сборах составляет наибольший процент.  \n",
    "Также в России куда большую популярность имеют картины с возрастным ограничение 6+ и в подавляющем большинстве, эти картины являются мультфильмами.  \n",
    "Хорошие 6+ мультфильмы охватывают наибольшее количество аудитории, т.к. интересна и маленьким детям, и подросткам, и даже взрослым, потому что как правило, в этих мультфильмах есть глубокий посыл и проблемный вопрос, который прослеживается в жизни людей каждой культуры."
   ]
  },
  {
   "cell_type": "markdown",
   "metadata": {
    "id": "l_Kg6Ku4gFya"
   },
   "source": [
    "### Шаг 4. Исследуйте фильмы, которые получили государственную поддержку\n",
    "\n",
    "На этом этапе нет конкретных инструкций и заданий — поищите интересные закономерности в данных. Посмотрите, сколько выделяют средств на поддержку кино. Проверьте, хорошо ли окупаются такие фильмы, какой у них рейтинг."
   ]
  },
  {
   "cell_type": "markdown",
   "metadata": {},
   "source": [
    "Для анализа использованы те данные, по которым имеется информация о поддержке со стороны государства  \n",
    "Среди фильмов, вышедших в прокат, в период 2010-2019 г., финансовую поддержку получили 4,5% фильмов (332 фильма).  \n",
    "К данному этапу, количество данных строк составляет 304"
   ]
  },
  {
   "cell_type": "code",
   "execution_count": 79,
   "metadata": {},
   "outputs": [],
   "source": [
    "df_state = df[df['budget'] > 0].reset_index(drop=True)"
   ]
  },
  {
   "cell_type": "code",
   "execution_count": 80,
   "metadata": {},
   "outputs": [
    {
     "data": {
      "text/plain": [
       "(304, 24)"
      ]
     },
     "execution_count": 80,
     "metadata": {},
     "output_type": "execute_result"
    }
   ],
   "source": [
    "# количество строк с финансированием от гос-ва\n",
    "df_state.shape"
   ]
  },
  {
   "cell_type": "code",
   "execution_count": 81,
   "metadata": {
    "scrolled": true
   },
   "outputs": [
    {
     "name": "stdout",
     "output_type": "stream",
     "text": [
      "<class 'pandas.core.frame.DataFrame'>\n",
      "RangeIndex: 304 entries, 0 to 303\n",
      "Data columns (total 24 columns):\n",
      " #   Column                     Non-Null Count  Dtype         \n",
      "---  ------                     --------------  -----         \n",
      " 0   title                      304 non-null    object        \n",
      " 1   pu_number                  304 non-null    int64         \n",
      " 2   show_start_date            304 non-null    datetime64[ns]\n",
      " 3   type                       304 non-null    object        \n",
      " 4   film_studio                304 non-null    object        \n",
      " 5   production_country         304 non-null    object        \n",
      " 6   director                   304 non-null    object        \n",
      " 7   producer                   304 non-null    object        \n",
      " 8   age_restriction            304 non-null    int64         \n",
      " 9   refundable_support         304 non-null    Int64         \n",
      " 10  nonrefundable_support      304 non-null    Int64         \n",
      " 11  budget                     304 non-null    Int64         \n",
      " 12  financing_source           304 non-null    object        \n",
      " 13  ratings                    304 non-null    float64       \n",
      " 14  genres                     304 non-null    object        \n",
      " 15  box_office                 291 non-null    Int64         \n",
      " 16  budget_mln                 304 non-null    Float64       \n",
      " 17  nonrefundable_support_mln  304 non-null    Float64       \n",
      " 18  refundable_support_mln     304 non-null    Float64       \n",
      " 19  box_office_mln             291 non-null    Float64       \n",
      " 20  year                       304 non-null    int64         \n",
      " 21  main_director              304 non-null    object        \n",
      " 22  main_genre                 304 non-null    object        \n",
      " 23  support_state              304 non-null    float64       \n",
      "dtypes: Float64(4), Int64(4), datetime64[ns](1), float64(2), int64(3), object(10)\n",
      "memory usage: 59.5+ KB\n"
     ]
    }
   ],
   "source": [
    "df_state.info()"
   ]
  },
  {
   "cell_type": "markdown",
   "metadata": {},
   "source": [
    "Обработка пропусков"
   ]
  },
  {
   "cell_type": "code",
   "execution_count": 82,
   "metadata": {},
   "outputs": [],
   "source": [
    "df_state = df_state.dropna(subset=['box_office']).reset_index(drop=True)"
   ]
  },
  {
   "cell_type": "code",
   "execution_count": 83,
   "metadata": {},
   "outputs": [
    {
     "data": {
      "text/plain": [
       "(291, 24)"
      ]
     },
     "execution_count": 83,
     "metadata": {},
     "output_type": "execute_result"
    }
   ],
   "source": [
    "# количество строк с финансированием от гос-ва после чистки\n",
    "df_state.shape"
   ]
  },
  {
   "cell_type": "markdown",
   "metadata": {},
   "source": [
    "#### 1 этап - вопрос\n",
    "-Какой процент средств, в бюджете фильмов, составляет гос. поддержка по годам"
   ]
  },
  {
   "cell_type": "code",
   "execution_count": 84,
   "metadata": {},
   "outputs": [
    {
     "data": {
      "text/html": [
       "<div>\n",
       "<style scoped>\n",
       "    .dataframe tbody tr th:only-of-type {\n",
       "        vertical-align: middle;\n",
       "    }\n",
       "\n",
       "    .dataframe tbody tr th {\n",
       "        vertical-align: top;\n",
       "    }\n",
       "\n",
       "    .dataframe thead th {\n",
       "        text-align: right;\n",
       "    }\n",
       "</style>\n",
       "<table border=\"1\" class=\"dataframe\">\n",
       "  <thead>\n",
       "    <tr style=\"text-align: right;\">\n",
       "      <th></th>\n",
       "      <th>count</th>\n",
       "      <th>median</th>\n",
       "      <th>mean</th>\n",
       "    </tr>\n",
       "    <tr>\n",
       "      <th>year</th>\n",
       "      <th></th>\n",
       "      <th></th>\n",
       "      <th></th>\n",
       "    </tr>\n",
       "  </thead>\n",
       "  <tbody>\n",
       "    <tr>\n",
       "      <th>2013</th>\n",
       "      <td>2</td>\n",
       "      <td>47.320</td>\n",
       "      <td>47.320000</td>\n",
       "    </tr>\n",
       "    <tr>\n",
       "      <th>2014</th>\n",
       "      <td>15</td>\n",
       "      <td>53.940</td>\n",
       "      <td>52.140667</td>\n",
       "    </tr>\n",
       "    <tr>\n",
       "      <th>2015</th>\n",
       "      <td>79</td>\n",
       "      <td>62.040</td>\n",
       "      <td>52.828861</td>\n",
       "    </tr>\n",
       "    <tr>\n",
       "      <th>2016</th>\n",
       "      <td>55</td>\n",
       "      <td>63.520</td>\n",
       "      <td>54.701091</td>\n",
       "    </tr>\n",
       "    <tr>\n",
       "      <th>2017</th>\n",
       "      <td>33</td>\n",
       "      <td>47.700</td>\n",
       "      <td>48.150303</td>\n",
       "    </tr>\n",
       "    <tr>\n",
       "      <th>2018</th>\n",
       "      <td>51</td>\n",
       "      <td>55.650</td>\n",
       "      <td>51.361373</td>\n",
       "    </tr>\n",
       "    <tr>\n",
       "      <th>2019</th>\n",
       "      <td>56</td>\n",
       "      <td>57.385</td>\n",
       "      <td>50.626964</td>\n",
       "    </tr>\n",
       "  </tbody>\n",
       "</table>\n",
       "</div>"
      ],
      "text/plain": [
       "      count  median       mean\n",
       "year                          \n",
       "2013      2  47.320  47.320000\n",
       "2014     15  53.940  52.140667\n",
       "2015     79  62.040  52.828861\n",
       "2016     55  63.520  54.701091\n",
       "2017     33  47.700  48.150303\n",
       "2018     51  55.650  51.361373\n",
       "2019     56  57.385  50.626964"
      ]
     },
     "execution_count": 84,
     "metadata": {},
     "output_type": "execute_result"
    }
   ],
   "source": [
    "df_state.groupby(['year'])['support_state'].agg(['count','median','mean'])"
   ]
  },
  {
   "cell_type": "markdown",
   "metadata": {},
   "source": [
    "В среднем, у фильмов, не менее половины бюджета составляет государственная поддержка.  \n",
    "Данных за 2013 год недостаточно для включения их в выводы"
   ]
  },
  {
   "cell_type": "markdown",
   "metadata": {},
   "source": [
    "Разделение данных на категории по степени поддержки государства."
   ]
  },
  {
   "cell_type": "code",
   "execution_count": 85,
   "metadata": {},
   "outputs": [],
   "source": [
    "def support_group(sup,min=25,mean=75,big=100):\n",
    "    if sup <= min:\n",
    "        return 'малая'\n",
    "    if sup <= mean:\n",
    "        return 'средняя'\n",
    "    if sup <= big:\n",
    "        return 'крупная'"
   ]
  },
  {
   "cell_type": "code",
   "execution_count": 86,
   "metadata": {},
   "outputs": [
    {
     "data": {
      "text/plain": [
       "category_support\n",
       "крупная      1\n",
       "малая       25\n",
       "средняя    265\n",
       "Name: category_support, dtype: int64"
      ]
     },
     "execution_count": 86,
     "metadata": {},
     "output_type": "execute_result"
    }
   ],
   "source": [
    "df_state['category_support'] = df_state['support_state'].apply(support_group,args=(25,75,100,))\n",
    "df_state_group = df_state.groupby('category_support')['category_support'].agg('count')\n",
    "df_state_group"
   ]
  },
  {
   "cell_type": "markdown",
   "metadata": {},
   "source": [
    "Более 90% фильмов имеют поддержку от государства, более чем в 25% от общего бюджета.  \n",
    "Наибольшее количество фильмов было проспонсировано в 2015 году.  \n",
    "Наименее в 2014 и 2017 годах.  Можно предположить для 2017 года, что был риск спонсировать какие-то фильмы в год премьер легендарных мультфильмов, которые собрали огромное количество денег на кассовых сборах"
   ]
  },
  {
   "cell_type": "markdown",
   "metadata": {},
   "source": [
    "#### 2 этап - вопрос\n",
    "- Влияет ли эта гос поддрежка, а также, количество бюджета на рейтинг фильмов"
   ]
  },
  {
   "cell_type": "markdown",
   "metadata": {},
   "source": [
    "Разделим фильмы на 3 категории\n",
    "- малый бюджет\n",
    "- средний бюджет\n",
    "- крупный бюджет\n",
    "\n",
    "Посчитаем средний рейтинг для каждой группы "
   ]
  },
  {
   "cell_type": "code",
   "execution_count": 87,
   "metadata": {},
   "outputs": [
    {
     "name": "stdout",
     "output_type": "stream",
     "text": [
      "[ 14.46        51.63333333 109.21666667 500.        ]\n"
     ]
    }
   ],
   "source": [
    "df_state['budget_mln'] = df_state['budget_mln'].astype(float).round(2)\n",
    "\n",
    "df_state['category_budget'], bins = pd.qcut(\n",
    "    df_state['budget_mln']\n",
    "    ,q=3\n",
    "    ,labels=['малый бюджет','средний бюджет','крупный бюджет']\n",
    "    , retbins=True\n",
    ")\n",
    "print(bins)"
   ]
  },
  {
   "cell_type": "code",
   "execution_count": 88,
   "metadata": {},
   "outputs": [
    {
     "data": {
      "text/html": [
       "<div>\n",
       "<style scoped>\n",
       "    .dataframe tbody tr th:only-of-type {\n",
       "        vertical-align: middle;\n",
       "    }\n",
       "\n",
       "    .dataframe tbody tr th {\n",
       "        vertical-align: top;\n",
       "    }\n",
       "\n",
       "    .dataframe thead th {\n",
       "        text-align: right;\n",
       "    }\n",
       "</style>\n",
       "<table border=\"1\" class=\"dataframe\">\n",
       "  <thead>\n",
       "    <tr style=\"text-align: right;\">\n",
       "      <th></th>\n",
       "      <th>category_budget</th>\n",
       "      <th>count</th>\n",
       "      <th>mean</th>\n",
       "      <th>median</th>\n",
       "    </tr>\n",
       "  </thead>\n",
       "  <tbody>\n",
       "    <tr>\n",
       "      <th>0</th>\n",
       "      <td>малый бюджет</td>\n",
       "      <td>86</td>\n",
       "      <td>5.604651</td>\n",
       "      <td>6.0</td>\n",
       "    </tr>\n",
       "    <tr>\n",
       "      <th>1</th>\n",
       "      <td>средний бюджет</td>\n",
       "      <td>94</td>\n",
       "      <td>5.457447</td>\n",
       "      <td>6.0</td>\n",
       "    </tr>\n",
       "    <tr>\n",
       "      <th>2</th>\n",
       "      <td>крупный бюджет</td>\n",
       "      <td>95</td>\n",
       "      <td>5.526316</td>\n",
       "      <td>6.0</td>\n",
       "    </tr>\n",
       "  </tbody>\n",
       "</table>\n",
       "</div>"
      ],
      "text/plain": [
       "  category_budget  count      mean  median\n",
       "0    малый бюджет     86  5.604651     6.0\n",
       "1  средний бюджет     94  5.457447     6.0\n",
       "2  крупный бюджет     95  5.526316     6.0"
      ]
     },
     "execution_count": 88,
     "metadata": {},
     "output_type": "execute_result"
    }
   ],
   "source": [
    "df_state.query('ratings > 0').groupby('category_budget',observed=False)['ratings'].agg(['count','mean','median']).reset_index()"
   ]
  },
  {
   "cell_type": "markdown",
   "metadata": {},
   "source": [
    "Количество общего бюджета не играет роли в оценке зрителей.  \n",
    "По таблице видно, что фильмы в каждой категории имеют примерно равный процент рейтинга.  "
   ]
  },
  {
   "cell_type": "code",
   "execution_count": 89,
   "metadata": {},
   "outputs": [
    {
     "data": {
      "text/html": [
       "<div>\n",
       "<style scoped>\n",
       "    .dataframe tbody tr th:only-of-type {\n",
       "        vertical-align: middle;\n",
       "    }\n",
       "\n",
       "    .dataframe tbody tr th {\n",
       "        vertical-align: top;\n",
       "    }\n",
       "\n",
       "    .dataframe thead th {\n",
       "        text-align: right;\n",
       "    }\n",
       "</style>\n",
       "<table border=\"1\" class=\"dataframe\">\n",
       "  <thead>\n",
       "    <tr style=\"text-align: right;\">\n",
       "      <th></th>\n",
       "      <th>category_support</th>\n",
       "      <th>category_budget</th>\n",
       "      <th>count</th>\n",
       "      <th>mean</th>\n",
       "      <th>median</th>\n",
       "    </tr>\n",
       "  </thead>\n",
       "  <tbody>\n",
       "    <tr>\n",
       "      <th>0</th>\n",
       "      <td>малая</td>\n",
       "      <td>малый бюджет</td>\n",
       "      <td>1</td>\n",
       "      <td>6.000000</td>\n",
       "      <td>6.0</td>\n",
       "    </tr>\n",
       "    <tr>\n",
       "      <th>1</th>\n",
       "      <td>малая</td>\n",
       "      <td>средний бюджет</td>\n",
       "      <td>3</td>\n",
       "      <td>3.666667</td>\n",
       "      <td>4.0</td>\n",
       "    </tr>\n",
       "    <tr>\n",
       "      <th>2</th>\n",
       "      <td>малая</td>\n",
       "      <td>крупный бюджет</td>\n",
       "      <td>20</td>\n",
       "      <td>5.500000</td>\n",
       "      <td>6.0</td>\n",
       "    </tr>\n",
       "    <tr>\n",
       "      <th>3</th>\n",
       "      <td>средняя</td>\n",
       "      <td>малый бюджет</td>\n",
       "      <td>85</td>\n",
       "      <td>5.600000</td>\n",
       "      <td>6.0</td>\n",
       "    </tr>\n",
       "    <tr>\n",
       "      <th>4</th>\n",
       "      <td>средняя</td>\n",
       "      <td>средний бюджет</td>\n",
       "      <td>91</td>\n",
       "      <td>5.516484</td>\n",
       "      <td>6.0</td>\n",
       "    </tr>\n",
       "    <tr>\n",
       "      <th>5</th>\n",
       "      <td>средняя</td>\n",
       "      <td>крупный бюджет</td>\n",
       "      <td>75</td>\n",
       "      <td>5.533333</td>\n",
       "      <td>6.0</td>\n",
       "    </tr>\n",
       "  </tbody>\n",
       "</table>\n",
       "</div>"
      ],
      "text/plain": [
       "  category_support category_budget  count      mean  median\n",
       "0            малая    малый бюджет      1  6.000000     6.0\n",
       "1            малая  средний бюджет      3  3.666667     4.0\n",
       "2            малая  крупный бюджет     20  5.500000     6.0\n",
       "3          средняя    малый бюджет     85  5.600000     6.0\n",
       "4          средняя  средний бюджет     91  5.516484     6.0\n",
       "5          средняя  крупный бюджет     75  5.533333     6.0"
      ]
     },
     "execution_count": 89,
     "metadata": {},
     "output_type": "execute_result"
    }
   ],
   "source": [
    "df_state.query('ratings > 0').groupby(['category_support','category_budget'],observed=False)['ratings'].agg(['count','mean','median']).reset_index()"
   ]
  },
  {
   "cell_type": "markdown",
   "metadata": {},
   "source": [
    "По таблице можно сказать, что процент оказываемой поддеркжи, не влияет на рейтинг фильма. Хоть и есть фильмы, с низким рейтингом, в категории с малой поддержкой со сродним бюджетом, но это скорее выбивающиеся значения, чем какой-либо показатель."
   ]
  },
  {
   "cell_type": "markdown",
   "metadata": {},
   "source": [
    "Бюджет и процент финансирования от государства - не влияет на рейтинг фильма."
   ]
  },
  {
   "cell_type": "markdown",
   "metadata": {},
   "source": [
    "#### 3 этап - вопрос\n",
    "- Влияет ли эта гос поддрежка на сборы фильмов"
   ]
  },
  {
   "cell_type": "markdown",
   "metadata": {},
   "source": [
    "Создание таблицы количества фильмов и средних показателей сборов, по категориям поддержки от государства и масштаба бюджета."
   ]
  },
  {
   "cell_type": "code",
   "execution_count": 90,
   "metadata": {},
   "outputs": [
    {
     "data": {
      "text/html": [
       "<div>\n",
       "<style scoped>\n",
       "    .dataframe tbody tr th:only-of-type {\n",
       "        vertical-align: middle;\n",
       "    }\n",
       "\n",
       "    .dataframe tbody tr th {\n",
       "        vertical-align: top;\n",
       "    }\n",
       "\n",
       "    .dataframe thead th {\n",
       "        text-align: right;\n",
       "    }\n",
       "</style>\n",
       "<table border=\"1\" class=\"dataframe\">\n",
       "  <thead>\n",
       "    <tr style=\"text-align: right;\">\n",
       "      <th></th>\n",
       "      <th>category_support</th>\n",
       "      <th>category_budget</th>\n",
       "      <th>count</th>\n",
       "      <th>mean</th>\n",
       "      <th>median</th>\n",
       "    </tr>\n",
       "  </thead>\n",
       "  <tbody>\n",
       "    <tr>\n",
       "      <th>0</th>\n",
       "      <td>крупная</td>\n",
       "      <td>малый бюджет</td>\n",
       "      <td>0</td>\n",
       "      <td>&lt;NA&gt;</td>\n",
       "      <td>&lt;NA&gt;</td>\n",
       "    </tr>\n",
       "    <tr>\n",
       "      <th>1</th>\n",
       "      <td>крупная</td>\n",
       "      <td>средний бюджет</td>\n",
       "      <td>1</td>\n",
       "      <td>11.332412</td>\n",
       "      <td>11.332412</td>\n",
       "    </tr>\n",
       "    <tr>\n",
       "      <th>2</th>\n",
       "      <td>крупная</td>\n",
       "      <td>крупный бюджет</td>\n",
       "      <td>0</td>\n",
       "      <td>&lt;NA&gt;</td>\n",
       "      <td>&lt;NA&gt;</td>\n",
       "    </tr>\n",
       "    <tr>\n",
       "      <th>3</th>\n",
       "      <td>малая</td>\n",
       "      <td>малый бюджет</td>\n",
       "      <td>2</td>\n",
       "      <td>1.329365</td>\n",
       "      <td>1.329365</td>\n",
       "    </tr>\n",
       "    <tr>\n",
       "      <th>4</th>\n",
       "      <td>малая</td>\n",
       "      <td>средний бюджет</td>\n",
       "      <td>3</td>\n",
       "      <td>21.977786</td>\n",
       "      <td>24.007803</td>\n",
       "    </tr>\n",
       "    <tr>\n",
       "      <th>5</th>\n",
       "      <td>малая</td>\n",
       "      <td>крупный бюджет</td>\n",
       "      <td>20</td>\n",
       "      <td>170.269259</td>\n",
       "      <td>78.284953</td>\n",
       "    </tr>\n",
       "    <tr>\n",
       "      <th>6</th>\n",
       "      <td>средняя</td>\n",
       "      <td>малый бюджет</td>\n",
       "      <td>95</td>\n",
       "      <td>13.57623</td>\n",
       "      <td>0.988413</td>\n",
       "    </tr>\n",
       "    <tr>\n",
       "      <th>7</th>\n",
       "      <td>средняя</td>\n",
       "      <td>средний бюджет</td>\n",
       "      <td>93</td>\n",
       "      <td>56.181405</td>\n",
       "      <td>11.011814</td>\n",
       "    </tr>\n",
       "    <tr>\n",
       "      <th>8</th>\n",
       "      <td>средняя</td>\n",
       "      <td>крупный бюджет</td>\n",
       "      <td>77</td>\n",
       "      <td>256.756057</td>\n",
       "      <td>104.763979</td>\n",
       "    </tr>\n",
       "  </tbody>\n",
       "</table>\n",
       "</div>"
      ],
      "text/plain": [
       "  category_support category_budget  count        mean      median\n",
       "0          крупная    малый бюджет      0        <NA>        <NA>\n",
       "1          крупная  средний бюджет      1   11.332412   11.332412\n",
       "2          крупная  крупный бюджет      0        <NA>        <NA>\n",
       "3            малая    малый бюджет      2    1.329365    1.329365\n",
       "4            малая  средний бюджет      3   21.977786   24.007803\n",
       "5            малая  крупный бюджет     20  170.269259   78.284953\n",
       "6          средняя    малый бюджет     95    13.57623    0.988413\n",
       "7          средняя  средний бюджет     93   56.181405   11.011814\n",
       "8          средняя  крупный бюджет     77  256.756057  104.763979"
      ]
     },
     "execution_count": 90,
     "metadata": {},
     "output_type": "execute_result"
    }
   ],
   "source": [
    "# Создание таблицы\n",
    "df_state_graph = df_state.groupby(['category_support','category_budget'],observed=False)['box_office_mln'].agg(['count','mean','median']).reset_index()\n",
    "df_state_graph"
   ]
  },
  {
   "cell_type": "markdown",
   "metadata": {},
   "source": [
    "По хорошему, чтобы прочитать эти данные, не обойтись без графика."
   ]
  },
  {
   "cell_type": "code",
   "execution_count": 91,
   "metadata": {},
   "outputs": [],
   "source": [
    "# Функция создания графиков, для каждого пооказателя таблицы количества фильмов и средних показателей сборов, по категориям поддержки от государства и масштаб бюджета.\n",
    "def plot_create_rus(column,name_title,min_=10,max_=6):\n",
    "    fig, ax = plt.subplots()\n",
    "    for cat_sup in df_state_graph['category_support'].unique():\n",
    "        df_state_graph[df_state_graph['category_support'] == cat_sup].plot(\n",
    "            x='category_budget', \n",
    "            y=column,\n",
    "            style='o-', \n",
    "            ax=ax, \n",
    "            figsize=(min_,max_),\n",
    "            label=cat_sup\n",
    "        )\n",
    "            \n",
    "        plt.legend\n",
    "        # Установка заголовка графика\n",
    "        plt.title(f'Линейный график для {name_title} в категории бюджета')\n",
    "        #Добавление подписи для оси у \n",
    "        plt.ylabel(name_title)\n",
    "        # Добавление порииси аля оси Х\n",
    "        plt.xlabel('Год')\n",
    "        # Включение сетки на графике, серого цвета с прозрачностью 0.5 для обеих осей\n",
    "        plt.grid(color='grey', axis='both', alpha=0.5)\n",
    "            \n",
    "    plt.show()"
   ]
  },
  {
   "cell_type": "code",
   "execution_count": 92,
   "metadata": {},
   "outputs": [
    {
     "data": {
      "image/png": "[encoded data removed]",
      "text/plain": [
       "<Figure size 720x432 with 1 Axes>"
      ]
     },
     "metadata": {
      "needs_background": "light"
     },
     "output_type": "display_data"
    }
   ],
   "source": [
    "plot_create_rus('count','\"количество фильмов\"')"
   ]
  },
  {
   "cell_type": "markdown",
   "metadata": {},
   "source": [
    "По графику видно, что фильмы со средней поддержкой от государства, преобладают по количеству. Оно и понятно, ведь таких фильмов - 90%.  \n",
    "В категории с малым процентом поддержки от государства, преобладают крупнобюджетные фильмы."
   ]
  },
  {
   "cell_type": "code",
   "execution_count": 93,
   "metadata": {},
   "outputs": [
    {
     "data": {
      "image/png": "[encoded data removed]",
      "text/plain": [
       "<Figure size 720x432 with 1 Axes>"
      ]
     },
     "metadata": {
      "needs_background": "light"
     },
     "output_type": "display_data"
    }
   ],
   "source": [
    "plot_create_rus('mean','Средние сборы фильмов по категориям')"
   ]
  },
  {
   "cell_type": "code",
   "execution_count": 94,
   "metadata": {},
   "outputs": [
    {
     "data": {
      "image/png": "[encoded data removed]",
      "text/plain": [
       "<Figure size 720x432 with 1 Axes>"
      ]
     },
     "metadata": {
      "needs_background": "light"
     },
     "output_type": "display_data"
    }
   ],
   "source": [
    "plot_create_rus('median','медианные сборы фильмов по категориям')"
   ]
  },
  {
   "cell_type": "markdown",
   "metadata": {},
   "source": [
    "Что касается медианы и средней, картина приблизительна одинакова, несмотря на разное количество фильмов в категориях.  \n",
    "Фильмы, имеющие крупный бюджет, более окупаются, вне зависимости от % вложения государством, по сравнению с фильмами, которые имеют малый и средние бюджеты.  \n",
    "Наиболее успешной категорией оказались фильмы со средней поддержкой от государства. Это особо видно по фильмам, имеющиих крупный бюджет."
   ]
  },
  {
   "cell_type": "markdown",
   "metadata": {},
   "source": [
    "#### 4 этап - вопрос\n",
    "- Какой жанр фильмов, государство охотнее спонсирует."
   ]
  },
  {
   "cell_type": "code",
   "execution_count": 95,
   "metadata": {
    "scrolled": true
   },
   "outputs": [
    {
     "data": {
      "text/html": [
       "<div>\n",
       "<style scoped>\n",
       "    .dataframe tbody tr th:only-of-type {\n",
       "        vertical-align: middle;\n",
       "    }\n",
       "\n",
       "    .dataframe tbody tr th {\n",
       "        vertical-align: top;\n",
       "    }\n",
       "\n",
       "    .dataframe thead th {\n",
       "        text-align: right;\n",
       "    }\n",
       "</style>\n",
       "<table border=\"1\" class=\"dataframe\">\n",
       "  <thead>\n",
       "    <tr style=\"text-align: right;\">\n",
       "      <th></th>\n",
       "      <th>main_genre</th>\n",
       "      <th>count</th>\n",
       "    </tr>\n",
       "  </thead>\n",
       "  <tbody>\n",
       "    <tr>\n",
       "      <th>6</th>\n",
       "      <td>драма</td>\n",
       "      <td>82</td>\n",
       "    </tr>\n",
       "    <tr>\n",
       "      <th>8</th>\n",
       "      <td>комедия</td>\n",
       "      <td>67</td>\n",
       "    </tr>\n",
       "    <tr>\n",
       "      <th>11</th>\n",
       "      <td>мультфильм</td>\n",
       "      <td>25</td>\n",
       "    </tr>\n",
       "    <tr>\n",
       "      <th>0</th>\n",
       "      <td>unknown</td>\n",
       "      <td>14</td>\n",
       "    </tr>\n",
       "    <tr>\n",
       "      <th>17</th>\n",
       "      <td>триллер</td>\n",
       "      <td>14</td>\n",
       "    </tr>\n",
       "    <tr>\n",
       "      <th>10</th>\n",
       "      <td>мелодрама</td>\n",
       "      <td>13</td>\n",
       "    </tr>\n",
       "    <tr>\n",
       "      <th>18</th>\n",
       "      <td>ужасы</td>\n",
       "      <td>10</td>\n",
       "    </tr>\n",
       "    <tr>\n",
       "      <th>20</th>\n",
       "      <td>фэнтези</td>\n",
       "      <td>10</td>\n",
       "    </tr>\n",
       "    <tr>\n",
       "      <th>3</th>\n",
       "      <td>военный</td>\n",
       "      <td>9</td>\n",
       "    </tr>\n",
       "    <tr>\n",
       "      <th>19</th>\n",
       "      <td>фантастика</td>\n",
       "      <td>9</td>\n",
       "    </tr>\n",
       "    <tr>\n",
       "      <th>15</th>\n",
       "      <td>семейный</td>\n",
       "      <td>6</td>\n",
       "    </tr>\n",
       "    <tr>\n",
       "      <th>4</th>\n",
       "      <td>детектив</td>\n",
       "      <td>5</td>\n",
       "    </tr>\n",
       "    <tr>\n",
       "      <th>2</th>\n",
       "      <td>боевик</td>\n",
       "      <td>5</td>\n",
       "    </tr>\n",
       "    <tr>\n",
       "      <th>12</th>\n",
       "      <td>мюзикл</td>\n",
       "      <td>4</td>\n",
       "    </tr>\n",
       "    <tr>\n",
       "      <th>13</th>\n",
       "      <td>приключения</td>\n",
       "      <td>4</td>\n",
       "    </tr>\n",
       "    <tr>\n",
       "      <th>5</th>\n",
       "      <td>детский</td>\n",
       "      <td>3</td>\n",
       "    </tr>\n",
       "    <tr>\n",
       "      <th>9</th>\n",
       "      <td>криминал</td>\n",
       "      <td>3</td>\n",
       "    </tr>\n",
       "    <tr>\n",
       "      <th>1</th>\n",
       "      <td>биография</td>\n",
       "      <td>3</td>\n",
       "    </tr>\n",
       "    <tr>\n",
       "      <th>7</th>\n",
       "      <td>история</td>\n",
       "      <td>2</td>\n",
       "    </tr>\n",
       "    <tr>\n",
       "      <th>16</th>\n",
       "      <td>спорт</td>\n",
       "      <td>2</td>\n",
       "    </tr>\n",
       "    <tr>\n",
       "      <th>14</th>\n",
       "      <td>реальное ТВ</td>\n",
       "      <td>1</td>\n",
       "    </tr>\n",
       "  </tbody>\n",
       "</table>\n",
       "</div>"
      ],
      "text/plain": [
       "     main_genre  count\n",
       "6         драма     82\n",
       "8       комедия     67\n",
       "11   мультфильм     25\n",
       "0       unknown     14\n",
       "17      триллер     14\n",
       "10    мелодрама     13\n",
       "18        ужасы     10\n",
       "20      фэнтези     10\n",
       "3       военный      9\n",
       "19   фантастика      9\n",
       "15     семейный      6\n",
       "4      детектив      5\n",
       "2        боевик      5\n",
       "12       мюзикл      4\n",
       "13  приключения      4\n",
       "5       детский      3\n",
       "9      криминал      3\n",
       "1     биография      3\n",
       "7       история      2\n",
       "16        спорт      2\n",
       "14  реальное ТВ      1"
      ]
     },
     "execution_count": 95,
     "metadata": {},
     "output_type": "execute_result"
    }
   ],
   "source": [
    "df_state.groupby(['main_genre'],observed=False)['main_genre'].agg(['count']).reset_index().sort_values(by='count',ascending=False)"
   ]
  },
  {
   "cell_type": "code",
   "execution_count": 96,
   "metadata": {},
   "outputs": [
    {
     "data": {
      "image/png": "[encoded data removed]",
      "text/plain": [
       "<Figure size 1656x576 with 1 Axes>"
      ]
     },
     "metadata": {
      "needs_background": "light"
     },
     "output_type": "display_data"
    }
   ],
   "source": [
    "# Настройка размера фигуры\n",
    "plt.figure(figsize=(23, 8))\n",
    "# Построение столбчатой диаграммы с использованием данных из Dataframe \n",
    "sns.barplot(\n",
    "    data=df_state.groupby(['main_genre'],observed=False)['main_genre'].agg(['count']).reset_index().sort_values(by='count',ascending=False)\n",
    "    ,x='main_genre'\n",
    "    , y='count'\n",
    ")\n",
    "# Установка заголовка графика\n",
    "plt.title('Столбчатая диаграмма популярности жанра')\n",
    "#Добавление подписи для оси у \n",
    "plt.ylabel('Количество')\n",
    "# Добавление порииси аля оси Х\n",
    "plt.xlabel('Жанр')\n",
    "# Включение сетки на графике, серого цвета с прозрачностью 0.5 для обеих осей\n",
    "plt.grid(color='grey', axis='both', alpha=0.5)\n",
    "\n",
    "# Показ графика\n",
    "plt.show()"
   ]
  },
  {
   "cell_type": "markdown",
   "metadata": {},
   "source": [
    "Драмы и комедии - наше все)))  \n",
    "Посмеялся, поплакал, можно и день заканчивать"
   ]
  },
  {
   "cell_type": "markdown",
   "metadata": {},
   "source": [
    "#### 5 этап - вопрос\n",
    "- Топ 3 киностудии"
   ]
  },
  {
   "cell_type": "markdown",
   "metadata": {},
   "source": [
    "financing_source - топ 3 компании, которые имеют наибольшее число фильмов, спонсируемых государством\n",
    "Интересно посмотреть, какая компания, среди этих трех, имеет наибольшее число удавшихся картин\n",
    "Критериями успеха будут считаться то, сколько у них в среднем собирают фильмы в прокате"
   ]
  },
  {
   "cell_type": "code",
   "execution_count": 97,
   "metadata": {},
   "outputs": [
    {
     "data": {
      "text/html": [
       "<div>\n",
       "<style scoped>\n",
       "    .dataframe tbody tr th:only-of-type {\n",
       "        vertical-align: middle;\n",
       "    }\n",
       "\n",
       "    .dataframe tbody tr th {\n",
       "        vertical-align: top;\n",
       "    }\n",
       "\n",
       "    .dataframe thead th {\n",
       "        text-align: right;\n",
       "    }\n",
       "</style>\n",
       "<table border=\"1\" class=\"dataframe\">\n",
       "  <thead>\n",
       "    <tr style=\"text-align: right;\">\n",
       "      <th></th>\n",
       "      <th>film_studio</th>\n",
       "      <th>count</th>\n",
       "    </tr>\n",
       "  </thead>\n",
       "  <tbody>\n",
       "    <tr>\n",
       "      <th>197</th>\n",
       "      <td>ООО \"ТаББаК\"</td>\n",
       "      <td>7</td>\n",
       "    </tr>\n",
       "    <tr>\n",
       "      <th>194</th>\n",
       "      <td>ООО \"Студия анимационного кино \"Мельница\"</td>\n",
       "      <td>7</td>\n",
       "    </tr>\n",
       "    <tr>\n",
       "      <th>78</th>\n",
       "      <td>ООО \"Кинокомпания \"СТВ\"</td>\n",
       "      <td>6</td>\n",
       "    </tr>\n",
       "  </tbody>\n",
       "</table>\n",
       "</div>"
      ],
      "text/plain": [
       "                                   film_studio  count\n",
       "197                               ООО \"ТаББаК\"      7\n",
       "194  ООО \"Студия анимационного кино \"Мельница\"      7\n",
       "78                     ООО \"Кинокомпания \"СТВ\"      6"
      ]
     },
     "execution_count": 97,
     "metadata": {},
     "output_type": "execute_result"
    }
   ],
   "source": [
    "df_state_studio = df_state.groupby(['film_studio'],observed=False)['film_studio'].agg(['count']).reset_index().sort_values(by='count',ascending=False).head(3)\n",
    "df_state_studio"
   ]
  },
  {
   "cell_type": "code",
   "execution_count": 98,
   "metadata": {},
   "outputs": [
    {
     "name": "stdout",
     "output_type": "stream",
     "text": [
      " \n"
     ]
    }
   ],
   "source": [
    "print(' ')"
   ]
  },
  {
   "cell_type": "code",
   "execution_count": 99,
   "metadata": {},
   "outputs": [
    {
     "name": "stdout",
     "output_type": "stream",
     "text": [
      "компания ООО \"ТаББаК\" принесла среднюю сумму сборов - 398.16 млн, медианную сумму сборов - 308.4 млн, при бюджете 167.98/174.38\n",
      "компания ООО \"Студия анимационного кино \"Мельница\" принесла среднюю сумму сборов - 412.91 млн, медианную сумму сборов - 501.07 млн, при бюджете 216.07/185.5\n",
      "компания ООО \"Кинокомпания \"СТВ\" принесла среднюю сумму сборов - 15.89 млн, медианную сумму сборов - 9.37 млн, при бюджете 89.16/54.1\n"
     ]
    }
   ],
   "source": [
    "for stud in df_state_studio['film_studio'].unique():\n",
    "    mean = df_state[df_state['film_studio'] == stud]['box_office_mln'].mean()\n",
    "    median = df_state[df_state['film_studio'] == stud]['box_office_mln'].median()\n",
    "    budget_mean = df_state[df_state['film_studio'] == stud]['budget_mln'].mean()\n",
    "    budget_med = df_state[df_state['film_studio'] == stud]['budget_mln'].median()\n",
    "    print(f'компания {stud} принесла среднюю сумму сборов - {mean.round(2)} млн, медианную сумму сборов - {median.round(2)} млн, при бюджете {budget_mean.round(2)}/{budget_med.round(2)}')\n",
    "    "
   ]
  },
  {
   "cell_type": "markdown",
   "metadata": {},
   "source": [
    "Среди топ 3 студий, по количеству фильмов, ООО \"Студия анимационного кино \"Мельница\" и ООО \"ТаББаК\" имеют больший успех по среднему количеству кассовых сборов, и находятся примерно в одинаковом положении. Немаловажно то, что сумма сборов - превышает бюджет, в отличии от компании ООО \"Кинокомпания \"СТВ\".\n",
    "Табак и мельница - доверенные компании, и в них можно вкладываться с меньшем риском."
   ]
  },
  {
   "cell_type": "markdown",
   "metadata": {},
   "source": [
    "#### Вывод:\n",
    "90% фильмов имеют поддержку от государства, более чем в 25% от общего бюджета.  \n",
    "На рейтинг фильмов не влияет бюджет и процент вложений от государства.  \n",
    "Фильмы, имеющие крупный бюджет, более окупаются, вне зависимости от % вложения государством, по сравнению с фильмами, которые имеют малый и средние бюджеты.  \n",
    "Наиболее успешной категорией оказались фильмы со средней поддержкой от государства. Это особо видно по фильмам, имеющиих крупный бюджет.\n",
    "Также можно рассмотреть отдельные студии, которые гарантированно принесли доход от выпущенных фильмов"
   ]
  },
  {
   "cell_type": "markdown",
   "metadata": {
    "id": "V2gYwMcPgFyd"
   },
   "source": [
    "### Шаг 5. Общий вывод"
   ]
  },
  {
   "cell_type": "markdown",
   "metadata": {},
   "source": [
    "<div style=\"border: solid green 2px; padding: 10px\">\n",
    "  <p>\n",
    "    Генеральной целью было изучение рынка российского кинопроката и выявление текущих трендов. Также, необходимо было уделить внимание фильмам, которые получили государственную поддержку.  <br>\n",
    "    Начиная с 2014 года можно наблюдать динамику увеличения более кассовых фильмов, к 2019 году есть фильмы, собравшие 3 млрд в Российском прокате. Если до 2014 года, медианная сумма сборов по годам, не превышает 200 тысяч, то в период 2014-2018 года эта отметка достигает 7 млн рублей.  <br>\n",
    "    Также и количество фильмов, которые принесли более 100 млн в прокате, увеличивается. В 2014 таких фильмов 10, в 2018 - таких фильмов уже 50.  <br>\n",
    "    К 2019 году, растущая динамика от 2014 году идет на спад.  <br>\n",
    "  </p>\n",
    "    \n",
    "  *Таблица годовых показателей фильмов по сумме и годам*\n",
    "    \n",
    "  <table style=\"border-collapse: collapse; width: 70%; margin-top: 10px;\">\n",
    "    <tr>\n",
    "      <th style=\"border: 1px solid #ccc; padding: 5px;\">год</th>\n",
    "      <th style=\"border: 1px solid #ccc; padding: 5px;\">количество фильмов, принесших более 100 млн</th>\n",
    "      <th style=\"border: 1px solid #ccc; padding: 5px;\">медианная сумма сборов</th>\n",
    "    </tr>\n",
    "    <tr>\n",
    "      <td style=\"border: 1px solid #ccc; padding: 5px;\">2014</td>\n",
    "      <td style=\"border: 1px solid #ccc; padding: 5px;\">12</td>\n",
    "      <td style=\"border: 1px solid #ccc; padding: 5px;\">18 тыс.</td>\n",
    "    </tr>\n",
    "    <tr>\n",
    "      <td style=\"border: 1px solid #ccc; padding: 5px;\">2015</td>\n",
    "      <td style=\"border: 1px solid #ccc; padding: 5px;\">49</td>\n",
    "      <td style=\"border: 1px solid #ccc; padding: 5px;\">4 млн 28 тыс.</td>\n",
    "    </tr>\n",
    "    <tr>\n",
    "      <td style=\"border: 1px solid #ccc; padding: 5px;\">2016</td>\n",
    "      <td style=\"border: 1px solid #ccc; padding: 5px;\">58</td>\n",
    "      <td style=\"border: 1px solid #ccc; padding: 5px;\">3 млн 16 тыс.</td>\n",
    "    </tr>\n",
    "    <tr>\n",
    "      <td style=\"border: 1px solid #ccc; padding: 5px;\">2017</td>\n",
    "      <td style=\"border: 1px solid #ccc; padding: 5px;\">43</td>\n",
    "      <td style=\"border: 1px solid #ccc; padding: 5px;\">7 млн 30 тыс.</td>\n",
    "    </tr>\n",
    "    <tr>\n",
    "      <td style=\"border: 1px solid #ccc; padding: 5px;\">2018</td>\n",
    "      <td style=\"border: 1px solid #ccc; padding: 5px;\">60</td>\n",
    "      <td style=\"border: 1px solid #ccc; padding: 5px;\">7 млн 29 тыс.</td>\n",
    "    </tr>\n",
    "    <tr>\n",
    "      <td style=\"border: 1px solid #ccc; padding: 5px;\">2019</td>\n",
    "      <td style=\"border: 1px solid #ccc; padding: 5px;\">56</td>\n",
    "      <td style=\"border: 1px solid #ccc; padding: 5px;\">4 млн 17 тыс.</td>\n",
    "    </tr>\n",
    "  </table>\n",
    "\n",
    "    \n",
    "Наибольшее количество фильмов, вышедших в прокат, имеют категорию 16+ и 18+.  \n",
    "Куда меньше, по количеству, занимают произведения с категорием 6+, однако, практически во все года, они имеют огромные кассовые сборы.  \n",
    "Пик приходится на 2017 год и достигает медианного показателя в 45 млн по сборам, что в 4-5 раз больше, чем у остальных ограничений по фильмам.\n",
    "\n",
    "\n",
    "\n",
    "Таким образом, рынок российского кинопроката характеризуется заметным ростом с каждым годом, и особой популярностью пользуются мультфильмы с рейтингом 6+\n",
    "Что касается спонсируемых государством фильмов, популярны такие жанры, как драмы и комедии. Чем больше бюджет у фильма, тем больше составят сборы в кинопррокате.  \n",
    "Также по сборам, больше кассовых средств приносят фильмы, полностью спонсируемые государством, а не на какой-либо процент от общего бюджета. \n",
    "\n",
    "<br>\n",
    "<br>\n",
    "<br>\n",
    "Эти данные нельзя было бы представить, без предварительной предобработки.\n",
    "Для их получения были обработаны типы данных в столбцах, заменены пропущенные значения.  \n",
    "Немаловажную часть играет анализ экстремальных значений - отброшены фильмы, бюджет которых составлял более 500 млн и фильмы, бюджет которых не был известен для фильмов, получивших поддержку.  \n",
    "Также добавлено деление на категории, по которым проводился основной анализ.\n",
    "</div>"
   ]
  }
 ],
 "metadata": {
  "ExecuteTimeLog": [
   {
    "duration": 537,
    "start_time": "2021-07-07T10:12:08.634Z"
   },
   {
    "duration": 206,
    "start_time": "2021-07-07T10:12:30.191Z"
   },
   {
    "duration": 227,
    "start_time": "2021-07-07T10:12:33.078Z"
   },
   {
    "duration": 153,
    "start_time": "2021-07-07T10:13:42.146Z"
   },
   {
    "duration": 233,
    "start_time": "2021-07-07T10:30:09.252Z"
   },
   {
    "duration": 19,
    "start_time": "2021-07-07T10:30:15.577Z"
   },
   {
    "duration": 18,
    "start_time": "2021-07-07T10:30:57.348Z"
   },
   {
    "duration": 19,
    "start_time": "2021-07-07T10:31:17.452Z"
   },
   {
    "duration": 21,
    "start_time": "2021-07-07T10:31:32.227Z"
   },
   {
    "duration": 27,
    "start_time": "2021-07-07T10:32:06.588Z"
   },
   {
    "duration": 23,
    "start_time": "2021-07-07T10:32:43.645Z"
   },
   {
    "duration": 24,
    "start_time": "2021-07-07T10:33:06.948Z"
   },
   {
    "duration": 7,
    "start_time": "2021-07-07T10:33:28.558Z"
   },
   {
    "duration": 23,
    "start_time": "2021-07-07T10:33:43.761Z"
   },
   {
    "duration": 28,
    "start_time": "2021-07-07T10:34:13.466Z"
   },
   {
    "duration": 23,
    "start_time": "2021-07-07T10:35:56.187Z"
   },
   {
    "duration": 6,
    "start_time": "2021-07-07T10:36:48.182Z"
   },
   {
    "duration": 14,
    "start_time": "2021-07-07T10:37:49.641Z"
   },
   {
    "duration": 6,
    "start_time": "2021-07-07T10:38:06.694Z"
   },
   {
    "duration": 6,
    "start_time": "2021-07-07T10:38:13.493Z"
   },
   {
    "duration": 19,
    "start_time": "2021-07-07T10:38:44.056Z"
   },
   {
    "duration": 186,
    "start_time": "2021-07-07T10:48:35.618Z"
   },
   {
    "duration": 24,
    "start_time": "2021-07-07T10:48:51.498Z"
   },
   {
    "duration": 20,
    "start_time": "2021-07-07T10:48:59.415Z"
   },
   {
    "duration": 20,
    "start_time": "2021-07-07T10:53:02.195Z"
   },
   {
    "duration": 188,
    "start_time": "2021-07-07T10:54:40.486Z"
   },
   {
    "duration": 115,
    "start_time": "2021-07-07T10:54:52.552Z"
   },
   {
    "duration": 214,
    "start_time": "2021-07-07T10:54:56.354Z"
   },
   {
    "duration": 47,
    "start_time": "2021-07-07T10:54:58.282Z"
   },
   {
    "duration": 217,
    "start_time": "2021-07-07T10:59:16.075Z"
   },
   {
    "duration": 51,
    "start_time": "2021-07-07T10:59:16.243Z"
   },
   {
    "duration": 578,
    "start_time": "2021-07-07T10:59:18.774Z"
   },
   {
    "duration": 161,
    "start_time": "2021-07-07T10:59:21.238Z"
   },
   {
    "duration": 59,
    "start_time": "2021-07-07T10:59:21.453Z"
   },
   {
    "duration": 3,
    "start_time": "2021-07-07T11:02:10.786Z"
   },
   {
    "duration": 13,
    "start_time": "2021-07-07T11:07:07.722Z"
   },
   {
    "duration": 26,
    "start_time": "2021-07-07T11:07:17.958Z"
   },
   {
    "duration": 22,
    "start_time": "2021-07-07T11:08:17.939Z"
   },
   {
    "duration": 212,
    "start_time": "2021-07-07T11:08:19.665Z"
   },
   {
    "duration": 21,
    "start_time": "2021-07-07T11:08:29.945Z"
   },
   {
    "duration": 31,
    "start_time": "2021-07-07T11:08:38.899Z"
   },
   {
    "duration": 23,
    "start_time": "2021-07-07T11:08:54.527Z"
   },
   {
    "duration": 8,
    "start_time": "2021-07-07T11:18:55.974Z"
   },
   {
    "duration": 7,
    "start_time": "2021-07-07T11:19:03.639Z"
   },
   {
    "duration": 7,
    "start_time": "2021-07-07T11:19:06.444Z"
   },
   {
    "duration": 578,
    "start_time": "2021-07-07T12:09:59.576Z"
   },
   {
    "duration": 195,
    "start_time": "2021-07-07T12:10:00.156Z"
   },
   {
    "duration": 115,
    "start_time": "2021-07-07T12:10:00.353Z"
   },
   {
    "duration": 3,
    "start_time": "2021-07-07T12:10:00.470Z"
   },
   {
    "duration": 32,
    "start_time": "2021-07-07T12:10:00.474Z"
   },
   {
    "duration": 23,
    "start_time": "2021-07-07T12:10:00.508Z"
   },
   {
    "duration": 19,
    "start_time": "2021-07-07T12:10:00.533Z"
   },
   {
    "duration": 44,
    "start_time": "2021-07-07T12:10:00.553Z"
   },
   {
    "duration": 7,
    "start_time": "2021-07-07T12:10:00.600Z"
   },
   {
    "duration": 7,
    "start_time": "2021-07-07T12:19:45.761Z"
   },
   {
    "duration": 21,
    "start_time": "2021-07-07T12:21:35.482Z"
   },
   {
    "duration": 21,
    "start_time": "2021-07-07T12:29:23.569Z"
   },
   {
    "duration": 525,
    "start_time": "2021-07-07T12:29:44.542Z"
   },
   {
    "duration": 214,
    "start_time": "2021-07-07T12:29:45.069Z"
   },
   {
    "duration": 92,
    "start_time": "2021-07-07T12:29:45.285Z"
   },
   {
    "duration": 3,
    "start_time": "2021-07-07T12:29:45.379Z"
   },
   {
    "duration": 28,
    "start_time": "2021-07-07T12:29:45.384Z"
   },
   {
    "duration": 23,
    "start_time": "2021-07-07T12:29:45.413Z"
   },
   {
    "duration": 21,
    "start_time": "2021-07-07T12:29:45.437Z"
   },
   {
    "duration": 41,
    "start_time": "2021-07-07T12:29:45.460Z"
   },
   {
    "duration": 7,
    "start_time": "2021-07-07T12:29:45.502Z"
   },
   {
    "duration": 20,
    "start_time": "2021-07-07T12:29:45.511Z"
   },
   {
    "duration": 12,
    "start_time": "2021-07-07T12:34:02.800Z"
   },
   {
    "duration": 7,
    "start_time": "2021-07-07T12:35:10.479Z"
   },
   {
    "duration": 8,
    "start_time": "2021-07-07T12:35:22.440Z"
   },
   {
    "duration": 6,
    "start_time": "2021-07-07T12:35:35.649Z"
   },
   {
    "duration": 6,
    "start_time": "2021-07-07T12:35:43.107Z"
   },
   {
    "duration": 22,
    "start_time": "2021-07-07T12:38:03.029Z"
   },
   {
    "duration": 10,
    "start_time": "2021-07-07T12:38:06.592Z"
   },
   {
    "duration": 563,
    "start_time": "2021-07-07T12:38:46.493Z"
   },
   {
    "duration": 265,
    "start_time": "2021-07-07T12:38:47.058Z"
   },
   {
    "duration": 94,
    "start_time": "2021-07-07T12:38:47.325Z"
   },
   {
    "duration": 3,
    "start_time": "2021-07-07T12:38:47.422Z"
   },
   {
    "duration": 30,
    "start_time": "2021-07-07T12:38:47.427Z"
   },
   {
    "duration": 16,
    "start_time": "2021-07-07T12:38:53.305Z"
   },
   {
    "duration": 10,
    "start_time": "2021-07-07T12:38:53.499Z"
   },
   {
    "duration": 8,
    "start_time": "2021-07-07T12:39:48.161Z"
   },
   {
    "duration": 27,
    "start_time": "2021-07-07T12:41:17.629Z"
   },
   {
    "duration": 17,
    "start_time": "2021-07-07T12:41:17.867Z"
   },
   {
    "duration": 21,
    "start_time": "2021-07-07T12:41:19.310Z"
   },
   {
    "duration": 7,
    "start_time": "2021-07-07T12:41:19.544Z"
   },
   {
    "duration": 20,
    "start_time": "2021-07-07T12:41:20.504Z"
   },
   {
    "duration": 554,
    "start_time": "2021-07-07T12:56:23.696Z"
   },
   {
    "duration": 200,
    "start_time": "2021-07-07T12:56:25.234Z"
   },
   {
    "duration": 119,
    "start_time": "2021-07-07T12:56:25.480Z"
   },
   {
    "duration": 4,
    "start_time": "2021-07-07T12:56:25.762Z"
   },
   {
    "duration": 26,
    "start_time": "2021-07-07T12:56:27.172Z"
   },
   {
    "duration": 12,
    "start_time": "2021-07-07T12:56:29.051Z"
   },
   {
    "duration": 10,
    "start_time": "2021-07-07T12:56:29.291Z"
   },
   {
    "duration": 8,
    "start_time": "2021-07-07T12:56:29.623Z"
   },
   {
    "duration": 28,
    "start_time": "2021-07-07T12:56:32.137Z"
   },
   {
    "duration": 19,
    "start_time": "2021-07-07T12:56:39.785Z"
   },
   {
    "duration": 20,
    "start_time": "2021-07-07T12:56:44.297Z"
   },
   {
    "duration": 7,
    "start_time": "2021-07-07T12:56:45.392Z"
   },
   {
    "duration": 23,
    "start_time": "2021-07-07T12:56:46.615Z"
   },
   {
    "duration": 4,
    "start_time": "2021-07-07T12:57:06.625Z"
   },
   {
    "duration": 32,
    "start_time": "2021-07-07T12:57:36.690Z"
   },
   {
    "duration": 18,
    "start_time": "2021-07-07T12:58:00.149Z"
   },
   {
    "duration": 15,
    "start_time": "2021-07-07T12:59:16.793Z"
   },
   {
    "duration": 7,
    "start_time": "2021-07-07T13:19:22.624Z"
   },
   {
    "duration": 6,
    "start_time": "2021-07-07T14:17:33.527Z"
   },
   {
    "duration": 9,
    "start_time": "2021-07-07T14:17:48.409Z"
   },
   {
    "duration": 8,
    "start_time": "2021-07-07T14:20:13.060Z"
   },
   {
    "duration": 8,
    "start_time": "2021-07-07T14:20:37.957Z"
   },
   {
    "duration": 8,
    "start_time": "2021-07-07T14:20:47.470Z"
   },
   {
    "duration": 9,
    "start_time": "2021-07-07T14:20:54.503Z"
   },
   {
    "duration": 10,
    "start_time": "2021-07-07T14:28:57.763Z"
   },
   {
    "duration": 3,
    "start_time": "2021-07-07T14:30:23.377Z"
   },
   {
    "duration": 3,
    "start_time": "2021-07-07T14:30:36.489Z"
   },
   {
    "duration": 103,
    "start_time": "2021-07-07T14:30:52.351Z"
   },
   {
    "duration": 8,
    "start_time": "2021-07-07T14:30:54.763Z"
   },
   {
    "duration": 8,
    "start_time": "2021-07-07T14:31:29.301Z"
   },
   {
    "duration": 13,
    "start_time": "2021-07-07T14:31:44.516Z"
   },
   {
    "duration": 7,
    "start_time": "2021-07-07T14:33:10.972Z"
   },
   {
    "duration": 11,
    "start_time": "2021-07-07T14:33:27.780Z"
   },
   {
    "duration": 8,
    "start_time": "2021-07-07T14:34:44.588Z"
   },
   {
    "duration": 57,
    "start_time": "2021-07-07T14:35:59.042Z"
   },
   {
    "duration": 3,
    "start_time": "2021-07-07T14:36:28.168Z"
   },
   {
    "duration": 5,
    "start_time": "2021-07-07T14:36:46.254Z"
   },
   {
    "duration": 4,
    "start_time": "2021-07-07T14:36:52.714Z"
   },
   {
    "duration": 3,
    "start_time": "2021-07-07T14:36:56.612Z"
   },
   {
    "duration": 4,
    "start_time": "2021-07-07T14:36:57.049Z"
   },
   {
    "duration": 3,
    "start_time": "2021-07-07T14:39:21.214Z"
   },
   {
    "duration": 7,
    "start_time": "2021-07-07T14:39:52.406Z"
   },
   {
    "duration": 11,
    "start_time": "2021-07-07T14:39:58.576Z"
   },
   {
    "duration": 9,
    "start_time": "2021-07-07T14:40:26.301Z"
   },
   {
    "duration": 10,
    "start_time": "2021-07-07T14:40:31.704Z"
   },
   {
    "duration": 11,
    "start_time": "2021-07-07T14:40:36.249Z"
   },
   {
    "duration": 10,
    "start_time": "2021-07-07T14:40:39.783Z"
   },
   {
    "duration": 9,
    "start_time": "2021-07-07T14:40:48.558Z"
   },
   {
    "duration": 10,
    "start_time": "2021-07-07T14:40:57.143Z"
   },
   {
    "duration": 9,
    "start_time": "2021-07-07T14:41:06.074Z"
   },
   {
    "duration": 4324,
    "start_time": "2021-07-07T14:41:22.004Z"
   },
   {
    "duration": 11,
    "start_time": "2021-07-07T14:41:33.392Z"
   },
   {
    "duration": 9,
    "start_time": "2021-07-07T14:41:39.288Z"
   },
   {
    "duration": 569,
    "start_time": "2021-07-07T14:42:14.387Z"
   },
   {
    "duration": 197,
    "start_time": "2021-07-07T14:42:14.959Z"
   },
   {
    "duration": 84,
    "start_time": "2021-07-07T14:42:16.052Z"
   },
   {
    "duration": 4,
    "start_time": "2021-07-07T14:42:16.900Z"
   },
   {
    "duration": 27,
    "start_time": "2021-07-07T14:42:19.898Z"
   },
   {
    "duration": 12,
    "start_time": "2021-07-07T14:42:21.577Z"
   },
   {
    "duration": 9,
    "start_time": "2021-07-07T14:42:21.813Z"
   },
   {
    "duration": 9,
    "start_time": "2021-07-07T14:42:22.569Z"
   },
   {
    "duration": 29,
    "start_time": "2021-07-07T14:42:25.837Z"
   },
   {
    "duration": 20,
    "start_time": "2021-07-07T14:42:27.003Z"
   },
   {
    "duration": 21,
    "start_time": "2021-07-07T14:42:28.767Z"
   },
   {
    "duration": 7,
    "start_time": "2021-07-07T14:42:29.838Z"
   },
   {
    "duration": 4,
    "start_time": "2021-07-07T14:43:25.493Z"
   },
   {
    "duration": 7,
    "start_time": "2021-07-07T14:43:26.573Z"
   },
   {
    "duration": 10,
    "start_time": "2021-07-07T14:43:31.639Z"
   },
   {
    "duration": 9,
    "start_time": "2021-07-07T14:43:32.046Z"
   },
   {
    "duration": 10,
    "start_time": "2021-07-07T14:43:33.301Z"
   },
   {
    "duration": 12,
    "start_time": "2021-07-07T14:43:33.658Z"
   },
   {
    "duration": 8,
    "start_time": "2021-07-07T14:43:34.552Z"
   },
   {
    "duration": 9,
    "start_time": "2021-07-07T14:43:35.058Z"
   },
   {
    "duration": 12,
    "start_time": "2021-07-07T14:43:35.914Z"
   },
   {
    "duration": 17,
    "start_time": "2021-07-07T14:45:34.368Z"
   },
   {
    "duration": 512,
    "start_time": "2021-07-07T14:51:58.236Z"
   },
   {
    "duration": 223,
    "start_time": "2021-07-07T14:51:58.750Z"
   },
   {
    "duration": 93,
    "start_time": "2021-07-07T14:51:58.977Z"
   },
   {
    "duration": 4,
    "start_time": "2021-07-07T14:51:59.071Z"
   },
   {
    "duration": 37,
    "start_time": "2021-07-07T14:51:59.077Z"
   },
   {
    "duration": 18,
    "start_time": "2021-07-07T14:51:59.116Z"
   },
   {
    "duration": 10,
    "start_time": "2021-07-07T14:51:59.137Z"
   },
   {
    "duration": 8,
    "start_time": "2021-07-07T14:51:59.149Z"
   },
   {
    "duration": 54,
    "start_time": "2021-07-07T14:51:59.158Z"
   },
   {
    "duration": 18,
    "start_time": "2021-07-07T14:51:59.213Z"
   },
   {
    "duration": 22,
    "start_time": "2021-07-07T14:51:59.232Z"
   },
   {
    "duration": 36,
    "start_time": "2021-07-07T14:51:59.255Z"
   },
   {
    "duration": 7,
    "start_time": "2021-07-07T14:51:59.293Z"
   },
   {
    "duration": 10,
    "start_time": "2021-07-07T14:51:59.302Z"
   },
   {
    "duration": 9,
    "start_time": "2021-07-07T14:51:59.313Z"
   },
   {
    "duration": 11,
    "start_time": "2021-07-07T14:51:59.324Z"
   },
   {
    "duration": 8,
    "start_time": "2021-07-07T14:51:59.337Z"
   },
   {
    "duration": 46,
    "start_time": "2021-07-07T14:51:59.347Z"
   },
   {
    "duration": 22,
    "start_time": "2021-07-07T14:51:59.395Z"
   },
   {
    "duration": 24,
    "start_time": "2021-07-07T14:57:32.911Z"
   },
   {
    "duration": 7,
    "start_time": "2021-07-07T14:58:22.070Z"
   },
   {
    "duration": 4,
    "start_time": "2021-07-07T14:59:11.239Z"
   },
   {
    "duration": 25,
    "start_time": "2021-07-07T15:07:22.208Z"
   },
   {
    "duration": 16,
    "start_time": "2021-07-07T15:08:25.560Z"
   },
   {
    "duration": 15,
    "start_time": "2021-07-07T15:08:40.647Z"
   },
   {
    "duration": 14,
    "start_time": "2021-07-07T15:08:46.669Z"
   },
   {
    "duration": 533,
    "start_time": "2021-07-07T15:18:07.440Z"
   },
   {
    "duration": 173,
    "start_time": "2021-07-07T15:18:07.974Z"
   },
   {
    "duration": 84,
    "start_time": "2021-07-07T15:18:08.149Z"
   },
   {
    "duration": 3,
    "start_time": "2021-07-07T15:18:08.235Z"
   },
   {
    "duration": 30,
    "start_time": "2021-07-07T15:18:08.240Z"
   },
   {
    "duration": 22,
    "start_time": "2021-07-07T15:18:08.272Z"
   },
   {
    "duration": 11,
    "start_time": "2021-07-07T15:18:08.295Z"
   },
   {
    "duration": 11,
    "start_time": "2021-07-07T15:18:08.309Z"
   },
   {
    "duration": 40,
    "start_time": "2021-07-07T15:18:08.322Z"
   },
   {
    "duration": 42,
    "start_time": "2021-07-07T15:18:08.364Z"
   },
   {
    "duration": 22,
    "start_time": "2021-07-07T15:18:08.408Z"
   },
   {
    "duration": 5,
    "start_time": "2021-07-07T15:18:08.432Z"
   },
   {
    "duration": 13,
    "start_time": "2021-07-07T15:18:08.439Z"
   },
   {
    "duration": 9,
    "start_time": "2021-07-07T15:18:08.454Z"
   },
   {
    "duration": 32,
    "start_time": "2021-07-07T15:18:08.465Z"
   },
   {
    "duration": 10,
    "start_time": "2021-07-07T15:18:08.501Z"
   },
   {
    "duration": 7,
    "start_time": "2021-07-07T15:18:08.513Z"
   },
   {
    "duration": 11,
    "start_time": "2021-07-07T15:18:08.521Z"
   },
   {
    "duration": 17,
    "start_time": "2021-07-07T15:18:08.534Z"
   },
   {
    "duration": 44,
    "start_time": "2021-07-07T15:18:08.553Z"
   },
   {
    "duration": 22,
    "start_time": "2021-07-07T15:18:08.599Z"
   },
   {
    "duration": 61,
    "start_time": "2021-07-07T15:18:08.622Z"
   },
   {
    "duration": 7,
    "start_time": "2021-07-07T15:18:39.457Z"
   },
   {
    "duration": 5,
    "start_time": "2021-07-07T16:05:17.020Z"
   },
   {
    "duration": 5,
    "start_time": "2021-07-07T16:51:28.794Z"
   },
   {
    "duration": 546,
    "start_time": "2021-07-07T16:52:26.306Z"
   },
   {
    "duration": 203,
    "start_time": "2021-07-07T16:52:27.523Z"
   },
   {
    "duration": 85,
    "start_time": "2021-07-07T16:52:27.736Z"
   },
   {
    "duration": 4,
    "start_time": "2021-07-07T16:52:27.899Z"
   },
   {
    "duration": 25,
    "start_time": "2021-07-07T16:52:28.674Z"
   },
   {
    "duration": 8,
    "start_time": "2021-07-07T16:52:32.956Z"
   },
   {
    "duration": 18,
    "start_time": "2021-07-07T16:52:35.616Z"
   },
   {
    "duration": 6,
    "start_time": "2021-07-07T16:52:36.913Z"
   },
   {
    "duration": 11,
    "start_time": "2021-07-07T16:52:40.258Z"
   },
   {
    "duration": 10,
    "start_time": "2021-07-07T16:52:46.251Z"
   },
   {
    "duration": 8,
    "start_time": "2021-07-07T16:52:47.182Z"
   },
   {
    "duration": 27,
    "start_time": "2021-07-07T16:53:20.391Z"
   },
   {
    "duration": 20,
    "start_time": "2021-07-07T16:53:22.022Z"
   },
   {
    "duration": 23,
    "start_time": "2021-07-07T16:53:23.690Z"
   },
   {
    "duration": 8,
    "start_time": "2021-07-07T16:53:24.261Z"
   },
   {
    "duration": 4,
    "start_time": "2021-07-07T16:53:38.733Z"
   },
   {
    "duration": 7,
    "start_time": "2021-07-07T16:53:40.445Z"
   },
   {
    "duration": 11,
    "start_time": "2021-07-07T16:53:41.348Z"
   },
   {
    "duration": 13,
    "start_time": "2021-07-07T16:53:45.250Z"
   },
   {
    "duration": 12,
    "start_time": "2021-07-07T16:53:45.467Z"
   },
   {
    "duration": 4,
    "start_time": "2021-07-07T16:55:32.704Z"
   },
   {
    "duration": 12,
    "start_time": "2021-07-07T16:55:49.012Z"
   },
   {
    "duration": 18,
    "start_time": "2021-07-07T16:55:49.547Z"
   },
   {
    "duration": 611,
    "start_time": "2021-07-07T16:58:35.156Z"
   },
   {
    "duration": 200,
    "start_time": "2021-07-07T16:58:35.770Z"
   },
   {
    "duration": 86,
    "start_time": "2021-07-07T16:58:35.972Z"
   },
   {
    "duration": 3,
    "start_time": "2021-07-07T16:58:36.060Z"
   },
   {
    "duration": 27,
    "start_time": "2021-07-07T16:58:36.065Z"
   },
   {
    "duration": 8,
    "start_time": "2021-07-07T16:58:36.094Z"
   },
   {
    "duration": 17,
    "start_time": "2021-07-07T16:58:36.103Z"
   },
   {
    "duration": 5,
    "start_time": "2021-07-07T16:58:36.123Z"
   },
   {
    "duration": 11,
    "start_time": "2021-07-07T16:58:36.130Z"
   },
   {
    "duration": 7,
    "start_time": "2021-07-07T16:58:36.143Z"
   },
   {
    "duration": 37,
    "start_time": "2021-07-07T16:58:36.152Z"
   },
   {
    "duration": 27,
    "start_time": "2021-07-07T16:58:36.191Z"
   },
   {
    "duration": 19,
    "start_time": "2021-07-07T16:58:36.219Z"
   },
   {
    "duration": 49,
    "start_time": "2021-07-07T16:58:36.240Z"
   },
   {
    "duration": 6,
    "start_time": "2021-07-07T16:58:36.291Z"
   },
   {
    "duration": 3,
    "start_time": "2021-07-07T16:58:36.299Z"
   },
   {
    "duration": 13,
    "start_time": "2021-07-07T16:58:36.304Z"
   },
   {
    "duration": 10,
    "start_time": "2021-07-07T16:58:36.319Z"
   },
   {
    "duration": 10,
    "start_time": "2021-07-07T16:58:36.331Z"
   },
   {
    "duration": 44,
    "start_time": "2021-07-07T16:58:36.343Z"
   },
   {
    "duration": 4,
    "start_time": "2021-07-07T16:58:36.388Z"
   },
   {
    "duration": 13,
    "start_time": "2021-07-07T16:58:36.394Z"
   },
   {
    "duration": 16,
    "start_time": "2021-07-07T16:58:36.410Z"
   },
   {
    "duration": 8,
    "start_time": "2021-07-07T17:02:31.629Z"
   },
   {
    "duration": 8,
    "start_time": "2021-07-07T17:02:34.308Z"
   },
   {
    "duration": 6,
    "start_time": "2021-07-07T17:05:13.483Z"
   },
   {
    "duration": 17,
    "start_time": "2021-07-07T17:05:20.606Z"
   },
   {
    "duration": 7,
    "start_time": "2021-07-07T17:05:34.638Z"
   },
   {
    "duration": 3,
    "start_time": "2021-07-07T17:06:31.883Z"
   },
   {
    "duration": 570,
    "start_time": "2021-07-07T17:06:37.165Z"
   },
   {
    "duration": 174,
    "start_time": "2021-07-07T17:06:37.737Z"
   },
   {
    "duration": 47,
    "start_time": "2021-07-07T17:06:37.913Z"
   },
   {
    "duration": 3,
    "start_time": "2021-07-07T17:06:37.962Z"
   },
   {
    "duration": 27,
    "start_time": "2021-07-07T17:06:37.967Z"
   },
   {
    "duration": 7,
    "start_time": "2021-07-07T17:06:37.996Z"
   },
   {
    "duration": 16,
    "start_time": "2021-07-07T17:06:38.005Z"
   },
   {
    "duration": 6,
    "start_time": "2021-07-07T17:06:38.024Z"
   },
   {
    "duration": 12,
    "start_time": "2021-07-07T17:06:38.031Z"
   },
   {
    "duration": 41,
    "start_time": "2021-07-07T17:06:38.045Z"
   },
   {
    "duration": 8,
    "start_time": "2021-07-07T17:06:38.088Z"
   },
   {
    "duration": 26,
    "start_time": "2021-07-07T17:06:38.098Z"
   },
   {
    "duration": 17,
    "start_time": "2021-07-07T17:06:38.126Z"
   },
   {
    "duration": 43,
    "start_time": "2021-07-07T17:06:38.144Z"
   },
   {
    "duration": 6,
    "start_time": "2021-07-07T17:06:38.188Z"
   },
   {
    "duration": 5,
    "start_time": "2021-07-07T17:06:38.195Z"
   },
   {
    "duration": 9,
    "start_time": "2021-07-07T17:06:38.201Z"
   },
   {
    "duration": 12,
    "start_time": "2021-07-07T17:06:38.212Z"
   },
   {
    "duration": 11,
    "start_time": "2021-07-07T17:06:38.226Z"
   },
   {
    "duration": 47,
    "start_time": "2021-07-07T17:06:38.239Z"
   },
   {
    "duration": 4,
    "start_time": "2021-07-07T17:06:38.288Z"
   },
   {
    "duration": 13,
    "start_time": "2021-07-07T17:06:38.293Z"
   },
   {
    "duration": 5,
    "start_time": "2021-07-07T17:06:38.309Z"
   },
   {
    "duration": 18,
    "start_time": "2021-07-07T17:06:38.325Z"
   },
   {
    "duration": 20,
    "start_time": "2021-07-07T17:07:02.805Z"
   },
   {
    "duration": 19,
    "start_time": "2021-07-07T17:07:08.527Z"
   },
   {
    "duration": 19,
    "start_time": "2021-07-07T17:07:12.758Z"
   },
   {
    "duration": 22,
    "start_time": "2021-07-07T17:07:17.497Z"
   },
   {
    "duration": 19,
    "start_time": "2021-07-07T17:07:19.645Z"
   },
   {
    "duration": 10,
    "start_time": "2021-07-07T17:07:34.239Z"
   },
   {
    "duration": 17,
    "start_time": "2021-07-07T17:07:54.144Z"
   },
   {
    "duration": 14,
    "start_time": "2021-07-07T17:08:14.357Z"
   },
   {
    "duration": 616,
    "start_time": "2021-07-07T17:08:45.254Z"
   },
   {
    "duration": 178,
    "start_time": "2021-07-07T17:08:45.872Z"
   },
   {
    "duration": 60,
    "start_time": "2021-07-07T17:08:46.054Z"
   },
   {
    "duration": 3,
    "start_time": "2021-07-07T17:08:46.116Z"
   },
   {
    "duration": 26,
    "start_time": "2021-07-07T17:08:46.121Z"
   },
   {
    "duration": 7,
    "start_time": "2021-07-07T17:08:46.149Z"
   },
   {
    "duration": 17,
    "start_time": "2021-07-07T17:08:46.158Z"
   },
   {
    "duration": 14,
    "start_time": "2021-07-07T17:08:46.176Z"
   },
   {
    "duration": 17,
    "start_time": "2021-07-07T17:08:46.193Z"
   },
   {
    "duration": 9,
    "start_time": "2021-07-07T17:08:46.211Z"
   },
   {
    "duration": 21,
    "start_time": "2021-07-07T17:08:46.221Z"
   },
   {
    "duration": 49,
    "start_time": "2021-07-07T17:08:46.244Z"
   },
   {
    "duration": 24,
    "start_time": "2021-07-07T17:08:46.295Z"
   },
   {
    "duration": 22,
    "start_time": "2021-07-07T17:08:46.321Z"
   },
   {
    "duration": 6,
    "start_time": "2021-07-07T17:08:46.345Z"
   },
   {
    "duration": 5,
    "start_time": "2021-07-07T17:08:46.353Z"
   },
   {
    "duration": 13,
    "start_time": "2021-07-07T17:08:46.386Z"
   },
   {
    "duration": 12,
    "start_time": "2021-07-07T17:08:46.402Z"
   },
   {
    "duration": 10,
    "start_time": "2021-07-07T17:08:46.415Z"
   },
   {
    "duration": 7,
    "start_time": "2021-07-07T17:08:46.427Z"
   },
   {
    "duration": 8,
    "start_time": "2021-07-07T17:08:46.435Z"
   },
   {
    "duration": 68,
    "start_time": "2021-07-07T17:08:46.446Z"
   },
   {
    "duration": 13,
    "start_time": "2021-07-07T17:08:46.516Z"
   },
   {
    "duration": 78,
    "start_time": "2021-07-07T17:08:46.530Z"
   },
   {
    "duration": 40,
    "start_time": "2021-07-07T17:09:08.185Z"
   },
   {
    "duration": 16,
    "start_time": "2021-07-07T17:09:19.324Z"
   },
   {
    "duration": 21,
    "start_time": "2021-07-07T17:09:23.290Z"
   },
   {
    "duration": 13,
    "start_time": "2021-07-07T17:09:54.812Z"
   },
   {
    "duration": 13,
    "start_time": "2021-07-07T17:10:02.039Z"
   },
   {
    "duration": 10,
    "start_time": "2021-07-07T17:10:29.632Z"
   },
   {
    "duration": 13,
    "start_time": "2021-07-07T17:10:52.372Z"
   },
   {
    "duration": 13,
    "start_time": "2021-07-07T17:11:17.270Z"
   },
   {
    "duration": 13,
    "start_time": "2021-07-07T17:14:59.284Z"
   },
   {
    "duration": 547,
    "start_time": "2021-07-07T17:18:52.403Z"
   },
   {
    "duration": 163,
    "start_time": "2021-07-07T17:18:52.952Z"
   },
   {
    "duration": 44,
    "start_time": "2021-07-07T17:18:53.117Z"
   },
   {
    "duration": 3,
    "start_time": "2021-07-07T17:18:53.162Z"
   },
   {
    "duration": 26,
    "start_time": "2021-07-07T17:18:53.167Z"
   },
   {
    "duration": 6,
    "start_time": "2021-07-07T17:18:53.195Z"
   },
   {
    "duration": 15,
    "start_time": "2021-07-07T17:18:53.203Z"
   },
   {
    "duration": 5,
    "start_time": "2021-07-07T17:18:53.220Z"
   },
   {
    "duration": 11,
    "start_time": "2021-07-07T17:18:53.228Z"
   },
   {
    "duration": 9,
    "start_time": "2021-07-07T17:18:53.241Z"
   },
   {
    "duration": 41,
    "start_time": "2021-07-07T17:18:53.252Z"
   },
   {
    "duration": 33,
    "start_time": "2021-07-07T17:18:53.295Z"
   },
   {
    "duration": 19,
    "start_time": "2021-07-07T17:18:53.330Z"
   },
   {
    "duration": 49,
    "start_time": "2021-07-07T17:18:53.350Z"
   },
   {
    "duration": 5,
    "start_time": "2021-07-07T17:18:53.401Z"
   },
   {
    "duration": 5,
    "start_time": "2021-07-07T17:18:53.408Z"
   },
   {
    "duration": 11,
    "start_time": "2021-07-07T17:18:53.414Z"
   },
   {
    "duration": 9,
    "start_time": "2021-07-07T17:18:53.427Z"
   },
   {
    "duration": 10,
    "start_time": "2021-07-07T17:18:53.437Z"
   },
   {
    "duration": 39,
    "start_time": "2021-07-07T17:18:53.448Z"
   },
   {
    "duration": 26,
    "start_time": "2021-07-07T17:18:55.799Z"
   },
   {
    "duration": 598,
    "start_time": "2021-07-07T17:20:17.862Z"
   },
   {
    "duration": 161,
    "start_time": "2021-07-07T17:20:18.462Z"
   },
   {
    "duration": 45,
    "start_time": "2021-07-07T17:20:18.626Z"
   },
   {
    "duration": 4,
    "start_time": "2021-07-07T17:20:18.673Z"
   },
   {
    "duration": 38,
    "start_time": "2021-07-07T17:20:26.877Z"
   },
   {
    "duration": 7,
    "start_time": "2021-07-07T17:20:37.405Z"
   },
   {
    "duration": 19,
    "start_time": "2021-07-07T17:20:51.534Z"
   },
   {
    "duration": 5,
    "start_time": "2021-07-07T17:20:57.228Z"
   },
   {
    "duration": 7,
    "start_time": "2021-07-07T17:21:08.235Z"
   },
   {
    "duration": 19,
    "start_time": "2021-07-07T17:21:42.158Z"
   },
   {
    "duration": 14,
    "start_time": "2021-07-07T17:21:50.225Z"
   },
   {
    "duration": 22,
    "start_time": "2021-07-07T17:22:54.104Z"
   },
   {
    "duration": 5,
    "start_time": "2021-07-07T17:22:56.371Z"
   },
   {
    "duration": 14,
    "start_time": "2021-07-07T17:22:58.316Z"
   },
   {
    "duration": 5,
    "start_time": "2021-07-07T17:22:58.493Z"
   },
   {
    "duration": 35,
    "start_time": "2021-07-07T17:22:59.666Z"
   },
   {
    "duration": 6,
    "start_time": "2021-07-07T17:23:02.410Z"
   },
   {
    "duration": 611,
    "start_time": "2021-07-07T17:24:59.664Z"
   },
   {
    "duration": 178,
    "start_time": "2021-07-07T17:25:01.945Z"
   },
   {
    "duration": 47,
    "start_time": "2021-07-07T17:25:02.125Z"
   },
   {
    "duration": 2,
    "start_time": "2021-07-07T17:25:07.903Z"
   },
   {
    "duration": 254,
    "start_time": "2021-07-07T17:25:08.232Z"
   },
   {
    "duration": 182,
    "start_time": "2021-07-07T17:25:08.671Z"
   },
   {
    "duration": 6,
    "start_time": "2021-07-07T17:25:13.104Z"
   },
   {
    "duration": 36,
    "start_time": "2021-07-07T17:25:13.662Z"
   },
   {
    "duration": 7,
    "start_time": "2021-07-07T17:25:14.528Z"
   },
   {
    "duration": 24,
    "start_time": "2021-07-07T17:25:27.982Z"
   },
   {
    "duration": 3,
    "start_time": "2021-07-07T17:25:48.982Z"
   },
   {
    "duration": 165,
    "start_time": "2021-07-07T17:25:48.987Z"
   },
   {
    "duration": 50,
    "start_time": "2021-07-07T17:25:49.154Z"
   },
   {
    "duration": 4,
    "start_time": "2021-07-07T17:25:49.206Z"
   },
   {
    "duration": 26,
    "start_time": "2021-07-07T17:25:49.212Z"
   },
   {
    "duration": 7,
    "start_time": "2021-07-07T17:25:49.240Z"
   },
   {
    "duration": 16,
    "start_time": "2021-07-07T17:25:49.249Z"
   },
   {
    "duration": 22,
    "start_time": "2021-07-07T17:25:49.266Z"
   },
   {
    "duration": 16,
    "start_time": "2021-07-07T17:25:49.291Z"
   },
   {
    "duration": 9,
    "start_time": "2021-07-07T17:25:49.309Z"
   },
   {
    "duration": 7,
    "start_time": "2021-07-07T17:25:49.319Z"
   },
   {
    "duration": 28,
    "start_time": "2021-07-07T17:25:49.328Z"
   },
   {
    "duration": 44,
    "start_time": "2021-07-07T17:25:49.357Z"
   },
   {
    "duration": 22,
    "start_time": "2021-07-07T17:25:49.403Z"
   },
   {
    "duration": 7,
    "start_time": "2021-07-07T17:25:49.427Z"
   },
   {
    "duration": 3,
    "start_time": "2021-07-07T17:25:49.436Z"
   },
   {
    "duration": 44,
    "start_time": "2021-07-07T17:25:49.441Z"
   },
   {
    "duration": 12,
    "start_time": "2021-07-07T17:25:49.488Z"
   },
   {
    "duration": 13,
    "start_time": "2021-07-07T17:25:49.502Z"
   },
   {
    "duration": 10,
    "start_time": "2021-07-07T17:25:49.516Z"
   },
   {
    "duration": 62,
    "start_time": "2021-07-07T17:25:49.527Z"
   },
   {
    "duration": 26,
    "start_time": "2021-07-07T17:26:51.809Z"
   },
   {
    "duration": 26,
    "start_time": "2021-07-07T17:26:55.759Z"
   },
   {
    "duration": 26,
    "start_time": "2021-07-07T17:27:04.501Z"
   },
   {
    "duration": 25,
    "start_time": "2021-07-07T17:28:24.859Z"
   },
   {
    "duration": 21,
    "start_time": "2021-07-07T17:28:55.250Z"
   },
   {
    "duration": 21,
    "start_time": "2021-07-07T17:28:58.885Z"
   },
   {
    "duration": 7,
    "start_time": "2021-07-07T17:45:40.972Z"
   },
   {
    "duration": 13,
    "start_time": "2021-07-07T17:45:42.529Z"
   },
   {
    "duration": 27,
    "start_time": "2021-07-07T17:45:51.026Z"
   },
   {
    "duration": 518,
    "start_time": "2021-07-07T17:46:15.532Z"
   },
   {
    "duration": 235,
    "start_time": "2021-07-07T17:46:16.053Z"
   },
   {
    "duration": 80,
    "start_time": "2021-07-07T17:46:16.292Z"
   },
   {
    "duration": 5,
    "start_time": "2021-07-07T17:46:16.373Z"
   },
   {
    "duration": 26,
    "start_time": "2021-07-07T17:46:16.380Z"
   },
   {
    "duration": 7,
    "start_time": "2021-07-07T17:46:16.408Z"
   },
   {
    "duration": 16,
    "start_time": "2021-07-07T17:46:16.418Z"
   },
   {
    "duration": 5,
    "start_time": "2021-07-07T17:46:16.436Z"
   },
   {
    "duration": 13,
    "start_time": "2021-07-07T17:46:16.442Z"
   },
   {
    "duration": 35,
    "start_time": "2021-07-07T17:46:16.456Z"
   },
   {
    "duration": 8,
    "start_time": "2021-07-07T17:46:16.493Z"
   },
   {
    "duration": 28,
    "start_time": "2021-07-07T17:46:16.502Z"
   },
   {
    "duration": 17,
    "start_time": "2021-07-07T17:46:16.532Z"
   },
   {
    "duration": 44,
    "start_time": "2021-07-07T17:46:16.551Z"
   },
   {
    "duration": 6,
    "start_time": "2021-07-07T17:46:16.597Z"
   },
   {
    "duration": 4,
    "start_time": "2021-07-07T17:46:16.605Z"
   },
   {
    "duration": 9,
    "start_time": "2021-07-07T17:46:16.610Z"
   },
   {
    "duration": 9,
    "start_time": "2021-07-07T17:46:16.621Z"
   },
   {
    "duration": 10,
    "start_time": "2021-07-07T17:46:16.632Z"
   },
   {
    "duration": 43,
    "start_time": "2021-07-07T17:46:16.644Z"
   },
   {
    "duration": 26,
    "start_time": "2021-07-07T17:46:16.689Z"
   },
   {
    "duration": 19,
    "start_time": "2021-07-07T17:46:16.718Z"
   },
   {
    "duration": 8,
    "start_time": "2021-07-07T17:46:16.738Z"
   },
   {
    "duration": 43,
    "start_time": "2021-07-07T17:46:16.747Z"
   },
   {
    "duration": 19,
    "start_time": "2021-07-07T17:46:16.791Z"
   },
   {
    "duration": 9,
    "start_time": "2021-07-07T17:46:16.812Z"
   },
   {
    "duration": 60,
    "start_time": "2021-07-07T17:46:16.822Z"
   },
   {
    "duration": -8,
    "start_time": "2021-07-07T17:46:16.892Z"
   },
   {
    "duration": 12,
    "start_time": "2021-07-07T17:48:47.707Z"
   },
   {
    "duration": 553,
    "start_time": "2021-07-07T18:10:09.350Z"
   },
   {
    "duration": 230,
    "start_time": "2021-07-07T18:10:09.905Z"
   },
   {
    "duration": 97,
    "start_time": "2021-07-07T18:10:10.137Z"
   },
   {
    "duration": 5,
    "start_time": "2021-07-07T18:10:10.236Z"
   },
   {
    "duration": 29,
    "start_time": "2021-07-07T18:10:10.242Z"
   },
   {
    "duration": 7,
    "start_time": "2021-07-07T18:10:10.272Z"
   },
   {
    "duration": 15,
    "start_time": "2021-07-07T18:10:10.281Z"
   },
   {
    "duration": 4,
    "start_time": "2021-07-07T18:10:10.299Z"
   },
   {
    "duration": 14,
    "start_time": "2021-07-07T18:10:10.305Z"
   },
   {
    "duration": 8,
    "start_time": "2021-07-07T18:10:10.321Z"
   },
   {
    "duration": 8,
    "start_time": "2021-07-07T18:10:10.331Z"
   },
   {
    "duration": 56,
    "start_time": "2021-07-07T18:10:10.341Z"
   },
   {
    "duration": 19,
    "start_time": "2021-07-07T18:10:10.399Z"
   },
   {
    "duration": 23,
    "start_time": "2021-07-07T18:10:10.419Z"
   },
   {
    "duration": 6,
    "start_time": "2021-07-07T18:10:10.444Z"
   },
   {
    "duration": 9,
    "start_time": "2021-07-07T18:10:10.451Z"
   },
   {
    "duration": 30,
    "start_time": "2021-07-07T18:10:10.462Z"
   },
   {
    "duration": 9,
    "start_time": "2021-07-07T18:10:10.494Z"
   },
   {
    "duration": 14,
    "start_time": "2021-07-07T18:10:10.505Z"
   },
   {
    "duration": 7,
    "start_time": "2021-07-07T18:10:10.521Z"
   },
   {
    "duration": 26,
    "start_time": "2021-07-07T18:10:10.530Z"
   },
   {
    "duration": 44,
    "start_time": "2021-07-07T18:10:10.558Z"
   },
   {
    "duration": 7,
    "start_time": "2021-07-07T18:10:10.605Z"
   },
   {
    "duration": 11,
    "start_time": "2021-07-07T18:10:10.614Z"
   },
   {
    "duration": 19,
    "start_time": "2021-07-07T18:10:10.626Z"
   },
   {
    "duration": 44,
    "start_time": "2021-07-07T18:10:10.646Z"
   },
   {
    "duration": 516,
    "start_time": "2021-07-07T18:14:00.826Z"
   },
   {
    "duration": 230,
    "start_time": "2021-07-07T18:14:01.344Z"
   },
   {
    "duration": 105,
    "start_time": "2021-07-07T18:14:01.576Z"
   },
   {
    "duration": 5,
    "start_time": "2021-07-07T18:14:01.683Z"
   },
   {
    "duration": 46,
    "start_time": "2021-07-07T18:14:01.690Z"
   },
   {
    "duration": 7,
    "start_time": "2021-07-07T18:14:01.738Z"
   },
   {
    "duration": 20,
    "start_time": "2021-07-07T18:14:01.747Z"
   },
   {
    "duration": 16,
    "start_time": "2021-07-07T18:14:01.769Z"
   },
   {
    "duration": 14,
    "start_time": "2021-07-07T18:14:01.787Z"
   },
   {
    "duration": 15,
    "start_time": "2021-07-07T18:14:01.803Z"
   },
   {
    "duration": 12,
    "start_time": "2021-07-07T18:14:01.820Z"
   },
   {
    "duration": 35,
    "start_time": "2021-07-07T18:14:01.833Z"
   },
   {
    "duration": 31,
    "start_time": "2021-07-07T18:14:01.869Z"
   },
   {
    "duration": 37,
    "start_time": "2021-07-07T18:14:01.902Z"
   },
   {
    "duration": 8,
    "start_time": "2021-07-07T18:14:01.942Z"
   },
   {
    "duration": 16,
    "start_time": "2021-07-07T18:14:01.952Z"
   },
   {
    "duration": 13,
    "start_time": "2021-07-07T18:14:01.970Z"
   },
   {
    "duration": 32,
    "start_time": "2021-07-07T18:14:01.985Z"
   },
   {
    "duration": 11,
    "start_time": "2021-07-07T18:14:02.019Z"
   },
   {
    "duration": 22,
    "start_time": "2021-07-07T18:14:02.031Z"
   },
   {
    "duration": 27,
    "start_time": "2021-07-07T18:14:02.055Z"
   },
   {
    "duration": 18,
    "start_time": "2021-07-07T18:14:02.084Z"
   },
   {
    "duration": 18,
    "start_time": "2021-07-07T18:14:02.106Z"
   },
   {
    "duration": 11,
    "start_time": "2021-07-07T18:14:02.126Z"
   },
   {
    "duration": 21,
    "start_time": "2021-07-07T18:14:02.138Z"
   },
   {
    "duration": 32,
    "start_time": "2021-07-07T18:14:02.161Z"
   },
   {
    "duration": 28,
    "start_time": "2021-07-07T18:14:44.295Z"
   },
   {
    "duration": 6,
    "start_time": "2021-07-07T18:15:05.834Z"
   },
   {
    "duration": 511,
    "start_time": "2021-07-07T18:15:41.541Z"
   },
   {
    "duration": 183,
    "start_time": "2021-07-07T18:15:42.054Z"
   },
   {
    "duration": 50,
    "start_time": "2021-07-07T18:15:42.239Z"
   },
   {
    "duration": 5,
    "start_time": "2021-07-07T18:15:42.291Z"
   },
   {
    "duration": 48,
    "start_time": "2021-07-07T18:15:42.297Z"
   },
   {
    "duration": 8,
    "start_time": "2021-07-07T18:15:42.346Z"
   },
   {
    "duration": 17,
    "start_time": "2021-07-07T18:15:42.356Z"
   },
   {
    "duration": 15,
    "start_time": "2021-07-07T18:15:42.375Z"
   },
   {
    "duration": 12,
    "start_time": "2021-07-07T18:15:42.392Z"
   },
   {
    "duration": 7,
    "start_time": "2021-07-07T18:15:42.406Z"
   },
   {
    "duration": 7,
    "start_time": "2021-07-07T18:15:42.415Z"
   },
   {
    "duration": 29,
    "start_time": "2021-07-07T18:15:42.423Z"
   },
   {
    "duration": 43,
    "start_time": "2021-07-07T18:15:42.453Z"
   },
   {
    "duration": 18,
    "start_time": "2021-07-07T18:15:42.497Z"
   },
   {
    "duration": 6,
    "start_time": "2021-07-07T18:15:42.516Z"
   },
   {
    "duration": 3,
    "start_time": "2021-07-07T18:15:42.523Z"
   },
   {
    "duration": 18,
    "start_time": "2021-07-07T18:15:42.528Z"
   },
   {
    "duration": 10,
    "start_time": "2021-07-07T18:15:42.547Z"
   },
   {
    "duration": 36,
    "start_time": "2021-07-07T18:15:42.559Z"
   },
   {
    "duration": 8,
    "start_time": "2021-07-07T18:15:42.597Z"
   },
   {
    "duration": 28,
    "start_time": "2021-07-07T18:15:42.606Z"
   },
   {
    "duration": 52,
    "start_time": "2021-07-07T18:15:42.635Z"
   },
   {
    "duration": 7,
    "start_time": "2021-07-07T18:15:42.690Z"
   },
   {
    "duration": 10,
    "start_time": "2021-07-07T18:15:42.699Z"
   },
   {
    "duration": 19,
    "start_time": "2021-07-07T18:15:42.711Z"
   },
   {
    "duration": 9,
    "start_time": "2021-07-07T18:15:42.732Z"
   },
   {
    "duration": 5,
    "start_time": "2021-07-07T18:15:42.743Z"
   },
   {
    "duration": 1450,
    "start_time": "2021-07-07T18:15:51.984Z"
   },
   {
    "duration": 161,
    "start_time": "2021-07-07T18:15:53.435Z"
   },
   {
    "duration": 124,
    "start_time": "2021-07-07T18:15:53.598Z"
   },
   {
    "duration": 5,
    "start_time": "2021-07-07T18:15:53.724Z"
   },
   {
    "duration": 34,
    "start_time": "2021-07-07T18:15:53.730Z"
   },
   {
    "duration": 7,
    "start_time": "2021-07-07T18:15:53.765Z"
   },
   {
    "duration": 15,
    "start_time": "2021-07-07T18:15:53.773Z"
   },
   {
    "duration": 5,
    "start_time": "2021-07-07T18:15:53.791Z"
   },
   {
    "duration": 19,
    "start_time": "2021-07-07T18:15:53.798Z"
   },
   {
    "duration": 9,
    "start_time": "2021-07-07T18:15:53.818Z"
   },
   {
    "duration": 19,
    "start_time": "2021-07-07T18:15:53.828Z"
   },
   {
    "duration": 27,
    "start_time": "2021-07-07T18:15:53.848Z"
   },
   {
    "duration": 16,
    "start_time": "2021-07-07T18:15:53.884Z"
   },
   {
    "duration": 29,
    "start_time": "2021-07-07T18:15:53.901Z"
   },
   {
    "duration": 5,
    "start_time": "2021-07-07T18:15:53.932Z"
   },
   {
    "duration": 15,
    "start_time": "2021-07-07T18:15:53.939Z"
   },
   {
    "duration": 13,
    "start_time": "2021-07-07T18:15:53.956Z"
   },
   {
    "duration": 20,
    "start_time": "2021-07-07T18:15:53.971Z"
   },
   {
    "duration": 14,
    "start_time": "2021-07-07T18:15:53.992Z"
   },
   {
    "duration": 9,
    "start_time": "2021-07-07T18:15:54.009Z"
   },
   {
    "duration": 28,
    "start_time": "2021-07-07T18:15:54.020Z"
   },
   {
    "duration": 50,
    "start_time": "2021-07-07T18:15:54.051Z"
   },
   {
    "duration": 8,
    "start_time": "2021-07-07T18:15:54.105Z"
   },
   {
    "duration": 11,
    "start_time": "2021-07-07T18:15:54.115Z"
   },
   {
    "duration": 20,
    "start_time": "2021-07-07T18:15:54.128Z"
   },
   {
    "duration": 13,
    "start_time": "2021-07-07T18:15:54.184Z"
   },
   {
    "duration": 7,
    "start_time": "2021-07-07T18:15:54.199Z"
   },
   {
    "duration": 7,
    "start_time": "2021-07-07T18:17:08.042Z"
   },
   {
    "duration": 8,
    "start_time": "2021-07-07T18:17:21.008Z"
   },
   {
    "duration": 7,
    "start_time": "2021-07-07T18:17:29.003Z"
   },
   {
    "duration": 8,
    "start_time": "2021-07-07T18:17:32.492Z"
   },
   {
    "duration": 9,
    "start_time": "2021-07-07T18:17:41.758Z"
   },
   {
    "duration": 255,
    "start_time": "2021-07-07T18:20:20.897Z"
   },
   {
    "duration": 173,
    "start_time": "2021-07-07T18:20:26.636Z"
   },
   {
    "duration": 7,
    "start_time": "2021-07-07T18:21:47.164Z"
   },
   {
    "duration": 254,
    "start_time": "2021-07-07T18:23:08.703Z"
   },
   {
    "duration": 21,
    "start_time": "2021-07-07T18:23:22.506Z"
   },
   {
    "duration": 315,
    "start_time": "2021-07-07T18:25:54.801Z"
   },
   {
    "duration": 34,
    "start_time": "2021-07-07T18:26:51.817Z"
   },
   {
    "duration": 327,
    "start_time": "2021-07-07T18:26:56.147Z"
   },
   {
    "duration": 342,
    "start_time": "2021-07-07T18:27:15.887Z"
   },
   {
    "duration": 302,
    "start_time": "2021-07-07T18:28:18.569Z"
   },
   {
    "duration": 226,
    "start_time": "2021-07-07T18:29:20.879Z"
   },
   {
    "duration": 207,
    "start_time": "2021-07-07T18:29:58.114Z"
   },
   {
    "duration": 140,
    "start_time": "2021-07-07T18:32:04.372Z"
   },
   {
    "duration": 158,
    "start_time": "2021-07-07T18:32:32.508Z"
   },
   {
    "duration": 145,
    "start_time": "2021-07-07T18:32:41.365Z"
   },
   {
    "duration": 132,
    "start_time": "2021-07-07T18:32:45.199Z"
   },
   {
    "duration": 11,
    "start_time": "2021-07-07T18:35:24.679Z"
   },
   {
    "duration": 268,
    "start_time": "2021-07-07T18:36:16.145Z"
   },
   {
    "duration": 227,
    "start_time": "2021-07-07T18:37:04.918Z"
   },
   {
    "duration": 3,
    "start_time": "2021-07-07T18:37:33.012Z"
   },
   {
    "duration": 671,
    "start_time": "2021-07-07T18:37:38.295Z"
   },
   {
    "duration": 54,
    "start_time": "2021-07-07T18:37:53.406Z"
   },
   {
    "duration": 631,
    "start_time": "2021-07-07T18:37:56.463Z"
   },
   {
    "duration": 19,
    "start_time": "2021-07-07T18:39:40.535Z"
   },
   {
    "duration": 20,
    "start_time": "2021-07-07T18:40:12.236Z"
   },
   {
    "duration": 633,
    "start_time": "2021-07-07T18:42:00.398Z"
   },
   {
    "duration": 218,
    "start_time": "2021-07-07T18:42:01.033Z"
   },
   {
    "duration": 49,
    "start_time": "2021-07-07T18:42:01.253Z"
   },
   {
    "duration": 5,
    "start_time": "2021-07-07T18:42:01.303Z"
   },
   {
    "duration": 27,
    "start_time": "2021-07-07T18:42:01.310Z"
   },
   {
    "duration": 8,
    "start_time": "2021-07-07T18:42:01.339Z"
   },
   {
    "duration": 20,
    "start_time": "2021-07-07T18:42:01.348Z"
   },
   {
    "duration": 6,
    "start_time": "2021-07-07T18:42:01.386Z"
   },
   {
    "duration": 16,
    "start_time": "2021-07-07T18:42:01.394Z"
   },
   {
    "duration": 9,
    "start_time": "2021-07-07T18:42:01.411Z"
   },
   {
    "duration": 11,
    "start_time": "2021-07-07T18:42:01.421Z"
   },
   {
    "duration": 31,
    "start_time": "2021-07-07T18:42:01.434Z"
   },
   {
    "duration": 18,
    "start_time": "2021-07-07T18:42:01.485Z"
   },
   {
    "duration": 23,
    "start_time": "2021-07-07T18:42:01.505Z"
   },
   {
    "duration": 6,
    "start_time": "2021-07-07T18:42:01.530Z"
   },
   {
    "duration": 10,
    "start_time": "2021-07-07T18:42:01.538Z"
   },
   {
    "duration": 13,
    "start_time": "2021-07-07T18:42:01.550Z"
   },
   {
    "duration": 24,
    "start_time": "2021-07-07T18:42:01.564Z"
   },
   {
    "duration": 20,
    "start_time": "2021-07-07T18:42:01.590Z"
   },
   {
    "duration": 8,
    "start_time": "2021-07-07T18:42:01.611Z"
   },
   {
    "duration": 31,
    "start_time": "2021-07-07T18:42:01.620Z"
   },
   {
    "duration": 39,
    "start_time": "2021-07-07T18:42:01.653Z"
   },
   {
    "duration": 8,
    "start_time": "2021-07-07T18:42:01.696Z"
   },
   {
    "duration": 13,
    "start_time": "2021-07-07T18:42:01.705Z"
   },
   {
    "duration": 20,
    "start_time": "2021-07-07T18:42:01.720Z"
   },
   {
    "duration": 12,
    "start_time": "2021-07-07T18:42:01.741Z"
   },
   {
    "duration": 35,
    "start_time": "2021-07-07T18:42:01.755Z"
   },
   {
    "duration": 14,
    "start_time": "2021-07-07T18:42:01.792Z"
   },
   {
    "duration": 188,
    "start_time": "2021-07-07T18:42:01.808Z"
   },
   {
    "duration": 19,
    "start_time": "2021-07-07T18:42:01.998Z"
   },
   {
    "duration": 175,
    "start_time": "2021-07-07T18:42:02.019Z"
   },
   {
    "duration": 134,
    "start_time": "2021-07-07T18:42:02.196Z"
   },
   {
    "duration": 10,
    "start_time": "2021-07-07T18:42:02.331Z"
   },
   {
    "duration": 19,
    "start_time": "2021-07-07T18:42:02.343Z"
   },
   {
    "duration": 628,
    "start_time": "2021-07-07T18:46:30.701Z"
   },
   {
    "duration": 183,
    "start_time": "2021-07-07T18:46:31.331Z"
   },
   {
    "duration": 48,
    "start_time": "2021-07-07T18:46:31.516Z"
   },
   {
    "duration": 5,
    "start_time": "2021-07-07T18:46:31.566Z"
   },
   {
    "duration": 28,
    "start_time": "2021-07-07T18:46:31.572Z"
   },
   {
    "duration": 8,
    "start_time": "2021-07-07T18:46:31.602Z"
   },
   {
    "duration": 19,
    "start_time": "2021-07-07T18:46:31.611Z"
   },
   {
    "duration": 6,
    "start_time": "2021-07-07T18:46:31.633Z"
   },
   {
    "duration": 17,
    "start_time": "2021-07-07T18:46:31.642Z"
   },
   {
    "duration": 10,
    "start_time": "2021-07-07T18:46:31.684Z"
   },
   {
    "duration": 9,
    "start_time": "2021-07-07T18:46:31.695Z"
   },
   {
    "duration": 28,
    "start_time": "2021-07-07T18:46:31.705Z"
   },
   {
    "duration": 18,
    "start_time": "2021-07-07T18:46:31.735Z"
   },
   {
    "duration": 48,
    "start_time": "2021-07-07T18:46:31.755Z"
   },
   {
    "duration": 6,
    "start_time": "2021-07-07T18:46:31.804Z"
   },
   {
    "duration": 4,
    "start_time": "2021-07-07T18:46:31.812Z"
   },
   {
    "duration": 9,
    "start_time": "2021-07-07T18:46:31.817Z"
   },
   {
    "duration": 10,
    "start_time": "2021-07-07T18:46:31.827Z"
   },
   {
    "duration": 12,
    "start_time": "2021-07-07T18:46:31.838Z"
   },
   {
    "duration": 39,
    "start_time": "2021-07-07T18:46:31.851Z"
   },
   {
    "duration": 24,
    "start_time": "2021-07-07T18:46:31.892Z"
   },
   {
    "duration": 15,
    "start_time": "2021-07-07T18:46:31.918Z"
   },
   {
    "duration": 7,
    "start_time": "2021-07-07T18:46:31.936Z"
   },
   {
    "duration": 8,
    "start_time": "2021-07-07T18:46:31.944Z"
   },
   {
    "duration": 19,
    "start_time": "2021-07-07T18:46:31.984Z"
   },
   {
    "duration": 10,
    "start_time": "2021-07-07T18:46:32.004Z"
   },
   {
    "duration": 5,
    "start_time": "2021-07-07T18:46:32.016Z"
   },
   {
    "duration": 9,
    "start_time": "2021-07-07T18:46:32.023Z"
   },
   {
    "duration": 199,
    "start_time": "2021-07-07T18:46:32.033Z"
   },
   {
    "duration": 19,
    "start_time": "2021-07-07T18:46:32.234Z"
   },
   {
    "duration": 159,
    "start_time": "2021-07-07T18:46:32.255Z"
   },
   {
    "duration": 134,
    "start_time": "2021-07-07T18:46:32.416Z"
   },
   {
    "duration": 10,
    "start_time": "2021-07-07T18:46:32.552Z"
   },
   {
    "duration": 34,
    "start_time": "2021-07-07T18:46:32.563Z"
   },
   {
    "duration": 1039,
    "start_time": "2021-07-08T08:41:09.419Z"
   },
   {
    "duration": 333,
    "start_time": "2021-07-08T08:41:10.459Z"
   },
   {
    "duration": 173,
    "start_time": "2021-07-08T08:41:10.794Z"
   },
   {
    "duration": 5,
    "start_time": "2021-07-08T08:41:10.968Z"
   },
   {
    "duration": 25,
    "start_time": "2021-07-08T08:41:10.975Z"
   },
   {
    "duration": 9,
    "start_time": "2021-07-08T08:41:11.002Z"
   },
   {
    "duration": 18,
    "start_time": "2021-07-08T08:41:11.013Z"
   },
   {
    "duration": 6,
    "start_time": "2021-07-08T08:41:11.033Z"
   },
   {
    "duration": 44,
    "start_time": "2021-07-08T08:41:11.042Z"
   },
   {
    "duration": 10,
    "start_time": "2021-07-08T08:41:11.088Z"
   },
   {
    "duration": 9,
    "start_time": "2021-07-08T08:41:11.100Z"
   },
   {
    "duration": 27,
    "start_time": "2021-07-08T08:41:11.111Z"
   },
   {
    "duration": 46,
    "start_time": "2021-07-08T08:41:11.140Z"
   },
   {
    "duration": 17,
    "start_time": "2021-07-08T08:41:11.187Z"
   },
   {
    "duration": 6,
    "start_time": "2021-07-08T08:41:11.206Z"
   },
   {
    "duration": 5,
    "start_time": "2021-07-08T08:41:11.213Z"
   },
   {
    "duration": 10,
    "start_time": "2021-07-08T08:41:11.219Z"
   },
   {
    "duration": 9,
    "start_time": "2021-07-08T08:41:11.230Z"
   },
   {
    "duration": 45,
    "start_time": "2021-07-08T08:41:11.241Z"
   },
   {
    "duration": 7,
    "start_time": "2021-07-08T08:41:11.287Z"
   },
   {
    "duration": 24,
    "start_time": "2021-07-08T08:41:11.296Z"
   },
   {
    "duration": 16,
    "start_time": "2021-07-08T08:41:11.322Z"
   },
   {
    "duration": 7,
    "start_time": "2021-07-08T08:41:11.341Z"
   },
   {
    "duration": 41,
    "start_time": "2021-07-08T08:41:11.349Z"
   },
   {
    "duration": 17,
    "start_time": "2021-07-08T08:41:11.391Z"
   },
   {
    "duration": 9,
    "start_time": "2021-07-08T08:41:11.410Z"
   },
   {
    "duration": 5,
    "start_time": "2021-07-08T08:41:11.421Z"
   },
   {
    "duration": 6,
    "start_time": "2021-07-08T08:41:11.428Z"
   },
   {
    "duration": 198,
    "start_time": "2021-07-08T08:41:11.435Z"
   },
   {
    "duration": 18,
    "start_time": "2021-07-08T08:41:11.635Z"
   },
   {
    "duration": 155,
    "start_time": "2021-07-08T08:41:11.655Z"
   },
   {
    "duration": 138,
    "start_time": "2021-07-08T08:41:11.811Z"
   },
   {
    "duration": 10,
    "start_time": "2021-07-08T08:41:11.950Z"
   },
   {
    "duration": 29,
    "start_time": "2021-07-08T08:41:11.961Z"
   },
   {
    "duration": 171,
    "start_time": "2021-07-08T08:47:44.522Z"
   },
   {
    "duration": 124,
    "start_time": "2021-07-08T08:47:46.872Z"
   },
   {
    "duration": 191,
    "start_time": "2021-07-08T08:47:58.148Z"
   },
   {
    "duration": 191,
    "start_time": "2021-07-08T08:48:07.412Z"
   },
   {
    "duration": 261,
    "start_time": "2021-07-08T08:48:10.385Z"
   },
   {
    "duration": 255,
    "start_time": "2021-07-08T08:48:14.494Z"
   },
   {
    "duration": 219,
    "start_time": "2021-07-08T08:48:22.752Z"
   },
   {
    "duration": 173,
    "start_time": "2021-07-08T08:49:06.395Z"
   },
   {
    "duration": 180,
    "start_time": "2021-07-08T08:49:21.011Z"
   },
   {
    "duration": 6,
    "start_time": "2021-07-08T08:50:31.697Z"
   },
   {
    "duration": 10,
    "start_time": "2021-07-08T08:50:47.394Z"
   },
   {
    "duration": 11,
    "start_time": "2021-07-08T08:53:49.332Z"
   },
   {
    "duration": 171,
    "start_time": "2021-07-08T08:54:28.408Z"
   },
   {
    "duration": 636,
    "start_time": "2021-07-08T09:02:48.385Z"
   },
   {
    "duration": 227,
    "start_time": "2021-07-08T09:02:49.023Z"
   },
   {
    "duration": 104,
    "start_time": "2021-07-08T09:02:49.252Z"
   },
   {
    "duration": 5,
    "start_time": "2021-07-08T09:02:49.358Z"
   },
   {
    "duration": 27,
    "start_time": "2021-07-08T09:02:49.365Z"
   },
   {
    "duration": 8,
    "start_time": "2021-07-08T09:02:49.394Z"
   },
   {
    "duration": 18,
    "start_time": "2021-07-08T09:02:49.404Z"
   },
   {
    "duration": 6,
    "start_time": "2021-07-08T09:02:49.424Z"
   },
   {
    "duration": 11,
    "start_time": "2021-07-08T09:02:49.433Z"
   },
   {
    "duration": 13,
    "start_time": "2021-07-08T09:02:49.485Z"
   },
   {
    "duration": 9,
    "start_time": "2021-07-08T09:02:49.500Z"
   },
   {
    "duration": 38,
    "start_time": "2021-07-08T09:02:49.511Z"
   },
   {
    "duration": 42,
    "start_time": "2021-07-08T09:02:49.551Z"
   },
   {
    "duration": 21,
    "start_time": "2021-07-08T09:02:49.594Z"
   },
   {
    "duration": 6,
    "start_time": "2021-07-08T09:02:49.616Z"
   },
   {
    "duration": 3,
    "start_time": "2021-07-08T09:02:49.623Z"
   },
   {
    "duration": 9,
    "start_time": "2021-07-08T09:02:49.628Z"
   },
   {
    "duration": 52,
    "start_time": "2021-07-08T09:02:49.638Z"
   },
   {
    "duration": 11,
    "start_time": "2021-07-08T09:02:49.692Z"
   },
   {
    "duration": 8,
    "start_time": "2021-07-08T09:02:49.704Z"
   },
   {
    "duration": 27,
    "start_time": "2021-07-08T09:02:49.713Z"
   },
   {
    "duration": 59,
    "start_time": "2021-07-08T09:02:49.741Z"
   },
   {
    "duration": 8,
    "start_time": "2021-07-08T09:02:49.803Z"
   },
   {
    "duration": 14,
    "start_time": "2021-07-08T09:02:49.813Z"
   },
   {
    "duration": 20,
    "start_time": "2021-07-08T09:02:49.829Z"
   },
   {
    "duration": 44,
    "start_time": "2021-07-08T09:02:49.851Z"
   },
   {
    "duration": 14,
    "start_time": "2021-07-08T09:02:49.896Z"
   },
   {
    "duration": 221,
    "start_time": "2021-07-08T09:02:49.912Z"
   },
   {
    "duration": 6,
    "start_time": "2021-07-08T09:02:50.134Z"
   },
   {
    "duration": 206,
    "start_time": "2021-07-08T09:02:50.142Z"
   },
   {
    "duration": 19,
    "start_time": "2021-07-08T09:02:50.350Z"
   },
   {
    "duration": 21,
    "start_time": "2021-07-08T09:02:50.370Z"
   },
   {
    "duration": 20,
    "start_time": "2021-07-08T09:02:50.393Z"
   },
   {
    "duration": 5,
    "start_time": "2021-07-08T09:02:50.414Z"
   },
   {
    "duration": 5,
    "start_time": "2021-07-08T09:03:34.173Z"
   },
   {
    "duration": 6,
    "start_time": "2021-07-08T09:04:49.062Z"
   },
   {
    "duration": 9,
    "start_time": "2021-07-08T09:04:50.118Z"
   },
   {
    "duration": 14,
    "start_time": "2021-07-08T09:04:58.512Z"
   },
   {
    "duration": 9,
    "start_time": "2021-07-08T09:05:10.988Z"
   },
   {
    "duration": 11,
    "start_time": "2021-07-08T09:05:11.743Z"
   },
   {
    "duration": 7,
    "start_time": "2021-07-08T09:05:25.677Z"
   },
   {
    "duration": 13,
    "start_time": "2021-07-08T09:05:47.189Z"
   },
   {
    "duration": 13,
    "start_time": "2021-07-08T09:05:54.755Z"
   },
   {
    "duration": 4,
    "start_time": "2021-07-08T09:06:29.189Z"
   },
   {
    "duration": 244,
    "start_time": "2021-07-08T09:06:29.195Z"
   },
   {
    "duration": 91,
    "start_time": "2021-07-08T09:06:29.441Z"
   },
   {
    "duration": 4,
    "start_time": "2021-07-08T09:06:29.534Z"
   },
   {
    "duration": 28,
    "start_time": "2021-07-08T09:06:29.540Z"
   },
   {
    "duration": 6,
    "start_time": "2021-07-08T09:06:29.570Z"
   },
   {
    "duration": 18,
    "start_time": "2021-07-08T09:06:29.578Z"
   },
   {
    "duration": 5,
    "start_time": "2021-07-08T09:06:29.597Z"
   },
   {
    "duration": 13,
    "start_time": "2021-07-08T09:06:29.605Z"
   },
   {
    "duration": 8,
    "start_time": "2021-07-08T09:06:29.620Z"
   },
   {
    "duration": 7,
    "start_time": "2021-07-08T09:06:29.630Z"
   },
   {
    "duration": 63,
    "start_time": "2021-07-08T09:06:29.639Z"
   },
   {
    "duration": 17,
    "start_time": "2021-07-08T09:06:29.704Z"
   },
   {
    "duration": 20,
    "start_time": "2021-07-08T09:06:29.723Z"
   },
   {
    "duration": 6,
    "start_time": "2021-07-08T09:06:29.745Z"
   },
   {
    "duration": 3,
    "start_time": "2021-07-08T09:06:29.752Z"
   },
   {
    "duration": 7,
    "start_time": "2021-07-08T09:06:29.785Z"
   },
   {
    "duration": 11,
    "start_time": "2021-07-08T09:06:29.794Z"
   },
   {
    "duration": 15,
    "start_time": "2021-07-08T09:06:29.807Z"
   },
   {
    "duration": 8,
    "start_time": "2021-07-08T09:06:29.823Z"
   },
   {
    "duration": 70,
    "start_time": "2021-07-08T09:06:29.832Z"
   },
   {
    "duration": 17,
    "start_time": "2021-07-08T09:06:29.903Z"
   },
   {
    "duration": 9,
    "start_time": "2021-07-08T09:06:29.921Z"
   },
   {
    "duration": 9,
    "start_time": "2021-07-08T09:06:29.932Z"
   },
   {
    "duration": 57,
    "start_time": "2021-07-08T09:06:29.942Z"
   },
   {
    "duration": 11,
    "start_time": "2021-07-08T09:06:30.001Z"
   },
   {
    "duration": 19,
    "start_time": "2021-07-08T09:06:30.016Z"
   },
   {
    "duration": 217,
    "start_time": "2021-07-08T09:06:30.037Z"
   },
   {
    "duration": 6,
    "start_time": "2021-07-08T09:06:30.255Z"
   },
   {
    "duration": 205,
    "start_time": "2021-07-08T09:06:30.263Z"
   },
   {
    "duration": 27,
    "start_time": "2021-07-08T09:06:30.470Z"
   },
   {
    "duration": 11,
    "start_time": "2021-07-08T09:06:30.500Z"
   },
   {
    "duration": 31,
    "start_time": "2021-07-08T09:06:30.513Z"
   },
   {
    "duration": 18,
    "start_time": "2021-07-08T09:06:30.546Z"
   },
   {
    "duration": 11,
    "start_time": "2021-07-08T09:06:30.566Z"
   },
   {
    "duration": 19,
    "start_time": "2021-07-08T09:06:30.579Z"
   },
   {
    "duration": 20,
    "start_time": "2021-07-08T09:06:49.466Z"
   },
   {
    "duration": 9,
    "start_time": "2021-07-08T09:06:51.994Z"
   },
   {
    "duration": 20,
    "start_time": "2021-07-08T09:06:52.273Z"
   },
   {
    "duration": 246,
    "start_time": "2021-07-08T09:10:21.272Z"
   },
   {
    "duration": 84,
    "start_time": "2021-07-08T09:10:21.436Z"
   },
   {
    "duration": 7,
    "start_time": "2021-07-08T09:10:37.608Z"
   },
   {
    "duration": 189,
    "start_time": "2021-07-08T09:10:38.573Z"
   },
   {
    "duration": 185,
    "start_time": "2021-07-08T09:10:53.181Z"
   },
   {
    "duration": 11,
    "start_time": "2021-07-08T09:10:59.549Z"
   },
   {
    "duration": 42,
    "start_time": "2021-07-08T09:10:59.709Z"
   },
   {
    "duration": 12,
    "start_time": "2021-07-08T09:11:02.857Z"
   },
   {
    "duration": 28,
    "start_time": "2021-07-08T09:11:10.062Z"
   },
   {
    "duration": 249,
    "start_time": "2021-07-08T09:11:37.388Z"
   },
   {
    "duration": 232,
    "start_time": "2021-07-08T09:11:49.485Z"
   },
   {
    "duration": 453,
    "start_time": "2021-07-08T09:12:01.546Z"
   },
   {
    "duration": 440,
    "start_time": "2021-07-08T09:12:12.347Z"
   },
   {
    "duration": 213,
    "start_time": "2021-07-08T09:13:32.196Z"
   },
   {
    "duration": 172,
    "start_time": "2021-07-08T09:14:07.400Z"
   },
   {
    "duration": 185,
    "start_time": "2021-07-08T09:14:14.905Z"
   },
   {
    "duration": 209,
    "start_time": "2021-07-08T09:14:40.109Z"
   },
   {
    "duration": 201,
    "start_time": "2021-07-08T09:14:54.506Z"
   },
   {
    "duration": 622,
    "start_time": "2021-07-08T09:18:14.497Z"
   },
   {
    "duration": 220,
    "start_time": "2021-07-08T09:18:15.121Z"
   },
   {
    "duration": 79,
    "start_time": "2021-07-08T09:18:15.343Z"
   },
   {
    "duration": 4,
    "start_time": "2021-07-08T09:18:15.425Z"
   },
   {
    "duration": 24,
    "start_time": "2021-07-08T09:18:15.431Z"
   },
   {
    "duration": 8,
    "start_time": "2021-07-08T09:18:15.457Z"
   },
   {
    "duration": 16,
    "start_time": "2021-07-08T09:18:15.466Z"
   },
   {
    "duration": 5,
    "start_time": "2021-07-08T09:18:15.484Z"
   },
   {
    "duration": 10,
    "start_time": "2021-07-08T09:18:15.493Z"
   },
   {
    "duration": 8,
    "start_time": "2021-07-08T09:18:15.504Z"
   },
   {
    "duration": 7,
    "start_time": "2021-07-08T09:18:15.513Z"
   },
   {
    "duration": 26,
    "start_time": "2021-07-08T09:18:15.522Z"
   },
   {
    "duration": 49,
    "start_time": "2021-07-08T09:18:15.550Z"
   },
   {
    "duration": 21,
    "start_time": "2021-07-08T09:18:15.601Z"
   },
   {
    "duration": 8,
    "start_time": "2021-07-08T09:18:15.624Z"
   },
   {
    "duration": 3,
    "start_time": "2021-07-08T09:18:15.634Z"
   },
   {
    "duration": 8,
    "start_time": "2021-07-08T09:18:15.639Z"
   },
   {
    "duration": 45,
    "start_time": "2021-07-08T09:18:15.649Z"
   },
   {
    "duration": 13,
    "start_time": "2021-07-08T09:18:15.696Z"
   },
   {
    "duration": 10,
    "start_time": "2021-07-08T09:18:15.711Z"
   },
   {
    "duration": 64,
    "start_time": "2021-07-08T09:18:15.722Z"
   },
   {
    "duration": 19,
    "start_time": "2021-07-08T09:18:15.788Z"
   },
   {
    "duration": 9,
    "start_time": "2021-07-08T09:18:15.809Z"
   },
   {
    "duration": 9,
    "start_time": "2021-07-08T09:18:15.820Z"
   },
   {
    "duration": 18,
    "start_time": "2021-07-08T09:18:15.831Z"
   },
   {
    "duration": 43,
    "start_time": "2021-07-08T09:18:15.851Z"
   },
   {
    "duration": 12,
    "start_time": "2021-07-08T09:18:15.897Z"
   },
   {
    "duration": 219,
    "start_time": "2021-07-08T09:18:15.911Z"
   },
   {
    "duration": 8,
    "start_time": "2021-07-08T09:18:16.132Z"
   },
   {
    "duration": 199,
    "start_time": "2021-07-08T09:18:16.141Z"
   },
   {
    "duration": 18,
    "start_time": "2021-07-08T09:18:16.341Z"
   },
   {
    "duration": 24,
    "start_time": "2021-07-08T09:18:16.361Z"
   },
   {
    "duration": 24,
    "start_time": "2021-07-08T09:18:16.387Z"
   },
   {
    "duration": 211,
    "start_time": "2021-07-08T09:18:16.413Z"
   },
   {
    "duration": 18,
    "start_time": "2021-07-08T09:18:16.626Z"
   },
   {
    "duration": 596,
    "start_time": "2021-07-08T10:06:33.623Z"
   },
   {
    "duration": 181,
    "start_time": "2021-07-08T10:06:34.221Z"
   },
   {
    "duration": 176,
    "start_time": "2021-07-08T10:06:34.635Z"
   },
   {
    "duration": 239,
    "start_time": "2021-07-08T10:06:55.572Z"
   },
   {
    "duration": 6,
    "start_time": "2021-07-08T10:06:57.687Z"
   },
   {
    "duration": 4,
    "start_time": "2021-07-08T10:07:03.956Z"
   },
   {
    "duration": 4,
    "start_time": "2021-07-08T10:07:10.376Z"
   },
   {
    "duration": 4,
    "start_time": "2021-07-08T10:17:19.889Z"
   },
   {
    "duration": 3,
    "start_time": "2021-07-08T10:19:19.407Z"
   },
   {
    "duration": 197,
    "start_time": "2021-07-08T10:19:19.412Z"
   },
   {
    "duration": 127,
    "start_time": "2021-07-08T10:19:19.611Z"
   },
   {
    "duration": 4,
    "start_time": "2021-07-08T10:19:19.740Z"
   },
   {
    "duration": 27,
    "start_time": "2021-07-08T10:19:19.746Z"
   },
   {
    "duration": 7,
    "start_time": "2021-07-08T10:19:19.775Z"
   },
   {
    "duration": 30,
    "start_time": "2021-07-08T10:19:19.784Z"
   },
   {
    "duration": 7,
    "start_time": "2021-07-08T10:19:19.817Z"
   },
   {
    "duration": 26,
    "start_time": "2021-07-08T10:19:19.826Z"
   },
   {
    "duration": 18,
    "start_time": "2021-07-08T10:19:19.854Z"
   },
   {
    "duration": 14,
    "start_time": "2021-07-08T10:19:19.874Z"
   },
   {
    "duration": 48,
    "start_time": "2021-07-08T10:19:19.890Z"
   },
   {
    "duration": 17,
    "start_time": "2021-07-08T10:19:19.940Z"
   },
   {
    "duration": 38,
    "start_time": "2021-07-08T10:19:19.959Z"
   },
   {
    "duration": 8,
    "start_time": "2021-07-08T10:19:19.999Z"
   },
   {
    "duration": 15,
    "start_time": "2021-07-08T10:19:20.009Z"
   },
   {
    "duration": 22,
    "start_time": "2021-07-08T10:19:20.026Z"
   },
   {
    "duration": 10,
    "start_time": "2021-07-08T10:19:20.050Z"
   },
   {
    "duration": 10,
    "start_time": "2021-07-08T10:19:20.062Z"
   },
   {
    "duration": 20,
    "start_time": "2021-07-08T10:19:20.073Z"
   },
   {
    "duration": 29,
    "start_time": "2021-07-08T10:19:20.095Z"
   },
   {
    "duration": 17,
    "start_time": "2021-07-08T10:19:20.126Z"
   },
   {
    "duration": 40,
    "start_time": "2021-07-08T10:19:20.146Z"
   },
   {
    "duration": 15,
    "start_time": "2021-07-08T10:19:20.189Z"
   },
   {
    "duration": 19,
    "start_time": "2021-07-08T10:19:20.206Z"
   },
   {
    "duration": 10,
    "start_time": "2021-07-08T10:19:20.226Z"
   },
   {
    "duration": 11,
    "start_time": "2021-07-08T10:19:20.238Z"
   },
   {
    "duration": 297,
    "start_time": "2021-07-08T10:19:20.250Z"
   },
   {
    "duration": 6,
    "start_time": "2021-07-08T10:19:20.549Z"
   },
   {
    "duration": 191,
    "start_time": "2021-07-08T10:19:20.557Z"
   },
   {
    "duration": 19,
    "start_time": "2021-07-08T10:19:20.750Z"
   },
   {
    "duration": 20,
    "start_time": "2021-07-08T10:19:20.771Z"
   },
   {
    "duration": 15,
    "start_time": "2021-07-08T10:19:20.793Z"
   },
   {
    "duration": 222,
    "start_time": "2021-07-08T10:19:20.809Z"
   },
   {
    "duration": 20,
    "start_time": "2021-07-08T10:19:21.033Z"
   },
   {
    "duration": 27,
    "start_time": "2021-07-08T10:45:04.055Z"
   },
   {
    "duration": 8,
    "start_time": "2021-07-08T10:45:08.478Z"
   },
   {
    "duration": 8,
    "start_time": "2021-07-08T10:45:31.982Z"
   },
   {
    "duration": 10,
    "start_time": "2021-07-08T10:46:01.221Z"
   },
   {
    "duration": 17,
    "start_time": "2021-07-08T10:46:40.011Z"
   },
   {
    "duration": 193,
    "start_time": "2021-07-08T10:48:19.471Z"
   },
   {
    "duration": 225,
    "start_time": "2021-07-08T10:49:26.480Z"
   },
   {
    "duration": 204,
    "start_time": "2021-07-08T10:49:59.992Z"
   },
   {
    "duration": 435,
    "start_time": "2021-07-08T10:50:06.779Z"
   },
   {
    "duration": 199,
    "start_time": "2021-07-08T10:50:14.891Z"
   },
   {
    "duration": 204,
    "start_time": "2021-07-08T10:50:18.501Z"
   },
   {
    "duration": 244,
    "start_time": "2021-07-08T10:50:23.359Z"
   },
   {
    "duration": 192,
    "start_time": "2021-07-08T10:50:29.135Z"
   },
   {
    "duration": 218,
    "start_time": "2021-07-08T10:50:33.092Z"
   },
   {
    "duration": 207,
    "start_time": "2021-07-08T10:52:45.381Z"
   },
   {
    "duration": 5,
    "start_time": "2021-07-08T10:53:34.641Z"
   },
   {
    "duration": 196,
    "start_time": "2021-07-08T10:53:41.478Z"
   },
   {
    "duration": 43,
    "start_time": "2021-07-08T10:53:50.335Z"
   },
   {
    "duration": 32,
    "start_time": "2021-07-08T10:53:55.294Z"
   },
   {
    "duration": 55,
    "start_time": "2021-07-08T10:54:09.675Z"
   },
   {
    "duration": 16,
    "start_time": "2021-07-08T10:54:12.260Z"
   },
   {
    "duration": 15,
    "start_time": "2021-07-08T10:54:49.150Z"
   },
   {
    "duration": 20,
    "start_time": "2021-07-08T10:56:07.596Z"
   },
   {
    "duration": 16,
    "start_time": "2021-07-08T10:58:26.276Z"
   },
   {
    "duration": 22,
    "start_time": "2021-07-08T10:59:00.486Z"
   },
   {
    "duration": 18,
    "start_time": "2021-07-08T11:02:09.653Z"
   },
   {
    "duration": 10,
    "start_time": "2021-07-08T11:03:44.331Z"
   },
   {
    "duration": 10,
    "start_time": "2021-07-08T11:03:54.055Z"
   },
   {
    "duration": 12,
    "start_time": "2021-07-08T11:04:41.967Z"
   },
   {
    "duration": 24,
    "start_time": "2021-07-08T11:07:30.732Z"
   },
   {
    "duration": 6,
    "start_time": "2021-07-08T11:07:37.364Z"
   },
   {
    "duration": 16,
    "start_time": "2021-07-08T11:08:01.819Z"
   },
   {
    "duration": 17,
    "start_time": "2021-07-08T11:09:47.488Z"
   },
   {
    "duration": 246,
    "start_time": "2021-07-08T11:10:00.830Z"
   },
   {
    "duration": 18,
    "start_time": "2021-07-08T11:13:55.195Z"
   },
   {
    "duration": 204,
    "start_time": "2021-07-08T11:14:04.951Z"
   },
   {
    "duration": 19,
    "start_time": "2021-07-08T11:15:10.613Z"
   },
   {
    "duration": 680,
    "start_time": "2021-07-08T11:16:25.793Z"
   },
   {
    "duration": 451,
    "start_time": "2021-07-08T11:16:40.313Z"
   },
   {
    "duration": 469,
    "start_time": "2021-07-08T11:17:21.286Z"
   },
   {
    "duration": 20,
    "start_time": "2021-07-08T11:19:12.554Z"
   },
   {
    "duration": 35,
    "start_time": "2021-07-08T11:20:05.484Z"
   },
   {
    "duration": 53,
    "start_time": "2021-07-08T11:21:40.050Z"
   },
   {
    "duration": 13,
    "start_time": "2021-07-08T11:22:26.059Z"
   },
   {
    "duration": 19,
    "start_time": "2021-07-08T11:22:47.419Z"
   },
   {
    "duration": 25,
    "start_time": "2021-07-08T11:23:19.958Z"
   },
   {
    "duration": 29,
    "start_time": "2021-07-08T11:23:25.415Z"
   },
   {
    "duration": 10,
    "start_time": "2021-07-08T11:24:45.138Z"
   },
   {
    "duration": 19,
    "start_time": "2021-07-08T11:24:54.498Z"
   },
   {
    "duration": 12,
    "start_time": "2021-07-08T11:25:32.225Z"
   },
   {
    "duration": 19,
    "start_time": "2021-07-08T11:25:37.092Z"
   },
   {
    "duration": 17,
    "start_time": "2021-07-08T11:25:58.116Z"
   },
   {
    "duration": 15,
    "start_time": "2021-07-08T11:26:02.258Z"
   },
   {
    "duration": 8,
    "start_time": "2021-07-08T11:26:59.682Z"
   },
   {
    "duration": 184,
    "start_time": "2021-07-08T11:27:21.894Z"
   },
   {
    "duration": 8,
    "start_time": "2021-07-08T11:27:23.824Z"
   },
   {
    "duration": 202,
    "start_time": "2021-07-08T11:27:23.962Z"
   },
   {
    "duration": 360,
    "start_time": "2021-07-08T11:28:33.215Z"
   },
   {
    "duration": 231,
    "start_time": "2021-07-08T11:32:05.542Z"
   },
   {
    "duration": 607,
    "start_time": "2021-07-08T11:36:27.854Z"
   },
   {
    "duration": 241,
    "start_time": "2021-07-08T11:36:28.463Z"
   },
   {
    "duration": 67,
    "start_time": "2021-07-08T11:36:28.709Z"
   },
   {
    "duration": 5,
    "start_time": "2021-07-08T11:36:28.778Z"
   },
   {
    "duration": 32,
    "start_time": "2021-07-08T11:36:28.784Z"
   },
   {
    "duration": 11,
    "start_time": "2021-07-08T11:36:28.819Z"
   },
   {
    "duration": 20,
    "start_time": "2021-07-08T11:36:28.834Z"
   },
   {
    "duration": 36,
    "start_time": "2021-07-08T11:36:28.857Z"
   },
   {
    "duration": 16,
    "start_time": "2021-07-08T11:36:28.895Z"
   },
   {
    "duration": 14,
    "start_time": "2021-07-08T11:36:28.913Z"
   },
   {
    "duration": 9,
    "start_time": "2021-07-08T11:36:28.930Z"
   },
   {
    "duration": 55,
    "start_time": "2021-07-08T11:36:28.941Z"
   },
   {
    "duration": 27,
    "start_time": "2021-07-08T11:36:28.999Z"
   },
   {
    "duration": 30,
    "start_time": "2021-07-08T11:36:29.028Z"
   },
   {
    "duration": 31,
    "start_time": "2021-07-08T11:36:29.060Z"
   },
   {
    "duration": 3,
    "start_time": "2021-07-08T11:36:29.093Z"
   },
   {
    "duration": 12,
    "start_time": "2021-07-08T11:36:29.099Z"
   },
   {
    "duration": 11,
    "start_time": "2021-07-08T11:36:29.112Z"
   },
   {
    "duration": 12,
    "start_time": "2021-07-08T11:36:29.125Z"
   },
   {
    "duration": 9,
    "start_time": "2021-07-08T11:36:29.139Z"
   },
   {
    "duration": 31,
    "start_time": "2021-07-08T11:36:29.191Z"
   },
   {
    "duration": 17,
    "start_time": "2021-07-08T11:36:29.226Z"
   },
   {
    "duration": 7,
    "start_time": "2021-07-08T11:36:29.245Z"
   },
   {
    "duration": 10,
    "start_time": "2021-07-08T11:36:29.254Z"
   },
   {
    "duration": 30,
    "start_time": "2021-07-08T11:36:29.292Z"
   },
   {
    "duration": 11,
    "start_time": "2021-07-08T11:36:29.324Z"
   },
   {
    "duration": 11,
    "start_time": "2021-07-08T11:36:29.337Z"
   },
   {
    "duration": 230,
    "start_time": "2021-07-08T11:36:29.349Z"
   },
   {
    "duration": 13,
    "start_time": "2021-07-08T11:36:29.588Z"
   },
   {
    "duration": 205,
    "start_time": "2021-07-08T11:36:29.603Z"
   },
   {
    "duration": 20,
    "start_time": "2021-07-08T11:36:29.810Z"
   },
   {
    "duration": 9,
    "start_time": "2021-07-08T11:36:29.832Z"
   },
   {
    "duration": 16,
    "start_time": "2021-07-08T11:36:29.843Z"
   },
   {
    "duration": 283,
    "start_time": "2021-07-08T11:36:29.861Z"
   },
   {
    "duration": 50,
    "start_time": "2021-07-08T11:36:30.146Z"
   },
   {
    "duration": 14,
    "start_time": "2021-07-08T11:36:30.198Z"
   },
   {
    "duration": 11,
    "start_time": "2021-07-08T11:36:30.214Z"
   },
   {
    "duration": 245,
    "start_time": "2021-07-08T11:36:30.227Z"
   },
   {
    "duration": 439,
    "start_time": "2021-07-08T11:36:30.474Z"
   },
   {
    "duration": 210,
    "start_time": "2021-07-08T11:36:30.915Z"
   },
   {
    "duration": 15,
    "start_time": "2021-07-08T11:36:31.127Z"
   },
   {
    "duration": 17,
    "start_time": "2021-07-08T11:38:20.451Z"
   },
   {
    "duration": 642,
    "start_time": "2021-07-08T11:46:17.881Z"
   },
   {
    "duration": 210,
    "start_time": "2021-07-08T11:46:18.525Z"
   },
   {
    "duration": 104,
    "start_time": "2021-07-08T11:46:18.741Z"
   },
   {
    "duration": 8,
    "start_time": "2021-07-08T11:46:18.847Z"
   },
   {
    "duration": 25,
    "start_time": "2021-07-08T11:46:18.857Z"
   },
   {
    "duration": 14,
    "start_time": "2021-07-08T11:46:18.884Z"
   },
   {
    "duration": 22,
    "start_time": "2021-07-08T11:46:18.900Z"
   },
   {
    "duration": 5,
    "start_time": "2021-07-08T11:46:18.924Z"
   },
   {
    "duration": 13,
    "start_time": "2021-07-08T11:46:18.931Z"
   },
   {
    "duration": 45,
    "start_time": "2021-07-08T11:46:18.946Z"
   },
   {
    "duration": 12,
    "start_time": "2021-07-08T11:46:18.993Z"
   },
   {
    "duration": 38,
    "start_time": "2021-07-08T11:46:19.006Z"
   },
   {
    "duration": 50,
    "start_time": "2021-07-08T11:46:19.046Z"
   },
   {
    "duration": 29,
    "start_time": "2021-07-08T11:46:19.099Z"
   },
   {
    "duration": 7,
    "start_time": "2021-07-08T11:46:19.130Z"
   },
   {
    "duration": 3,
    "start_time": "2021-07-08T11:46:19.139Z"
   },
   {
    "duration": 11,
    "start_time": "2021-07-08T11:46:19.144Z"
   },
   {
    "duration": 40,
    "start_time": "2021-07-08T11:46:19.157Z"
   },
   {
    "duration": 15,
    "start_time": "2021-07-08T11:46:19.199Z"
   },
   {
    "duration": 10,
    "start_time": "2021-07-08T11:46:19.217Z"
   },
   {
    "duration": 68,
    "start_time": "2021-07-08T11:46:19.230Z"
   },
   {
    "duration": 17,
    "start_time": "2021-07-08T11:46:19.301Z"
   },
   {
    "duration": 7,
    "start_time": "2021-07-08T11:46:19.321Z"
   },
   {
    "duration": 11,
    "start_time": "2021-07-08T11:46:19.330Z"
   },
   {
    "duration": 59,
    "start_time": "2021-07-08T11:46:19.343Z"
   },
   {
    "duration": 17,
    "start_time": "2021-07-08T11:46:19.405Z"
   },
   {
    "duration": 16,
    "start_time": "2021-07-08T11:46:19.424Z"
   },
   {
    "duration": 252,
    "start_time": "2021-07-08T11:46:19.443Z"
   },
   {
    "duration": 9,
    "start_time": "2021-07-08T11:46:19.697Z"
   },
   {
    "duration": 224,
    "start_time": "2021-07-08T11:46:19.708Z"
   },
   {
    "duration": 21,
    "start_time": "2021-07-08T11:46:19.934Z"
   },
   {
    "duration": 9,
    "start_time": "2021-07-08T11:46:19.956Z"
   },
   {
    "duration": 32,
    "start_time": "2021-07-08T11:46:19.967Z"
   },
   {
    "duration": 288,
    "start_time": "2021-07-08T11:46:20.004Z"
   },
   {
    "duration": 23,
    "start_time": "2021-07-08T11:46:20.300Z"
   },
   {
    "duration": 11,
    "start_time": "2021-07-08T11:46:20.325Z"
   },
   {
    "duration": 11,
    "start_time": "2021-07-08T11:46:20.339Z"
   },
   {
    "duration": 259,
    "start_time": "2021-07-08T11:46:20.352Z"
   },
   {
    "duration": 438,
    "start_time": "2021-07-08T11:46:20.613Z"
   },
   {
    "duration": 207,
    "start_time": "2021-07-08T11:46:21.054Z"
   },
   {
    "duration": 27,
    "start_time": "2021-07-08T11:46:21.262Z"
   },
   {
    "duration": 19,
    "start_time": "2021-07-08T11:46:21.291Z"
   },
   {
    "duration": 820,
    "start_time": "2021-07-08T11:49:01.655Z"
   },
   {
    "duration": 372,
    "start_time": "2021-07-08T11:49:02.478Z"
   },
   {
    "duration": 98,
    "start_time": "2021-07-08T11:49:02.853Z"
   },
   {
    "duration": 6,
    "start_time": "2021-07-08T11:49:02.953Z"
   },
   {
    "duration": 39,
    "start_time": "2021-07-08T11:49:02.960Z"
   },
   {
    "duration": 9,
    "start_time": "2021-07-08T11:49:03.003Z"
   },
   {
    "duration": 23,
    "start_time": "2021-07-08T11:49:03.014Z"
   },
   {
    "duration": 6,
    "start_time": "2021-07-08T11:49:03.041Z"
   },
   {
    "duration": 20,
    "start_time": "2021-07-08T11:49:03.049Z"
   },
   {
    "duration": 18,
    "start_time": "2021-07-08T11:49:03.084Z"
   },
   {
    "duration": 14,
    "start_time": "2021-07-08T11:49:03.104Z"
   },
   {
    "duration": 39,
    "start_time": "2021-07-08T11:49:03.119Z"
   },
   {
    "duration": 38,
    "start_time": "2021-07-08T11:49:03.160Z"
   },
   {
    "duration": 26,
    "start_time": "2021-07-08T11:49:03.200Z"
   },
   {
    "duration": 7,
    "start_time": "2021-07-08T11:49:03.227Z"
   },
   {
    "duration": 4,
    "start_time": "2021-07-08T11:49:03.236Z"
   },
   {
    "duration": 15,
    "start_time": "2021-07-08T11:49:03.243Z"
   },
   {
    "duration": 21,
    "start_time": "2021-07-08T11:49:03.285Z"
   },
   {
    "duration": 17,
    "start_time": "2021-07-08T11:49:03.309Z"
   },
   {
    "duration": 10,
    "start_time": "2021-07-08T11:49:03.328Z"
   },
   {
    "duration": 65,
    "start_time": "2021-07-08T11:49:03.340Z"
   },
   {
    "duration": 18,
    "start_time": "2021-07-08T11:49:03.407Z"
   },
   {
    "duration": 8,
    "start_time": "2021-07-08T11:49:03.428Z"
   },
   {
    "duration": 15,
    "start_time": "2021-07-08T11:49:03.438Z"
   },
   {
    "duration": 40,
    "start_time": "2021-07-08T11:49:03.455Z"
   },
   {
    "duration": 12,
    "start_time": "2021-07-08T11:49:03.497Z"
   },
   {
    "duration": 29,
    "start_time": "2021-07-08T11:49:03.511Z"
   },
   {
    "duration": 285,
    "start_time": "2021-07-08T11:49:03.542Z"
   },
   {
    "duration": 8,
    "start_time": "2021-07-08T11:49:03.829Z"
   },
   {
    "duration": 227,
    "start_time": "2021-07-08T11:49:03.838Z"
   },
   {
    "duration": 40,
    "start_time": "2021-07-08T11:49:04.066Z"
   },
   {
    "duration": 10,
    "start_time": "2021-07-08T11:49:04.108Z"
   },
   {
    "duration": 26,
    "start_time": "2021-07-08T11:49:04.121Z"
   },
   {
    "duration": 290,
    "start_time": "2021-07-08T11:49:04.149Z"
   },
   {
    "duration": 26,
    "start_time": "2021-07-08T11:49:04.441Z"
   },
   {
    "duration": 31,
    "start_time": "2021-07-08T11:49:04.470Z"
   },
   {
    "duration": 14,
    "start_time": "2021-07-08T11:49:04.503Z"
   },
   {
    "duration": 259,
    "start_time": "2021-07-08T11:49:04.521Z"
   },
   {
    "duration": 480,
    "start_time": "2021-07-08T11:49:04.782Z"
   },
   {
    "duration": 225,
    "start_time": "2021-07-08T11:49:05.264Z"
   },
   {
    "duration": 22,
    "start_time": "2021-07-08T11:49:05.491Z"
   },
   {
    "duration": 24,
    "start_time": "2021-07-08T11:49:05.515Z"
   },
   {
    "duration": 634,
    "start_time": "2021-07-08T11:52:24.960Z"
   },
   {
    "duration": 199,
    "start_time": "2021-07-08T11:52:25.599Z"
   },
   {
    "duration": 106,
    "start_time": "2021-07-08T11:52:25.803Z"
   },
   {
    "duration": 7,
    "start_time": "2021-07-08T11:52:25.911Z"
   },
   {
    "duration": 29,
    "start_time": "2021-07-08T11:52:25.920Z"
   },
   {
    "duration": 7,
    "start_time": "2021-07-08T11:52:25.951Z"
   },
   {
    "duration": 26,
    "start_time": "2021-07-08T11:52:25.961Z"
   },
   {
    "duration": 11,
    "start_time": "2021-07-08T11:52:25.990Z"
   },
   {
    "duration": 29,
    "start_time": "2021-07-08T11:52:26.005Z"
   },
   {
    "duration": 9,
    "start_time": "2021-07-08T11:52:26.036Z"
   },
   {
    "duration": 8,
    "start_time": "2021-07-08T11:52:26.047Z"
   },
   {
    "duration": 63,
    "start_time": "2021-07-08T11:52:26.057Z"
   },
   {
    "duration": 17,
    "start_time": "2021-07-08T11:52:26.122Z"
   },
   {
    "duration": 43,
    "start_time": "2021-07-08T11:52:26.142Z"
   },
   {
    "duration": 17,
    "start_time": "2021-07-08T11:52:26.187Z"
   },
   {
    "duration": 5,
    "start_time": "2021-07-08T11:52:26.206Z"
   },
   {
    "duration": 12,
    "start_time": "2021-07-08T11:52:26.212Z"
   },
   {
    "duration": 11,
    "start_time": "2021-07-08T11:52:26.226Z"
   },
   {
    "duration": 12,
    "start_time": "2021-07-08T11:52:26.238Z"
   },
   {
    "duration": 38,
    "start_time": "2021-07-08T11:52:26.252Z"
   },
   {
    "duration": 40,
    "start_time": "2021-07-08T11:52:26.292Z"
   },
   {
    "duration": 17,
    "start_time": "2021-07-08T11:52:26.336Z"
   },
   {
    "duration": 39,
    "start_time": "2021-07-08T11:52:26.355Z"
   },
   {
    "duration": 11,
    "start_time": "2021-07-08T11:52:26.395Z"
   },
   {
    "duration": 23,
    "start_time": "2021-07-08T11:52:26.408Z"
   },
   {
    "duration": 12,
    "start_time": "2021-07-08T11:52:26.432Z"
   },
   {
    "duration": 41,
    "start_time": "2021-07-08T11:52:26.446Z"
   },
   {
    "duration": 215,
    "start_time": "2021-07-08T11:52:26.493Z"
   },
   {
    "duration": 8,
    "start_time": "2021-07-08T11:52:26.710Z"
   },
   {
    "duration": 228,
    "start_time": "2021-07-08T11:52:26.720Z"
   },
   {
    "duration": 18,
    "start_time": "2021-07-08T11:52:26.950Z"
   },
   {
    "duration": 35,
    "start_time": "2021-07-08T11:52:26.969Z"
   },
   {
    "duration": 23,
    "start_time": "2021-07-08T11:52:27.006Z"
   },
   {
    "duration": 258,
    "start_time": "2021-07-08T11:52:27.030Z"
   },
   {
    "duration": 24,
    "start_time": "2021-07-08T11:52:27.290Z"
   },
   {
    "duration": 12,
    "start_time": "2021-07-08T11:52:27.316Z"
   },
   {
    "duration": 10,
    "start_time": "2021-07-08T11:52:27.329Z"
   },
   {
    "duration": 298,
    "start_time": "2021-07-08T11:52:27.341Z"
   },
   {
    "duration": 436,
    "start_time": "2021-07-08T11:52:27.641Z"
   },
   {
    "duration": 216,
    "start_time": "2021-07-08T11:52:28.079Z"
   },
   {
    "duration": 20,
    "start_time": "2021-07-08T11:52:28.297Z"
   },
   {
    "duration": 17,
    "start_time": "2021-07-08T11:52:28.319Z"
   },
   {
    "duration": 1203,
    "start_time": "2024-08-09T18:54:24.883Z"
   },
   {
    "duration": 250,
    "start_time": "2024-08-09T18:54:26.088Z"
   },
   {
    "duration": 2,
    "start_time": "2024-08-09T18:54:26.339Z"
   },
   {
    "duration": 16,
    "start_time": "2024-08-09T18:54:26.343Z"
   },
   {
    "duration": 17,
    "start_time": "2024-08-09T18:54:26.360Z"
   },
   {
    "duration": 18,
    "start_time": "2024-08-09T18:54:26.378Z"
   },
   {
    "duration": 8,
    "start_time": "2024-08-09T18:54:26.397Z"
   },
   {
    "duration": 10,
    "start_time": "2024-08-09T18:54:26.406Z"
   },
   {
    "duration": 4,
    "start_time": "2024-08-09T18:54:26.417Z"
   },
   {
    "duration": 4,
    "start_time": "2024-08-09T18:54:26.423Z"
   },
   {
    "duration": 19,
    "start_time": "2024-08-09T18:54:26.428Z"
   },
   {
    "duration": 14,
    "start_time": "2024-08-09T18:54:26.448Z"
   },
   {
    "duration": 488,
    "start_time": "2024-08-09T18:54:26.463Z"
   },
   {
    "duration": 9,
    "start_time": "2024-08-09T18:54:26.953Z"
   },
   {
    "duration": 10,
    "start_time": "2024-08-09T18:54:26.963Z"
   },
   {
    "duration": 6,
    "start_time": "2024-08-09T18:54:26.974Z"
   },
   {
    "duration": 28,
    "start_time": "2024-08-09T18:54:26.981Z"
   },
   {
    "duration": 11,
    "start_time": "2024-08-09T18:54:27.010Z"
   },
   {
    "duration": 13,
    "start_time": "2024-08-09T18:54:27.022Z"
   },
   {
    "duration": 11,
    "start_time": "2024-08-09T18:54:27.036Z"
   },
   {
    "duration": 4,
    "start_time": "2024-08-09T18:54:27.048Z"
   },
   {
    "duration": 8,
    "start_time": "2024-08-09T18:54:27.053Z"
   },
   {
    "duration": 3,
    "start_time": "2024-08-09T18:54:27.062Z"
   },
   {
    "duration": 12,
    "start_time": "2024-08-09T18:54:27.067Z"
   },
   {
    "duration": 34,
    "start_time": "2024-08-09T18:54:27.080Z"
   },
   {
    "duration": 7,
    "start_time": "2024-08-09T18:54:27.115Z"
   },
   {
    "duration": 6,
    "start_time": "2024-08-09T18:54:27.123Z"
   },
   {
    "duration": 2,
    "start_time": "2024-08-09T18:54:27.133Z"
   },
   {
    "duration": 4,
    "start_time": "2024-08-09T18:54:27.137Z"
   },
   {
    "duration": 65,
    "start_time": "2024-08-09T18:54:27.142Z"
   },
   {
    "duration": 0,
    "start_time": "2024-08-09T18:54:27.211Z"
   },
   {
    "duration": 0,
    "start_time": "2024-08-09T18:54:27.212Z"
   },
   {
    "duration": 0,
    "start_time": "2024-08-09T18:54:27.213Z"
   },
   {
    "duration": 0,
    "start_time": "2024-08-09T18:54:27.215Z"
   },
   {
    "duration": 0,
    "start_time": "2024-08-09T18:54:27.216Z"
   },
   {
    "duration": 0,
    "start_time": "2024-08-09T18:54:27.217Z"
   },
   {
    "duration": 0,
    "start_time": "2024-08-09T18:54:27.219Z"
   },
   {
    "duration": 0,
    "start_time": "2024-08-09T18:54:27.220Z"
   },
   {
    "duration": 0,
    "start_time": "2024-08-09T18:54:27.221Z"
   },
   {
    "duration": 0,
    "start_time": "2024-08-09T18:54:27.223Z"
   },
   {
    "duration": 0,
    "start_time": "2024-08-09T18:54:27.224Z"
   },
   {
    "duration": 0,
    "start_time": "2024-08-09T18:54:27.225Z"
   },
   {
    "duration": 0,
    "start_time": "2024-08-09T18:54:27.227Z"
   },
   {
    "duration": 0,
    "start_time": "2024-08-09T18:54:27.227Z"
   },
   {
    "duration": 0,
    "start_time": "2024-08-09T18:54:27.228Z"
   },
   {
    "duration": 1,
    "start_time": "2024-08-09T18:54:27.229Z"
   },
   {
    "duration": 0,
    "start_time": "2024-08-09T18:54:27.230Z"
   },
   {
    "duration": 0,
    "start_time": "2024-08-09T18:54:27.231Z"
   },
   {
    "duration": 0,
    "start_time": "2024-08-09T18:54:27.232Z"
   },
   {
    "duration": 0,
    "start_time": "2024-08-09T18:54:27.303Z"
   },
   {
    "duration": 0,
    "start_time": "2024-08-09T18:54:27.305Z"
   },
   {
    "duration": 0,
    "start_time": "2024-08-09T18:54:27.306Z"
   },
   {
    "duration": 0,
    "start_time": "2024-08-09T18:54:27.307Z"
   },
   {
    "duration": 0,
    "start_time": "2024-08-09T18:54:27.309Z"
   },
   {
    "duration": 0,
    "start_time": "2024-08-09T18:54:27.310Z"
   },
   {
    "duration": 0,
    "start_time": "2024-08-09T18:54:27.312Z"
   },
   {
    "duration": 0,
    "start_time": "2024-08-09T18:54:27.314Z"
   },
   {
    "duration": 0,
    "start_time": "2024-08-09T18:54:27.315Z"
   },
   {
    "duration": 0,
    "start_time": "2024-08-09T18:54:27.316Z"
   },
   {
    "duration": 0,
    "start_time": "2024-08-09T18:54:27.317Z"
   },
   {
    "duration": 0,
    "start_time": "2024-08-09T18:54:27.319Z"
   },
   {
    "duration": 0,
    "start_time": "2024-08-09T18:54:27.320Z"
   },
   {
    "duration": 0,
    "start_time": "2024-08-09T18:54:27.321Z"
   },
   {
    "duration": 0,
    "start_time": "2024-08-09T18:54:27.322Z"
   },
   {
    "duration": 0,
    "start_time": "2024-08-09T18:54:27.323Z"
   },
   {
    "duration": 0,
    "start_time": "2024-08-09T18:54:27.325Z"
   },
   {
    "duration": 0,
    "start_time": "2024-08-09T18:54:27.326Z"
   },
   {
    "duration": 0,
    "start_time": "2024-08-09T18:54:27.328Z"
   },
   {
    "duration": 0,
    "start_time": "2024-08-09T18:54:27.329Z"
   },
   {
    "duration": 0,
    "start_time": "2024-08-09T18:54:27.330Z"
   },
   {
    "duration": 0,
    "start_time": "2024-08-09T18:54:27.331Z"
   },
   {
    "duration": 0,
    "start_time": "2024-08-09T18:54:27.332Z"
   },
   {
    "duration": 0,
    "start_time": "2024-08-09T18:54:27.333Z"
   },
   {
    "duration": 0,
    "start_time": "2024-08-09T18:54:27.334Z"
   },
   {
    "duration": 0,
    "start_time": "2024-08-09T18:54:27.335Z"
   },
   {
    "duration": 0,
    "start_time": "2024-08-09T18:54:27.337Z"
   },
   {
    "duration": 0,
    "start_time": "2024-08-09T18:54:27.338Z"
   },
   {
    "duration": 0,
    "start_time": "2024-08-09T18:54:27.340Z"
   },
   {
    "duration": 0,
    "start_time": "2024-08-09T18:54:27.341Z"
   },
   {
    "duration": 0,
    "start_time": "2024-08-09T18:54:27.401Z"
   },
   {
    "duration": 0,
    "start_time": "2024-08-09T18:54:27.402Z"
   },
   {
    "duration": 0,
    "start_time": "2024-08-09T18:54:27.403Z"
   },
   {
    "duration": 0,
    "start_time": "2024-08-09T18:54:27.404Z"
   },
   {
    "duration": 0,
    "start_time": "2024-08-09T18:54:27.405Z"
   },
   {
    "duration": 0,
    "start_time": "2024-08-09T18:54:27.406Z"
   },
   {
    "duration": 0,
    "start_time": "2024-08-09T18:54:27.407Z"
   },
   {
    "duration": 0,
    "start_time": "2024-08-09T18:54:27.408Z"
   },
   {
    "duration": 0,
    "start_time": "2024-08-09T18:54:27.408Z"
   },
   {
    "duration": 0,
    "start_time": "2024-08-09T18:54:27.409Z"
   },
   {
    "duration": 0,
    "start_time": "2024-08-09T18:54:27.410Z"
   },
   {
    "duration": 0,
    "start_time": "2024-08-09T18:54:27.411Z"
   },
   {
    "duration": 0,
    "start_time": "2024-08-09T18:54:27.411Z"
   },
   {
    "duration": 0,
    "start_time": "2024-08-09T18:54:27.412Z"
   },
   {
    "duration": 0,
    "start_time": "2024-08-09T18:54:27.413Z"
   },
   {
    "duration": 0,
    "start_time": "2024-08-09T18:54:27.414Z"
   },
   {
    "duration": 0,
    "start_time": "2024-08-09T18:54:27.415Z"
   },
   {
    "duration": 0,
    "start_time": "2024-08-09T18:54:27.416Z"
   },
   {
    "duration": 0,
    "start_time": "2024-08-09T18:54:27.417Z"
   },
   {
    "duration": 0,
    "start_time": "2024-08-09T18:54:27.418Z"
   },
   {
    "duration": 0,
    "start_time": "2024-08-09T18:54:27.419Z"
   },
   {
    "duration": 3,
    "start_time": "2024-08-09T19:26:55.109Z"
   },
   {
    "duration": 18,
    "start_time": "2024-08-09T19:26:55.114Z"
   },
   {
    "duration": 8,
    "start_time": "2024-08-09T19:26:55.134Z"
   },
   {
    "duration": 33,
    "start_time": "2024-08-09T19:26:55.143Z"
   },
   {
    "duration": 3,
    "start_time": "2024-08-09T19:26:55.178Z"
   },
   {
    "duration": 17,
    "start_time": "2024-08-09T19:26:55.182Z"
   },
   {
    "duration": 17,
    "start_time": "2024-08-09T19:26:55.200Z"
   },
   {
    "duration": 29,
    "start_time": "2024-08-09T19:26:55.218Z"
   },
   {
    "duration": 12,
    "start_time": "2024-08-09T19:26:55.248Z"
   },
   {
    "duration": 5,
    "start_time": "2024-08-09T19:26:55.262Z"
   },
   {
    "duration": 22,
    "start_time": "2024-08-09T19:26:55.268Z"
   },
   {
    "duration": 10,
    "start_time": "2024-08-09T19:26:55.291Z"
   },
   {
    "duration": 250,
    "start_time": "2024-08-09T19:26:55.302Z"
   },
   {
    "duration": 5,
    "start_time": "2024-08-09T19:26:55.554Z"
   },
   {
    "duration": 23,
    "start_time": "2024-08-09T19:26:55.560Z"
   },
   {
    "duration": 20,
    "start_time": "2024-08-09T19:26:55.585Z"
   },
   {
    "duration": 277,
    "start_time": "2024-08-09T19:26:55.607Z"
   },
   {
    "duration": 125,
    "start_time": "2024-08-09T19:26:55.886Z"
   },
   {
    "duration": 257,
    "start_time": "2024-08-09T19:26:56.013Z"
   },
   {
    "duration": 3,
    "start_time": "2024-08-09T19:26:56.272Z"
   },
   {
    "duration": 288,
    "start_time": "2024-08-09T19:26:56.277Z"
   },
   {
    "duration": 3,
    "start_time": "2024-08-09T19:26:56.567Z"
   },
   {
    "duration": 280,
    "start_time": "2024-08-09T19:26:56.572Z"
   },
   {
    "duration": 5,
    "start_time": "2024-08-09T19:26:56.854Z"
   },
   {
    "duration": 7,
    "start_time": "2024-08-09T19:26:56.860Z"
   },
   {
    "duration": 6,
    "start_time": "2024-08-09T19:26:56.868Z"
   },
   {
    "duration": 155,
    "start_time": "2024-08-09T19:26:56.875Z"
   },
   {
    "duration": 18,
    "start_time": "2024-08-09T19:26:57.032Z"
   },
   {
    "duration": 98,
    "start_time": "2024-08-09T19:26:57.051Z"
   },
   {
    "duration": 0,
    "start_time": "2024-08-09T19:26:57.151Z"
   },
   {
    "duration": 0,
    "start_time": "2024-08-09T19:26:57.152Z"
   },
   {
    "duration": 0,
    "start_time": "2024-08-09T19:26:57.153Z"
   },
   {
    "duration": 0,
    "start_time": "2024-08-09T19:26:57.154Z"
   },
   {
    "duration": 0,
    "start_time": "2024-08-09T19:26:57.156Z"
   },
   {
    "duration": 0,
    "start_time": "2024-08-09T19:26:57.157Z"
   },
   {
    "duration": 0,
    "start_time": "2024-08-09T19:26:57.158Z"
   },
   {
    "duration": 0,
    "start_time": "2024-08-09T19:26:57.159Z"
   },
   {
    "duration": 0,
    "start_time": "2024-08-09T19:26:57.161Z"
   },
   {
    "duration": 0,
    "start_time": "2024-08-09T19:26:57.162Z"
   },
   {
    "duration": 0,
    "start_time": "2024-08-09T19:26:57.163Z"
   },
   {
    "duration": 0,
    "start_time": "2024-08-09T19:26:57.164Z"
   },
   {
    "duration": 0,
    "start_time": "2024-08-09T19:26:57.165Z"
   },
   {
    "duration": 0,
    "start_time": "2024-08-09T19:26:57.166Z"
   },
   {
    "duration": 0,
    "start_time": "2024-08-09T19:26:57.167Z"
   },
   {
    "duration": 0,
    "start_time": "2024-08-09T19:26:57.169Z"
   },
   {
    "duration": 0,
    "start_time": "2024-08-09T19:26:57.170Z"
   },
   {
    "duration": 0,
    "start_time": "2024-08-09T19:26:57.170Z"
   },
   {
    "duration": 0,
    "start_time": "2024-08-09T19:26:57.205Z"
   },
   {
    "duration": 0,
    "start_time": "2024-08-09T19:26:57.207Z"
   },
   {
    "duration": 0,
    "start_time": "2024-08-09T19:26:57.208Z"
   },
   {
    "duration": 0,
    "start_time": "2024-08-09T19:26:57.209Z"
   },
   {
    "duration": 0,
    "start_time": "2024-08-09T19:26:57.210Z"
   },
   {
    "duration": 0,
    "start_time": "2024-08-09T19:26:57.210Z"
   },
   {
    "duration": 0,
    "start_time": "2024-08-09T19:26:57.211Z"
   },
   {
    "duration": 0,
    "start_time": "2024-08-09T19:26:57.212Z"
   },
   {
    "duration": 0,
    "start_time": "2024-08-09T19:26:57.213Z"
   },
   {
    "duration": 0,
    "start_time": "2024-08-09T19:26:57.214Z"
   },
   {
    "duration": 0,
    "start_time": "2024-08-09T19:26:57.215Z"
   },
   {
    "duration": 0,
    "start_time": "2024-08-09T19:26:57.216Z"
   },
   {
    "duration": 0,
    "start_time": "2024-08-09T19:26:57.216Z"
   },
   {
    "duration": 0,
    "start_time": "2024-08-09T19:26:57.217Z"
   },
   {
    "duration": 0,
    "start_time": "2024-08-09T19:26:57.218Z"
   },
   {
    "duration": 0,
    "start_time": "2024-08-09T19:26:57.219Z"
   },
   {
    "duration": 0,
    "start_time": "2024-08-09T19:26:57.220Z"
   },
   {
    "duration": 0,
    "start_time": "2024-08-09T19:26:57.221Z"
   },
   {
    "duration": 0,
    "start_time": "2024-08-09T19:26:57.221Z"
   },
   {
    "duration": 0,
    "start_time": "2024-08-09T19:26:57.222Z"
   },
   {
    "duration": 0,
    "start_time": "2024-08-09T19:26:57.223Z"
   },
   {
    "duration": 0,
    "start_time": "2024-08-09T19:26:57.224Z"
   },
   {
    "duration": 0,
    "start_time": "2024-08-09T19:26:57.224Z"
   },
   {
    "duration": 1087,
    "start_time": "2024-08-09T19:41:04.954Z"
   },
   {
    "duration": 0,
    "start_time": "2024-08-09T19:41:06.043Z"
   },
   {
    "duration": 0,
    "start_time": "2024-08-09T19:41:06.044Z"
   },
   {
    "duration": 0,
    "start_time": "2024-08-09T19:41:06.045Z"
   },
   {
    "duration": 0,
    "start_time": "2024-08-09T19:41:06.046Z"
   },
   {
    "duration": 0,
    "start_time": "2024-08-09T19:41:06.047Z"
   },
   {
    "duration": 0,
    "start_time": "2024-08-09T19:41:06.048Z"
   },
   {
    "duration": 0,
    "start_time": "2024-08-09T19:41:06.050Z"
   },
   {
    "duration": 0,
    "start_time": "2024-08-09T19:41:06.051Z"
   },
   {
    "duration": 0,
    "start_time": "2024-08-09T19:41:06.053Z"
   },
   {
    "duration": 0,
    "start_time": "2024-08-09T19:41:06.054Z"
   },
   {
    "duration": 0,
    "start_time": "2024-08-09T19:41:06.054Z"
   },
   {
    "duration": 0,
    "start_time": "2024-08-09T19:41:06.056Z"
   },
   {
    "duration": 0,
    "start_time": "2024-08-09T19:41:06.056Z"
   },
   {
    "duration": 0,
    "start_time": "2024-08-09T19:41:06.058Z"
   },
   {
    "duration": 0,
    "start_time": "2024-08-09T19:41:06.059Z"
   },
   {
    "duration": 0,
    "start_time": "2024-08-09T19:41:06.060Z"
   },
   {
    "duration": 0,
    "start_time": "2024-08-09T19:41:06.061Z"
   },
   {
    "duration": 0,
    "start_time": "2024-08-09T19:41:06.062Z"
   },
   {
    "duration": 0,
    "start_time": "2024-08-09T19:41:06.064Z"
   },
   {
    "duration": 0,
    "start_time": "2024-08-09T19:41:06.065Z"
   },
   {
    "duration": 0,
    "start_time": "2024-08-09T19:41:06.066Z"
   },
   {
    "duration": 0,
    "start_time": "2024-08-09T19:41:06.067Z"
   },
   {
    "duration": 0,
    "start_time": "2024-08-09T19:41:06.068Z"
   },
   {
    "duration": 0,
    "start_time": "2024-08-09T19:41:06.069Z"
   },
   {
    "duration": 0,
    "start_time": "2024-08-09T19:41:06.070Z"
   },
   {
    "duration": 0,
    "start_time": "2024-08-09T19:41:06.071Z"
   },
   {
    "duration": 0,
    "start_time": "2024-08-09T19:41:06.072Z"
   },
   {
    "duration": 0,
    "start_time": "2024-08-09T19:41:06.073Z"
   },
   {
    "duration": 0,
    "start_time": "2024-08-09T19:41:06.074Z"
   },
   {
    "duration": 0,
    "start_time": "2024-08-09T19:41:06.075Z"
   },
   {
    "duration": 0,
    "start_time": "2024-08-09T19:41:06.076Z"
   },
   {
    "duration": 0,
    "start_time": "2024-08-09T19:41:06.077Z"
   },
   {
    "duration": 0,
    "start_time": "2024-08-09T19:41:06.078Z"
   },
   {
    "duration": 0,
    "start_time": "2024-08-09T19:41:06.079Z"
   },
   {
    "duration": 0,
    "start_time": "2024-08-09T19:41:06.101Z"
   },
   {
    "duration": 0,
    "start_time": "2024-08-09T19:41:06.102Z"
   },
   {
    "duration": 0,
    "start_time": "2024-08-09T19:41:06.103Z"
   },
   {
    "duration": 0,
    "start_time": "2024-08-09T19:41:06.104Z"
   },
   {
    "duration": 0,
    "start_time": "2024-08-09T19:41:06.105Z"
   },
   {
    "duration": 0,
    "start_time": "2024-08-09T19:41:06.106Z"
   },
   {
    "duration": 5,
    "start_time": "2024-08-09T19:41:57.841Z"
   },
   {
    "duration": 54,
    "start_time": "2024-08-09T19:41:57.849Z"
   },
   {
    "duration": 487,
    "start_time": "2024-08-09T19:41:57.905Z"
   },
   {
    "duration": 17,
    "start_time": "2024-08-09T19:41:58.393Z"
   },
   {
    "duration": 22,
    "start_time": "2024-08-09T19:41:58.412Z"
   },
   {
    "duration": 26,
    "start_time": "2024-08-09T19:41:58.435Z"
   },
   {
    "duration": 270,
    "start_time": "2024-08-09T19:41:58.463Z"
   },
   {
    "duration": 2,
    "start_time": "2024-08-09T19:41:58.735Z"
   },
   {
    "duration": 84,
    "start_time": "2024-08-09T19:41:58.738Z"
   },
   {
    "duration": 9,
    "start_time": "2024-08-09T19:41:58.824Z"
   },
   {
    "duration": 406,
    "start_time": "2024-08-09T19:41:58.835Z"
   },
   {
    "duration": 3,
    "start_time": "2024-08-09T19:41:59.243Z"
   },
   {
    "duration": 53,
    "start_time": "2024-08-09T19:41:59.247Z"
   },
   {
    "duration": 9,
    "start_time": "2024-08-09T19:41:59.302Z"
   },
   {
    "duration": 18,
    "start_time": "2024-08-09T19:41:59.312Z"
   },
   {
    "duration": 4,
    "start_time": "2024-08-09T19:41:59.331Z"
   },
   {
    "duration": 228,
    "start_time": "2024-08-09T19:41:59.336Z"
   },
   {
    "duration": 210,
    "start_time": "2024-08-09T19:41:59.565Z"
   },
   {
    "duration": 8,
    "start_time": "2024-08-09T19:41:59.776Z"
   },
   {
    "duration": 33,
    "start_time": "2024-08-09T19:41:59.786Z"
   },
   {
    "duration": 77,
    "start_time": "2024-08-09T19:41:59.821Z"
   },
   {
    "duration": 23,
    "start_time": "2024-08-09T19:41:59.900Z"
   },
   {
    "duration": 7,
    "start_time": "2024-08-09T19:41:59.925Z"
   },
   {
    "duration": 48,
    "start_time": "2024-08-09T19:41:59.933Z"
   },
   {
    "duration": 25,
    "start_time": "2024-08-09T19:41:59.982Z"
   },
   {
    "duration": 0,
    "start_time": "2024-08-09T19:42:00.008Z"
   },
   {
    "duration": 0,
    "start_time": "2024-08-09T19:42:00.010Z"
   },
   {
    "duration": 0,
    "start_time": "2024-08-09T19:42:00.011Z"
   },
   {
    "duration": 0,
    "start_time": "2024-08-09T19:42:00.012Z"
   },
   {
    "duration": 0,
    "start_time": "2024-08-09T19:42:00.012Z"
   },
   {
    "duration": 0,
    "start_time": "2024-08-09T19:42:00.013Z"
   },
   {
    "duration": 0,
    "start_time": "2024-08-09T19:42:00.014Z"
   },
   {
    "duration": 0,
    "start_time": "2024-08-09T19:42:00.015Z"
   },
   {
    "duration": 0,
    "start_time": "2024-08-09T19:42:00.016Z"
   },
   {
    "duration": 0,
    "start_time": "2024-08-09T19:42:00.017Z"
   },
   {
    "duration": 0,
    "start_time": "2024-08-09T19:42:00.018Z"
   },
   {
    "duration": 0,
    "start_time": "2024-08-09T19:42:00.019Z"
   },
   {
    "duration": 0,
    "start_time": "2024-08-09T19:42:00.019Z"
   },
   {
    "duration": 0,
    "start_time": "2024-08-09T19:42:00.021Z"
   },
   {
    "duration": 0,
    "start_time": "2024-08-09T19:42:00.022Z"
   },
   {
    "duration": 16,
    "start_time": "2024-08-09T19:57:24.580Z"
   },
   {
    "duration": 2,
    "start_time": "2024-08-09T19:58:00.041Z"
   },
   {
    "duration": 1144,
    "start_time": "2024-08-09T19:58:00.048Z"
   },
   {
    "duration": 0,
    "start_time": "2024-08-09T19:58:01.195Z"
   },
   {
    "duration": 0,
    "start_time": "2024-08-09T19:58:01.196Z"
   },
   {
    "duration": 0,
    "start_time": "2024-08-09T19:58:01.197Z"
   },
   {
    "duration": 0,
    "start_time": "2024-08-09T19:58:01.198Z"
   },
   {
    "duration": 0,
    "start_time": "2024-08-09T19:58:01.199Z"
   },
   {
    "duration": 0,
    "start_time": "2024-08-09T19:58:01.200Z"
   },
   {
    "duration": 0,
    "start_time": "2024-08-09T19:58:01.201Z"
   },
   {
    "duration": 0,
    "start_time": "2024-08-09T19:58:01.202Z"
   },
   {
    "duration": 0,
    "start_time": "2024-08-09T19:58:01.204Z"
   },
   {
    "duration": 0,
    "start_time": "2024-08-09T19:58:01.205Z"
   },
   {
    "duration": 0,
    "start_time": "2024-08-09T19:58:01.206Z"
   },
   {
    "duration": 0,
    "start_time": "2024-08-09T19:58:01.207Z"
   },
   {
    "duration": 0,
    "start_time": "2024-08-09T19:58:01.208Z"
   },
   {
    "duration": 10,
    "start_time": "2024-08-09T19:58:33.459Z"
   },
   {
    "duration": 14,
    "start_time": "2024-08-09T19:58:34.003Z"
   },
   {
    "duration": 13,
    "start_time": "2024-08-09T19:58:34.941Z"
   },
   {
    "duration": 10,
    "start_time": "2024-08-09T19:58:36.326Z"
   },
   {
    "duration": 4,
    "start_time": "2024-08-09T19:58:36.704Z"
   },
   {
    "duration": 86,
    "start_time": "2024-08-09T19:58:37.059Z"
   },
   {
    "duration": 93,
    "start_time": "2024-08-09T19:58:37.800Z"
   },
   {
    "duration": 83,
    "start_time": "2024-08-09T19:58:38.529Z"
   },
   {
    "duration": 10,
    "start_time": "2024-08-09T19:58:43.629Z"
   },
   {
    "duration": 147,
    "start_time": "2024-08-09T19:58:43.865Z"
   },
   {
    "duration": 10,
    "start_time": "2024-08-09T19:58:45.551Z"
   },
   {
    "duration": 25,
    "start_time": "2024-08-09T19:58:46.273Z"
   },
   {
    "duration": 84,
    "start_time": "2024-08-10T12:38:29.585Z"
   },
   {
    "duration": 534,
    "start_time": "2024-08-10T12:39:54.056Z"
   },
   {
    "duration": 44,
    "start_time": "2024-08-10T12:46:07.769Z"
   },
   {
    "duration": 1362,
    "start_time": "2024-08-10T12:46:15.092Z"
   },
   {
    "duration": 271,
    "start_time": "2024-08-10T12:46:16.456Z"
   },
   {
    "duration": 2,
    "start_time": "2024-08-10T12:46:16.729Z"
   },
   {
    "duration": 8,
    "start_time": "2024-08-10T12:46:16.734Z"
   },
   {
    "duration": 16,
    "start_time": "2024-08-10T12:46:16.744Z"
   },
   {
    "duration": 10,
    "start_time": "2024-08-10T12:46:16.762Z"
   },
   {
    "duration": 5,
    "start_time": "2024-08-10T12:46:16.774Z"
   },
   {
    "duration": 13,
    "start_time": "2024-08-10T12:46:16.781Z"
   },
   {
    "duration": 6,
    "start_time": "2024-08-10T12:46:16.817Z"
   },
   {
    "duration": 4,
    "start_time": "2024-08-10T12:46:16.826Z"
   },
   {
    "duration": 15,
    "start_time": "2024-08-10T12:46:16.832Z"
   },
   {
    "duration": 21,
    "start_time": "2024-08-10T12:46:16.848Z"
   },
   {
    "duration": 621,
    "start_time": "2024-08-10T12:46:16.870Z"
   },
   {
    "duration": 11,
    "start_time": "2024-08-10T12:46:17.493Z"
   },
   {
    "duration": 42,
    "start_time": "2024-08-10T12:46:17.505Z"
   },
   {
    "duration": 4,
    "start_time": "2024-08-10T12:46:17.549Z"
   },
   {
    "duration": 13,
    "start_time": "2024-08-10T12:46:17.555Z"
   },
   {
    "duration": 9,
    "start_time": "2024-08-10T12:46:17.569Z"
   },
   {
    "duration": 12,
    "start_time": "2024-08-10T12:46:17.579Z"
   },
   {
    "duration": 9,
    "start_time": "2024-08-10T12:46:17.593Z"
   },
   {
    "duration": 17,
    "start_time": "2024-08-10T12:46:17.603Z"
   },
   {
    "duration": 8,
    "start_time": "2024-08-10T12:46:17.621Z"
   },
   {
    "duration": 11,
    "start_time": "2024-08-10T12:46:17.631Z"
   },
   {
    "duration": 15,
    "start_time": "2024-08-10T12:46:17.644Z"
   },
   {
    "duration": 26,
    "start_time": "2024-08-10T12:46:17.662Z"
   },
   {
    "duration": 36,
    "start_time": "2024-08-10T12:46:17.690Z"
   },
   {
    "duration": 7,
    "start_time": "2024-08-10T12:46:17.728Z"
   },
   {
    "duration": 4,
    "start_time": "2024-08-10T12:46:17.739Z"
   },
   {
    "duration": 8,
    "start_time": "2024-08-10T12:46:17.744Z"
   },
   {
    "duration": 78,
    "start_time": "2024-08-10T12:46:17.753Z"
   },
   {
    "duration": 0,
    "start_time": "2024-08-10T12:46:17.834Z"
   },
   {
    "duration": 0,
    "start_time": "2024-08-10T12:46:17.835Z"
   },
   {
    "duration": 0,
    "start_time": "2024-08-10T12:46:17.836Z"
   },
   {
    "duration": 0,
    "start_time": "2024-08-10T12:46:17.837Z"
   },
   {
    "duration": 0,
    "start_time": "2024-08-10T12:46:17.838Z"
   },
   {
    "duration": 0,
    "start_time": "2024-08-10T12:46:17.839Z"
   },
   {
    "duration": 0,
    "start_time": "2024-08-10T12:46:17.841Z"
   },
   {
    "duration": 0,
    "start_time": "2024-08-10T12:46:17.842Z"
   },
   {
    "duration": 0,
    "start_time": "2024-08-10T12:46:17.843Z"
   },
   {
    "duration": 0,
    "start_time": "2024-08-10T12:46:17.844Z"
   },
   {
    "duration": 0,
    "start_time": "2024-08-10T12:46:17.845Z"
   },
   {
    "duration": 0,
    "start_time": "2024-08-10T12:46:17.846Z"
   },
   {
    "duration": 0,
    "start_time": "2024-08-10T12:46:17.847Z"
   },
   {
    "duration": 0,
    "start_time": "2024-08-10T12:46:17.848Z"
   },
   {
    "duration": 0,
    "start_time": "2024-08-10T12:46:17.848Z"
   },
   {
    "duration": 0,
    "start_time": "2024-08-10T12:46:17.849Z"
   },
   {
    "duration": 0,
    "start_time": "2024-08-10T12:46:17.851Z"
   },
   {
    "duration": 0,
    "start_time": "2024-08-10T12:46:17.851Z"
   },
   {
    "duration": 0,
    "start_time": "2024-08-10T12:46:17.853Z"
   },
   {
    "duration": 0,
    "start_time": "2024-08-10T12:46:17.854Z"
   },
   {
    "duration": 0,
    "start_time": "2024-08-10T12:46:17.854Z"
   },
   {
    "duration": 0,
    "start_time": "2024-08-10T12:46:17.855Z"
   },
   {
    "duration": 0,
    "start_time": "2024-08-10T12:46:17.856Z"
   },
   {
    "duration": 0,
    "start_time": "2024-08-10T12:46:17.857Z"
   },
   {
    "duration": 0,
    "start_time": "2024-08-10T12:46:17.858Z"
   },
   {
    "duration": 0,
    "start_time": "2024-08-10T12:46:17.859Z"
   },
   {
    "duration": 0,
    "start_time": "2024-08-10T12:46:17.860Z"
   },
   {
    "duration": 0,
    "start_time": "2024-08-10T12:46:17.862Z"
   },
   {
    "duration": 0,
    "start_time": "2024-08-10T12:46:17.863Z"
   },
   {
    "duration": 0,
    "start_time": "2024-08-10T12:46:17.865Z"
   },
   {
    "duration": 0,
    "start_time": "2024-08-10T12:46:17.866Z"
   },
   {
    "duration": 0,
    "start_time": "2024-08-10T12:46:17.867Z"
   },
   {
    "duration": 0,
    "start_time": "2024-08-10T12:46:17.868Z"
   },
   {
    "duration": 0,
    "start_time": "2024-08-10T12:46:17.870Z"
   },
   {
    "duration": 0,
    "start_time": "2024-08-10T12:46:17.918Z"
   },
   {
    "duration": 0,
    "start_time": "2024-08-10T12:46:17.919Z"
   },
   {
    "duration": 0,
    "start_time": "2024-08-10T12:46:17.920Z"
   },
   {
    "duration": 0,
    "start_time": "2024-08-10T12:46:17.921Z"
   },
   {
    "duration": 0,
    "start_time": "2024-08-10T12:46:17.923Z"
   },
   {
    "duration": 0,
    "start_time": "2024-08-10T12:46:17.924Z"
   },
   {
    "duration": 0,
    "start_time": "2024-08-10T12:46:17.925Z"
   },
   {
    "duration": 0,
    "start_time": "2024-08-10T12:46:17.926Z"
   },
   {
    "duration": 0,
    "start_time": "2024-08-10T12:46:17.927Z"
   },
   {
    "duration": 0,
    "start_time": "2024-08-10T12:46:17.928Z"
   },
   {
    "duration": 0,
    "start_time": "2024-08-10T12:46:17.929Z"
   },
   {
    "duration": 0,
    "start_time": "2024-08-10T12:46:17.931Z"
   },
   {
    "duration": 0,
    "start_time": "2024-08-10T12:46:17.931Z"
   },
   {
    "duration": 0,
    "start_time": "2024-08-10T12:46:17.933Z"
   },
   {
    "duration": 0,
    "start_time": "2024-08-10T12:46:17.934Z"
   },
   {
    "duration": 0,
    "start_time": "2024-08-10T12:46:17.935Z"
   },
   {
    "duration": 0,
    "start_time": "2024-08-10T12:46:17.936Z"
   },
   {
    "duration": 0,
    "start_time": "2024-08-10T12:46:17.937Z"
   },
   {
    "duration": 0,
    "start_time": "2024-08-10T12:46:17.938Z"
   },
   {
    "duration": 0,
    "start_time": "2024-08-10T12:46:17.939Z"
   },
   {
    "duration": 0,
    "start_time": "2024-08-10T12:46:17.940Z"
   },
   {
    "duration": 0,
    "start_time": "2024-08-10T12:46:17.941Z"
   },
   {
    "duration": 0,
    "start_time": "2024-08-10T12:46:17.943Z"
   },
   {
    "duration": 0,
    "start_time": "2024-08-10T12:46:17.944Z"
   },
   {
    "duration": 0,
    "start_time": "2024-08-10T12:46:17.944Z"
   },
   {
    "duration": 0,
    "start_time": "2024-08-10T12:46:17.946Z"
   },
   {
    "duration": 0,
    "start_time": "2024-08-10T12:46:17.947Z"
   },
   {
    "duration": 0,
    "start_time": "2024-08-10T12:46:17.948Z"
   },
   {
    "duration": 0,
    "start_time": "2024-08-10T12:46:17.949Z"
   },
   {
    "duration": 0,
    "start_time": "2024-08-10T12:46:17.950Z"
   },
   {
    "duration": 0,
    "start_time": "2024-08-10T12:46:17.951Z"
   },
   {
    "duration": 0,
    "start_time": "2024-08-10T12:46:17.951Z"
   },
   {
    "duration": 0,
    "start_time": "2024-08-10T12:46:17.952Z"
   },
   {
    "duration": 0,
    "start_time": "2024-08-10T12:46:17.953Z"
   },
   {
    "duration": 0,
    "start_time": "2024-08-10T12:46:17.954Z"
   },
   {
    "duration": 0,
    "start_time": "2024-08-10T12:46:18.018Z"
   },
   {
    "duration": 106,
    "start_time": "2024-08-10T12:49:07.757Z"
   },
   {
    "duration": 10,
    "start_time": "2024-08-10T12:49:12.550Z"
   },
   {
    "duration": 17,
    "start_time": "2024-08-10T12:49:13.289Z"
   },
   {
    "duration": 1232,
    "start_time": "2024-08-10T13:05:17.804Z"
   },
   {
    "duration": 159,
    "start_time": "2024-08-10T13:05:19.038Z"
   },
   {
    "duration": 3,
    "start_time": "2024-08-10T13:05:19.198Z"
   },
   {
    "duration": 20,
    "start_time": "2024-08-10T13:05:19.203Z"
   },
   {
    "duration": 32,
    "start_time": "2024-08-10T13:05:19.225Z"
   },
   {
    "duration": 10,
    "start_time": "2024-08-10T13:05:19.259Z"
   },
   {
    "duration": 6,
    "start_time": "2024-08-10T13:05:19.270Z"
   },
   {
    "duration": 13,
    "start_time": "2024-08-10T13:05:19.277Z"
   },
   {
    "duration": 5,
    "start_time": "2024-08-10T13:05:19.292Z"
   },
   {
    "duration": 23,
    "start_time": "2024-08-10T13:05:19.299Z"
   },
   {
    "duration": 15,
    "start_time": "2024-08-10T13:05:19.324Z"
   },
   {
    "duration": 19,
    "start_time": "2024-08-10T13:05:19.341Z"
   },
   {
    "duration": 627,
    "start_time": "2024-08-10T13:05:19.362Z"
   },
   {
    "duration": 11,
    "start_time": "2024-08-10T13:05:19.992Z"
   },
   {
    "duration": 31,
    "start_time": "2024-08-10T13:05:20.005Z"
   },
   {
    "duration": 55,
    "start_time": "2024-08-10T13:05:20.037Z"
   },
   {
    "duration": 36,
    "start_time": "2024-08-10T13:05:20.094Z"
   },
   {
    "duration": 10,
    "start_time": "2024-08-10T13:05:20.132Z"
   },
   {
    "duration": 20,
    "start_time": "2024-08-10T13:05:20.143Z"
   },
   {
    "duration": 11,
    "start_time": "2024-08-10T13:05:20.164Z"
   },
   {
    "duration": 4,
    "start_time": "2024-08-10T13:05:20.176Z"
   },
   {
    "duration": 40,
    "start_time": "2024-08-10T13:05:20.182Z"
   },
   {
    "duration": 4,
    "start_time": "2024-08-10T13:05:20.224Z"
   },
   {
    "duration": 17,
    "start_time": "2024-08-10T13:05:20.229Z"
   },
   {
    "duration": 30,
    "start_time": "2024-08-10T13:05:20.248Z"
   },
   {
    "duration": 9,
    "start_time": "2024-08-10T13:05:20.280Z"
   },
   {
    "duration": 33,
    "start_time": "2024-08-10T13:05:20.291Z"
   },
   {
    "duration": 11,
    "start_time": "2024-08-10T13:05:20.326Z"
   },
   {
    "duration": 9,
    "start_time": "2024-08-10T13:05:20.339Z"
   },
   {
    "duration": 67,
    "start_time": "2024-08-10T13:05:20.350Z"
   },
   {
    "duration": 0,
    "start_time": "2024-08-10T13:05:20.422Z"
   },
   {
    "duration": 0,
    "start_time": "2024-08-10T13:05:20.424Z"
   },
   {
    "duration": 0,
    "start_time": "2024-08-10T13:05:20.425Z"
   },
   {
    "duration": 0,
    "start_time": "2024-08-10T13:05:20.427Z"
   },
   {
    "duration": 0,
    "start_time": "2024-08-10T13:05:20.428Z"
   },
   {
    "duration": 0,
    "start_time": "2024-08-10T13:05:20.430Z"
   },
   {
    "duration": 0,
    "start_time": "2024-08-10T13:05:20.431Z"
   },
   {
    "duration": 0,
    "start_time": "2024-08-10T13:05:20.433Z"
   },
   {
    "duration": 0,
    "start_time": "2024-08-10T13:05:20.435Z"
   },
   {
    "duration": 0,
    "start_time": "2024-08-10T13:05:20.436Z"
   },
   {
    "duration": 0,
    "start_time": "2024-08-10T13:05:20.437Z"
   },
   {
    "duration": 0,
    "start_time": "2024-08-10T13:05:20.439Z"
   },
   {
    "duration": 0,
    "start_time": "2024-08-10T13:05:20.440Z"
   },
   {
    "duration": 0,
    "start_time": "2024-08-10T13:05:20.441Z"
   },
   {
    "duration": 0,
    "start_time": "2024-08-10T13:05:20.443Z"
   },
   {
    "duration": 0,
    "start_time": "2024-08-10T13:05:20.444Z"
   },
   {
    "duration": 0,
    "start_time": "2024-08-10T13:05:20.445Z"
   },
   {
    "duration": 0,
    "start_time": "2024-08-10T13:05:20.447Z"
   },
   {
    "duration": 0,
    "start_time": "2024-08-10T13:05:20.447Z"
   },
   {
    "duration": 0,
    "start_time": "2024-08-10T13:05:20.448Z"
   },
   {
    "duration": 0,
    "start_time": "2024-08-10T13:05:20.449Z"
   },
   {
    "duration": 0,
    "start_time": "2024-08-10T13:05:20.450Z"
   },
   {
    "duration": 0,
    "start_time": "2024-08-10T13:05:20.451Z"
   },
   {
    "duration": 0,
    "start_time": "2024-08-10T13:05:20.452Z"
   },
   {
    "duration": 0,
    "start_time": "2024-08-10T13:05:20.453Z"
   },
   {
    "duration": 0,
    "start_time": "2024-08-10T13:05:20.454Z"
   },
   {
    "duration": 0,
    "start_time": "2024-08-10T13:05:20.455Z"
   },
   {
    "duration": 0,
    "start_time": "2024-08-10T13:05:20.456Z"
   },
   {
    "duration": 0,
    "start_time": "2024-08-10T13:05:20.457Z"
   },
   {
    "duration": 0,
    "start_time": "2024-08-10T13:05:20.518Z"
   },
   {
    "duration": 0,
    "start_time": "2024-08-10T13:05:20.519Z"
   },
   {
    "duration": 0,
    "start_time": "2024-08-10T13:05:20.520Z"
   },
   {
    "duration": 0,
    "start_time": "2024-08-10T13:05:20.522Z"
   },
   {
    "duration": 0,
    "start_time": "2024-08-10T13:05:20.523Z"
   },
   {
    "duration": 0,
    "start_time": "2024-08-10T13:05:20.524Z"
   },
   {
    "duration": 0,
    "start_time": "2024-08-10T13:05:20.525Z"
   },
   {
    "duration": 0,
    "start_time": "2024-08-10T13:05:20.526Z"
   },
   {
    "duration": 0,
    "start_time": "2024-08-10T13:05:20.527Z"
   },
   {
    "duration": 0,
    "start_time": "2024-08-10T13:05:20.528Z"
   },
   {
    "duration": 0,
    "start_time": "2024-08-10T13:05:20.529Z"
   },
   {
    "duration": 0,
    "start_time": "2024-08-10T13:05:20.530Z"
   },
   {
    "duration": 0,
    "start_time": "2024-08-10T13:05:20.531Z"
   },
   {
    "duration": 0,
    "start_time": "2024-08-10T13:05:20.533Z"
   },
   {
    "duration": 0,
    "start_time": "2024-08-10T13:05:20.534Z"
   },
   {
    "duration": 0,
    "start_time": "2024-08-10T13:05:20.535Z"
   },
   {
    "duration": 0,
    "start_time": "2024-08-10T13:05:20.536Z"
   },
   {
    "duration": 0,
    "start_time": "2024-08-10T13:05:20.537Z"
   },
   {
    "duration": 0,
    "start_time": "2024-08-10T13:05:20.538Z"
   },
   {
    "duration": 0,
    "start_time": "2024-08-10T13:05:20.539Z"
   },
   {
    "duration": 0,
    "start_time": "2024-08-10T13:05:20.540Z"
   },
   {
    "duration": 0,
    "start_time": "2024-08-10T13:05:20.541Z"
   },
   {
    "duration": 0,
    "start_time": "2024-08-10T13:05:20.542Z"
   },
   {
    "duration": 0,
    "start_time": "2024-08-10T13:05:20.543Z"
   },
   {
    "duration": 0,
    "start_time": "2024-08-10T13:05:20.544Z"
   },
   {
    "duration": 0,
    "start_time": "2024-08-10T13:05:20.545Z"
   },
   {
    "duration": 0,
    "start_time": "2024-08-10T13:05:20.547Z"
   },
   {
    "duration": 0,
    "start_time": "2024-08-10T13:05:20.548Z"
   },
   {
    "duration": 0,
    "start_time": "2024-08-10T13:05:20.549Z"
   },
   {
    "duration": 0,
    "start_time": "2024-08-10T13:05:20.550Z"
   },
   {
    "duration": 0,
    "start_time": "2024-08-10T13:05:20.551Z"
   },
   {
    "duration": 0,
    "start_time": "2024-08-10T13:05:20.552Z"
   },
   {
    "duration": 0,
    "start_time": "2024-08-10T13:05:20.553Z"
   },
   {
    "duration": 0,
    "start_time": "2024-08-10T13:05:20.618Z"
   },
   {
    "duration": 0,
    "start_time": "2024-08-10T13:05:20.619Z"
   },
   {
    "duration": 0,
    "start_time": "2024-08-10T13:05:20.620Z"
   },
   {
    "duration": 0,
    "start_time": "2024-08-10T13:05:20.621Z"
   },
   {
    "duration": 0,
    "start_time": "2024-08-10T13:05:20.622Z"
   },
   {
    "duration": 0,
    "start_time": "2024-08-10T13:05:20.623Z"
   },
   {
    "duration": 0,
    "start_time": "2024-08-10T13:05:20.624Z"
   },
   {
    "duration": 0,
    "start_time": "2024-08-10T13:05:20.625Z"
   },
   {
    "duration": 18,
    "start_time": "2024-08-10T13:05:51.621Z"
   },
   {
    "duration": 22,
    "start_time": "2024-08-10T13:06:02.125Z"
   },
   {
    "duration": 1269,
    "start_time": "2024-08-10T13:06:22.505Z"
   },
   {
    "duration": 162,
    "start_time": "2024-08-10T13:06:23.776Z"
   },
   {
    "duration": 3,
    "start_time": "2024-08-10T13:06:23.939Z"
   },
   {
    "duration": 10,
    "start_time": "2024-08-10T13:06:23.944Z"
   },
   {
    "duration": 16,
    "start_time": "2024-08-10T13:06:23.955Z"
   },
   {
    "duration": 13,
    "start_time": "2024-08-10T13:06:23.973Z"
   },
   {
    "duration": 7,
    "start_time": "2024-08-10T13:06:23.988Z"
   },
   {
    "duration": 34,
    "start_time": "2024-08-10T13:06:23.997Z"
   },
   {
    "duration": 5,
    "start_time": "2024-08-10T13:06:24.033Z"
   },
   {
    "duration": 5,
    "start_time": "2024-08-10T13:06:24.040Z"
   },
   {
    "duration": 39,
    "start_time": "2024-08-10T13:06:24.047Z"
   },
   {
    "duration": 18,
    "start_time": "2024-08-10T13:06:24.088Z"
   },
   {
    "duration": 577,
    "start_time": "2024-08-10T13:06:24.108Z"
   },
   {
    "duration": 10,
    "start_time": "2024-08-10T13:06:24.687Z"
   },
   {
    "duration": 22,
    "start_time": "2024-08-10T13:06:24.699Z"
   },
   {
    "duration": 5,
    "start_time": "2024-08-10T13:06:24.723Z"
   },
   {
    "duration": 15,
    "start_time": "2024-08-10T13:06:24.729Z"
   },
   {
    "duration": 10,
    "start_time": "2024-08-10T13:06:24.745Z"
   },
   {
    "duration": 12,
    "start_time": "2024-08-10T13:06:24.756Z"
   },
   {
    "duration": 9,
    "start_time": "2024-08-10T13:06:24.770Z"
   },
   {
    "duration": 38,
    "start_time": "2024-08-10T13:06:24.781Z"
   },
   {
    "duration": 21,
    "start_time": "2024-08-10T13:06:24.820Z"
   },
   {
    "duration": 8,
    "start_time": "2024-08-10T13:06:24.842Z"
   },
   {
    "duration": 17,
    "start_time": "2024-08-10T13:06:24.851Z"
   },
   {
    "duration": 26,
    "start_time": "2024-08-10T13:06:24.870Z"
   },
   {
    "duration": 20,
    "start_time": "2024-08-10T13:06:24.898Z"
   },
   {
    "duration": 7,
    "start_time": "2024-08-10T13:06:24.920Z"
   },
   {
    "duration": 4,
    "start_time": "2024-08-10T13:06:24.931Z"
   },
   {
    "duration": 6,
    "start_time": "2024-08-10T13:06:24.936Z"
   },
   {
    "duration": 76,
    "start_time": "2024-08-10T13:06:24.944Z"
   },
   {
    "duration": 0,
    "start_time": "2024-08-10T13:06:25.022Z"
   },
   {
    "duration": 0,
    "start_time": "2024-08-10T13:06:25.023Z"
   },
   {
    "duration": 0,
    "start_time": "2024-08-10T13:06:25.024Z"
   },
   {
    "duration": 0,
    "start_time": "2024-08-10T13:06:25.026Z"
   },
   {
    "duration": 0,
    "start_time": "2024-08-10T13:06:25.027Z"
   },
   {
    "duration": 0,
    "start_time": "2024-08-10T13:06:25.028Z"
   },
   {
    "duration": 0,
    "start_time": "2024-08-10T13:06:25.029Z"
   },
   {
    "duration": 0,
    "start_time": "2024-08-10T13:06:25.030Z"
   },
   {
    "duration": 0,
    "start_time": "2024-08-10T13:06:25.031Z"
   },
   {
    "duration": 0,
    "start_time": "2024-08-10T13:06:25.033Z"
   },
   {
    "duration": 0,
    "start_time": "2024-08-10T13:06:25.034Z"
   },
   {
    "duration": 0,
    "start_time": "2024-08-10T13:06:25.035Z"
   },
   {
    "duration": 0,
    "start_time": "2024-08-10T13:06:25.036Z"
   },
   {
    "duration": 0,
    "start_time": "2024-08-10T13:06:25.037Z"
   },
   {
    "duration": 0,
    "start_time": "2024-08-10T13:06:25.039Z"
   },
   {
    "duration": 0,
    "start_time": "2024-08-10T13:06:25.040Z"
   },
   {
    "duration": 0,
    "start_time": "2024-08-10T13:06:25.041Z"
   },
   {
    "duration": 0,
    "start_time": "2024-08-10T13:06:25.042Z"
   },
   {
    "duration": 0,
    "start_time": "2024-08-10T13:06:25.043Z"
   },
   {
    "duration": 0,
    "start_time": "2024-08-10T13:06:25.044Z"
   },
   {
    "duration": 0,
    "start_time": "2024-08-10T13:06:25.045Z"
   },
   {
    "duration": 0,
    "start_time": "2024-08-10T13:06:25.047Z"
   },
   {
    "duration": 0,
    "start_time": "2024-08-10T13:06:25.048Z"
   },
   {
    "duration": 0,
    "start_time": "2024-08-10T13:06:25.049Z"
   },
   {
    "duration": 0,
    "start_time": "2024-08-10T13:06:25.050Z"
   },
   {
    "duration": 0,
    "start_time": "2024-08-10T13:06:25.051Z"
   },
   {
    "duration": 0,
    "start_time": "2024-08-10T13:06:25.052Z"
   },
   {
    "duration": 0,
    "start_time": "2024-08-10T13:06:25.053Z"
   },
   {
    "duration": 0,
    "start_time": "2024-08-10T13:06:25.054Z"
   },
   {
    "duration": 0,
    "start_time": "2024-08-10T13:06:25.055Z"
   },
   {
    "duration": 0,
    "start_time": "2024-08-10T13:06:25.057Z"
   },
   {
    "duration": 0,
    "start_time": "2024-08-10T13:06:25.057Z"
   },
   {
    "duration": 0,
    "start_time": "2024-08-10T13:06:25.118Z"
   },
   {
    "duration": 0,
    "start_time": "2024-08-10T13:06:25.119Z"
   },
   {
    "duration": 0,
    "start_time": "2024-08-10T13:06:25.120Z"
   },
   {
    "duration": 0,
    "start_time": "2024-08-10T13:06:25.121Z"
   },
   {
    "duration": 0,
    "start_time": "2024-08-10T13:06:25.122Z"
   },
   {
    "duration": 0,
    "start_time": "2024-08-10T13:06:25.123Z"
   },
   {
    "duration": 0,
    "start_time": "2024-08-10T13:06:25.124Z"
   },
   {
    "duration": 0,
    "start_time": "2024-08-10T13:06:25.125Z"
   },
   {
    "duration": 0,
    "start_time": "2024-08-10T13:06:25.127Z"
   },
   {
    "duration": 0,
    "start_time": "2024-08-10T13:06:25.128Z"
   },
   {
    "duration": 0,
    "start_time": "2024-08-10T13:06:25.129Z"
   },
   {
    "duration": 0,
    "start_time": "2024-08-10T13:06:25.129Z"
   },
   {
    "duration": 0,
    "start_time": "2024-08-10T13:06:25.131Z"
   },
   {
    "duration": 0,
    "start_time": "2024-08-10T13:06:25.132Z"
   },
   {
    "duration": 0,
    "start_time": "2024-08-10T13:06:25.133Z"
   },
   {
    "duration": 0,
    "start_time": "2024-08-10T13:06:25.134Z"
   },
   {
    "duration": 0,
    "start_time": "2024-08-10T13:06:25.135Z"
   },
   {
    "duration": 0,
    "start_time": "2024-08-10T13:06:25.136Z"
   },
   {
    "duration": 0,
    "start_time": "2024-08-10T13:06:25.137Z"
   },
   {
    "duration": 0,
    "start_time": "2024-08-10T13:06:25.138Z"
   },
   {
    "duration": 0,
    "start_time": "2024-08-10T13:06:25.139Z"
   },
   {
    "duration": 0,
    "start_time": "2024-08-10T13:06:25.140Z"
   },
   {
    "duration": 0,
    "start_time": "2024-08-10T13:06:25.142Z"
   },
   {
    "duration": 0,
    "start_time": "2024-08-10T13:06:25.143Z"
   },
   {
    "duration": 0,
    "start_time": "2024-08-10T13:06:25.145Z"
   },
   {
    "duration": 0,
    "start_time": "2024-08-10T13:06:25.146Z"
   },
   {
    "duration": 1,
    "start_time": "2024-08-10T13:06:25.147Z"
   },
   {
    "duration": 0,
    "start_time": "2024-08-10T13:06:25.149Z"
   },
   {
    "duration": 0,
    "start_time": "2024-08-10T13:06:25.150Z"
   },
   {
    "duration": 0,
    "start_time": "2024-08-10T13:06:25.152Z"
   },
   {
    "duration": 0,
    "start_time": "2024-08-10T13:06:25.153Z"
   },
   {
    "duration": 0,
    "start_time": "2024-08-10T13:06:25.155Z"
   },
   {
    "duration": 0,
    "start_time": "2024-08-10T13:06:25.156Z"
   },
   {
    "duration": 0,
    "start_time": "2024-08-10T13:06:25.218Z"
   },
   {
    "duration": 0,
    "start_time": "2024-08-10T13:06:25.220Z"
   },
   {
    "duration": 0,
    "start_time": "2024-08-10T13:06:25.222Z"
   },
   {
    "duration": 0,
    "start_time": "2024-08-10T13:06:25.224Z"
   },
   {
    "duration": 0,
    "start_time": "2024-08-10T13:06:25.225Z"
   },
   {
    "duration": 23,
    "start_time": "2024-08-10T13:07:34.901Z"
   },
   {
    "duration": 1213,
    "start_time": "2024-08-10T13:07:44.218Z"
   },
   {
    "duration": 165,
    "start_time": "2024-08-10T13:07:45.433Z"
   },
   {
    "duration": 3,
    "start_time": "2024-08-10T13:07:45.599Z"
   },
   {
    "duration": 32,
    "start_time": "2024-08-10T13:07:45.604Z"
   },
   {
    "duration": 29,
    "start_time": "2024-08-10T13:07:45.637Z"
   },
   {
    "duration": 21,
    "start_time": "2024-08-10T13:07:45.669Z"
   },
   {
    "duration": 11,
    "start_time": "2024-08-10T13:07:45.692Z"
   },
   {
    "duration": 46,
    "start_time": "2024-08-10T13:07:45.704Z"
   },
   {
    "duration": 10,
    "start_time": "2024-08-10T13:07:45.751Z"
   },
   {
    "duration": 14,
    "start_time": "2024-08-10T13:07:45.763Z"
   },
   {
    "duration": 31,
    "start_time": "2024-08-10T13:07:45.779Z"
   },
   {
    "duration": 22,
    "start_time": "2024-08-10T13:07:45.812Z"
   },
   {
    "duration": 630,
    "start_time": "2024-08-10T13:07:45.836Z"
   },
   {
    "duration": 11,
    "start_time": "2024-08-10T13:07:46.468Z"
   },
   {
    "duration": 29,
    "start_time": "2024-08-10T13:07:46.481Z"
   },
   {
    "duration": 7,
    "start_time": "2024-08-10T13:07:46.511Z"
   },
   {
    "duration": 30,
    "start_time": "2024-08-10T13:07:46.520Z"
   },
   {
    "duration": 30,
    "start_time": "2024-08-10T13:07:46.551Z"
   },
   {
    "duration": 22,
    "start_time": "2024-08-10T13:07:46.583Z"
   },
   {
    "duration": 39,
    "start_time": "2024-08-10T13:07:46.607Z"
   },
   {
    "duration": 20,
    "start_time": "2024-08-10T13:07:46.648Z"
   },
   {
    "duration": 52,
    "start_time": "2024-08-10T13:07:46.669Z"
   },
   {
    "duration": 15,
    "start_time": "2024-08-10T13:07:46.723Z"
   },
   {
    "duration": 32,
    "start_time": "2024-08-10T13:07:46.740Z"
   },
   {
    "duration": 31,
    "start_time": "2024-08-10T13:07:46.774Z"
   },
   {
    "duration": 9,
    "start_time": "2024-08-10T13:07:46.806Z"
   },
   {
    "duration": 20,
    "start_time": "2024-08-10T13:07:46.817Z"
   },
   {
    "duration": 27,
    "start_time": "2024-08-10T13:07:46.842Z"
   },
   {
    "duration": 16,
    "start_time": "2024-08-10T13:07:46.871Z"
   },
   {
    "duration": 67,
    "start_time": "2024-08-10T13:07:46.889Z"
   },
   {
    "duration": 0,
    "start_time": "2024-08-10T13:07:46.958Z"
   },
   {
    "duration": 0,
    "start_time": "2024-08-10T13:07:46.959Z"
   },
   {
    "duration": 0,
    "start_time": "2024-08-10T13:07:46.960Z"
   },
   {
    "duration": 0,
    "start_time": "2024-08-10T13:07:46.961Z"
   },
   {
    "duration": 0,
    "start_time": "2024-08-10T13:07:46.962Z"
   },
   {
    "duration": 0,
    "start_time": "2024-08-10T13:07:46.964Z"
   },
   {
    "duration": 0,
    "start_time": "2024-08-10T13:07:46.965Z"
   },
   {
    "duration": 0,
    "start_time": "2024-08-10T13:07:46.966Z"
   },
   {
    "duration": 0,
    "start_time": "2024-08-10T13:07:46.967Z"
   },
   {
    "duration": 0,
    "start_time": "2024-08-10T13:07:46.968Z"
   },
   {
    "duration": 0,
    "start_time": "2024-08-10T13:07:46.969Z"
   },
   {
    "duration": 0,
    "start_time": "2024-08-10T13:07:46.970Z"
   },
   {
    "duration": 0,
    "start_time": "2024-08-10T13:07:46.971Z"
   },
   {
    "duration": 0,
    "start_time": "2024-08-10T13:07:46.972Z"
   },
   {
    "duration": 0,
    "start_time": "2024-08-10T13:07:46.973Z"
   },
   {
    "duration": 0,
    "start_time": "2024-08-10T13:07:46.974Z"
   },
   {
    "duration": 0,
    "start_time": "2024-08-10T13:07:46.975Z"
   },
   {
    "duration": 0,
    "start_time": "2024-08-10T13:07:46.976Z"
   },
   {
    "duration": 0,
    "start_time": "2024-08-10T13:07:46.976Z"
   },
   {
    "duration": 0,
    "start_time": "2024-08-10T13:07:46.978Z"
   },
   {
    "duration": 0,
    "start_time": "2024-08-10T13:07:46.979Z"
   },
   {
    "duration": 0,
    "start_time": "2024-08-10T13:07:46.979Z"
   },
   {
    "duration": 0,
    "start_time": "2024-08-10T13:07:46.980Z"
   },
   {
    "duration": 0,
    "start_time": "2024-08-10T13:07:46.981Z"
   },
   {
    "duration": 0,
    "start_time": "2024-08-10T13:07:46.982Z"
   },
   {
    "duration": 0,
    "start_time": "2024-08-10T13:07:46.983Z"
   },
   {
    "duration": 0,
    "start_time": "2024-08-10T13:07:46.984Z"
   },
   {
    "duration": 0,
    "start_time": "2024-08-10T13:07:46.985Z"
   },
   {
    "duration": 0,
    "start_time": "2024-08-10T13:07:46.986Z"
   },
   {
    "duration": 0,
    "start_time": "2024-08-10T13:07:46.987Z"
   },
   {
    "duration": 0,
    "start_time": "2024-08-10T13:07:46.988Z"
   },
   {
    "duration": 0,
    "start_time": "2024-08-10T13:07:46.989Z"
   },
   {
    "duration": 0,
    "start_time": "2024-08-10T13:07:46.990Z"
   },
   {
    "duration": 0,
    "start_time": "2024-08-10T13:07:46.991Z"
   },
   {
    "duration": 0,
    "start_time": "2024-08-10T13:07:46.991Z"
   },
   {
    "duration": 0,
    "start_time": "2024-08-10T13:07:46.992Z"
   },
   {
    "duration": 0,
    "start_time": "2024-08-10T13:07:46.993Z"
   },
   {
    "duration": 0,
    "start_time": "2024-08-10T13:07:47.018Z"
   },
   {
    "duration": 0,
    "start_time": "2024-08-10T13:07:47.019Z"
   },
   {
    "duration": 0,
    "start_time": "2024-08-10T13:07:47.020Z"
   },
   {
    "duration": 0,
    "start_time": "2024-08-10T13:07:47.022Z"
   },
   {
    "duration": 0,
    "start_time": "2024-08-10T13:07:47.023Z"
   },
   {
    "duration": 0,
    "start_time": "2024-08-10T13:07:47.024Z"
   },
   {
    "duration": 0,
    "start_time": "2024-08-10T13:07:47.025Z"
   },
   {
    "duration": 0,
    "start_time": "2024-08-10T13:07:47.026Z"
   },
   {
    "duration": 0,
    "start_time": "2024-08-10T13:07:47.028Z"
   },
   {
    "duration": 0,
    "start_time": "2024-08-10T13:07:47.029Z"
   },
   {
    "duration": 0,
    "start_time": "2024-08-10T13:07:47.030Z"
   },
   {
    "duration": 0,
    "start_time": "2024-08-10T13:07:47.030Z"
   },
   {
    "duration": 0,
    "start_time": "2024-08-10T13:07:47.032Z"
   },
   {
    "duration": 0,
    "start_time": "2024-08-10T13:07:47.033Z"
   },
   {
    "duration": 0,
    "start_time": "2024-08-10T13:07:47.034Z"
   },
   {
    "duration": 0,
    "start_time": "2024-08-10T13:07:47.035Z"
   },
   {
    "duration": 0,
    "start_time": "2024-08-10T13:07:47.036Z"
   },
   {
    "duration": 0,
    "start_time": "2024-08-10T13:07:47.037Z"
   },
   {
    "duration": 0,
    "start_time": "2024-08-10T13:07:47.038Z"
   },
   {
    "duration": 0,
    "start_time": "2024-08-10T13:07:47.039Z"
   },
   {
    "duration": 0,
    "start_time": "2024-08-10T13:07:47.040Z"
   },
   {
    "duration": 0,
    "start_time": "2024-08-10T13:07:47.041Z"
   },
   {
    "duration": 0,
    "start_time": "2024-08-10T13:07:47.042Z"
   },
   {
    "duration": 0,
    "start_time": "2024-08-10T13:07:47.043Z"
   },
   {
    "duration": 0,
    "start_time": "2024-08-10T13:07:47.044Z"
   },
   {
    "duration": 0,
    "start_time": "2024-08-10T13:07:47.045Z"
   },
   {
    "duration": 0,
    "start_time": "2024-08-10T13:07:47.047Z"
   },
   {
    "duration": 0,
    "start_time": "2024-08-10T13:07:47.048Z"
   },
   {
    "duration": 0,
    "start_time": "2024-08-10T13:07:47.049Z"
   },
   {
    "duration": 0,
    "start_time": "2024-08-10T13:07:47.050Z"
   },
   {
    "duration": 0,
    "start_time": "2024-08-10T13:07:47.051Z"
   },
   {
    "duration": 0,
    "start_time": "2024-08-10T13:07:47.052Z"
   },
   {
    "duration": 0,
    "start_time": "2024-08-10T13:07:47.053Z"
   },
   {
    "duration": 1208,
    "start_time": "2024-08-10T13:12:14.559Z"
   },
   {
    "duration": 215,
    "start_time": "2024-08-10T13:12:15.768Z"
   },
   {
    "duration": 2,
    "start_time": "2024-08-10T13:12:15.985Z"
   },
   {
    "duration": 8,
    "start_time": "2024-08-10T13:12:15.989Z"
   },
   {
    "duration": 27,
    "start_time": "2024-08-10T13:12:15.999Z"
   },
   {
    "duration": 9,
    "start_time": "2024-08-10T13:12:16.028Z"
   },
   {
    "duration": 20,
    "start_time": "2024-08-10T13:12:16.038Z"
   },
   {
    "duration": 59,
    "start_time": "2024-08-10T13:12:16.059Z"
   },
   {
    "duration": 5,
    "start_time": "2024-08-10T13:12:16.120Z"
   },
   {
    "duration": 4,
    "start_time": "2024-08-10T13:12:16.128Z"
   },
   {
    "duration": 15,
    "start_time": "2024-08-10T13:12:16.134Z"
   },
   {
    "duration": 17,
    "start_time": "2024-08-10T13:12:16.151Z"
   },
   {
    "duration": 685,
    "start_time": "2024-08-10T13:12:16.170Z"
   },
   {
    "duration": 11,
    "start_time": "2024-08-10T13:12:16.857Z"
   },
   {
    "duration": 13,
    "start_time": "2024-08-10T13:12:16.870Z"
   },
   {
    "duration": 22,
    "start_time": "2024-08-10T13:12:16.885Z"
   },
   {
    "duration": 26,
    "start_time": "2024-08-10T13:12:16.909Z"
   },
   {
    "duration": 28,
    "start_time": "2024-08-10T13:12:16.937Z"
   },
   {
    "duration": 49,
    "start_time": "2024-08-10T13:12:16.967Z"
   },
   {
    "duration": 13,
    "start_time": "2024-08-10T13:12:17.018Z"
   },
   {
    "duration": 24,
    "start_time": "2024-08-10T13:12:17.033Z"
   },
   {
    "duration": 38,
    "start_time": "2024-08-10T13:12:17.059Z"
   },
   {
    "duration": 7,
    "start_time": "2024-08-10T13:12:17.099Z"
   },
   {
    "duration": 24,
    "start_time": "2024-08-10T13:12:17.108Z"
   },
   {
    "duration": 27,
    "start_time": "2024-08-10T13:12:17.134Z"
   },
   {
    "duration": 10,
    "start_time": "2024-08-10T13:12:17.163Z"
   },
   {
    "duration": 12,
    "start_time": "2024-08-10T13:12:17.174Z"
   },
   {
    "duration": 27,
    "start_time": "2024-08-10T13:12:17.192Z"
   },
   {
    "duration": 15,
    "start_time": "2024-08-10T13:12:17.221Z"
   },
   {
    "duration": 75,
    "start_time": "2024-08-10T13:12:17.238Z"
   },
   {
    "duration": 0,
    "start_time": "2024-08-10T13:12:17.316Z"
   },
   {
    "duration": 0,
    "start_time": "2024-08-10T13:12:17.318Z"
   },
   {
    "duration": 0,
    "start_time": "2024-08-10T13:12:17.319Z"
   },
   {
    "duration": 0,
    "start_time": "2024-08-10T13:12:17.320Z"
   },
   {
    "duration": 0,
    "start_time": "2024-08-10T13:12:17.322Z"
   },
   {
    "duration": 0,
    "start_time": "2024-08-10T13:12:17.324Z"
   },
   {
    "duration": 0,
    "start_time": "2024-08-10T13:12:17.325Z"
   },
   {
    "duration": 0,
    "start_time": "2024-08-10T13:12:17.327Z"
   },
   {
    "duration": 0,
    "start_time": "2024-08-10T13:12:17.328Z"
   },
   {
    "duration": 0,
    "start_time": "2024-08-10T13:12:17.330Z"
   },
   {
    "duration": 0,
    "start_time": "2024-08-10T13:12:17.331Z"
   },
   {
    "duration": 0,
    "start_time": "2024-08-10T13:12:17.332Z"
   },
   {
    "duration": 0,
    "start_time": "2024-08-10T13:12:17.334Z"
   },
   {
    "duration": 0,
    "start_time": "2024-08-10T13:12:17.335Z"
   },
   {
    "duration": 0,
    "start_time": "2024-08-10T13:12:17.337Z"
   },
   {
    "duration": 0,
    "start_time": "2024-08-10T13:12:17.338Z"
   },
   {
    "duration": 0,
    "start_time": "2024-08-10T13:12:17.339Z"
   },
   {
    "duration": 0,
    "start_time": "2024-08-10T13:12:17.341Z"
   },
   {
    "duration": 0,
    "start_time": "2024-08-10T13:12:17.342Z"
   },
   {
    "duration": 0,
    "start_time": "2024-08-10T13:12:17.344Z"
   },
   {
    "duration": 0,
    "start_time": "2024-08-10T13:12:17.345Z"
   },
   {
    "duration": 0,
    "start_time": "2024-08-10T13:12:17.346Z"
   },
   {
    "duration": 0,
    "start_time": "2024-08-10T13:12:17.348Z"
   },
   {
    "duration": 0,
    "start_time": "2024-08-10T13:12:17.349Z"
   },
   {
    "duration": 0,
    "start_time": "2024-08-10T13:12:17.351Z"
   },
   {
    "duration": 0,
    "start_time": "2024-08-10T13:12:17.352Z"
   },
   {
    "duration": 0,
    "start_time": "2024-08-10T13:12:17.354Z"
   },
   {
    "duration": 0,
    "start_time": "2024-08-10T13:12:17.355Z"
   },
   {
    "duration": 0,
    "start_time": "2024-08-10T13:12:17.356Z"
   },
   {
    "duration": 0,
    "start_time": "2024-08-10T13:12:17.358Z"
   },
   {
    "duration": 0,
    "start_time": "2024-08-10T13:12:17.417Z"
   },
   {
    "duration": 0,
    "start_time": "2024-08-10T13:12:17.419Z"
   },
   {
    "duration": 0,
    "start_time": "2024-08-10T13:12:17.421Z"
   },
   {
    "duration": 0,
    "start_time": "2024-08-10T13:12:17.423Z"
   },
   {
    "duration": 0,
    "start_time": "2024-08-10T13:12:17.424Z"
   },
   {
    "duration": 0,
    "start_time": "2024-08-10T13:12:17.425Z"
   },
   {
    "duration": 0,
    "start_time": "2024-08-10T13:12:17.426Z"
   },
   {
    "duration": 0,
    "start_time": "2024-08-10T13:12:17.427Z"
   },
   {
    "duration": 0,
    "start_time": "2024-08-10T13:12:17.429Z"
   },
   {
    "duration": 0,
    "start_time": "2024-08-10T13:12:17.430Z"
   },
   {
    "duration": 0,
    "start_time": "2024-08-10T13:12:17.431Z"
   },
   {
    "duration": 0,
    "start_time": "2024-08-10T13:12:17.432Z"
   },
   {
    "duration": 0,
    "start_time": "2024-08-10T13:12:17.433Z"
   },
   {
    "duration": 0,
    "start_time": "2024-08-10T13:12:17.434Z"
   },
   {
    "duration": 0,
    "start_time": "2024-08-10T13:12:17.435Z"
   },
   {
    "duration": 0,
    "start_time": "2024-08-10T13:12:17.437Z"
   },
   {
    "duration": 0,
    "start_time": "2024-08-10T13:12:17.438Z"
   },
   {
    "duration": 0,
    "start_time": "2024-08-10T13:12:17.440Z"
   },
   {
    "duration": 0,
    "start_time": "2024-08-10T13:12:17.441Z"
   },
   {
    "duration": 0,
    "start_time": "2024-08-10T13:12:17.443Z"
   },
   {
    "duration": 0,
    "start_time": "2024-08-10T13:12:17.444Z"
   },
   {
    "duration": 0,
    "start_time": "2024-08-10T13:12:17.446Z"
   },
   {
    "duration": 0,
    "start_time": "2024-08-10T13:12:17.448Z"
   },
   {
    "duration": 0,
    "start_time": "2024-08-10T13:12:17.449Z"
   },
   {
    "duration": 0,
    "start_time": "2024-08-10T13:12:17.450Z"
   },
   {
    "duration": 0,
    "start_time": "2024-08-10T13:12:17.452Z"
   },
   {
    "duration": 0,
    "start_time": "2024-08-10T13:12:17.453Z"
   },
   {
    "duration": 0,
    "start_time": "2024-08-10T13:12:17.517Z"
   },
   {
    "duration": 0,
    "start_time": "2024-08-10T13:12:17.519Z"
   },
   {
    "duration": 0,
    "start_time": "2024-08-10T13:12:17.521Z"
   },
   {
    "duration": 0,
    "start_time": "2024-08-10T13:12:17.522Z"
   },
   {
    "duration": 0,
    "start_time": "2024-08-10T13:12:17.524Z"
   },
   {
    "duration": 0,
    "start_time": "2024-08-10T13:12:17.527Z"
   },
   {
    "duration": 0,
    "start_time": "2024-08-10T13:12:17.528Z"
   },
   {
    "duration": 0,
    "start_time": "2024-08-10T13:12:17.529Z"
   },
   {
    "duration": 0,
    "start_time": "2024-08-10T13:12:17.531Z"
   },
   {
    "duration": 0,
    "start_time": "2024-08-10T13:12:17.532Z"
   },
   {
    "duration": 0,
    "start_time": "2024-08-10T13:12:17.534Z"
   },
   {
    "duration": 0,
    "start_time": "2024-08-10T13:12:17.536Z"
   },
   {
    "duration": 0,
    "start_time": "2024-08-10T13:12:17.537Z"
   },
   {
    "duration": 10,
    "start_time": "2024-08-10T13:18:15.317Z"
   },
   {
    "duration": 1066,
    "start_time": "2024-08-10T13:19:25.461Z"
   },
   {
    "duration": 166,
    "start_time": "2024-08-10T13:19:26.529Z"
   },
   {
    "duration": 2,
    "start_time": "2024-08-10T13:19:26.697Z"
   },
   {
    "duration": 10,
    "start_time": "2024-08-10T13:19:26.701Z"
   },
   {
    "duration": 23,
    "start_time": "2024-08-10T13:19:26.712Z"
   },
   {
    "duration": 10,
    "start_time": "2024-08-10T13:19:26.737Z"
   },
   {
    "duration": 8,
    "start_time": "2024-08-10T13:19:26.749Z"
   },
   {
    "duration": 22,
    "start_time": "2024-08-10T13:19:26.759Z"
   },
   {
    "duration": 5,
    "start_time": "2024-08-10T13:19:26.782Z"
   },
   {
    "duration": 4,
    "start_time": "2024-08-10T13:19:26.789Z"
   },
   {
    "duration": 16,
    "start_time": "2024-08-10T13:19:26.817Z"
   },
   {
    "duration": 18,
    "start_time": "2024-08-10T13:19:26.834Z"
   },
   {
    "duration": 594,
    "start_time": "2024-08-10T13:19:26.854Z"
   },
   {
    "duration": 11,
    "start_time": "2024-08-10T13:19:27.450Z"
   },
   {
    "duration": 13,
    "start_time": "2024-08-10T13:19:27.462Z"
   },
   {
    "duration": 7,
    "start_time": "2024-08-10T13:19:27.476Z"
   },
   {
    "duration": 34,
    "start_time": "2024-08-10T13:19:27.485Z"
   },
   {
    "duration": 10,
    "start_time": "2024-08-10T13:19:27.520Z"
   },
   {
    "duration": 12,
    "start_time": "2024-08-10T13:19:27.532Z"
   },
   {
    "duration": 11,
    "start_time": "2024-08-10T13:19:27.545Z"
   },
   {
    "duration": 5,
    "start_time": "2024-08-10T13:19:27.557Z"
   },
   {
    "duration": 9,
    "start_time": "2024-08-10T13:19:27.563Z"
   },
   {
    "duration": 4,
    "start_time": "2024-08-10T13:19:27.574Z"
   },
   {
    "duration": 53,
    "start_time": "2024-08-10T13:19:27.579Z"
   },
   {
    "duration": 24,
    "start_time": "2024-08-10T13:19:27.633Z"
   },
   {
    "duration": 8,
    "start_time": "2024-08-10T13:19:27.659Z"
   },
   {
    "duration": 9,
    "start_time": "2024-08-10T13:19:27.669Z"
   },
   {
    "duration": 35,
    "start_time": "2024-08-10T13:19:27.684Z"
   },
   {
    "duration": 8,
    "start_time": "2024-08-10T13:19:27.721Z"
   },
   {
    "duration": 13,
    "start_time": "2024-08-10T13:19:27.732Z"
   },
   {
    "duration": 4,
    "start_time": "2024-08-10T13:19:27.748Z"
   },
   {
    "duration": 11,
    "start_time": "2024-08-10T13:19:27.754Z"
   },
   {
    "duration": 10,
    "start_time": "2024-08-10T13:19:27.767Z"
   },
   {
    "duration": 54,
    "start_time": "2024-08-10T13:19:27.778Z"
   },
   {
    "duration": 5,
    "start_time": "2024-08-10T13:19:27.834Z"
   },
   {
    "duration": 5,
    "start_time": "2024-08-10T13:19:27.840Z"
   },
   {
    "duration": 12,
    "start_time": "2024-08-10T13:19:27.847Z"
   },
   {
    "duration": 27,
    "start_time": "2024-08-10T13:19:27.860Z"
   },
   {
    "duration": 37,
    "start_time": "2024-08-10T13:19:27.888Z"
   },
   {
    "duration": 6,
    "start_time": "2024-08-10T13:19:27.927Z"
   },
   {
    "duration": 4,
    "start_time": "2024-08-10T13:19:27.936Z"
   },
   {
    "duration": 4,
    "start_time": "2024-08-10T13:19:27.942Z"
   },
   {
    "duration": 318,
    "start_time": "2024-08-10T13:19:27.948Z"
   },
   {
    "duration": 6,
    "start_time": "2024-08-10T13:19:28.268Z"
   },
   {
    "duration": 4,
    "start_time": "2024-08-10T13:19:28.276Z"
   },
   {
    "duration": 8,
    "start_time": "2024-08-10T13:19:28.281Z"
   },
   {
    "duration": 3,
    "start_time": "2024-08-10T13:19:28.290Z"
   },
   {
    "duration": 4,
    "start_time": "2024-08-10T13:19:28.318Z"
   },
   {
    "duration": 300,
    "start_time": "2024-08-10T13:19:28.324Z"
   },
   {
    "duration": 4,
    "start_time": "2024-08-10T13:19:28.626Z"
   },
   {
    "duration": 410,
    "start_time": "2024-08-10T13:19:28.631Z"
   },
   {
    "duration": 3,
    "start_time": "2024-08-10T13:19:29.043Z"
   },
   {
    "duration": 609,
    "start_time": "2024-08-10T13:19:29.048Z"
   },
   {
    "duration": 58,
    "start_time": "2024-08-10T13:19:29.659Z"
   },
   {
    "duration": 5,
    "start_time": "2024-08-10T13:19:29.719Z"
   },
   {
    "duration": 12,
    "start_time": "2024-08-10T13:19:29.726Z"
   },
   {
    "duration": 389,
    "start_time": "2024-08-10T13:19:29.740Z"
   },
   {
    "duration": 23,
    "start_time": "2024-08-10T13:19:30.131Z"
   },
   {
    "duration": 264,
    "start_time": "2024-08-10T13:19:30.156Z"
   },
   {
    "duration": 0,
    "start_time": "2024-08-10T13:19:30.422Z"
   },
   {
    "duration": 0,
    "start_time": "2024-08-10T13:19:30.423Z"
   },
   {
    "duration": 0,
    "start_time": "2024-08-10T13:19:30.424Z"
   },
   {
    "duration": 0,
    "start_time": "2024-08-10T13:19:30.426Z"
   },
   {
    "duration": 0,
    "start_time": "2024-08-10T13:19:30.427Z"
   },
   {
    "duration": 0,
    "start_time": "2024-08-10T13:19:30.428Z"
   },
   {
    "duration": 0,
    "start_time": "2024-08-10T13:19:30.429Z"
   },
   {
    "duration": 0,
    "start_time": "2024-08-10T13:19:30.430Z"
   },
   {
    "duration": 0,
    "start_time": "2024-08-10T13:19:30.431Z"
   },
   {
    "duration": 0,
    "start_time": "2024-08-10T13:19:30.432Z"
   },
   {
    "duration": 0,
    "start_time": "2024-08-10T13:19:30.433Z"
   },
   {
    "duration": 0,
    "start_time": "2024-08-10T13:19:30.434Z"
   },
   {
    "duration": 0,
    "start_time": "2024-08-10T13:19:30.435Z"
   },
   {
    "duration": 0,
    "start_time": "2024-08-10T13:19:30.436Z"
   },
   {
    "duration": 0,
    "start_time": "2024-08-10T13:19:30.437Z"
   },
   {
    "duration": 0,
    "start_time": "2024-08-10T13:19:30.438Z"
   },
   {
    "duration": 0,
    "start_time": "2024-08-10T13:19:30.439Z"
   },
   {
    "duration": 0,
    "start_time": "2024-08-10T13:19:30.440Z"
   },
   {
    "duration": 0,
    "start_time": "2024-08-10T13:19:30.441Z"
   },
   {
    "duration": 0,
    "start_time": "2024-08-10T13:19:30.442Z"
   },
   {
    "duration": 0,
    "start_time": "2024-08-10T13:19:30.443Z"
   },
   {
    "duration": 0,
    "start_time": "2024-08-10T13:19:30.444Z"
   },
   {
    "duration": 0,
    "start_time": "2024-08-10T13:19:30.445Z"
   },
   {
    "duration": 0,
    "start_time": "2024-08-10T13:19:30.446Z"
   },
   {
    "duration": 0,
    "start_time": "2024-08-10T13:19:30.447Z"
   },
   {
    "duration": 0,
    "start_time": "2024-08-10T13:19:30.448Z"
   },
   {
    "duration": 0,
    "start_time": "2024-08-10T13:19:30.450Z"
   },
   {
    "duration": 0,
    "start_time": "2024-08-10T13:19:30.450Z"
   },
   {
    "duration": 0,
    "start_time": "2024-08-10T13:19:30.451Z"
   },
   {
    "duration": 0,
    "start_time": "2024-08-10T13:19:30.452Z"
   },
   {
    "duration": 0,
    "start_time": "2024-08-10T13:19:30.453Z"
   },
   {
    "duration": 0,
    "start_time": "2024-08-10T13:19:30.454Z"
   },
   {
    "duration": 0,
    "start_time": "2024-08-10T13:19:30.518Z"
   },
   {
    "duration": 0,
    "start_time": "2024-08-10T13:19:30.520Z"
   },
   {
    "duration": 0,
    "start_time": "2024-08-10T13:19:30.521Z"
   },
   {
    "duration": 0,
    "start_time": "2024-08-10T13:19:30.522Z"
   },
   {
    "duration": 0,
    "start_time": "2024-08-10T13:19:30.523Z"
   },
   {
    "duration": 0,
    "start_time": "2024-08-10T13:19:30.524Z"
   },
   {
    "duration": 0,
    "start_time": "2024-08-10T13:19:30.525Z"
   },
   {
    "duration": 0,
    "start_time": "2024-08-10T13:19:30.526Z"
   },
   {
    "duration": 0,
    "start_time": "2024-08-10T13:19:30.527Z"
   },
   {
    "duration": 34,
    "start_time": "2024-08-10T13:20:03.908Z"
   },
   {
    "duration": 90,
    "start_time": "2024-08-10T13:26:19.228Z"
   },
   {
    "duration": 3,
    "start_time": "2024-08-10T13:26:33.328Z"
   },
   {
    "duration": 3,
    "start_time": "2024-08-10T13:26:57.831Z"
   },
   {
    "duration": 24,
    "start_time": "2024-08-10T13:27:01.291Z"
   },
   {
    "duration": 40,
    "start_time": "2024-08-10T13:27:04.707Z"
   },
   {
    "duration": 17,
    "start_time": "2024-08-10T13:27:14.868Z"
   },
   {
    "duration": 15,
    "start_time": "2024-08-10T13:27:17.087Z"
   },
   {
    "duration": 2,
    "start_time": "2024-08-10T13:28:44.343Z"
   },
   {
    "duration": 47,
    "start_time": "2024-08-10T13:28:46.500Z"
   },
   {
    "duration": 2,
    "start_time": "2024-08-10T13:29:00.305Z"
   },
   {
    "duration": 35,
    "start_time": "2024-08-10T13:29:02.631Z"
   },
   {
    "duration": 3,
    "start_time": "2024-08-10T13:29:11.982Z"
   },
   {
    "duration": 3,
    "start_time": "2024-08-10T13:29:13.727Z"
   },
   {
    "duration": 17,
    "start_time": "2024-08-10T13:29:15.582Z"
   },
   {
    "duration": 30,
    "start_time": "2024-08-10T13:29:16.761Z"
   },
   {
    "duration": 15,
    "start_time": "2024-08-10T13:29:17.711Z"
   },
   {
    "duration": 1177,
    "start_time": "2024-08-10T13:40:05.944Z"
   },
   {
    "duration": 175,
    "start_time": "2024-08-10T13:40:07.123Z"
   },
   {
    "duration": 4,
    "start_time": "2024-08-10T13:40:07.299Z"
   },
   {
    "duration": 8,
    "start_time": "2024-08-10T13:40:07.305Z"
   },
   {
    "duration": 15,
    "start_time": "2024-08-10T13:40:07.314Z"
   },
   {
    "duration": 10,
    "start_time": "2024-08-10T13:40:07.331Z"
   },
   {
    "duration": 10,
    "start_time": "2024-08-10T13:40:07.342Z"
   },
   {
    "duration": 33,
    "start_time": "2024-08-10T13:40:07.354Z"
   },
   {
    "duration": 6,
    "start_time": "2024-08-10T13:40:07.389Z"
   },
   {
    "duration": 5,
    "start_time": "2024-08-10T13:40:07.418Z"
   },
   {
    "duration": 17,
    "start_time": "2024-08-10T13:40:07.424Z"
   },
   {
    "duration": 19,
    "start_time": "2024-08-10T13:40:07.443Z"
   },
   {
    "duration": 596,
    "start_time": "2024-08-10T13:40:07.464Z"
   },
   {
    "duration": 11,
    "start_time": "2024-08-10T13:40:08.062Z"
   },
   {
    "duration": 13,
    "start_time": "2024-08-10T13:40:08.074Z"
   },
   {
    "duration": 5,
    "start_time": "2024-08-10T13:40:08.088Z"
   },
   {
    "duration": 36,
    "start_time": "2024-08-10T13:40:08.094Z"
   },
   {
    "duration": 10,
    "start_time": "2024-08-10T13:40:08.131Z"
   },
   {
    "duration": 20,
    "start_time": "2024-08-10T13:40:08.143Z"
   },
   {
    "duration": 10,
    "start_time": "2024-08-10T13:40:08.164Z"
   },
   {
    "duration": 4,
    "start_time": "2024-08-10T13:40:08.176Z"
   },
   {
    "duration": 8,
    "start_time": "2024-08-10T13:40:08.182Z"
   },
   {
    "duration": 4,
    "start_time": "2024-08-10T13:40:08.218Z"
   },
   {
    "duration": 22,
    "start_time": "2024-08-10T13:40:08.224Z"
   },
   {
    "duration": 29,
    "start_time": "2024-08-10T13:40:08.248Z"
   },
   {
    "duration": 11,
    "start_time": "2024-08-10T13:40:08.279Z"
   },
   {
    "duration": 35,
    "start_time": "2024-08-10T13:40:08.291Z"
   },
   {
    "duration": 4,
    "start_time": "2024-08-10T13:40:08.331Z"
   },
   {
    "duration": 6,
    "start_time": "2024-08-10T13:40:08.337Z"
   },
   {
    "duration": 19,
    "start_time": "2024-08-10T13:40:08.345Z"
   },
   {
    "duration": 6,
    "start_time": "2024-08-10T13:40:08.366Z"
   },
   {
    "duration": 12,
    "start_time": "2024-08-10T13:40:08.373Z"
   },
   {
    "duration": 9,
    "start_time": "2024-08-10T13:40:08.418Z"
   },
   {
    "duration": 23,
    "start_time": "2024-08-10T13:40:08.428Z"
   },
   {
    "duration": 4,
    "start_time": "2024-08-10T13:40:08.453Z"
   },
   {
    "duration": 4,
    "start_time": "2024-08-10T13:40:08.459Z"
   },
   {
    "duration": 18,
    "start_time": "2024-08-10T13:40:08.464Z"
   },
   {
    "duration": 58,
    "start_time": "2024-08-10T13:40:08.484Z"
   },
   {
    "duration": 16,
    "start_time": "2024-08-10T13:40:08.543Z"
   },
   {
    "duration": 6,
    "start_time": "2024-08-10T13:40:08.561Z"
   },
   {
    "duration": 16,
    "start_time": "2024-08-10T13:40:08.569Z"
   },
   {
    "duration": 7,
    "start_time": "2024-08-10T13:40:08.587Z"
   },
   {
    "duration": 307,
    "start_time": "2024-08-10T13:40:08.595Z"
   },
   {
    "duration": 17,
    "start_time": "2024-08-10T13:40:08.904Z"
   },
   {
    "duration": 4,
    "start_time": "2024-08-10T13:40:08.922Z"
   },
   {
    "duration": 7,
    "start_time": "2024-08-10T13:40:08.928Z"
   },
   {
    "duration": 3,
    "start_time": "2024-08-10T13:40:08.937Z"
   },
   {
    "duration": 12,
    "start_time": "2024-08-10T13:40:08.942Z"
   },
   {
    "duration": 304,
    "start_time": "2024-08-10T13:40:08.956Z"
   },
   {
    "duration": 4,
    "start_time": "2024-08-10T13:40:09.262Z"
   },
   {
    "duration": 376,
    "start_time": "2024-08-10T13:40:09.268Z"
   },
   {
    "duration": 4,
    "start_time": "2024-08-10T13:40:09.646Z"
   },
   {
    "duration": 688,
    "start_time": "2024-08-10T13:40:09.651Z"
   },
   {
    "duration": 5,
    "start_time": "2024-08-10T13:40:10.341Z"
   },
   {
    "duration": 70,
    "start_time": "2024-08-10T13:40:10.348Z"
   },
   {
    "duration": 13,
    "start_time": "2024-08-10T13:40:10.420Z"
   },
   {
    "duration": 321,
    "start_time": "2024-08-10T13:40:10.434Z"
   },
   {
    "duration": 76,
    "start_time": "2024-08-10T13:40:10.757Z"
   },
   {
    "duration": 204,
    "start_time": "2024-08-10T13:40:10.834Z"
   },
   {
    "duration": 0,
    "start_time": "2024-08-10T13:40:11.040Z"
   },
   {
    "duration": 0,
    "start_time": "2024-08-10T13:40:11.041Z"
   },
   {
    "duration": 0,
    "start_time": "2024-08-10T13:40:11.042Z"
   },
   {
    "duration": 0,
    "start_time": "2024-08-10T13:40:11.043Z"
   },
   {
    "duration": 0,
    "start_time": "2024-08-10T13:40:11.044Z"
   },
   {
    "duration": 0,
    "start_time": "2024-08-10T13:40:11.045Z"
   },
   {
    "duration": 0,
    "start_time": "2024-08-10T13:40:11.046Z"
   },
   {
    "duration": 0,
    "start_time": "2024-08-10T13:40:11.047Z"
   },
   {
    "duration": 0,
    "start_time": "2024-08-10T13:40:11.049Z"
   },
   {
    "duration": 0,
    "start_time": "2024-08-10T13:40:11.050Z"
   },
   {
    "duration": 0,
    "start_time": "2024-08-10T13:40:11.051Z"
   },
   {
    "duration": 0,
    "start_time": "2024-08-10T13:40:11.052Z"
   },
   {
    "duration": 0,
    "start_time": "2024-08-10T13:40:11.053Z"
   },
   {
    "duration": 0,
    "start_time": "2024-08-10T13:40:11.054Z"
   },
   {
    "duration": 0,
    "start_time": "2024-08-10T13:40:11.055Z"
   },
   {
    "duration": 0,
    "start_time": "2024-08-10T13:40:11.056Z"
   },
   {
    "duration": 0,
    "start_time": "2024-08-10T13:40:11.057Z"
   },
   {
    "duration": 0,
    "start_time": "2024-08-10T13:40:11.058Z"
   },
   {
    "duration": 0,
    "start_time": "2024-08-10T13:40:11.059Z"
   },
   {
    "duration": 0,
    "start_time": "2024-08-10T13:40:11.060Z"
   },
   {
    "duration": 0,
    "start_time": "2024-08-10T13:40:11.060Z"
   },
   {
    "duration": 0,
    "start_time": "2024-08-10T13:40:11.061Z"
   },
   {
    "duration": 0,
    "start_time": "2024-08-10T13:40:11.062Z"
   },
   {
    "duration": 0,
    "start_time": "2024-08-10T13:40:11.118Z"
   },
   {
    "duration": 0,
    "start_time": "2024-08-10T13:40:11.119Z"
   },
   {
    "duration": 0,
    "start_time": "2024-08-10T13:40:11.120Z"
   },
   {
    "duration": 0,
    "start_time": "2024-08-10T13:40:11.121Z"
   },
   {
    "duration": 0,
    "start_time": "2024-08-10T13:40:11.122Z"
   },
   {
    "duration": 0,
    "start_time": "2024-08-10T13:40:11.123Z"
   },
   {
    "duration": 0,
    "start_time": "2024-08-10T13:40:11.125Z"
   },
   {
    "duration": 0,
    "start_time": "2024-08-10T13:40:11.126Z"
   },
   {
    "duration": 0,
    "start_time": "2024-08-10T13:40:11.127Z"
   },
   {
    "duration": 0,
    "start_time": "2024-08-10T13:40:11.128Z"
   },
   {
    "duration": 0,
    "start_time": "2024-08-10T13:40:11.129Z"
   },
   {
    "duration": 0,
    "start_time": "2024-08-10T13:40:11.130Z"
   },
   {
    "duration": 0,
    "start_time": "2024-08-10T13:40:11.131Z"
   },
   {
    "duration": 0,
    "start_time": "2024-08-10T13:40:11.133Z"
   },
   {
    "duration": 0,
    "start_time": "2024-08-10T13:40:11.133Z"
   },
   {
    "duration": 0,
    "start_time": "2024-08-10T13:40:11.134Z"
   },
   {
    "duration": 0,
    "start_time": "2024-08-10T13:40:11.135Z"
   },
   {
    "duration": 0,
    "start_time": "2024-08-10T13:40:11.136Z"
   },
   {
    "duration": 11,
    "start_time": "2024-08-10T13:41:38.709Z"
   },
   {
    "duration": 14,
    "start_time": "2024-08-10T13:42:33.566Z"
   },
   {
    "duration": 12,
    "start_time": "2024-08-10T13:42:58.199Z"
   },
   {
    "duration": 286,
    "start_time": "2024-08-10T13:45:06.257Z"
   },
   {
    "duration": 150,
    "start_time": "2024-08-10T13:45:19.764Z"
   },
   {
    "duration": 6,
    "start_time": "2024-08-10T13:47:10.715Z"
   },
   {
    "duration": 7,
    "start_time": "2024-08-10T13:47:18.991Z"
   },
   {
    "duration": 6,
    "start_time": "2024-08-10T13:47:56.539Z"
   },
   {
    "duration": 5,
    "start_time": "2024-08-10T13:48:18.359Z"
   },
   {
    "duration": 6,
    "start_time": "2024-08-10T13:50:08.351Z"
   },
   {
    "duration": 6,
    "start_time": "2024-08-10T13:50:12.509Z"
   },
   {
    "duration": 65,
    "start_time": "2024-08-10T13:50:33.632Z"
   },
   {
    "duration": 7,
    "start_time": "2024-08-10T13:50:54.476Z"
   },
   {
    "duration": 8,
    "start_time": "2024-08-10T13:50:57.838Z"
   },
   {
    "duration": 7,
    "start_time": "2024-08-10T13:51:14.945Z"
   },
   {
    "duration": 7,
    "start_time": "2024-08-10T13:51:35.845Z"
   },
   {
    "duration": 6,
    "start_time": "2024-08-10T13:51:37.855Z"
   },
   {
    "duration": 1204,
    "start_time": "2024-08-10T13:51:57.730Z"
   },
   {
    "duration": 157,
    "start_time": "2024-08-10T13:51:58.937Z"
   },
   {
    "duration": 2,
    "start_time": "2024-08-10T13:51:59.098Z"
   },
   {
    "duration": 29,
    "start_time": "2024-08-10T13:51:59.102Z"
   },
   {
    "duration": 23,
    "start_time": "2024-08-10T13:51:59.133Z"
   },
   {
    "duration": 11,
    "start_time": "2024-08-10T13:51:59.158Z"
   },
   {
    "duration": 13,
    "start_time": "2024-08-10T13:51:59.171Z"
   },
   {
    "duration": 27,
    "start_time": "2024-08-10T13:51:59.185Z"
   },
   {
    "duration": 6,
    "start_time": "2024-08-10T13:51:59.215Z"
   },
   {
    "duration": 21,
    "start_time": "2024-08-10T13:51:59.223Z"
   },
   {
    "duration": 32,
    "start_time": "2024-08-10T13:51:59.245Z"
   },
   {
    "duration": 21,
    "start_time": "2024-08-10T13:51:59.279Z"
   },
   {
    "duration": 606,
    "start_time": "2024-08-10T13:51:59.301Z"
   },
   {
    "duration": 17,
    "start_time": "2024-08-10T13:51:59.909Z"
   },
   {
    "duration": 12,
    "start_time": "2024-08-10T13:51:59.928Z"
   },
   {
    "duration": 5,
    "start_time": "2024-08-10T13:51:59.941Z"
   },
   {
    "duration": 23,
    "start_time": "2024-08-10T13:51:59.948Z"
   },
   {
    "duration": 26,
    "start_time": "2024-08-10T13:51:59.972Z"
   },
   {
    "duration": 18,
    "start_time": "2024-08-10T13:52:00.000Z"
   },
   {
    "duration": 25,
    "start_time": "2024-08-10T13:52:00.020Z"
   },
   {
    "duration": 35,
    "start_time": "2024-08-10T13:52:00.047Z"
   },
   {
    "duration": 39,
    "start_time": "2024-08-10T13:52:00.084Z"
   },
   {
    "duration": 39,
    "start_time": "2024-08-10T13:52:00.125Z"
   },
   {
    "duration": 85,
    "start_time": "2024-08-10T13:52:00.165Z"
   },
   {
    "duration": 51,
    "start_time": "2024-08-10T13:52:00.252Z"
   },
   {
    "duration": 17,
    "start_time": "2024-08-10T13:52:00.304Z"
   },
   {
    "duration": 48,
    "start_time": "2024-08-10T13:52:00.326Z"
   },
   {
    "duration": 54,
    "start_time": "2024-08-10T13:52:00.376Z"
   },
   {
    "duration": 52,
    "start_time": "2024-08-10T13:52:00.432Z"
   },
   {
    "duration": 56,
    "start_time": "2024-08-10T13:52:00.486Z"
   },
   {
    "duration": 47,
    "start_time": "2024-08-10T13:52:00.544Z"
   },
   {
    "duration": 94,
    "start_time": "2024-08-10T13:52:00.593Z"
   },
   {
    "duration": 68,
    "start_time": "2024-08-10T13:52:00.689Z"
   },
   {
    "duration": 81,
    "start_time": "2024-08-10T13:52:00.760Z"
   },
   {
    "duration": 4,
    "start_time": "2024-08-10T13:52:00.843Z"
   },
   {
    "duration": 58,
    "start_time": "2024-08-10T13:52:00.848Z"
   },
   {
    "duration": 62,
    "start_time": "2024-08-10T13:52:00.908Z"
   },
   {
    "duration": 75,
    "start_time": "2024-08-10T13:52:00.972Z"
   },
   {
    "duration": 70,
    "start_time": "2024-08-10T13:52:01.050Z"
   },
   {
    "duration": 39,
    "start_time": "2024-08-10T13:52:01.123Z"
   },
   {
    "duration": 65,
    "start_time": "2024-08-10T13:52:01.164Z"
   },
   {
    "duration": 76,
    "start_time": "2024-08-10T13:52:01.231Z"
   },
   {
    "duration": 377,
    "start_time": "2024-08-10T13:52:01.309Z"
   },
   {
    "duration": 7,
    "start_time": "2024-08-10T13:52:01.688Z"
   },
   {
    "duration": 64,
    "start_time": "2024-08-10T13:52:01.697Z"
   },
   {
    "duration": 34,
    "start_time": "2024-08-10T13:52:01.764Z"
   },
   {
    "duration": 5,
    "start_time": "2024-08-10T13:52:01.801Z"
   },
   {
    "duration": 23,
    "start_time": "2024-08-10T13:52:01.808Z"
   },
   {
    "duration": 338,
    "start_time": "2024-08-10T13:52:01.833Z"
   },
   {
    "duration": 4,
    "start_time": "2024-08-10T13:52:02.173Z"
   },
   {
    "duration": 412,
    "start_time": "2024-08-10T13:52:02.179Z"
   },
   {
    "duration": 6,
    "start_time": "2024-08-10T13:52:02.594Z"
   },
   {
    "duration": 332,
    "start_time": "2024-08-10T13:52:02.602Z"
   },
   {
    "duration": 7,
    "start_time": "2024-08-10T13:52:02.936Z"
   },
   {
    "duration": 8,
    "start_time": "2024-08-10T13:52:02.944Z"
   },
   {
    "duration": 10,
    "start_time": "2024-08-10T13:52:02.953Z"
   },
   {
    "duration": 215,
    "start_time": "2024-08-10T13:52:02.964Z"
   },
   {
    "duration": 23,
    "start_time": "2024-08-10T13:52:03.181Z"
   },
   {
    "duration": 15,
    "start_time": "2024-08-10T13:52:03.205Z"
   },
   {
    "duration": 15,
    "start_time": "2024-08-10T13:52:03.222Z"
   },
   {
    "duration": 7,
    "start_time": "2024-08-10T13:52:03.239Z"
   },
   {
    "duration": 13,
    "start_time": "2024-08-10T13:52:03.248Z"
   },
   {
    "duration": 592,
    "start_time": "2024-08-10T13:52:03.263Z"
   },
   {
    "duration": 13,
    "start_time": "2024-08-10T13:52:03.857Z"
   },
   {
    "duration": 26,
    "start_time": "2024-08-10T13:52:03.871Z"
   },
   {
    "duration": 19,
    "start_time": "2024-08-10T13:52:03.900Z"
   },
   {
    "duration": 343,
    "start_time": "2024-08-10T13:52:03.921Z"
   },
   {
    "duration": 4,
    "start_time": "2024-08-10T13:52:04.265Z"
   },
   {
    "duration": 101,
    "start_time": "2024-08-10T13:52:04.271Z"
   },
   {
    "duration": 13,
    "start_time": "2024-08-10T13:52:04.374Z"
   },
   {
    "duration": 459,
    "start_time": "2024-08-10T13:52:04.389Z"
   },
   {
    "duration": 4,
    "start_time": "2024-08-10T13:52:04.850Z"
   },
   {
    "duration": 32,
    "start_time": "2024-08-10T13:52:04.856Z"
   },
   {
    "duration": 29,
    "start_time": "2024-08-10T13:52:04.890Z"
   },
   {
    "duration": 31,
    "start_time": "2024-08-10T13:52:04.921Z"
   },
   {
    "duration": 17,
    "start_time": "2024-08-10T13:52:04.954Z"
   },
   {
    "duration": 265,
    "start_time": "2024-08-10T13:52:04.973Z"
   },
   {
    "duration": 328,
    "start_time": "2024-08-10T13:52:05.240Z"
   },
   {
    "duration": 10,
    "start_time": "2024-08-10T13:52:05.569Z"
   },
   {
    "duration": 8,
    "start_time": "2024-08-10T13:52:05.580Z"
   },
   {
    "duration": 4,
    "start_time": "2024-08-10T13:52:05.594Z"
   },
   {
    "duration": 16,
    "start_time": "2024-08-10T13:52:05.618Z"
   },
   {
    "duration": 23,
    "start_time": "2024-08-10T13:52:05.636Z"
   },
   {
    "duration": 82,
    "start_time": "2024-08-10T13:52:05.661Z"
   },
   {
    "duration": 10,
    "start_time": "2024-08-10T13:52:05.744Z"
   },
   {
    "duration": 3,
    "start_time": "2024-08-10T13:52:05.756Z"
   },
   {
    "duration": 34,
    "start_time": "2024-08-10T13:52:05.760Z"
   },
   {
    "duration": 112,
    "start_time": "2024-08-10T13:52:05.796Z"
   },
   {
    "duration": 0,
    "start_time": "2024-08-10T13:52:05.910Z"
   },
   {
    "duration": 0,
    "start_time": "2024-08-10T13:52:05.912Z"
   },
   {
    "duration": 0,
    "start_time": "2024-08-10T13:52:05.918Z"
   },
   {
    "duration": 0,
    "start_time": "2024-08-10T13:52:05.919Z"
   },
   {
    "duration": 0,
    "start_time": "2024-08-10T13:52:05.921Z"
   },
   {
    "duration": 0,
    "start_time": "2024-08-10T13:52:05.923Z"
   },
   {
    "duration": 0,
    "start_time": "2024-08-10T13:52:05.924Z"
   },
   {
    "duration": 0,
    "start_time": "2024-08-10T13:52:05.925Z"
   },
   {
    "duration": 0,
    "start_time": "2024-08-10T13:52:05.927Z"
   },
   {
    "duration": 0,
    "start_time": "2024-08-10T13:52:05.929Z"
   },
   {
    "duration": 0,
    "start_time": "2024-08-10T13:52:05.930Z"
   },
   {
    "duration": 0,
    "start_time": "2024-08-10T13:52:05.932Z"
   },
   {
    "duration": 503,
    "start_time": "2024-08-10T13:56:27.905Z"
   },
   {
    "duration": 515,
    "start_time": "2024-08-10T13:56:43.784Z"
   },
   {
    "duration": 1174,
    "start_time": "2024-08-10T13:57:17.549Z"
   },
   {
    "duration": 153,
    "start_time": "2024-08-10T13:57:18.725Z"
   },
   {
    "duration": 3,
    "start_time": "2024-08-10T13:57:18.879Z"
   },
   {
    "duration": 10,
    "start_time": "2024-08-10T13:57:18.884Z"
   },
   {
    "duration": 19,
    "start_time": "2024-08-10T13:57:18.896Z"
   },
   {
    "duration": 9,
    "start_time": "2024-08-10T13:57:18.917Z"
   },
   {
    "duration": 6,
    "start_time": "2024-08-10T13:57:18.928Z"
   },
   {
    "duration": 23,
    "start_time": "2024-08-10T13:57:18.935Z"
   },
   {
    "duration": 5,
    "start_time": "2024-08-10T13:57:18.960Z"
   },
   {
    "duration": 4,
    "start_time": "2024-08-10T13:57:18.968Z"
   },
   {
    "duration": 45,
    "start_time": "2024-08-10T13:57:18.974Z"
   },
   {
    "duration": 19,
    "start_time": "2024-08-10T13:57:19.020Z"
   },
   {
    "duration": 605,
    "start_time": "2024-08-10T13:57:19.040Z"
   },
   {
    "duration": 13,
    "start_time": "2024-08-10T13:57:19.647Z"
   },
   {
    "duration": 12,
    "start_time": "2024-08-10T13:57:19.661Z"
   },
   {
    "duration": 6,
    "start_time": "2024-08-10T13:57:19.675Z"
   },
   {
    "duration": 44,
    "start_time": "2024-08-10T13:57:19.682Z"
   },
   {
    "duration": 11,
    "start_time": "2024-08-10T13:57:19.728Z"
   },
   {
    "duration": 22,
    "start_time": "2024-08-10T13:57:19.741Z"
   },
   {
    "duration": 11,
    "start_time": "2024-08-10T13:57:19.765Z"
   },
   {
    "duration": 4,
    "start_time": "2024-08-10T13:57:19.777Z"
   },
   {
    "duration": 9,
    "start_time": "2024-08-10T13:57:19.783Z"
   },
   {
    "duration": 26,
    "start_time": "2024-08-10T13:57:19.793Z"
   },
   {
    "duration": 17,
    "start_time": "2024-08-10T13:57:19.821Z"
   },
   {
    "duration": 24,
    "start_time": "2024-08-10T13:57:19.839Z"
   },
   {
    "duration": 8,
    "start_time": "2024-08-10T13:57:19.864Z"
   },
   {
    "duration": 7,
    "start_time": "2024-08-10T13:57:19.873Z"
   },
   {
    "duration": 3,
    "start_time": "2024-08-10T13:57:19.884Z"
   },
   {
    "duration": 4,
    "start_time": "2024-08-10T13:57:19.917Z"
   },
   {
    "duration": 16,
    "start_time": "2024-08-10T13:57:19.922Z"
   },
   {
    "duration": 3,
    "start_time": "2024-08-10T13:57:19.940Z"
   },
   {
    "duration": 15,
    "start_time": "2024-08-10T13:57:19.945Z"
   },
   {
    "duration": 8,
    "start_time": "2024-08-10T13:57:19.962Z"
   },
   {
    "duration": 47,
    "start_time": "2024-08-10T13:57:19.972Z"
   },
   {
    "duration": 4,
    "start_time": "2024-08-10T13:57:20.020Z"
   },
   {
    "duration": 13,
    "start_time": "2024-08-10T13:57:20.025Z"
   },
   {
    "duration": 22,
    "start_time": "2024-08-10T13:57:20.039Z"
   },
   {
    "duration": 28,
    "start_time": "2024-08-10T13:57:20.062Z"
   },
   {
    "duration": 27,
    "start_time": "2024-08-10T13:57:20.092Z"
   },
   {
    "duration": 6,
    "start_time": "2024-08-10T13:57:20.121Z"
   },
   {
    "duration": 8,
    "start_time": "2024-08-10T13:57:20.128Z"
   },
   {
    "duration": 5,
    "start_time": "2024-08-10T13:57:20.138Z"
   },
   {
    "duration": 273,
    "start_time": "2024-08-10T13:57:20.144Z"
   },
   {
    "duration": 7,
    "start_time": "2024-08-10T13:57:20.419Z"
   },
   {
    "duration": 6,
    "start_time": "2024-08-10T13:57:20.428Z"
   },
   {
    "duration": 14,
    "start_time": "2024-08-10T13:57:20.436Z"
   },
   {
    "duration": 10,
    "start_time": "2024-08-10T13:57:20.451Z"
   },
   {
    "duration": 12,
    "start_time": "2024-08-10T13:57:20.463Z"
   },
   {
    "duration": 310,
    "start_time": "2024-08-10T13:57:20.476Z"
   },
   {
    "duration": 5,
    "start_time": "2024-08-10T13:57:20.788Z"
   },
   {
    "duration": 425,
    "start_time": "2024-08-10T13:57:20.795Z"
   },
   {
    "duration": 4,
    "start_time": "2024-08-10T13:57:21.222Z"
   },
   {
    "duration": 313,
    "start_time": "2024-08-10T13:57:21.228Z"
   },
   {
    "duration": 7,
    "start_time": "2024-08-10T13:57:21.543Z"
   },
   {
    "duration": 23,
    "start_time": "2024-08-10T13:57:21.552Z"
   },
   {
    "duration": 6,
    "start_time": "2024-08-10T13:57:21.576Z"
   },
   {
    "duration": 181,
    "start_time": "2024-08-10T13:57:21.584Z"
   },
   {
    "duration": 23,
    "start_time": "2024-08-10T13:57:21.766Z"
   },
   {
    "duration": 6,
    "start_time": "2024-08-10T13:57:21.791Z"
   },
   {
    "duration": 8,
    "start_time": "2024-08-10T13:57:21.817Z"
   },
   {
    "duration": 8,
    "start_time": "2024-08-10T13:57:21.827Z"
   },
   {
    "duration": 10,
    "start_time": "2024-08-10T13:57:21.836Z"
   },
   {
    "duration": 875,
    "start_time": "2024-08-10T13:57:21.847Z"
   },
   {
    "duration": 13,
    "start_time": "2024-08-10T13:57:22.723Z"
   },
   {
    "duration": 25,
    "start_time": "2024-08-10T13:57:22.737Z"
   },
   {
    "duration": 55,
    "start_time": "2024-08-10T13:57:22.764Z"
   },
   {
    "duration": 639,
    "start_time": "2024-08-10T13:57:22.820Z"
   },
   {
    "duration": 3,
    "start_time": "2024-08-10T13:57:23.461Z"
   },
   {
    "duration": 119,
    "start_time": "2024-08-10T13:57:23.519Z"
   },
   {
    "duration": 12,
    "start_time": "2024-08-10T13:57:23.639Z"
   },
   {
    "duration": 890,
    "start_time": "2024-08-10T13:57:23.653Z"
   },
   {
    "duration": 3,
    "start_time": "2024-08-10T13:57:24.545Z"
   },
   {
    "duration": 20,
    "start_time": "2024-08-10T13:57:24.549Z"
   },
   {
    "duration": 9,
    "start_time": "2024-08-10T13:57:24.618Z"
   },
   {
    "duration": 52,
    "start_time": "2024-08-10T13:57:24.628Z"
   },
   {
    "duration": 5,
    "start_time": "2024-08-10T13:57:24.718Z"
   },
   {
    "duration": 499,
    "start_time": "2024-08-10T13:57:24.725Z"
   },
   {
    "duration": 633,
    "start_time": "2024-08-10T13:57:25.226Z"
   },
   {
    "duration": 64,
    "start_time": "2024-08-10T13:57:25.860Z"
   },
   {
    "duration": 5,
    "start_time": "2024-08-10T13:57:25.926Z"
   },
   {
    "duration": 3,
    "start_time": "2024-08-10T13:57:25.933Z"
   },
   {
    "duration": 13,
    "start_time": "2024-08-10T13:57:25.942Z"
   },
   {
    "duration": 65,
    "start_time": "2024-08-10T13:57:25.956Z"
   },
   {
    "duration": 8,
    "start_time": "2024-08-10T13:57:26.022Z"
   },
   {
    "duration": 11,
    "start_time": "2024-08-10T13:57:26.031Z"
   },
   {
    "duration": 9,
    "start_time": "2024-08-10T13:57:26.043Z"
   },
   {
    "duration": 20,
    "start_time": "2024-08-10T13:57:26.053Z"
   },
   {
    "duration": 245,
    "start_time": "2024-08-10T13:57:26.074Z"
   },
   {
    "duration": 0,
    "start_time": "2024-08-10T13:57:26.320Z"
   },
   {
    "duration": 0,
    "start_time": "2024-08-10T13:57:26.322Z"
   },
   {
    "duration": 0,
    "start_time": "2024-08-10T13:57:26.323Z"
   },
   {
    "duration": 0,
    "start_time": "2024-08-10T13:57:26.324Z"
   },
   {
    "duration": 0,
    "start_time": "2024-08-10T13:57:26.325Z"
   },
   {
    "duration": 0,
    "start_time": "2024-08-10T13:57:26.326Z"
   },
   {
    "duration": 1,
    "start_time": "2024-08-10T13:57:26.327Z"
   },
   {
    "duration": 0,
    "start_time": "2024-08-10T13:57:26.328Z"
   },
   {
    "duration": 0,
    "start_time": "2024-08-10T13:57:26.329Z"
   },
   {
    "duration": 0,
    "start_time": "2024-08-10T13:57:26.330Z"
   },
   {
    "duration": 0,
    "start_time": "2024-08-10T13:57:26.331Z"
   },
   {
    "duration": 0,
    "start_time": "2024-08-10T13:57:26.332Z"
   },
   {
    "duration": 12,
    "start_time": "2024-08-10T14:01:12.953Z"
   },
   {
    "duration": 15,
    "start_time": "2024-08-10T14:01:35.981Z"
   },
   {
    "duration": 10,
    "start_time": "2024-08-10T14:01:51.862Z"
   },
   {
    "duration": 7,
    "start_time": "2024-08-10T14:04:26.576Z"
   },
   {
    "duration": 1088,
    "start_time": "2024-08-10T14:04:28.959Z"
   },
   {
    "duration": 1150,
    "start_time": "2024-08-10T14:05:10.887Z"
   },
   {
    "duration": 172,
    "start_time": "2024-08-10T14:06:07.689Z"
   },
   {
    "duration": 184,
    "start_time": "2024-08-10T14:06:45.043Z"
   },
   {
    "duration": 7,
    "start_time": "2024-08-10T14:08:30.929Z"
   },
   {
    "duration": 12,
    "start_time": "2024-08-10T14:08:36.216Z"
   },
   {
    "duration": 204,
    "start_time": "2024-08-10T14:09:11.132Z"
   },
   {
    "duration": 204,
    "start_time": "2024-08-10T14:09:26.286Z"
   },
   {
    "duration": 10,
    "start_time": "2024-08-10T14:17:45.516Z"
   },
   {
    "duration": 12,
    "start_time": "2024-08-10T14:19:17.448Z"
   },
   {
    "duration": 4,
    "start_time": "2024-08-10T14:20:43.024Z"
   },
   {
    "duration": 3,
    "start_time": "2024-08-10T14:20:55.682Z"
   },
   {
    "duration": 8,
    "start_time": "2024-08-10T14:21:09.122Z"
   },
   {
    "duration": 9,
    "start_time": "2024-08-10T14:21:16.691Z"
   },
   {
    "duration": 11,
    "start_time": "2024-08-10T14:21:22.723Z"
   },
   {
    "duration": 7,
    "start_time": "2024-08-10T14:21:27.009Z"
   },
   {
    "duration": 13,
    "start_time": "2024-08-10T14:23:04.857Z"
   },
   {
    "duration": 12,
    "start_time": "2024-08-10T14:23:46.967Z"
   },
   {
    "duration": 13,
    "start_time": "2024-08-10T14:25:05.969Z"
   },
   {
    "duration": 18,
    "start_time": "2024-08-10T14:26:46.358Z"
   },
   {
    "duration": 12,
    "start_time": "2024-08-10T14:27:17.492Z"
   },
   {
    "duration": 9,
    "start_time": "2024-08-10T14:27:31.152Z"
   },
   {
    "duration": 20,
    "start_time": "2024-08-10T14:27:36.177Z"
   },
   {
    "duration": 13,
    "start_time": "2024-08-10T14:27:42.354Z"
   },
   {
    "duration": 19,
    "start_time": "2024-08-10T14:27:47.025Z"
   },
   {
    "duration": 13,
    "start_time": "2024-08-10T14:27:54.244Z"
   },
   {
    "duration": 9,
    "start_time": "2024-08-10T14:28:22.658Z"
   },
   {
    "duration": 5,
    "start_time": "2024-08-10T14:28:40.140Z"
   },
   {
    "duration": 15,
    "start_time": "2024-08-10T14:29:13.743Z"
   },
   {
    "duration": 6,
    "start_time": "2024-08-10T14:29:26.808Z"
   },
   {
    "duration": 53,
    "start_time": "2024-08-10T14:29:35.101Z"
   },
   {
    "duration": 7,
    "start_time": "2024-08-10T14:30:07.601Z"
   },
   {
    "duration": 7,
    "start_time": "2024-08-10T14:30:15.458Z"
   },
   {
    "duration": 6,
    "start_time": "2024-08-10T14:30:19.527Z"
   },
   {
    "duration": 13,
    "start_time": "2024-08-10T14:30:22.895Z"
   },
   {
    "duration": 17,
    "start_time": "2024-08-10T14:30:51.099Z"
   },
   {
    "duration": 11,
    "start_time": "2024-08-10T14:30:59.464Z"
   },
   {
    "duration": 16,
    "start_time": "2024-08-10T14:31:13.621Z"
   },
   {
    "duration": 70,
    "start_time": "2024-08-10T14:31:34.480Z"
   },
   {
    "duration": 8,
    "start_time": "2024-08-10T14:31:40.142Z"
   },
   {
    "duration": 49,
    "start_time": "2024-08-10T14:31:49.593Z"
   },
   {
    "duration": 41,
    "start_time": "2024-08-10T14:32:04.030Z"
   },
   {
    "duration": 40,
    "start_time": "2024-08-10T14:33:04.760Z"
   },
   {
    "duration": 13,
    "start_time": "2024-08-10T14:34:10.749Z"
   },
   {
    "duration": 10,
    "start_time": "2024-08-10T14:35:19.823Z"
   },
   {
    "duration": 21,
    "start_time": "2024-08-10T14:35:22.959Z"
   },
   {
    "duration": 18,
    "start_time": "2024-08-10T14:36:15.655Z"
   },
   {
    "duration": 7,
    "start_time": "2024-08-10T14:36:30.650Z"
   },
   {
    "duration": 25,
    "start_time": "2024-08-10T14:38:32.733Z"
   },
   {
    "duration": 1184,
    "start_time": "2024-08-10T14:41:47.042Z"
   },
   {
    "duration": 157,
    "start_time": "2024-08-10T14:41:48.228Z"
   },
   {
    "duration": 3,
    "start_time": "2024-08-10T14:41:48.386Z"
   },
   {
    "duration": 9,
    "start_time": "2024-08-10T14:41:48.390Z"
   },
   {
    "duration": 16,
    "start_time": "2024-08-10T14:41:48.400Z"
   },
   {
    "duration": 9,
    "start_time": "2024-08-10T14:41:48.418Z"
   },
   {
    "duration": 7,
    "start_time": "2024-08-10T14:41:48.428Z"
   },
   {
    "duration": 22,
    "start_time": "2024-08-10T14:41:48.436Z"
   },
   {
    "duration": 6,
    "start_time": "2024-08-10T14:41:48.460Z"
   },
   {
    "duration": 5,
    "start_time": "2024-08-10T14:41:48.468Z"
   },
   {
    "duration": 15,
    "start_time": "2024-08-10T14:41:48.474Z"
   },
   {
    "duration": 18,
    "start_time": "2024-08-10T14:41:48.518Z"
   },
   {
    "duration": 623,
    "start_time": "2024-08-10T14:41:48.538Z"
   },
   {
    "duration": 11,
    "start_time": "2024-08-10T14:41:49.163Z"
   },
   {
    "duration": 13,
    "start_time": "2024-08-10T14:41:49.176Z"
   },
   {
    "duration": 5,
    "start_time": "2024-08-10T14:41:49.190Z"
   },
   {
    "duration": 15,
    "start_time": "2024-08-10T14:41:49.218Z"
   },
   {
    "duration": 12,
    "start_time": "2024-08-10T14:41:49.235Z"
   },
   {
    "duration": 12,
    "start_time": "2024-08-10T14:41:49.248Z"
   },
   {
    "duration": 11,
    "start_time": "2024-08-10T14:41:49.262Z"
   },
   {
    "duration": 11,
    "start_time": "2024-08-10T14:41:49.274Z"
   },
   {
    "duration": 32,
    "start_time": "2024-08-10T14:41:49.287Z"
   },
   {
    "duration": 25,
    "start_time": "2024-08-10T14:41:49.321Z"
   },
   {
    "duration": 19,
    "start_time": "2024-08-10T14:41:49.348Z"
   },
   {
    "duration": 39,
    "start_time": "2024-08-10T14:41:49.369Z"
   },
   {
    "duration": 8,
    "start_time": "2024-08-10T14:41:49.410Z"
   },
   {
    "duration": 12,
    "start_time": "2024-08-10T14:41:49.420Z"
   },
   {
    "duration": 3,
    "start_time": "2024-08-10T14:41:49.437Z"
   },
   {
    "duration": 13,
    "start_time": "2024-08-10T14:41:49.442Z"
   },
   {
    "duration": 14,
    "start_time": "2024-08-10T14:41:49.456Z"
   },
   {
    "duration": 10,
    "start_time": "2024-08-10T14:41:49.471Z"
   },
   {
    "duration": 13,
    "start_time": "2024-08-10T14:41:49.483Z"
   },
   {
    "duration": 28,
    "start_time": "2024-08-10T14:41:49.497Z"
   },
   {
    "duration": 22,
    "start_time": "2024-08-10T14:41:49.526Z"
   },
   {
    "duration": 3,
    "start_time": "2024-08-10T14:41:49.550Z"
   },
   {
    "duration": 14,
    "start_time": "2024-08-10T14:41:49.555Z"
   },
   {
    "duration": 14,
    "start_time": "2024-08-10T14:41:49.571Z"
   },
   {
    "duration": 49,
    "start_time": "2024-08-10T14:41:49.587Z"
   },
   {
    "duration": 14,
    "start_time": "2024-08-10T14:41:49.638Z"
   },
   {
    "duration": 7,
    "start_time": "2024-08-10T14:41:49.654Z"
   },
   {
    "duration": 5,
    "start_time": "2024-08-10T14:41:49.663Z"
   },
   {
    "duration": 7,
    "start_time": "2024-08-10T14:41:49.669Z"
   },
   {
    "duration": 301,
    "start_time": "2024-08-10T14:41:49.678Z"
   },
   {
    "duration": 6,
    "start_time": "2024-08-10T14:41:49.980Z"
   },
   {
    "duration": 7,
    "start_time": "2024-08-10T14:41:49.987Z"
   },
   {
    "duration": 24,
    "start_time": "2024-08-10T14:41:49.996Z"
   },
   {
    "duration": 5,
    "start_time": "2024-08-10T14:41:50.021Z"
   },
   {
    "duration": 9,
    "start_time": "2024-08-10T14:41:50.027Z"
   },
   {
    "duration": 297,
    "start_time": "2024-08-10T14:41:50.037Z"
   },
   {
    "duration": 4,
    "start_time": "2024-08-10T14:41:50.336Z"
   },
   {
    "duration": 405,
    "start_time": "2024-08-10T14:41:50.342Z"
   },
   {
    "duration": 5,
    "start_time": "2024-08-10T14:41:50.749Z"
   },
   {
    "duration": 337,
    "start_time": "2024-08-10T14:41:50.755Z"
   },
   {
    "duration": 7,
    "start_time": "2024-08-10T14:41:51.095Z"
   },
   {
    "duration": 15,
    "start_time": "2024-08-10T14:41:51.103Z"
   },
   {
    "duration": 6,
    "start_time": "2024-08-10T14:41:51.119Z"
   },
   {
    "duration": 171,
    "start_time": "2024-08-10T14:41:51.126Z"
   },
   {
    "duration": 32,
    "start_time": "2024-08-10T14:41:51.298Z"
   },
   {
    "duration": 31,
    "start_time": "2024-08-10T14:41:51.331Z"
   },
   {
    "duration": 17,
    "start_time": "2024-08-10T14:41:51.364Z"
   },
   {
    "duration": 7,
    "start_time": "2024-08-10T14:41:51.382Z"
   },
   {
    "duration": 6,
    "start_time": "2024-08-10T14:41:51.390Z"
   },
   {
    "duration": 497,
    "start_time": "2024-08-10T14:41:51.398Z"
   },
   {
    "duration": 22,
    "start_time": "2024-08-10T14:41:51.896Z"
   },
   {
    "duration": 23,
    "start_time": "2024-08-10T14:41:51.920Z"
   },
   {
    "duration": 188,
    "start_time": "2024-08-10T14:41:51.945Z"
   },
   {
    "duration": 3,
    "start_time": "2024-08-10T14:41:52.134Z"
   },
   {
    "duration": 80,
    "start_time": "2024-08-10T14:41:52.139Z"
   },
   {
    "duration": 13,
    "start_time": "2024-08-10T14:41:52.220Z"
   },
   {
    "duration": 438,
    "start_time": "2024-08-10T14:41:52.235Z"
   },
   {
    "duration": 3,
    "start_time": "2024-08-10T14:41:52.675Z"
   },
   {
    "duration": 11,
    "start_time": "2024-08-10T14:41:52.679Z"
   },
   {
    "duration": 13,
    "start_time": "2024-08-10T14:41:52.692Z"
   },
   {
    "duration": 26,
    "start_time": "2024-08-10T14:41:52.706Z"
   },
   {
    "duration": 5,
    "start_time": "2024-08-10T14:41:52.734Z"
   },
   {
    "duration": 260,
    "start_time": "2024-08-10T14:41:52.741Z"
   },
   {
    "duration": 338,
    "start_time": "2024-08-10T14:41:53.003Z"
   },
   {
    "duration": 9,
    "start_time": "2024-08-10T14:41:53.343Z"
   },
   {
    "duration": 5,
    "start_time": "2024-08-10T14:41:53.353Z"
   },
   {
    "duration": 4,
    "start_time": "2024-08-10T14:41:53.359Z"
   },
   {
    "duration": 29,
    "start_time": "2024-08-10T14:41:53.365Z"
   },
   {
    "duration": 6,
    "start_time": "2024-08-10T14:41:53.399Z"
   },
   {
    "duration": 4,
    "start_time": "2024-08-10T14:41:53.417Z"
   },
   {
    "duration": 13,
    "start_time": "2024-08-10T14:41:53.423Z"
   },
   {
    "duration": 3,
    "start_time": "2024-08-10T14:41:53.438Z"
   },
   {
    "duration": 7,
    "start_time": "2024-08-10T14:41:53.443Z"
   },
   {
    "duration": 7,
    "start_time": "2024-08-10T14:41:53.451Z"
   },
   {
    "duration": 26,
    "start_time": "2024-08-10T14:41:53.460Z"
   },
   {
    "duration": 47,
    "start_time": "2024-08-10T14:41:53.488Z"
   },
   {
    "duration": 25,
    "start_time": "2024-08-10T14:41:53.536Z"
   },
   {
    "duration": 5,
    "start_time": "2024-08-10T14:41:53.562Z"
   },
   {
    "duration": 240,
    "start_time": "2024-08-10T14:41:53.568Z"
   },
   {
    "duration": 212,
    "start_time": "2024-08-10T14:41:53.810Z"
   },
   {
    "duration": 199,
    "start_time": "2024-08-10T14:41:54.024Z"
   },
   {
    "duration": 12,
    "start_time": "2024-08-10T14:41:54.224Z"
   },
   {
    "duration": 274,
    "start_time": "2024-08-10T14:41:54.238Z"
   },
   {
    "duration": 0,
    "start_time": "2024-08-10T14:41:54.513Z"
   },
   {
    "duration": 0,
    "start_time": "2024-08-10T14:41:54.517Z"
   },
   {
    "duration": 0,
    "start_time": "2024-08-10T14:41:54.518Z"
   },
   {
    "duration": 28,
    "start_time": "2024-08-10T14:42:09.527Z"
   },
   {
    "duration": 207,
    "start_time": "2024-08-10T14:43:16.416Z"
   },
   {
    "duration": 14,
    "start_time": "2024-08-10T14:49:38.910Z"
   },
   {
    "duration": 201,
    "start_time": "2024-08-10T14:49:43.716Z"
   },
   {
    "duration": 368,
    "start_time": "2024-08-10T14:49:57.117Z"
   },
   {
    "duration": 325,
    "start_time": "2024-08-10T14:50:10.200Z"
   },
   {
    "duration": 434,
    "start_time": "2024-08-10T14:51:53.456Z"
   },
   {
    "duration": 12,
    "start_time": "2024-08-10T14:52:08.229Z"
   },
   {
    "duration": 28,
    "start_time": "2024-08-10T14:52:11.051Z"
   },
   {
    "duration": 1188,
    "start_time": "2024-08-10T14:57:10.363Z"
   },
   {
    "duration": 163,
    "start_time": "2024-08-10T14:57:11.553Z"
   },
   {
    "duration": 4,
    "start_time": "2024-08-10T14:57:11.718Z"
   },
   {
    "duration": 12,
    "start_time": "2024-08-10T14:57:11.725Z"
   },
   {
    "duration": 15,
    "start_time": "2024-08-10T14:57:11.739Z"
   },
   {
    "duration": 10,
    "start_time": "2024-08-10T14:57:11.755Z"
   },
   {
    "duration": 6,
    "start_time": "2024-08-10T14:57:11.767Z"
   },
   {
    "duration": 55,
    "start_time": "2024-08-10T14:57:11.775Z"
   },
   {
    "duration": 6,
    "start_time": "2024-08-10T14:57:11.832Z"
   },
   {
    "duration": 5,
    "start_time": "2024-08-10T14:57:11.841Z"
   },
   {
    "duration": 23,
    "start_time": "2024-08-10T14:57:11.848Z"
   },
   {
    "duration": 20,
    "start_time": "2024-08-10T14:57:11.873Z"
   },
   {
    "duration": 678,
    "start_time": "2024-08-10T14:57:11.919Z"
   },
   {
    "duration": 19,
    "start_time": "2024-08-10T14:57:12.599Z"
   },
   {
    "duration": 17,
    "start_time": "2024-08-10T14:57:12.620Z"
   },
   {
    "duration": 22,
    "start_time": "2024-08-10T14:57:12.639Z"
   },
   {
    "duration": 15,
    "start_time": "2024-08-10T14:57:12.663Z"
   },
   {
    "duration": 10,
    "start_time": "2024-08-10T14:57:12.680Z"
   },
   {
    "duration": 27,
    "start_time": "2024-08-10T14:57:12.691Z"
   },
   {
    "duration": 10,
    "start_time": "2024-08-10T14:57:12.719Z"
   },
   {
    "duration": 5,
    "start_time": "2024-08-10T14:57:12.730Z"
   },
   {
    "duration": 8,
    "start_time": "2024-08-10T14:57:12.736Z"
   },
   {
    "duration": 4,
    "start_time": "2024-08-10T14:57:12.745Z"
   },
   {
    "duration": 19,
    "start_time": "2024-08-10T14:57:12.751Z"
   },
   {
    "duration": 63,
    "start_time": "2024-08-10T14:57:12.772Z"
   },
   {
    "duration": 9,
    "start_time": "2024-08-10T14:57:12.836Z"
   },
   {
    "duration": 9,
    "start_time": "2024-08-10T14:57:12.847Z"
   },
   {
    "duration": 5,
    "start_time": "2024-08-10T14:57:12.860Z"
   },
   {
    "duration": 4,
    "start_time": "2024-08-10T14:57:12.866Z"
   },
   {
    "duration": 12,
    "start_time": "2024-08-10T14:57:12.872Z"
   },
   {
    "duration": 33,
    "start_time": "2024-08-10T14:57:12.885Z"
   },
   {
    "duration": 20,
    "start_time": "2024-08-10T14:57:12.920Z"
   },
   {
    "duration": 14,
    "start_time": "2024-08-10T14:57:12.942Z"
   },
   {
    "duration": 24,
    "start_time": "2024-08-10T14:57:12.959Z"
   },
   {
    "duration": 3,
    "start_time": "2024-08-10T14:57:12.985Z"
   },
   {
    "duration": 30,
    "start_time": "2024-08-10T14:57:12.990Z"
   },
   {
    "duration": 30,
    "start_time": "2024-08-10T14:57:13.023Z"
   },
   {
    "duration": 40,
    "start_time": "2024-08-10T14:57:13.056Z"
   },
   {
    "duration": 41,
    "start_time": "2024-08-10T14:57:13.098Z"
   },
   {
    "duration": 10,
    "start_time": "2024-08-10T14:57:13.141Z"
   },
   {
    "duration": 10,
    "start_time": "2024-08-10T14:57:13.153Z"
   },
   {
    "duration": 5,
    "start_time": "2024-08-10T14:57:13.165Z"
   },
   {
    "duration": 328,
    "start_time": "2024-08-10T14:57:13.171Z"
   },
   {
    "duration": 6,
    "start_time": "2024-08-10T14:57:13.501Z"
   },
   {
    "duration": 4,
    "start_time": "2024-08-10T14:57:13.518Z"
   },
   {
    "duration": 11,
    "start_time": "2024-08-10T14:57:13.524Z"
   },
   {
    "duration": 5,
    "start_time": "2024-08-10T14:57:13.537Z"
   },
   {
    "duration": 6,
    "start_time": "2024-08-10T14:57:13.545Z"
   },
   {
    "duration": 370,
    "start_time": "2024-08-10T14:57:13.553Z"
   },
   {
    "duration": 13,
    "start_time": "2024-08-10T14:57:13.925Z"
   },
   {
    "duration": 421,
    "start_time": "2024-08-10T14:57:13.940Z"
   },
   {
    "duration": 4,
    "start_time": "2024-08-10T14:57:14.362Z"
   },
   {
    "duration": 309,
    "start_time": "2024-08-10T14:57:14.368Z"
   },
   {
    "duration": 6,
    "start_time": "2024-08-10T14:57:14.678Z"
   },
   {
    "duration": 6,
    "start_time": "2024-08-10T14:57:14.686Z"
   },
   {
    "duration": 4,
    "start_time": "2024-08-10T14:57:14.694Z"
   },
   {
    "duration": 200,
    "start_time": "2024-08-10T14:57:14.699Z"
   },
   {
    "duration": 34,
    "start_time": "2024-08-10T14:57:14.902Z"
   },
   {
    "duration": 7,
    "start_time": "2024-08-10T14:57:14.938Z"
   },
   {
    "duration": 19,
    "start_time": "2024-08-10T14:57:14.947Z"
   },
   {
    "duration": 9,
    "start_time": "2024-08-10T14:57:14.968Z"
   },
   {
    "duration": 7,
    "start_time": "2024-08-10T14:57:14.979Z"
   },
   {
    "duration": 582,
    "start_time": "2024-08-10T14:57:14.987Z"
   },
   {
    "duration": 14,
    "start_time": "2024-08-10T14:57:15.571Z"
   },
   {
    "duration": 21,
    "start_time": "2024-08-10T14:57:15.587Z"
   },
   {
    "duration": 235,
    "start_time": "2024-08-10T14:57:15.611Z"
   },
   {
    "duration": 2,
    "start_time": "2024-08-10T14:57:15.848Z"
   },
   {
    "duration": 84,
    "start_time": "2024-08-10T14:57:15.852Z"
   },
   {
    "duration": 12,
    "start_time": "2024-08-10T14:57:15.937Z"
   },
   {
    "duration": 483,
    "start_time": "2024-08-10T14:57:15.951Z"
   },
   {
    "duration": 3,
    "start_time": "2024-08-10T14:57:16.436Z"
   },
   {
    "duration": 13,
    "start_time": "2024-08-10T14:57:16.441Z"
   },
   {
    "duration": 7,
    "start_time": "2024-08-10T14:57:16.455Z"
   },
   {
    "duration": 22,
    "start_time": "2024-08-10T14:57:16.463Z"
   },
   {
    "duration": 5,
    "start_time": "2024-08-10T14:57:16.487Z"
   },
   {
    "duration": 298,
    "start_time": "2024-08-10T14:57:16.494Z"
   },
   {
    "duration": 381,
    "start_time": "2024-08-10T14:57:16.794Z"
   },
   {
    "duration": 12,
    "start_time": "2024-08-10T14:57:17.176Z"
   },
   {
    "duration": 18,
    "start_time": "2024-08-10T14:57:17.190Z"
   },
   {
    "duration": 10,
    "start_time": "2024-08-10T14:57:17.210Z"
   },
   {
    "duration": 22,
    "start_time": "2024-08-10T14:57:17.222Z"
   },
   {
    "duration": 6,
    "start_time": "2024-08-10T14:57:17.250Z"
   },
   {
    "duration": 10,
    "start_time": "2024-08-10T14:57:17.259Z"
   },
   {
    "duration": 31,
    "start_time": "2024-08-10T14:57:17.271Z"
   },
   {
    "duration": 7,
    "start_time": "2024-08-10T14:57:17.304Z"
   },
   {
    "duration": 13,
    "start_time": "2024-08-10T14:57:17.313Z"
   },
   {
    "duration": 14,
    "start_time": "2024-08-10T14:57:17.328Z"
   },
   {
    "duration": 30,
    "start_time": "2024-08-10T14:57:17.344Z"
   },
   {
    "duration": 45,
    "start_time": "2024-08-10T14:57:17.376Z"
   },
   {
    "duration": 46,
    "start_time": "2024-08-10T14:57:17.423Z"
   },
   {
    "duration": 6,
    "start_time": "2024-08-10T14:57:17.471Z"
   },
   {
    "duration": 238,
    "start_time": "2024-08-10T14:57:17.478Z"
   },
   {
    "duration": 218,
    "start_time": "2024-08-10T14:57:17.718Z"
   },
   {
    "duration": 221,
    "start_time": "2024-08-10T14:57:17.938Z"
   },
   {
    "duration": 12,
    "start_time": "2024-08-10T14:57:18.161Z"
   },
   {
    "duration": 366,
    "start_time": "2024-08-10T14:57:18.174Z"
   },
   {
    "duration": 13,
    "start_time": "2024-08-10T14:57:18.542Z"
   },
   {
    "duration": 37,
    "start_time": "2024-08-10T14:57:18.558Z"
   },
   {
    "duration": 13,
    "start_time": "2024-08-10T14:57:18.619Z"
   },
   {
    "duration": 1181,
    "start_time": "2024-08-10T14:57:32.074Z"
   },
   {
    "duration": 154,
    "start_time": "2024-08-10T14:57:33.257Z"
   },
   {
    "duration": 3,
    "start_time": "2024-08-10T14:57:33.413Z"
   },
   {
    "duration": 25,
    "start_time": "2024-08-10T14:57:33.418Z"
   },
   {
    "duration": 35,
    "start_time": "2024-08-10T14:57:33.445Z"
   },
   {
    "duration": 12,
    "start_time": "2024-08-10T14:57:33.482Z"
   },
   {
    "duration": 16,
    "start_time": "2024-08-10T14:57:33.496Z"
   },
   {
    "duration": 32,
    "start_time": "2024-08-10T14:57:33.514Z"
   },
   {
    "duration": 5,
    "start_time": "2024-08-10T14:57:33.547Z"
   },
   {
    "duration": 7,
    "start_time": "2024-08-10T14:57:33.555Z"
   },
   {
    "duration": 14,
    "start_time": "2024-08-10T14:57:33.563Z"
   },
   {
    "duration": 40,
    "start_time": "2024-08-10T14:57:33.579Z"
   },
   {
    "duration": 642,
    "start_time": "2024-08-10T14:57:33.621Z"
   },
   {
    "duration": 15,
    "start_time": "2024-08-10T14:57:34.265Z"
   },
   {
    "duration": 45,
    "start_time": "2024-08-10T14:57:34.282Z"
   },
   {
    "duration": 16,
    "start_time": "2024-08-10T14:57:34.328Z"
   },
   {
    "duration": 33,
    "start_time": "2024-08-10T14:57:34.346Z"
   },
   {
    "duration": 10,
    "start_time": "2024-08-10T14:57:34.381Z"
   },
   {
    "duration": 26,
    "start_time": "2024-08-10T14:57:34.392Z"
   },
   {
    "duration": 26,
    "start_time": "2024-08-10T14:57:34.420Z"
   },
   {
    "duration": 19,
    "start_time": "2024-08-10T14:57:34.448Z"
   },
   {
    "duration": 26,
    "start_time": "2024-08-10T14:57:34.469Z"
   },
   {
    "duration": 12,
    "start_time": "2024-08-10T14:57:34.496Z"
   },
   {
    "duration": 31,
    "start_time": "2024-08-10T14:57:34.511Z"
   },
   {
    "duration": 25,
    "start_time": "2024-08-10T14:57:34.544Z"
   },
   {
    "duration": 11,
    "start_time": "2024-08-10T14:57:34.571Z"
   },
   {
    "duration": 14,
    "start_time": "2024-08-10T14:57:34.583Z"
   },
   {
    "duration": 20,
    "start_time": "2024-08-10T14:57:34.602Z"
   },
   {
    "duration": 19,
    "start_time": "2024-08-10T14:57:34.623Z"
   },
   {
    "duration": 18,
    "start_time": "2024-08-10T14:57:34.644Z"
   },
   {
    "duration": 8,
    "start_time": "2024-08-10T14:57:34.663Z"
   },
   {
    "duration": 23,
    "start_time": "2024-08-10T14:57:34.673Z"
   },
   {
    "duration": 24,
    "start_time": "2024-08-10T14:57:34.698Z"
   },
   {
    "duration": 25,
    "start_time": "2024-08-10T14:57:34.724Z"
   },
   {
    "duration": 3,
    "start_time": "2024-08-10T14:57:34.751Z"
   },
   {
    "duration": 24,
    "start_time": "2024-08-10T14:57:34.755Z"
   },
   {
    "duration": 32,
    "start_time": "2024-08-10T14:57:34.780Z"
   },
   {
    "duration": 43,
    "start_time": "2024-08-10T14:57:34.814Z"
   },
   {
    "duration": 18,
    "start_time": "2024-08-10T14:57:34.859Z"
   },
   {
    "duration": 23,
    "start_time": "2024-08-10T14:57:34.879Z"
   },
   {
    "duration": 14,
    "start_time": "2024-08-10T14:57:34.904Z"
   },
   {
    "duration": 27,
    "start_time": "2024-08-10T14:57:34.919Z"
   },
   {
    "duration": 299,
    "start_time": "2024-08-10T14:57:34.948Z"
   },
   {
    "duration": 7,
    "start_time": "2024-08-10T14:57:35.249Z"
   },
   {
    "duration": 33,
    "start_time": "2024-08-10T14:57:35.258Z"
   },
   {
    "duration": 15,
    "start_time": "2024-08-10T14:57:35.293Z"
   },
   {
    "duration": 12,
    "start_time": "2024-08-10T14:57:35.309Z"
   },
   {
    "duration": 17,
    "start_time": "2024-08-10T14:57:35.323Z"
   },
   {
    "duration": 337,
    "start_time": "2024-08-10T14:57:35.342Z"
   },
   {
    "duration": 5,
    "start_time": "2024-08-10T14:57:35.682Z"
   },
   {
    "duration": 413,
    "start_time": "2024-08-10T14:57:35.689Z"
   },
   {
    "duration": 16,
    "start_time": "2024-08-10T14:57:36.104Z"
   },
   {
    "duration": 299,
    "start_time": "2024-08-10T14:57:36.121Z"
   },
   {
    "duration": 7,
    "start_time": "2024-08-10T14:57:36.421Z"
   },
   {
    "duration": 5,
    "start_time": "2024-08-10T14:57:36.429Z"
   },
   {
    "duration": 4,
    "start_time": "2024-08-10T14:57:36.436Z"
   },
   {
    "duration": 187,
    "start_time": "2024-08-10T14:57:36.441Z"
   },
   {
    "duration": 23,
    "start_time": "2024-08-10T14:57:36.629Z"
   },
   {
    "duration": 5,
    "start_time": "2024-08-10T14:57:36.654Z"
   },
   {
    "duration": 11,
    "start_time": "2024-08-10T14:57:36.660Z"
   },
   {
    "duration": 7,
    "start_time": "2024-08-10T14:57:36.672Z"
   },
   {
    "duration": 7,
    "start_time": "2024-08-10T14:57:36.680Z"
   },
   {
    "duration": 565,
    "start_time": "2024-08-10T14:57:36.688Z"
   },
   {
    "duration": 13,
    "start_time": "2024-08-10T14:57:37.255Z"
   },
   {
    "duration": 7,
    "start_time": "2024-08-10T14:57:37.269Z"
   },
   {
    "duration": 240,
    "start_time": "2024-08-10T14:57:37.278Z"
   },
   {
    "duration": 2,
    "start_time": "2024-08-10T14:57:37.520Z"
   },
   {
    "duration": 68,
    "start_time": "2024-08-10T14:57:37.524Z"
   },
   {
    "duration": 28,
    "start_time": "2024-08-10T14:57:37.594Z"
   },
   {
    "duration": 440,
    "start_time": "2024-08-10T14:57:37.624Z"
   },
   {
    "duration": 3,
    "start_time": "2024-08-10T14:57:38.066Z"
   },
   {
    "duration": 10,
    "start_time": "2024-08-10T14:57:38.071Z"
   },
   {
    "duration": 6,
    "start_time": "2024-08-10T14:57:38.083Z"
   },
   {
    "duration": 47,
    "start_time": "2024-08-10T14:57:38.091Z"
   },
   {
    "duration": 22,
    "start_time": "2024-08-10T14:57:38.139Z"
   },
   {
    "duration": 258,
    "start_time": "2024-08-10T14:57:38.163Z"
   },
   {
    "duration": 339,
    "start_time": "2024-08-10T14:57:38.422Z"
   },
   {
    "duration": 10,
    "start_time": "2024-08-10T14:57:38.762Z"
   },
   {
    "duration": 6,
    "start_time": "2024-08-10T14:57:38.774Z"
   },
   {
    "duration": 5,
    "start_time": "2024-08-10T14:57:38.782Z"
   },
   {
    "duration": 41,
    "start_time": "2024-08-10T14:57:38.789Z"
   },
   {
    "duration": 6,
    "start_time": "2024-08-10T14:57:38.839Z"
   },
   {
    "duration": 5,
    "start_time": "2024-08-10T14:57:38.846Z"
   },
   {
    "duration": 49,
    "start_time": "2024-08-10T14:57:38.852Z"
   },
   {
    "duration": 3,
    "start_time": "2024-08-10T14:57:38.903Z"
   },
   {
    "duration": 11,
    "start_time": "2024-08-10T14:57:38.909Z"
   },
   {
    "duration": 7,
    "start_time": "2024-08-10T14:57:38.922Z"
   },
   {
    "duration": 22,
    "start_time": "2024-08-10T14:57:38.931Z"
   },
   {
    "duration": 27,
    "start_time": "2024-08-10T14:57:38.954Z"
   },
   {
    "duration": 60,
    "start_time": "2024-08-10T14:57:38.983Z"
   },
   {
    "duration": 5,
    "start_time": "2024-08-10T14:57:39.045Z"
   },
   {
    "duration": 224,
    "start_time": "2024-08-10T14:57:39.052Z"
   },
   {
    "duration": 210,
    "start_time": "2024-08-10T14:57:39.279Z"
   },
   {
    "duration": 212,
    "start_time": "2024-08-10T14:57:39.491Z"
   },
   {
    "duration": 17,
    "start_time": "2024-08-10T14:57:39.705Z"
   },
   {
    "duration": 338,
    "start_time": "2024-08-10T14:57:39.724Z"
   },
   {
    "duration": 12,
    "start_time": "2024-08-10T14:57:40.064Z"
   },
   {
    "duration": 41,
    "start_time": "2024-08-10T14:57:40.077Z"
   },
   {
    "duration": 3,
    "start_time": "2024-08-10T14:57:40.120Z"
   },
   {
    "duration": 1191,
    "start_time": "2024-08-10T14:57:59.648Z"
   },
   {
    "duration": 178,
    "start_time": "2024-08-10T14:58:00.841Z"
   },
   {
    "duration": 3,
    "start_time": "2024-08-10T14:58:01.021Z"
   },
   {
    "duration": 36,
    "start_time": "2024-08-10T14:58:01.026Z"
   },
   {
    "duration": 51,
    "start_time": "2024-08-10T14:58:01.064Z"
   },
   {
    "duration": 35,
    "start_time": "2024-08-10T14:58:01.117Z"
   },
   {
    "duration": 46,
    "start_time": "2024-08-10T14:58:01.154Z"
   },
   {
    "duration": 69,
    "start_time": "2024-08-10T14:58:01.202Z"
   },
   {
    "duration": 22,
    "start_time": "2024-08-10T14:58:01.273Z"
   },
   {
    "duration": 35,
    "start_time": "2024-08-10T14:58:01.298Z"
   },
   {
    "duration": 48,
    "start_time": "2024-08-10T14:58:01.335Z"
   },
   {
    "duration": 56,
    "start_time": "2024-08-10T14:58:01.385Z"
   },
   {
    "duration": 656,
    "start_time": "2024-08-10T14:58:01.443Z"
   },
   {
    "duration": 20,
    "start_time": "2024-08-10T14:58:02.100Z"
   },
   {
    "duration": 13,
    "start_time": "2024-08-10T14:58:02.122Z"
   },
   {
    "duration": 23,
    "start_time": "2024-08-10T14:58:02.136Z"
   },
   {
    "duration": 38,
    "start_time": "2024-08-10T14:58:02.160Z"
   },
   {
    "duration": 20,
    "start_time": "2024-08-10T14:58:02.199Z"
   },
   {
    "duration": 33,
    "start_time": "2024-08-10T14:58:02.221Z"
   },
   {
    "duration": 15,
    "start_time": "2024-08-10T14:58:02.255Z"
   },
   {
    "duration": 10,
    "start_time": "2024-08-10T14:58:02.271Z"
   },
   {
    "duration": 36,
    "start_time": "2024-08-10T14:58:02.283Z"
   },
   {
    "duration": 24,
    "start_time": "2024-08-10T14:58:02.321Z"
   },
   {
    "duration": 29,
    "start_time": "2024-08-10T14:58:02.347Z"
   },
   {
    "duration": 62,
    "start_time": "2024-08-10T14:58:02.378Z"
   },
   {
    "duration": 8,
    "start_time": "2024-08-10T14:58:02.442Z"
   },
   {
    "duration": 7,
    "start_time": "2024-08-10T14:58:02.452Z"
   },
   {
    "duration": 13,
    "start_time": "2024-08-10T14:58:02.463Z"
   },
   {
    "duration": 18,
    "start_time": "2024-08-10T14:58:02.478Z"
   },
   {
    "duration": 24,
    "start_time": "2024-08-10T14:58:02.497Z"
   },
   {
    "duration": 4,
    "start_time": "2024-08-10T14:58:02.522Z"
   },
   {
    "duration": 26,
    "start_time": "2024-08-10T14:58:02.527Z"
   },
   {
    "duration": 13,
    "start_time": "2024-08-10T14:58:02.555Z"
   },
   {
    "duration": 41,
    "start_time": "2024-08-10T14:58:02.570Z"
   },
   {
    "duration": 8,
    "start_time": "2024-08-10T14:58:02.612Z"
   },
   {
    "duration": 21,
    "start_time": "2024-08-10T14:58:02.621Z"
   },
   {
    "duration": 22,
    "start_time": "2024-08-10T14:58:02.644Z"
   },
   {
    "duration": 45,
    "start_time": "2024-08-10T14:58:02.668Z"
   },
   {
    "duration": 17,
    "start_time": "2024-08-10T14:58:02.715Z"
   },
   {
    "duration": 7,
    "start_time": "2024-08-10T14:58:02.734Z"
   },
   {
    "duration": 32,
    "start_time": "2024-08-10T14:58:02.742Z"
   },
   {
    "duration": 36,
    "start_time": "2024-08-10T14:58:02.776Z"
   },
   {
    "duration": 351,
    "start_time": "2024-08-10T14:58:02.813Z"
   },
   {
    "duration": 7,
    "start_time": "2024-08-10T14:58:03.166Z"
   },
   {
    "duration": 30,
    "start_time": "2024-08-10T14:58:03.175Z"
   },
   {
    "duration": 32,
    "start_time": "2024-08-10T14:58:03.207Z"
   },
   {
    "duration": 4,
    "start_time": "2024-08-10T14:58:03.241Z"
   },
   {
    "duration": 48,
    "start_time": "2024-08-10T14:58:03.247Z"
   },
   {
    "duration": 339,
    "start_time": "2024-08-10T14:58:03.298Z"
   },
   {
    "duration": 6,
    "start_time": "2024-08-10T14:58:03.639Z"
   },
   {
    "duration": 418,
    "start_time": "2024-08-10T14:58:03.647Z"
   },
   {
    "duration": 4,
    "start_time": "2024-08-10T14:58:04.067Z"
   },
   {
    "duration": 301,
    "start_time": "2024-08-10T14:58:04.073Z"
   },
   {
    "duration": 7,
    "start_time": "2024-08-10T14:58:04.375Z"
   },
   {
    "duration": 11,
    "start_time": "2024-08-10T14:58:04.383Z"
   },
   {
    "duration": 5,
    "start_time": "2024-08-10T14:58:04.396Z"
   },
   {
    "duration": 174,
    "start_time": "2024-08-10T14:58:04.403Z"
   },
   {
    "duration": 23,
    "start_time": "2024-08-10T14:58:04.579Z"
   },
   {
    "duration": 16,
    "start_time": "2024-08-10T14:58:04.604Z"
   },
   {
    "duration": 13,
    "start_time": "2024-08-10T14:58:04.622Z"
   },
   {
    "duration": 8,
    "start_time": "2024-08-10T14:58:04.637Z"
   },
   {
    "duration": 8,
    "start_time": "2024-08-10T14:58:04.646Z"
   },
   {
    "duration": 560,
    "start_time": "2024-08-10T14:58:04.655Z"
   },
   {
    "duration": 13,
    "start_time": "2024-08-10T14:58:05.217Z"
   },
   {
    "duration": 8,
    "start_time": "2024-08-10T14:58:05.231Z"
   },
   {
    "duration": 217,
    "start_time": "2024-08-10T14:58:05.241Z"
   },
   {
    "duration": 4,
    "start_time": "2024-08-10T14:58:05.460Z"
   },
   {
    "duration": 77,
    "start_time": "2024-08-10T14:58:05.465Z"
   },
   {
    "duration": 13,
    "start_time": "2024-08-10T14:58:05.543Z"
   },
   {
    "duration": 440,
    "start_time": "2024-08-10T14:58:05.557Z"
   },
   {
    "duration": 3,
    "start_time": "2024-08-10T14:58:05.998Z"
   },
   {
    "duration": 18,
    "start_time": "2024-08-10T14:58:06.003Z"
   },
   {
    "duration": 34,
    "start_time": "2024-08-10T14:58:06.023Z"
   },
   {
    "duration": 50,
    "start_time": "2024-08-10T14:58:06.059Z"
   },
   {
    "duration": 30,
    "start_time": "2024-08-10T14:58:06.111Z"
   },
   {
    "duration": 284,
    "start_time": "2024-08-10T14:58:06.143Z"
   },
   {
    "duration": 341,
    "start_time": "2024-08-10T14:58:06.429Z"
   },
   {
    "duration": 10,
    "start_time": "2024-08-10T14:58:06.772Z"
   },
   {
    "duration": 11,
    "start_time": "2024-08-10T14:58:06.783Z"
   },
   {
    "duration": 23,
    "start_time": "2024-08-10T14:58:06.796Z"
   },
   {
    "duration": 15,
    "start_time": "2024-08-10T14:58:06.821Z"
   },
   {
    "duration": 8,
    "start_time": "2024-08-10T14:58:06.843Z"
   },
   {
    "duration": 11,
    "start_time": "2024-08-10T14:58:06.853Z"
   },
   {
    "duration": 11,
    "start_time": "2024-08-10T14:58:06.866Z"
   },
   {
    "duration": 26,
    "start_time": "2024-08-10T14:58:06.879Z"
   },
   {
    "duration": 19,
    "start_time": "2024-08-10T14:58:06.906Z"
   },
   {
    "duration": 8,
    "start_time": "2024-08-10T14:58:06.926Z"
   },
   {
    "duration": 27,
    "start_time": "2024-08-10T14:58:06.935Z"
   },
   {
    "duration": 28,
    "start_time": "2024-08-10T14:58:06.964Z"
   },
   {
    "duration": 51,
    "start_time": "2024-08-10T14:58:06.993Z"
   },
   {
    "duration": 5,
    "start_time": "2024-08-10T14:58:07.045Z"
   },
   {
    "duration": 221,
    "start_time": "2024-08-10T14:58:07.052Z"
   },
   {
    "duration": 200,
    "start_time": "2024-08-10T14:58:07.276Z"
   },
   {
    "duration": 212,
    "start_time": "2024-08-10T14:58:07.478Z"
   },
   {
    "duration": 26,
    "start_time": "2024-08-10T14:58:07.692Z"
   },
   {
    "duration": 360,
    "start_time": "2024-08-10T14:58:07.720Z"
   },
   {
    "duration": 11,
    "start_time": "2024-08-10T14:58:08.081Z"
   },
   {
    "duration": 4,
    "start_time": "2024-08-10T14:58:08.094Z"
   },
   {
    "duration": 27,
    "start_time": "2024-08-10T14:58:08.117Z"
   },
   {
    "duration": 4,
    "start_time": "2024-08-10T14:58:08.145Z"
   },
   {
    "duration": 4,
    "start_time": "2024-08-10T15:05:51.761Z"
   },
   {
    "duration": 1167,
    "start_time": "2024-08-10T15:06:01.655Z"
   },
   {
    "duration": 158,
    "start_time": "2024-08-10T15:06:02.824Z"
   },
   {
    "duration": 3,
    "start_time": "2024-08-10T15:06:02.983Z"
   },
   {
    "duration": 10,
    "start_time": "2024-08-10T15:06:02.988Z"
   },
   {
    "duration": 31,
    "start_time": "2024-08-10T15:06:03.000Z"
   },
   {
    "duration": 15,
    "start_time": "2024-08-10T15:06:03.033Z"
   },
   {
    "duration": 36,
    "start_time": "2024-08-10T15:06:03.050Z"
   },
   {
    "duration": 41,
    "start_time": "2024-08-10T15:06:03.088Z"
   },
   {
    "duration": 5,
    "start_time": "2024-08-10T15:06:03.131Z"
   },
   {
    "duration": 10,
    "start_time": "2024-08-10T15:06:03.139Z"
   },
   {
    "duration": 15,
    "start_time": "2024-08-10T15:06:03.150Z"
   },
   {
    "duration": 19,
    "start_time": "2024-08-10T15:06:03.167Z"
   },
   {
    "duration": 684,
    "start_time": "2024-08-10T15:06:03.187Z"
   },
   {
    "duration": 12,
    "start_time": "2024-08-10T15:06:03.873Z"
   },
   {
    "duration": 31,
    "start_time": "2024-08-10T15:06:03.887Z"
   },
   {
    "duration": 75,
    "start_time": "2024-08-10T15:06:03.920Z"
   },
   {
    "duration": 20,
    "start_time": "2024-08-10T15:06:03.997Z"
   },
   {
    "duration": 12,
    "start_time": "2024-08-10T15:06:04.019Z"
   },
   {
    "duration": 14,
    "start_time": "2024-08-10T15:06:04.033Z"
   },
   {
    "duration": 11,
    "start_time": "2024-08-10T15:06:04.049Z"
   },
   {
    "duration": 5,
    "start_time": "2024-08-10T15:06:04.062Z"
   },
   {
    "duration": 9,
    "start_time": "2024-08-10T15:06:04.069Z"
   },
   {
    "duration": 5,
    "start_time": "2024-08-10T15:06:04.119Z"
   },
   {
    "duration": 17,
    "start_time": "2024-08-10T15:06:04.126Z"
   },
   {
    "duration": 26,
    "start_time": "2024-08-10T15:06:04.145Z"
   },
   {
    "duration": 9,
    "start_time": "2024-08-10T15:06:04.172Z"
   },
   {
    "duration": 8,
    "start_time": "2024-08-10T15:06:04.218Z"
   },
   {
    "duration": 9,
    "start_time": "2024-08-10T15:06:04.230Z"
   },
   {
    "duration": 5,
    "start_time": "2024-08-10T15:06:04.241Z"
   },
   {
    "duration": 11,
    "start_time": "2024-08-10T15:06:04.248Z"
   },
   {
    "duration": 4,
    "start_time": "2024-08-10T15:06:04.260Z"
   },
   {
    "duration": 14,
    "start_time": "2024-08-10T15:06:04.265Z"
   },
   {
    "duration": 47,
    "start_time": "2024-08-10T15:06:04.280Z"
   },
   {
    "duration": 38,
    "start_time": "2024-08-10T15:06:04.328Z"
   },
   {
    "duration": 3,
    "start_time": "2024-08-10T15:06:04.368Z"
   },
   {
    "duration": 17,
    "start_time": "2024-08-10T15:06:04.372Z"
   },
   {
    "duration": 28,
    "start_time": "2024-08-10T15:06:04.390Z"
   },
   {
    "duration": 29,
    "start_time": "2024-08-10T15:06:04.420Z"
   },
   {
    "duration": 14,
    "start_time": "2024-08-10T15:06:04.451Z"
   },
   {
    "duration": 7,
    "start_time": "2024-08-10T15:06:04.467Z"
   },
   {
    "duration": 5,
    "start_time": "2024-08-10T15:06:04.475Z"
   },
   {
    "duration": 5,
    "start_time": "2024-08-10T15:06:04.482Z"
   },
   {
    "duration": 302,
    "start_time": "2024-08-10T15:06:04.519Z"
   },
   {
    "duration": 7,
    "start_time": "2024-08-10T15:06:04.823Z"
   },
   {
    "duration": 4,
    "start_time": "2024-08-10T15:06:04.832Z"
   },
   {
    "duration": 8,
    "start_time": "2024-08-10T15:06:04.838Z"
   },
   {
    "duration": 6,
    "start_time": "2024-08-10T15:06:04.848Z"
   },
   {
    "duration": 6,
    "start_time": "2024-08-10T15:06:04.856Z"
   },
   {
    "duration": 354,
    "start_time": "2024-08-10T15:06:04.864Z"
   },
   {
    "duration": 5,
    "start_time": "2024-08-10T15:06:05.221Z"
   },
   {
    "duration": 419,
    "start_time": "2024-08-10T15:06:05.229Z"
   },
   {
    "duration": 4,
    "start_time": "2024-08-10T15:06:05.650Z"
   },
   {
    "duration": 316,
    "start_time": "2024-08-10T15:06:05.656Z"
   },
   {
    "duration": 6,
    "start_time": "2024-08-10T15:06:05.973Z"
   },
   {
    "duration": 22,
    "start_time": "2024-08-10T15:06:05.981Z"
   },
   {
    "duration": 10,
    "start_time": "2024-08-10T15:06:06.004Z"
   },
   {
    "duration": 165,
    "start_time": "2024-08-10T15:06:06.016Z"
   },
   {
    "duration": 40,
    "start_time": "2024-08-10T15:06:06.183Z"
   },
   {
    "duration": 16,
    "start_time": "2024-08-10T15:06:06.224Z"
   },
   {
    "duration": 8,
    "start_time": "2024-08-10T15:06:06.241Z"
   },
   {
    "duration": 7,
    "start_time": "2024-08-10T15:06:06.250Z"
   },
   {
    "duration": 41,
    "start_time": "2024-08-10T15:06:06.259Z"
   },
   {
    "duration": 523,
    "start_time": "2024-08-10T15:06:06.302Z"
   },
   {
    "duration": 13,
    "start_time": "2024-08-10T15:06:06.827Z"
   },
   {
    "duration": 10,
    "start_time": "2024-08-10T15:06:06.842Z"
   },
   {
    "duration": 226,
    "start_time": "2024-08-10T15:06:06.854Z"
   },
   {
    "duration": 4,
    "start_time": "2024-08-10T15:06:07.082Z"
   },
   {
    "duration": 79,
    "start_time": "2024-08-10T15:06:07.087Z"
   },
   {
    "duration": 12,
    "start_time": "2024-08-10T15:06:07.168Z"
   },
   {
    "duration": 459,
    "start_time": "2024-08-10T15:06:07.181Z"
   },
   {
    "duration": 3,
    "start_time": "2024-08-10T15:06:07.643Z"
   },
   {
    "duration": 10,
    "start_time": "2024-08-10T15:06:07.648Z"
   },
   {
    "duration": 8,
    "start_time": "2024-08-10T15:06:07.660Z"
   },
   {
    "duration": 26,
    "start_time": "2024-08-10T15:06:07.670Z"
   },
   {
    "duration": 9,
    "start_time": "2024-08-10T15:06:07.719Z"
   },
   {
    "duration": 279,
    "start_time": "2024-08-10T15:06:07.730Z"
   },
   {
    "duration": 374,
    "start_time": "2024-08-10T15:06:08.017Z"
   },
   {
    "duration": 12,
    "start_time": "2024-08-10T15:06:08.393Z"
   },
   {
    "duration": 8,
    "start_time": "2024-08-10T15:06:08.418Z"
   },
   {
    "duration": 5,
    "start_time": "2024-08-10T15:06:08.428Z"
   },
   {
    "duration": 17,
    "start_time": "2024-08-10T15:06:08.436Z"
   },
   {
    "duration": 9,
    "start_time": "2024-08-10T15:06:08.461Z"
   },
   {
    "duration": 16,
    "start_time": "2024-08-10T15:06:08.472Z"
   },
   {
    "duration": 50,
    "start_time": "2024-08-10T15:06:08.491Z"
   },
   {
    "duration": 5,
    "start_time": "2024-08-10T15:06:08.543Z"
   },
   {
    "duration": 13,
    "start_time": "2024-08-10T15:06:08.550Z"
   },
   {
    "duration": 10,
    "start_time": "2024-08-10T15:06:08.565Z"
   },
   {
    "duration": 43,
    "start_time": "2024-08-10T15:06:08.578Z"
   },
   {
    "duration": 26,
    "start_time": "2024-08-10T15:06:08.623Z"
   },
   {
    "duration": 28,
    "start_time": "2024-08-10T15:06:08.650Z"
   },
   {
    "duration": 5,
    "start_time": "2024-08-10T15:06:08.680Z"
   },
   {
    "duration": 235,
    "start_time": "2024-08-10T15:06:08.687Z"
   },
   {
    "duration": 234,
    "start_time": "2024-08-10T15:06:08.924Z"
   },
   {
    "duration": 224,
    "start_time": "2024-08-10T15:06:09.160Z"
   },
   {
    "duration": 13,
    "start_time": "2024-08-10T15:06:09.387Z"
   },
   {
    "duration": 373,
    "start_time": "2024-08-10T15:06:09.402Z"
   },
   {
    "duration": 19,
    "start_time": "2024-08-10T15:06:09.777Z"
   },
   {
    "duration": 20,
    "start_time": "2024-08-10T15:06:09.798Z"
   },
   {
    "duration": 30,
    "start_time": "2024-08-10T15:06:09.821Z"
   },
   {
    "duration": 4,
    "start_time": "2024-08-10T15:06:09.853Z"
   },
   {
    "duration": 1254,
    "start_time": "2024-08-10T21:31:14.453Z"
   },
   {
    "duration": 176,
    "start_time": "2024-08-10T21:31:15.709Z"
   },
   {
    "duration": 2,
    "start_time": "2024-08-10T21:31:15.887Z"
   },
   {
    "duration": 29,
    "start_time": "2024-08-10T21:31:15.891Z"
   },
   {
    "duration": 22,
    "start_time": "2024-08-10T21:31:15.921Z"
   },
   {
    "duration": 22,
    "start_time": "2024-08-10T21:31:15.944Z"
   },
   {
    "duration": 14,
    "start_time": "2024-08-10T21:31:15.968Z"
   },
   {
    "duration": 28,
    "start_time": "2024-08-10T21:31:15.983Z"
   },
   {
    "duration": 5,
    "start_time": "2024-08-10T21:31:16.013Z"
   },
   {
    "duration": 5,
    "start_time": "2024-08-10T21:31:16.021Z"
   },
   {
    "duration": 14,
    "start_time": "2024-08-10T21:31:16.027Z"
   },
   {
    "duration": 23,
    "start_time": "2024-08-10T21:31:16.043Z"
   },
   {
    "duration": 619,
    "start_time": "2024-08-10T21:31:16.068Z"
   },
   {
    "duration": 28,
    "start_time": "2024-08-10T21:31:16.688Z"
   },
   {
    "duration": 14,
    "start_time": "2024-08-10T21:31:16.717Z"
   },
   {
    "duration": 13,
    "start_time": "2024-08-10T21:31:16.732Z"
   },
   {
    "duration": 23,
    "start_time": "2024-08-10T21:31:16.747Z"
   },
   {
    "duration": 9,
    "start_time": "2024-08-10T21:31:16.772Z"
   },
   {
    "duration": 23,
    "start_time": "2024-08-10T21:31:16.783Z"
   },
   {
    "duration": 18,
    "start_time": "2024-08-10T21:31:16.807Z"
   },
   {
    "duration": 12,
    "start_time": "2024-08-10T21:31:16.827Z"
   },
   {
    "duration": 9,
    "start_time": "2024-08-10T21:31:16.841Z"
   },
   {
    "duration": 5,
    "start_time": "2024-08-10T21:31:16.851Z"
   },
   {
    "duration": 15,
    "start_time": "2024-08-10T21:31:16.857Z"
   },
   {
    "duration": 39,
    "start_time": "2024-08-10T21:31:16.873Z"
   },
   {
    "duration": 8,
    "start_time": "2024-08-10T21:31:16.914Z"
   },
   {
    "duration": 12,
    "start_time": "2024-08-10T21:31:16.924Z"
   },
   {
    "duration": 8,
    "start_time": "2024-08-10T21:31:16.940Z"
   },
   {
    "duration": 12,
    "start_time": "2024-08-10T21:31:16.950Z"
   },
   {
    "duration": 11,
    "start_time": "2024-08-10T21:31:16.963Z"
   },
   {
    "duration": 4,
    "start_time": "2024-08-10T21:31:16.975Z"
   },
   {
    "duration": 18,
    "start_time": "2024-08-10T21:31:17.000Z"
   },
   {
    "duration": 8,
    "start_time": "2024-08-10T21:31:17.020Z"
   },
   {
    "duration": 39,
    "start_time": "2024-08-10T21:31:17.029Z"
   },
   {
    "duration": 4,
    "start_time": "2024-08-10T21:31:17.069Z"
   },
   {
    "duration": 40,
    "start_time": "2024-08-10T21:31:17.074Z"
   },
   {
    "duration": 39,
    "start_time": "2024-08-10T21:31:17.116Z"
   },
   {
    "duration": 27,
    "start_time": "2024-08-10T21:31:17.157Z"
   },
   {
    "duration": 24,
    "start_time": "2024-08-10T21:31:17.186Z"
   },
   {
    "duration": 6,
    "start_time": "2024-08-10T21:31:17.213Z"
   },
   {
    "duration": 13,
    "start_time": "2024-08-10T21:31:17.220Z"
   },
   {
    "duration": 18,
    "start_time": "2024-08-10T21:31:17.234Z"
   },
   {
    "duration": 292,
    "start_time": "2024-08-10T21:31:17.254Z"
   },
   {
    "duration": 5,
    "start_time": "2024-08-10T21:31:17.548Z"
   },
   {
    "duration": 8,
    "start_time": "2024-08-10T21:31:17.554Z"
   },
   {
    "duration": 10,
    "start_time": "2024-08-10T21:31:17.563Z"
   },
   {
    "duration": 27,
    "start_time": "2024-08-10T21:31:17.574Z"
   },
   {
    "duration": 4,
    "start_time": "2024-08-10T21:31:17.608Z"
   },
   {
    "duration": 318,
    "start_time": "2024-08-10T21:31:17.614Z"
   },
   {
    "duration": 5,
    "start_time": "2024-08-10T21:31:17.933Z"
   },
   {
    "duration": 391,
    "start_time": "2024-08-10T21:31:17.939Z"
   },
   {
    "duration": 5,
    "start_time": "2024-08-10T21:31:18.331Z"
   },
   {
    "duration": 299,
    "start_time": "2024-08-10T21:31:18.337Z"
   },
   {
    "duration": 7,
    "start_time": "2024-08-10T21:31:18.637Z"
   },
   {
    "duration": 10,
    "start_time": "2024-08-10T21:31:18.645Z"
   },
   {
    "duration": 10,
    "start_time": "2024-08-10T21:31:18.656Z"
   },
   {
    "duration": 198,
    "start_time": "2024-08-10T21:31:18.668Z"
   },
   {
    "duration": 21,
    "start_time": "2024-08-10T21:31:18.868Z"
   },
   {
    "duration": 13,
    "start_time": "2024-08-10T21:31:18.890Z"
   },
   {
    "duration": 15,
    "start_time": "2024-08-10T21:31:18.908Z"
   },
   {
    "duration": 8,
    "start_time": "2024-08-10T21:31:18.924Z"
   },
   {
    "duration": 7,
    "start_time": "2024-08-10T21:31:18.933Z"
   },
   {
    "duration": 535,
    "start_time": "2024-08-10T21:31:18.942Z"
   },
   {
    "duration": 30,
    "start_time": "2024-08-10T21:31:19.478Z"
   },
   {
    "duration": 29,
    "start_time": "2024-08-10T21:31:19.510Z"
   },
   {
    "duration": 211,
    "start_time": "2024-08-10T21:31:19.541Z"
   },
   {
    "duration": 4,
    "start_time": "2024-08-10T21:31:19.754Z"
   },
   {
    "duration": 80,
    "start_time": "2024-08-10T21:31:19.759Z"
   },
   {
    "duration": 13,
    "start_time": "2024-08-10T21:31:19.840Z"
   },
   {
    "duration": 457,
    "start_time": "2024-08-10T21:31:19.855Z"
   },
   {
    "duration": 5,
    "start_time": "2024-08-10T21:31:20.318Z"
   },
   {
    "duration": 18,
    "start_time": "2024-08-10T21:31:20.324Z"
   },
   {
    "duration": 15,
    "start_time": "2024-08-10T21:31:20.343Z"
   },
   {
    "duration": 21,
    "start_time": "2024-08-10T21:31:20.360Z"
   },
   {
    "duration": 6,
    "start_time": "2024-08-10T21:31:20.382Z"
   },
   {
    "duration": 270,
    "start_time": "2024-08-10T21:31:20.389Z"
   },
   {
    "duration": 345,
    "start_time": "2024-08-10T21:31:20.660Z"
   },
   {
    "duration": 10,
    "start_time": "2024-08-10T21:31:21.006Z"
   },
   {
    "duration": 7,
    "start_time": "2024-08-10T21:31:21.019Z"
   },
   {
    "duration": 4,
    "start_time": "2024-08-10T21:31:21.028Z"
   },
   {
    "duration": 22,
    "start_time": "2024-08-10T21:31:21.033Z"
   },
   {
    "duration": 6,
    "start_time": "2024-08-10T21:31:21.061Z"
   },
   {
    "duration": 30,
    "start_time": "2024-08-10T21:31:21.069Z"
   },
   {
    "duration": 14,
    "start_time": "2024-08-10T21:31:21.104Z"
   },
   {
    "duration": 3,
    "start_time": "2024-08-10T21:31:21.120Z"
   },
   {
    "duration": 10,
    "start_time": "2024-08-10T21:31:21.125Z"
   },
   {
    "duration": 20,
    "start_time": "2024-08-10T21:31:21.136Z"
   },
   {
    "duration": 30,
    "start_time": "2024-08-10T21:31:21.157Z"
   },
   {
    "duration": 29,
    "start_time": "2024-08-10T21:31:21.188Z"
   },
   {
    "duration": 28,
    "start_time": "2024-08-10T21:31:21.218Z"
   },
   {
    "duration": 5,
    "start_time": "2024-08-10T21:31:21.247Z"
   },
   {
    "duration": 221,
    "start_time": "2024-08-10T21:31:21.253Z"
   },
   {
    "duration": 215,
    "start_time": "2024-08-10T21:31:21.476Z"
   },
   {
    "duration": 215,
    "start_time": "2024-08-10T21:31:21.698Z"
   },
   {
    "duration": 11,
    "start_time": "2024-08-10T21:31:21.915Z"
   },
   {
    "duration": 359,
    "start_time": "2024-08-10T21:31:21.928Z"
   },
   {
    "duration": 16,
    "start_time": "2024-08-10T21:31:22.296Z"
   },
   {
    "duration": 3,
    "start_time": "2024-08-10T21:31:22.314Z"
   },
   {
    "duration": 36,
    "start_time": "2024-08-10T21:31:22.319Z"
   },
   {
    "duration": 3,
    "start_time": "2024-08-10T21:31:22.356Z"
   }
  ],
  "colab": {
   "name": "DA+. Сборный проект 1. Шаблон (1).ipynb",
   "provenance": []
  },
  "kernelspec": {
   "display_name": "Python 3 (ipykernel)",
   "language": "python",
   "name": "python3"
  },
  "language_info": {
   "codemirror_mode": {
    "name": "ipython",
    "version": 3
   },
   "file_extension": ".py",
   "mimetype": "text/x-python",
   "name": "python",
   "nbconvert_exporter": "python",
   "pygments_lexer": "ipython3",
   "version": "3.12.4"
  },
  "toc": {
   "base_numbering": 1,
   "nav_menu": {},
   "number_sections": true,
   "sideBar": true,
   "skip_h1_title": true,
   "title_cell": "Table of Contents",
   "title_sidebar": "Contents",
   "toc_cell": false,
   "toc_position": {
    "height": "calc(100% - 180px)",
    "left": "10px",
    "top": "150px",
    "width": "375.391px"
   },
   "toc_section_display": true,
   "toc_window_display": true
  }
 },
 "nbformat": 4,
 "nbformat_minor": 4
}
