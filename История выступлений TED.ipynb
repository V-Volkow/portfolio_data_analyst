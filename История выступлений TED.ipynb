{
 "cells": [
  {
   "cell_type": "markdown",
   "id": "45c6ddc9-c1ff-4a28-a5a2-048f0467511f",
   "metadata": {},
   "source": [
    "https://public.tableau.com/views/project_17294301277460/sheet24?:language=en-US&:sid=&:redirect=auth&:display_count=n&:origin=viz_share_link"
   ]
  },
  {
   "cell_type": "markdown",
   "id": "3c6cabac",
   "metadata": {},
   "source": [
    "# История выступлений"
   ]
  },
  {
   "cell_type": "markdown",
   "id": "b25fffbd",
   "metadata": {},
   "source": [
    "<div class=\"alert alert-success\" style=\"border-radius: 10px; box-shadow: 2px 2px 2px; border: 1px solid; padding: 10px \">\n",
    "<b>Комментарий ревьюера v.1</b> \n",
    "    \n",
    "👍 \n",
    "Сделано хорошо:\n",
    "\n",
    "- дашборд соответствует макету;\n",
    "- правильно настроен Action на фильтрацию;\n",
    "- выводы понятны и логичны.\n",
    "\n",
    "\n",
    "</div>"
   ]
  },
  {
   "cell_type": "markdown",
   "id": "799dc6f6",
   "metadata": {},
   "source": [
    "# Тематика выступлений"
   ]
  },
  {
   "cell_type": "markdown",
   "id": "1d148080",
   "metadata": {},
   "source": [
    "<div class=\"alert alert-success\" style=\"border-radius: 10px; box-shadow: 2px 2px 2px; border: 1px solid; padding: 10px \">\n",
    "<b>Комментарий ревьюера v.1</b> \n",
    "    \n",
    "👍 \n",
    "    \n",
    "\n",
    "- дашборд соответствует макету;\n",
    "- правильно настроен Action на фильтрацию;\n",
    "- корректность вычисляемых полей;\n",
    "- всплывающие подсказки содержат нужные гистограммы\n",
    "- есть ответы на поставленные вопросы.\n",
    "</div>"
   ]
  },
  {
   "cell_type": "markdown",
   "id": "376a7076",
   "metadata": {},
   "source": [
    "<div class=\"alert alert-warning\" style=\"border-radius: 10px; box-shadow: 2px 2px 2px; border: 1px solid; padding: 10px \">\n",
    "<b>Комментарий ревьюера v.1</b> \n",
    "    \n",
    "📝 \n",
    "Также, можно добавить в табличку \"Тематики и страны\" категорию \"Другие\" на ось со странами.\n",
    "</div>"
   ]
  },
  {
   "cell_type": "markdown",
   "id": "2b4be701",
   "metadata": {},
   "source": [
    "# Авторы выступлений"
   ]
  },
  {
   "cell_type": "markdown",
   "id": "c415f1da",
   "metadata": {},
   "source": [
    "<div class=\"alert alert-success\" style=\"border-radius: 10px; box-shadow: 2px 2px 2px; border: 1px solid; padding: 10px \">\n",
    "<b>Комментарий ревьюера v.1</b> \n",
    "    \n",
    "👍 \n",
    "- параметр Top-N  работает корректно,\n",
    "- на дашборде настроен Action, фильтрующий таблицы, также здорово, что таблицы отсортированы;\n",
    "- есть ответы на поставленные вопросы.\n",
    "</div>"
   ]
  },
  {
   "cell_type": "markdown",
   "id": "0510143f",
   "metadata": {},
   "source": [
    "# Дашборд на свободную тему"
   ]
  },
  {
   "cell_type": "markdown",
   "id": "8d868f2d",
   "metadata": {},
   "source": [
    "<div class=\"alert alert-success\" style=\"border-radius: 10px; box-shadow: 2px 2px 2px; border: 1px solid; padding: 10px \">\n",
    "<b>Комментарий ревьюера v.1</b> \n",
    "    \n",
    "👍 \n",
    "- здорово, что выполнен дашборд на свободную тему,\n",
    "- отлично подобраны типы визуализаций;\n",
    "- на дашборде есть выводы и наблюдения.\n",
    "</div>"
   ]
  },
  {
   "cell_type": "markdown",
   "id": "44eeedf5",
   "metadata": {},
   "source": [
    "<div style=\"border:solid blue 3px; padding: 20px\" >\n",
    "<div class=\"alert alert-success\">\n",
    "<b>Обратная связь v.1</b> \n",
    "    \n",
    "👋 Владимир, у тебя получилась очень сильная и хорошая работа.   Я оставил одну обязательную поправку для тебя и после этого буду готов сразу принять проект. Жду твою работу на повторное ревью 😊\n",
    "\n",
    "* Если тебе интересна тема визуализации, то можешь пройти вот этот крутой и бесплатный курс по табло — https://tableau.pro/m01 (переходить по дням можно, если менять цифру в ссылке).\n",
    "\n",
    "* Потом советую посмотреть на такой инструмент, как Redash — https://redash.io/help/user-guide/getting-started. Это надстройка над SQL-запросами, которая позволяет строить красивые таблички и графики в веб-интерфейсе, а потом собирать из них дашборды. \n",
    "\n",
    "* А вот сайт Ромы Бунина — https://revealthedata.com/ По-моему мнению, он один из самых крутых специалистов по визуализации в России. У него есть телеграм канал, блог и много всего интересного, что поможет расширить знания по визуализации.\n",
    "\n",
    "* Знание BI-инструментов — это крайне полезно в работе аналитика, во многих вакансиях встречаются требования по инструментам для построения дашбордов.\n"
   ]
  },
  {
   "cell_type": "markdown",
   "id": "f8dcc5af",
   "metadata": {},
   "source": [
    "<div style=\"border:solid indigo 3px; padding: 20px\">\n",
    "<div class=\"alert alert-success\">\n",
    "<b>Обратная связь v.2</b> \n",
    "    \n",
    "👋 \n",
    "      \n",
    "Владимир, спасибо тебе за хорошую работу.\n",
    "    \n",
    "Поздравляю с успешным завершением проекта 🥳 🎉\n",
    "    \n",
    "И желаю успехов в новых работах 😊"
   ]
  }
 ],
 "metadata": {
  "ExecuteTimeLog": [
   {
    "duration": 4,
    "start_time": "2024-10-21T17:31:11.447Z"
   }
  ],
  "kernelspec": {
   "display_name": "Python 3 (ipykernel)",
   "language": "python",
   "name": "python3"
  },
  "language_info": {
   "codemirror_mode": {
    "name": "ipython",
    "version": 3
   },
   "file_extension": ".py",
   "mimetype": "text/x-python",
   "name": "python",
   "nbconvert_exporter": "python",
   "pygments_lexer": "ipython3",
   "version": "3.12.4"
  },
  "toc": {
   "base_numbering": 1,
   "nav_menu": {},
   "number_sections": true,
   "sideBar": true,
   "skip_h1_title": true,
   "title_cell": "Table of Contents",
   "title_sidebar": "Contents",
   "toc_cell": false,
   "toc_position": {},
   "toc_section_display": true,
   "toc_window_display": false
  }
 },
 "nbformat": 4,
 "nbformat_minor": 5
}
